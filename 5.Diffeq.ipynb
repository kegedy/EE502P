{
 "cells": [
  {
   "cell_type": "markdown",
   "metadata": {},
   "source": [
    "EE 502 P: Analytical Methods\n",
    "# 5. Differential Equations\n",
    "## Prof. Eric Klavins, Electrical and Computer Engineering\n",
    "### 25 September, 2019\n",
    "Copyright &copy; 2019, University of Washington"
   ]
  },
  {
   "cell_type": "markdown",
   "metadata": {},
   "source": [
    "# Outline\n",
    "\n",
    "- First Examples\n",
    "  - x' = ax\n",
    "  - x' = ax(1-x)\n",
    "- Two Equations\n",
    "  - State space\n",
    "  - Example: Van der Pol Oscillator\n",
    "  - Phase portraits\n",
    "  - Numerical Solutions\n",
    "- Linear Systems\n",
    "  - Linearization\n",
    "  - Stability analysis of equilibria\n",
    "  - All planar linear systems\n",
    "  - Solutions to linear ODEs\n",
    "- Chaotic Systems\n",
    "\n",
    "The material covered in class is intended to be an introductory subset the general subject of differential equations. To get the full story, an absolutely indispensable book is the one by Hirsch and Smale (and Devaney):\n",
    "\n",
    "> [Differential Equations, Dynamical Systems, and an Introduction to Chaos](https://www.amazon.com/Differential-Equations-Dynamical-Systems-Introduction/dp/0123820103)\n",
    "\n",
    "The material covered here in particular comes from the beginnings of Chapters 1, 2, 3, 3, 6, 12, and 14."
   ]
  },
  {
   "cell_type": "code",
   "execution_count": null,
   "metadata": {
    "ExecuteTime": {
     "end_time": "2019-10-30T20:59:07.881603Z",
     "start_time": "2019-10-30T20:59:06.753164Z"
    },
    "collapsed": true
   },
   "outputs": [],
   "source": [
    "import math\n",
    "import scipy # Has linear algebra\n",
    "import scipy.ndimage\n",
    "import scipy.integrate as spi\n",
    "import numpy as np\n",
    "import sympy as sm\n",
    "sm.init_printing(use_latex='mathjax')\n",
    "import matplotlib.pyplot as plt\n",
    "import matplotlib.patches as pch\n",
    "%matplotlib inline"
   ]
  },
  {
   "cell_type": "markdown",
   "metadata": {
    "heading_collapsed": true
   },
   "source": [
    "# First Examples"
   ]
  },
  {
   "cell_type": "markdown",
   "metadata": {
    "hidden": true
   },
   "source": [
    "## 1D Linear Differential Equation\n",
    "\n",
    "One of the most basic ordinary differential equations (ODEs) is\n",
    "\n",
    "$$\n",
    "\\frac{d}{dt}x = a x,\n",
    "$$\n",
    "\n",
    "where $x = x(t)$ is a function of $t$ (usually considered to be time) and $a \\in \\mathbb{R}$ is a constant parameter. In this course, we use a dot over a variable to represent $\\frac{d}{dt}$ so that the above becomes\n",
    "\n",
    "$$\n",
    "\\dot x = a x.\n",
    "$$\n",
    "\n",
    "A solution to this equation is\n",
    "\n",
    "$$\n",
    "x(t) = k e^{at}\n",
    "$$\n",
    "\n",
    "where $k \\in \\mathbb{R}$ is a constant. This is because if we plug this value for $x$ into the differential equation we get equality:\n",
    "\n",
    "$$\n",
    "\\dot x = \\frac{d}{dt}(x(t)) = \\frac{d}{dt}(k e^{at}) = k a e^{at} = a x(t).\n",
    "$$\n",
    "\n",
    "If $x(0) = x_0$, then we can see that $k$ corresponds to the initial condition since\n",
    "\n",
    "$$\n",
    "x(0) = k e^{a \\cdot 0} = k.\n",
    "$$\n",
    "\n",
    "So we can write \n",
    "\n",
    "$$\n",
    "x(t) = e^{at}x(0).\n",
    "$$\n",
    "\n",
    "It turns out that under reasonable assumptions that solutions always solutions, and they are unique. This is called the **Existence and Uniqueness Theorem.** See Hircsch and Smale for the proof."
   ]
  },
  {
   "cell_type": "code",
   "execution_count": null,
   "metadata": {
    "ExecuteTime": {
     "end_time": "2019-10-29T18:59:58.250635Z",
     "start_time": "2019-10-29T18:59:58.043438Z"
    },
    "hidden": true
   },
   "outputs": [],
   "source": [
    "# Solution to a simple ODE\n",
    "\n",
    "x,a,t = sm.symbols(\"x,a,t\")\n",
    "eqn = sm.diff(x(t), t) - sm.sin(t) * a * x(t)\n",
    "sm.dsolve(eqn, x(t))"
   ]
  },
  {
   "cell_type": "code",
   "execution_count": null,
   "metadata": {
    "ExecuteTime": {
     "end_time": "2019-10-29T19:00:00.293050Z",
     "start_time": "2019-10-29T19:00:00.035528Z"
    },
    "hidden": true
   },
   "outputs": [],
   "source": [
    "# Example solutions to x'=ax\n",
    "\n",
    "t = np.linspace(-0.1,10,100);\n",
    "plt.plot(t, 3*np.exp(-2*t), label=\"x(0)=3, a=-2\")\n",
    "plt.plot(t, 1*np.exp(0.1*t), label=\"x(0)=1, a=0.1\")\n",
    "plt.plot(t, 1*np.exp(0.0*t), label=\"x(0)=1, a=0\")\n",
    "plt.plot(t, 0*np.exp(1*t), label=\"x(0)=0, a=1\")\n",
    "plt.plot(t, -1*np.exp(0.0*t), label=\"x(0)=-1, a=0\")\n",
    "plt.plot(t, -1*np.exp(0.1*t), label=\"x(0)=-1, a=0.1\")\n",
    "plt.plot(t, -3*np.exp(-2*t), label=\"x(0)=-3, a=-2\")\n",
    "plt.xlabel(\"t\")\n",
    "plt.ylabel(\"x(t)\")\n",
    "plt.title(\"solutions to $\\dot x=ax$\")\n",
    "plt.legend();"
   ]
  },
  {
   "cell_type": "markdown",
   "metadata": {
    "ExecuteTime": {
     "end_time": "2019-10-29T18:46:57.817989Z",
     "start_time": "2019-10-29T18:46:57.810935Z"
    },
    "hidden": true
   },
   "source": [
    "## Linearity\n",
    "\n",
    "**Def:** Let $f : \\mathbb{R} \\rightarrow \\mathbb{R}$. Then $f$ is linear if for all real $p$ and $q$:\n",
    "\n",
    "$$\n",
    "f(px+qy) = p f(x) + q f(y)\n",
    "$$\n",
    "\n",
    "**Note:** The differential equation $\\dot x = ax$ is linear. In this case, this is because the map $f(x) = ax$ is linear, as can be seen:\n",
    "\n",
    "\\begin{eqnarray}\n",
    "f(px+qy) & = & a(px+qy) \\\\\n",
    "         & = & pax + qay \\\\\n",
    "         & = & pf(x) + qf(y).\n",
    "\\end{eqnarray}\n",
    "\n",
    "## Non-autonomous\n",
    "\n",
    "The equation $\\dot x = ax$ is called **autonomous** because the function $f(x,t) = ax$ does not depend on time. An example of a **non-autonomous** but still linear function is\n",
    "\n",
    "$$\n",
    "\\dot x = \\sin(t) x .\n",
    "$$\n",
    "\n",
    "This system is still linear since\n",
    "\n",
    "\\begin{eqnarray}\n",
    "f(px+qy) & = & \\sin(t)(px+qy) \\\\\n",
    "         & = & p\\sin(t)x + q\\sin(t)y \\\\\n",
    "         & = & pf(x) + qf(y).\n",
    "\\end{eqnarray}"
   ]
  },
  {
   "cell_type": "code",
   "execution_count": null,
   "metadata": {
    "ExecuteTime": {
     "end_time": "2019-10-29T19:34:19.324184Z",
     "start_time": "2019-10-29T19:34:19.114733Z"
    },
    "hidden": true
   },
   "outputs": [],
   "source": [
    "# Solution to a non-autonomous ODE\n",
    "x,a,t = sm.symbols(\"x,a,t\")\n",
    "eqn = sm.diff(x(t), t) - sm.sin(t) * a * x(t)\n",
    "sm.dsolve(eqn, x(t))"
   ]
  },
  {
   "cell_type": "code",
   "execution_count": null,
   "metadata": {
    "ExecuteTime": {
     "end_time": "2019-10-29T19:03:31.266794Z",
     "start_time": "2019-10-29T19:03:31.060561Z"
    },
    "hidden": true
   },
   "outputs": [],
   "source": [
    "sm.plot(sm.exp(-sm.cos(t)));"
   ]
  },
  {
   "cell_type": "markdown",
   "metadata": {
    "hidden": true
   },
   "source": [
    "## A 1D Nonlinear Differential Equation\n",
    "\n",
    "Now suppose that \n",
    "\n",
    "$$\n",
    "\\dot x = ax(1-x)\n",
    "$$\n",
    "\n",
    "This equation nonlinear. This is because there are values of $p$, $q$, $x$, and $y$ in the definition of linearity for which $f$ fails. For example, if $f(x) = ax(1-x)$, then\n",
    "\n",
    "$$\n",
    "f(1+1) = 0 \\neq -2a =  f(2).\n",
    "$$\n",
    "\n",
    "We can still find a solution to the differential equation, however."
   ]
  },
  {
   "cell_type": "code",
   "execution_count": null,
   "metadata": {
    "ExecuteTime": {
     "end_time": "2019-10-29T19:41:04.693173Z",
     "start_time": "2019-10-29T19:41:03.674973Z"
    },
    "hidden": true
   },
   "outputs": [],
   "source": [
    "# Solution to a non-autonomous ODE\n",
    "x,a,t = sm.symbols(\"x,a,t\")\n",
    "eqn = sm.diff(x(t), t) - a * x(t) * ( 1 - x(t))\n",
    "sol = sm.dsolve(eqn, x(t))\n",
    "sol = sm.simplify(sol)\n",
    "sol"
   ]
  },
  {
   "cell_type": "code",
   "execution_count": null,
   "metadata": {
    "ExecuteTime": {
     "end_time": "2019-10-29T19:44:50.106820Z",
     "start_time": "2019-10-29T19:44:50.100686Z"
    },
    "hidden": true
   },
   "outputs": [],
   "source": [
    "# Note that dsolve returns an Eq object. To get the expression for the solution, you do\n",
    "\n",
    "sol.args[1]"
   ]
  },
  {
   "cell_type": "code",
   "execution_count": null,
   "metadata": {
    "ExecuteTime": {
     "start_time": "2019-10-30T16:32:50.914Z"
    },
    "hidden": true
   },
   "outputs": [],
   "source": [
    "# Now we can see the relationship between the initial\n",
    "# condition and the constant C1\n",
    "\n",
    "x0,C1 = sm.symbols(\"x0, C1\")\n",
    "init = sm.solve(sol.args[1].subs(t,0)-x0,C1)"
   ]
  },
  {
   "cell_type": "code",
   "execution_count": null,
   "metadata": {
    "ExecuteTime": {
     "end_time": "2019-10-29T19:50:00.026710Z",
     "start_time": "2019-10-29T19:49:59.950691Z"
    },
    "hidden": true
   },
   "outputs": [],
   "source": [
    "# Now we can get an expression for the solution in terms of the initial condition\n",
    "\n",
    "X = sm.simplify(sol.args[1].subs(C1,init[0]))\n",
    "X"
   ]
  },
  {
   "cell_type": "code",
   "execution_count": null,
   "metadata": {
    "ExecuteTime": {
     "end_time": "2019-10-29T20:02:19.033762Z",
     "start_time": "2019-10-29T20:02:18.808656Z"
    },
    "hidden": true
   },
   "outputs": [],
   "source": [
    "# And plot the resulting function\n",
    "\n",
    "sm.plot(\n",
    "    X.subs(a,1).subs(x0,1.5),\n",
    "    X.subs(a,1).subs(x0,0.5),\n",
    "    X.subs(a,1).subs(x0,-0.05),\n",
    "    (t,0,2));"
   ]
  },
  {
   "cell_type": "markdown",
   "metadata": {
    "hidden": true
   },
   "source": [
    "Qualitatively, this ODE has five different behaviors, depending on where it starts. Suppose that $a>0$. Then we have the following cases:\n",
    "\n",
    "**Case 1:** $x_0 < 0$. In this case, \n",
    "\n",
    "$$\n",
    "\\dot x = ax(1-x) < 0 \n",
    "$$\n",
    "\n",
    "so the trajectories tend toward $- \\infty$. \n",
    "\n",
    "**Case 2,3:** $x_0 = 0$ or $x_0 = 1$. In this case, $\\dot x = 0$. We say these are **equilibrium points** of the ODE.\n",
    "\n",
    "**Case 4:** $0 < x_0 < 1$. In this case,\n",
    "\n",
    "$$\n",
    "\\dot x = ax(1-x) > 0\n",
    "$$\n",
    "\n",
    "and the solutions tend upward. However, they can't go beyond $1$, so the must tend toward 1. \n",
    "\n",
    "**Case 4:** $x_0 > 1$. In this case,\n",
    "\n",
    "$$\n",
    "\\dot x = ax(1-x) < 0\n",
    "$$\n",
    "\n",
    "and the solutions tend downward. However, they can't go beyond $1$, so the must tend toward 1. \n",
    "\n"
   ]
  },
  {
   "cell_type": "markdown",
   "metadata": {
    "hidden": true
   },
   "source": [
    "## Not all ODEs have closed form solutions\n",
    "\n",
    "Just a word of warning. Most differential equations do not have closed form, analytical solutions like the above do. Thus, in most cases, we need to analyze the equations differently, which is the main subject of differential equations."
   ]
  },
  {
   "cell_type": "markdown",
   "metadata": {
    "heading_collapsed": true
   },
   "source": [
    "# Systems of Two Equations"
   ]
  },
  {
   "cell_type": "markdown",
   "metadata": {
    "heading_collapsed": true,
    "hidden": true
   },
   "source": [
    "## The Van der Pol Oscillator\n",
    "\n",
    "An example from electronics is the following circuit.\n",
    "\n",
    "<img src=\"https://i.stack.imgur.com/WhHfJ.png\" width=400px>\n",
    "\n",
    "It can be modeled by the equation\n",
    "\n",
    "$$\n",
    "\\ddot y - \\mu(1-y^2)\\dot y + y = 0,\n",
    "$$\n",
    "\n",
    "where the two dots mean taking two derivatives w.r.t. time. In this equation, $y$ is the current through the inductor, and $\\mu$ is a constant depending the nonlinear element, and the capacitance and inductance are assumed to be 1.\n",
    "\n",
    "This form of equation is not ideal for analysis, because it hides the fact that **two** things are changing, mainly $y$ and $\\dot y$. If we define\n",
    "\n",
    "\\begin{eqnarray}\n",
    "x_1 & = & y \\\\\n",
    "x_2 & = & \\dot y\n",
    "\\end{eqnarray}\n",
    "\n",
    "then\n",
    "\n",
    "\\begin{eqnarray}\n",
    "\\dot x_1 & = & x_2\n",
    "\\end{eqnarray}\n",
    "\n",
    "and\n",
    "\\begin{eqnarray}\n",
    "\\dot x_2 & = & \\mu(1-y^2)\\dot y - y \\\\\n",
    "         & = & \\mu(1-x_1^2) x_2 - x_1\n",
    "\\end{eqnarray}\n",
    "\n",
    "leading to the **system** of two ODEs\n",
    "\n",
    "\\begin{eqnarray}\n",
    "\\dot x_1 & = & x_2 \\\\\n",
    "\\dot x_2 & = & \\mu(1-x_1^2) x_2 - x_1 .\n",
    "\\end{eqnarray}\n",
    "\n",
    "## General Nonlinear Systems\n",
    "\n",
    "By defining $x = (x_1, x_2)^T$ we can write the above as a function\n",
    "\n",
    "$$\n",
    "\\dot x = f(x)\n",
    "$$\n",
    "\n",
    "when the ODEs do not explicitly depend on time (they are autonomous), and by \n",
    "\n",
    "$$\n",
    "\\dot x = f(x,t)\n",
    "$$\n",
    "\n",
    "when they do depend on time (they are non-autonomous). "
   ]
  },
  {
   "cell_type": "markdown",
   "metadata": {
    "hidden": true
   },
   "source": [
    "##  Representing a system of ODEs as a Python Function"
   ]
  },
  {
   "cell_type": "code",
   "execution_count": null,
   "metadata": {
    "ExecuteTime": {
     "end_time": "2019-10-29T21:07:27.204310Z",
     "start_time": "2019-10-29T21:07:27.198471Z"
    },
    "hidden": true
   },
   "outputs": [],
   "source": [
    "def f_vdp(x,t):\n",
    "    mu = 2\n",
    "    return [\n",
    "        x[1],\n",
    "        mu*(1-x[0]**2)*x[1] - x[0]\n",
    "    ]\n",
    "\n",
    "f_vdp([2,3],t)"
   ]
  },
  {
   "cell_type": "markdown",
   "metadata": {
    "ExecuteTime": {
     "end_time": "2019-10-29T20:29:16.813991Z",
     "start_time": "2019-10-29T20:29:16.807723Z"
    },
    "hidden": true
   },
   "source": [
    "## Vector Fields and Phase Portraits\n",
    "\n",
    "A system of two ODEs defines a vector field. That is, for each $x_1$ and $x_2$ we define the vector $(\\dot x_1, \\dot x_2)$. The solutions then have to follow these vector fields. To do this kind of analysis of a system of ODEs, we first draw the vectors in the plane.\n",
    "\n",
    "We can draw 2D system models by drawing vectors for a number of points in the plane. For example, with the pendulum we might grid theta into points from -2 &pi; to 2 &pi; and omega into points from -1 to 1. \n",
    "\n",
    "In Python, we can write the following to make a grid of values for which to evaluate the model. The `meshgrid` function from numpy helps with this. Here is a simple example of the use of `meshgrid`."
   ]
  },
  {
   "cell_type": "code",
   "execution_count": null,
   "metadata": {
    "ExecuteTime": {
     "end_time": "2019-10-29T20:57:57.496979Z",
     "start_time": "2019-10-29T20:57:57.491634Z"
    },
    "hidden": true
   },
   "outputs": [],
   "source": [
    "X,Y = np.meshgrid([-6.28,0,6.28],[-1,0,1])\n",
    "print(X)\n",
    "print(\"---\")\n",
    "print(Y)"
   ]
  },
  {
   "cell_type": "markdown",
   "metadata": {
    "hidden": true
   },
   "source": [
    "We can determine the \"shape\" of a meshgrid component using the shape attribute:"
   ]
  },
  {
   "cell_type": "code",
   "execution_count": null,
   "metadata": {
    "ExecuteTime": {
     "end_time": "2019-10-29T20:57:57.834605Z",
     "start_time": "2019-10-29T20:57:57.829352Z"
    },
    "hidden": true
   },
   "outputs": [],
   "source": [
    "X.shape"
   ]
  },
  {
   "cell_type": "markdown",
   "metadata": {
    "hidden": true
   },
   "source": [
    "Now by going through `X[i],Y[j]` for `i=0 to X.shape-1` and `j=0 to Y.shape -1` we get all pairs of coordinates on which to evaluate our dynamical system function.\n",
    "\n",
    "To make a larger grid, we use `linspace`:"
   ]
  },
  {
   "cell_type": "code",
   "execution_count": null,
   "metadata": {
    "ExecuteTime": {
     "end_time": "2019-10-29T20:57:58.169271Z",
     "start_time": "2019-10-29T20:57:58.164354Z"
    },
    "colab": {},
    "colab_type": "code",
    "hidden": true,
    "id": "PJvAoHZ17fZ6"
   },
   "outputs": [],
   "source": [
    "a1,b1 = (-2,2)\n",
    "a2,b2 = (-4,4)\n",
    "x1 = np.linspace(a1, b1, 19)\n",
    "x2 = np.linspace(a2, b2, 19)\n",
    "X1,X2 = np.meshgrid(x1,x2)"
   ]
  },
  {
   "cell_type": "markdown",
   "metadata": {
    "colab_type": "text",
    "hidden": true,
    "id": "T4HupQHD9HpF"
   },
   "source": [
    "Next, we make a grid of vectors to store the resulting evaluations. We initialize it to zero at first using the `zeros` function from numpy, which returns a matrix of zeros according with a size corresponding to the arguments provided. In this case, we use the shapes of X and Y."
   ]
  },
  {
   "cell_type": "code",
   "execution_count": null,
   "metadata": {
    "ExecuteTime": {
     "end_time": "2019-10-29T20:57:58.508611Z",
     "start_time": "2019-10-29T20:57:58.505358Z"
    },
    "colab": {},
    "colab_type": "code",
    "collapsed": true,
    "hidden": true,
    "id": "KXU7V_vW8cBT"
   },
   "outputs": [],
   "source": [
    "u,v = np.zeros(X1.shape), np.zeros(X2.shape)"
   ]
  },
  {
   "cell_type": "markdown",
   "metadata": {
    "colab_type": "text",
    "hidden": true,
    "id": "Czf31yZL9i9D"
   },
   "source": [
    "Then we evaluate the model at each point in the grid, storing the resulting vectors in u,v:"
   ]
  },
  {
   "cell_type": "code",
   "execution_count": null,
   "metadata": {
    "ExecuteTime": {
     "end_time": "2019-10-29T20:57:58.835692Z",
     "start_time": "2019-10-29T20:57:58.826974Z"
    },
    "colab": {},
    "colab_type": "code",
    "hidden": true,
    "id": "YNsEzer69a2T"
   },
   "outputs": [],
   "source": [
    "n,m = X1.shape\n",
    "for i in range(n):\n",
    "  for j in range(m):\n",
    "    xdot = f_vdp([X1[i,j],X2[i,j]],0)\n",
    "    u[i,j] = xdot[0]\n",
    "    v[i,j] = xdot[1]"
   ]
  },
  {
   "cell_type": "markdown",
   "metadata": {
    "hidden": true
   },
   "source": [
    "Once we have all the vectors defined, we can use the `quiver` method to draw all of them on the $\\theta-\\omega$ plane."
   ]
  },
  {
   "cell_type": "code",
   "execution_count": null,
   "metadata": {
    "ExecuteTime": {
     "end_time": "2019-10-29T21:05:40.342193Z",
     "start_time": "2019-10-29T21:05:39.989831Z"
    },
    "colab": {
     "base_uri": "https://localhost:8080/",
     "height": 522
    },
    "colab_type": "code",
    "hidden": true,
    "id": "yOD696BM-R6L",
    "outputId": "b5710bb9-3313-44f4-ae0c-d18e20805d64"
   },
   "outputs": [],
   "source": [
    "plt.rcParams['figure.figsize'] = [10,8]\n",
    "Q = plt.quiver(X1, X2, u, v, color='r')\n",
    "plt.xlabel('$x_1$')\n",
    "plt.ylabel('$x_2$')\n",
    "plt.xlim([a1,b1])\n",
    "plt.ylim([a2,b2])"
   ]
  },
  {
   "cell_type": "markdown",
   "metadata": {
    "hidden": true
   },
   "source": [
    "Note that the equilibrium points are readily seen. You can also see that some of them see to attract the arrows around them, and some seem to repel them."
   ]
  },
  {
   "cell_type": "markdown",
   "metadata": {
    "hidden": true
   },
   "source": [
    "## Numerical Solutions\n",
    "\n",
    "You can now get a sense of what the solutions look like, although it is still a bit hard to see. To go further, we can **numerically** find a trajectory."
   ]
  },
  {
   "cell_type": "code",
   "execution_count": null,
   "metadata": {
    "ExecuteTime": {
     "start_time": "2019-10-30T16:35:55.539Z"
    },
    "hidden": true
   },
   "outputs": [],
   "source": [
    "# Find a trajectory starting at the point (0.1,0.2)\n",
    "t = np.linspace(0., 20, 1001)\n",
    "trajectory = spi.odeint(f_vdp,[0.1,0.2],t);\n",
    "\n",
    "# Plot the two components of x\n",
    "plt.plot(t, trajectory[0:,0],label=\"$x_1(t)$\");\n",
    "plt.plot(t, trajectory[0:,1],label=\"$x_2(t)$\");\n",
    "plt.xlabel('$t$');\n",
    "plt.ylabel('$x_1(t)$, $x_2(t)$');\n",
    "plt.legend();"
   ]
  },
  {
   "cell_type": "markdown",
   "metadata": {
    "ExecuteTime": {
     "end_time": "2019-10-29T21:04:27.057004Z",
     "start_time": "2019-10-29T21:04:27.053114Z"
    },
    "hidden": true
   },
   "source": [
    "We can also plot this trajectory in phase space on top of the phase portrait. You should see that the vectors are tangent to the trajectory."
   ]
  },
  {
   "cell_type": "code",
   "execution_count": null,
   "metadata": {
    "ExecuteTime": {
     "end_time": "2019-10-29T21:07:15.012884Z",
     "start_time": "2019-10-29T21:07:14.518837Z"
    },
    "hidden": true
   },
   "outputs": [],
   "source": [
    "plt.rcParams['figure.figsize'] = [10,8]\n",
    "\n",
    "# Plot the vector field\n",
    "Q = plt.quiver(X1, X2, u, v, color='r')\n",
    "\n",
    "# Plot the trajectory\n",
    "plt.plot(trajectory[0:,0], trajectory[0:,1]);\n",
    "plt.xlabel('$x_1$')\n",
    "plt.ylabel('$x_2$')\n",
    "plt.xlim([a1,b1])\n",
    "plt.ylim([a2,b2])"
   ]
  },
  {
   "cell_type": "code",
   "execution_count": null,
   "metadata": {
    "ExecuteTime": {
     "end_time": "2019-10-30T16:37:30.927960Z",
     "start_time": "2019-10-30T16:37:30.814410Z"
    },
    "hidden": true
   },
   "outputs": [],
   "source": [
    "# Shown differently by plotting some of the vectors along the trajectory\n",
    "# which also nicely shows how quickly the system is changing at those\n",
    "# points.\n",
    "\n",
    "for i in range(50):\n",
    "    x = trajectory[10*i]\n",
    "    y = 0.1*np.array(f_vdp(x,0))\n",
    "    plt.arrow(x[0], x[1], y[0], y[1],head_width=0.1)\n",
    "    \n",
    "plt.plot(trajectory[0:,0], trajectory[0:,1]);\n",
    "plt.xlabel('$x_1$')\n",
    "plt.ylabel('$x_2$')\n",
    "plt.xlim([a1-1,b1+1])\n",
    "plt.ylim([a2-1,b2+1])"
   ]
  },
  {
   "cell_type": "markdown",
   "metadata": {
    "heading_collapsed": true
   },
   "source": [
    "# Linear Systems"
   ]
  },
  {
   "cell_type": "markdown",
   "metadata": {
    "hidden": true
   },
   "source": [
    "If a system of differential equations has the form\n",
    "\n",
    "\\begin{eqnarray}\n",
    "\\dot x_1 & = & a_{1,1} x_1 + a_{1,2} x_2 + \\dots a_{1,n} x_n \\\\\n",
    "\\dot x_2 & = & a_{2,1} x_1 + a_{2,2} x_2 + \\dots a_{2,n} x_n \\\\\n",
    "& \\vdots & \\\\\n",
    "\\dot x_n & = & a_{n,1} x_1 + a_{n,2} x_2 + \\dots a_{n,n} x_n \\\\\n",
    "\\end{eqnarray}\n",
    "\n",
    "Where the $a_{i,j}$ are constants, then it is an autonomous, linear system of ODEs. It can obviously be written more compactly as\n",
    "\n",
    "$$\n",
    "\\dot x = A x\n",
    "$$\n",
    "\n",
    "where $x \\in \\mathbb{R}^n$ and $A \\in \\mathbb{R}^{n \\times n}$.\n",
    "\n",
    "**Example:** Let suppose $A$ is given by\n",
    "\n",
    "$$\n",
    "A = \\begin{pmatrix}\n",
    "1 & -2 \\\\\n",
    "-3 & 4\n",
    "\\end{pmatrix}\n",
    "$$\n",
    "\n",
    "then \n",
    "\n",
    "$$\n",
    "\\dot x = A x\n",
    "$$\n",
    "\n",
    "is equivalent to writing\n",
    "\n",
    "\\begin{eqnarray}\n",
    "\\dot x_1 & = & x_1 - 2 x_2 \\\\\n",
    "\\dot x_2 & = & -3 x_1 + 4 x_2 .\n",
    "\\end{eqnarray}"
   ]
  },
  {
   "cell_type": "markdown",
   "metadata": {
    "heading_collapsed": true
   },
   "source": [
    "# Linearization"
   ]
  },
  {
   "cell_type": "markdown",
   "metadata": {
    "hidden": true
   },
   "source": [
    "Most non-linear systems do not have closed, analytical solutions. However, we can gain an enormous amount of insight by studying what nonlinear systems look like locally, near equilibrium points.\n",
    "\n",
    "**Def:** An equilibrium point of a set of differential equations $\\dot x = f(x)$ is a point $x^*$ such that\n",
    "\n",
    "$$\n",
    "f(x^*) = 0 .\n",
    "$$\n",
    "\n",
    "**Example:** The equilibrium points of the Van der Pol oscillator can be found by solving\n",
    "\n",
    "\\begin{eqnarray}\n",
    "0 & = & x_2 \\\\\n",
    "0 & = & \\mu(1-x_1^2) x_2 - x_1.\n",
    "\\end{eqnarray}\n",
    "\n",
    "The first equation requires that $x_2^* = 0$. Putting this into the second equation requires that $x_1^*=0$ as well. Thus, $(0,0)^T$ is an equilibrium point of the Van der Pol oscillator system.\n",
    "\n",
    "Once we know where the equilibia are, we can look at each one and see what the differential equation is doing near that equilibrium. The process by which we do that is called **linearization**. We will demonstrate the idea with a pendulum model, which has several different types of equilibria. "
   ]
  },
  {
   "cell_type": "markdown",
   "metadata": {
    "hidden": true
   },
   "source": [
    "##  The Pendulum Model\n",
    "\n",
    "**A Pendulum**: Another example is a pendulum with angle theta and angular velocity omega.![alt text](https://raw.githubusercontent.com/klavins/ECE447/master/images/pendlum.png)\n",
    "\n",
    "The equations for the pendulum are:\n",
    "\n",
    "> $\\dot{\\left (\n",
    "\\begin{array}{c} \n",
    "\\theta \\\\ \n",
    "\\omega\n",
    "\\end{array} \\right )} = \n",
    "\\left (\n",
    "\\begin{array}{c} \n",
    "\\omega \\\\ \n",
    "\\frac{g}{l}\\sin(\\theta)-b \\omega\n",
    "\\end{array} \\right )\n",
    "$\n",
    "\n",
    "The equilibria of this system occur when $\\omega=0$ and $\\sin \\theta = 0$, which implies that $\\theta = 0, \\pm \\pi, \\pm 2\\pi$ etc. So the equilibrium points are of the form\n",
    "\n",
    "$$\n",
    "\\begin{pmatrix}\n",
    "\\pm n \\pi \\\\\n",
    "0\n",
    "\\end{pmatrix}\n",
    "$$\n",
    "\n",
    "for $n \\in \\mathbb{Z}$. \n",
    "\n",
    "To model this system in Python we write:"
   ]
  },
  {
   "cell_type": "code",
   "execution_count": null,
   "metadata": {
    "ExecuteTime": {
     "end_time": "2019-10-30T17:31:55.846585Z",
     "start_time": "2019-10-30T17:31:55.838838Z"
    },
    "hidden": true
   },
   "outputs": [],
   "source": [
    "def f_pendulum(x,t):\n",
    "  theta, omega = x;\n",
    "  g = 9.81;\n",
    "  m = 1;\n",
    "  l = 10;\n",
    "  b = 0.5;\n",
    "  return [omega,g*np.sin(theta)/l-b*omega]\n",
    "\n",
    "f_pendulum([0,0],0), f_pendulum([-7*np.pi,0],0)"
   ]
  },
  {
   "cell_type": "markdown",
   "metadata": {
    "hidden": true
   },
   "source": [
    "And here is a phase portrait clearly showing equilibria where the pendulum is sticking straight up and where it is sticking straight down. Note that each of the equilibria have different behaviors near them. The former look unstable and the latter look stable. "
   ]
  },
  {
   "cell_type": "code",
   "execution_count": null,
   "metadata": {
    "ExecuteTime": {
     "end_time": "2019-10-30T17:31:59.526432Z",
     "start_time": "2019-10-30T17:31:59.168990Z"
    },
    "hidden": true
   },
   "outputs": [],
   "source": [
    "# Find numerical solutions\n",
    "t = np.linspace(0., 30, 120)\n",
    "x1 = spi.odeint(f_pendulum,[0.01,0],t);\n",
    "x2 = spi.odeint(f_pendulum,[-0.01,0],t);\n",
    "\n",
    "# Plot them\n",
    "plt.rcParams['figure.figsize'] = [10,8]\n",
    "plt.plot(x1[:,0],x1[:,1],label=\"trajectory 1\", color='darkred');\n",
    "plt.plot(x2[:,0],x2[:,1],label=\"trajectory 2\", color='darkgreen');\n",
    "\n",
    "# Make a vector field plot\n",
    "theta = np.linspace(-2.0 * math.pi, 2.0 * math.pi, 19)\n",
    "omega = np.linspace(-2, 2, 19)\n",
    "Theta,Omega = np.meshgrid(theta,omega)\n",
    "u,v = np.zeros(Theta.shape), np.zeros(Omega.shape)\n",
    "n,m = Theta.shape\n",
    "for i in range(n):\n",
    "  for j in range(m):\n",
    "    xdot = f_pendulum([Theta[i,j],Omega[i,j]],0)\n",
    "    u[i,j] = xdot[0]\n",
    "    v[i,j] = xdot[1]\n",
    "    \n",
    "# Plot it\n",
    "Q = plt.quiver(Theta, Omega, u, v, color='r')\n",
    "\n",
    "# Make it nice looking\n",
    "plt.xlabel('$\\\\theta$')\n",
    "plt.ylabel('$\\omega$')\n",
    "plt.xlim([-2*math.pi-0.2, 2*math.pi+0.2])\n",
    "plt.ylim([-2.5, 2.5]);"
   ]
  },
  {
   "cell_type": "markdown",
   "metadata": {
    "hidden": true
   },
   "source": [
    "## Scalar Systems\n",
    "\n",
    "To see how linearization works, it is helpful to start with a nonlinear system\n",
    "\n",
    "$$\n",
    "\\dot x = f(x)\n",
    "$$\n",
    "\n",
    "where $x$ is a scalar function of t. Using the [Taylor Series](https://en.wikipedia.org/wiki/Taylor_series) we can expand $f$ near zero as follows:\n",
    "\n",
    "$$\n",
    "f(x) \\approx f(0) + f'(0)\\;x + \\mathit{H.O.T.}\n",
    "$$\n",
    "\n",
    "Here, $f'(0)$ is the *linear* part and *H.O.T.* stands for *higher order terms*, which we don't care about right now (because we are linearizing).\n",
    "\n",
    "**Example**: Suppose $f(x) = \\sin(x)$. Then $f(0)=0$ and \n",
    "\n",
    "$$\n",
    "f'(0) = \\cos(0) = 1\n",
    "$$\n",
    "\n",
    "Thus, \n",
    "\n",
    "$$\n",
    "\\sin(x) \\approx 0 + x + \\mathit{H.O.T.}\n",
    "$$\n",
    "\n",
    "We can visualize this with a plot."
   ]
  },
  {
   "cell_type": "code",
   "execution_count": null,
   "metadata": {
    "ExecuteTime": {
     "end_time": "2019-10-29T21:22:17.076626Z",
     "start_time": "2019-10-29T21:22:16.699641Z"
    },
    "hidden": true
   },
   "outputs": [],
   "source": [
    "x = np.linspace(-np.pi,np.pi,100);\n",
    "plt.plot(x,np.sin(x),label=\"$\\sin(x)$\")\n",
    "plt.plot(x,x,label=\"$x$\")\n",
    "plt.xlabel('$x$')\n",
    "plt.ylabel('$\\sin(x), \\; x$')\n",
    "plt.title(\"Linearization of $\\sin \\; x$ near 0\")\n",
    "plt.ylim([-1.1, 1.1])\n",
    "plt.legend();"
   ]
  },
  {
   "cell_type": "markdown",
   "metadata": {
    "hidden": true
   },
   "source": [
    "## Vector Valued Systems\n",
    "\n",
    "Now suppose that $x \\in \\mathbb{R}^n$ is a vector and $f$ is a vector valued function. Then, if $x^* = 0$ is an equilibrium, then by Taylor's theorem:\n",
    "\n",
    "$$\n",
    "f(x) = 0 + \\left.\\frac{\\partial f}{\\partial x}\\right|_{x=0} + \\mathit{H.O.T.}\n",
    "$$\n",
    "\n",
    "where the partial derivative of $f$ is defined by:\n",
    "\n",
    "$$\n",
    "\\frac{\\partial f}{\\partial x} = \\left(\n",
    "\\begin{array}{ccc}\n",
    "  \\frac{\\partial f_1}{\\partial x_1} & \\dots & \\frac{\\partial f_1}{\\partial x_n} \\\\\n",
    "  \\vdots &  \\; & \\vdots \\\\\n",
    "  \\frac{\\partial f_n}{\\partial x_1} & \\dots & \\frac{\\partial f_n}{\\partial x_n} \n",
    "\\end{array}\n",
    "\\right )\n",
    "$$\n",
    "\n",
    "Evaluating the partial derivative at $x=0$ gives us the *Jacobian* matrix, which is in control systems is usually evaluated a $A$.\n",
    "\n",
    "**Example: The Pendulum**: Suppose $g/l = b = 1$ in the pendulum model. Then\n",
    "\n",
    "$$\n",
    "\\dot{\\left (\n",
    "\\begin{array}{c} \n",
    "\\theta \\\\ \n",
    "\\omega\n",
    "\\end{array} \\right )} = \n",
    "\\left (\n",
    "\\begin{array}{c} \n",
    "\\omega \\\\ \n",
    "\\sin\\theta-\\omega\n",
    "\\end{array} \\right )\n",
    "$$\n",
    "\n",
    "describes the nonlinear dynamics. To linearize the system around $\\theta = 0$ and $\\omega = 0$, we do\n",
    "\n",
    "$$\n",
    "\\frac{\\partial f}{\\partial x} = \\left.\\left(\n",
    "\\begin{array}{cc}\n",
    "  \\frac{\\partial \\omega}{\\partial \\theta} & \n",
    "  \\frac{\\partial \\omega}{\\partial \\omega} \\\\\n",
    "  \\frac{\\partial (\\sin \\theta - \\omega )}{\\partial \\theta} &\n",
    "  \\frac{\\partial (\\sin \\theta - \\omega )}{\\partial \\omega} \n",
    "\\end{array}\n",
    "\\right )\\right|_{\\theta=0,\\omega=0}\n",
    "=\n",
    "\\left.\\left(\n",
    "\\begin{array}{cc}\n",
    "  0 & 1 \\\\\n",
    "  \\cos\\theta & -1\n",
    "\\end{array}\n",
    "\\right )\\right|_{\\theta=0,\\omega=0}\n",
    "=\n",
    "\\left(\n",
    "\\begin{array}{cc}\n",
    "  0 & 1 \\\\\n",
    "  1 & -1\n",
    "\\end{array}\n",
    "\\right)\n",
    "$$\n",
    "\n",
    "So, near $0$ the system looks like\n",
    "\n",
    "$$\n",
    "\\left (\n",
    "\\begin{array}{c} \n",
    "\\dot\\theta \\\\ \n",
    "\\dot\\omega\n",
    "\\end{array} \\right )\n",
    "\\approx\n",
    "\\left(\n",
    "\\begin{array}{cc}\n",
    "  0 & 1 \\\\\n",
    "  1 & -1\n",
    "\\end{array}\n",
    "\\right)\n",
    "\\left (\n",
    "\\begin{array}{c} \n",
    "\\theta \\\\ \n",
    "\\omega\n",
    "\\end{array} \\right )\n",
    "=\n",
    "\\left (\n",
    "\\begin{array}{c} \n",
    "\\omega \\\\ \n",
    "\\theta - \\omega\n",
    "\\end{array} \\right )\n",
    "$$\n",
    "\n",
    "We can visualize this vector field with `quiver`."
   ]
  },
  {
   "cell_type": "code",
   "execution_count": null,
   "metadata": {
    "ExecuteTime": {
     "end_time": "2019-10-29T21:22:33.128179Z",
     "start_time": "2019-10-29T21:22:32.892812Z"
    },
    "hidden": true
   },
   "outputs": [],
   "source": [
    "theta = np.linspace(-1, 1, 9)\n",
    "omega = np.linspace(-1, 1, 9)\n",
    "Theta,Omega = np.meshgrid(theta,omega)\n",
    "u = Omega\n",
    "v = Theta - Omega\n",
    "plt.rcParams['figure.figsize'] = [5,5]\n",
    "plt.quiver(Theta, Omega, u, v, color='r')\n",
    "plt.xlabel('\\\\$theta$')\n",
    "plt.ylabel('$\\omega$')\n",
    "plt.title(\"Approximation of Pendulum Dynamics Near Zero\");"
   ]
  },
  {
   "cell_type": "markdown",
   "metadata": {
    "hidden": true
   },
   "source": [
    "We will not show it mathematically, but is a beautiful theorem in mathematics that for any $\\varepsilon$, there exists a $\\delta$ such that if $|x| < \\delta$ then the difference between $f$ and its linearization is less than $\\varepsilon$. \n",
    "\n",
    "Said differently, the linearization approximates $f$ *locally*."
   ]
  },
  {
   "cell_type": "markdown",
   "metadata": {
    "hidden": true
   },
   "source": [
    "Changes of Coordinates\n",
    "===\n",
    "\n",
    "At other equilibrium points it is convenient to change coordinates, so that we are always examining the point zero. To do this:\n",
    "\n",
    "- Say $x^*$ is an equilibrium point.\n",
    "- Define $x_e = x - x^*$. \n",
    "\n",
    "Then,\n",
    "\n",
    "$$\n",
    "\\dot x_e = \\dot x = f(x) = f(x_e+x^*)\n",
    "$$\n",
    "\n",
    "So we now have an equation for the change of $x_e$ in terms of $x_e$ itself, and the constant $x^*$.\n",
    "\n",
    "**Example**: For example, lets look at the behavior of the pendulum model at $(\\theta,\\omega) = (\\pi,0)$. In this case, we linearize the function\n",
    "\n",
    "$$\n",
    "f \\left (\n",
    "\\begin{array}{c} \n",
    "\\theta_e + \\pi \\\\ \n",
    "\\omega_e + 0\n",
    "\\end{array} \\right ) = \n",
    "\\left (\n",
    "\\begin{array}{c} \n",
    "\\omega_e \\\\ \n",
    "\\sin(\\theta_e+\\pi)-\\omega_e\n",
    "\\end{array} \\right )\n",
    "$$\n",
    "\n",
    "The $A$ matrix is then\n",
    "\n",
    "\\begin{align}\n",
    "\\frac{\\partial f}{\\partial x} & = \\left.\\left(\n",
    "\\begin{array}{cc}\n",
    "  \\frac{\\partial \\omega_e}{\\partial \\theta_e} & \n",
    "  \\frac{\\partial \\omega_e}{\\partial \\omega_e} \\\\\n",
    "  \\frac{\\partial \\sin (\\theta_e+\\pi) - \\omega_e}{\\partial \\theta_e} &\n",
    "  \\frac{\\partial \\sin (\\theta_e+\\pi) - \\omega_e}{\\partial \\omega_e} \n",
    "\\end{array}\n",
    "\\right )\\right|_{\\theta_e=0,\\omega_e=0} \\\\\n",
    "& =\n",
    "\\left.\\left(\n",
    "\\begin{array}{cc}\n",
    "  0 & 1 \\\\\n",
    "  \\cos(\\theta_e+\\pi) & -1\n",
    "\\end{array}\n",
    "\\right )\\right|_{\\theta_e=0,\\omega_e=0} \\\\\n",
    "& =\n",
    "\\left(\n",
    "\\begin{array}{cc}\n",
    "  0 & 1 \\\\\n",
    "  -1 & -1\n",
    "\\end{array}\n",
    "\\right).\n",
    "\\end{align}\n",
    "\n",
    "So, near $0$ *in the new coordinate system*, the system looks like\n",
    "\n",
    "\\begin{align}\n",
    "\\left (\n",
    "\\begin{array}{c} \n",
    "\\dot\\theta_e \\\\ \n",
    "\\dot\\omega_e\n",
    "\\end{array} \\right )\n",
    "& \\approx\n",
    "\\left(\n",
    "\\begin{array}{cc}\n",
    "  0 & 1 \\\\\n",
    "  -1 & -1\n",
    "\\end{array}\n",
    "\\right)\n",
    "\\left (\n",
    "\\begin{array}{c} \n",
    "\\theta_e \\\\ \n",
    "\\omega_e\n",
    "\\end{array} \\right ) \\\\\n",
    "& =\n",
    "\\left (\n",
    "\\begin{array}{c} \n",
    "\\omega_e \\\\ \n",
    "-\\theta_e - \\omega_e\n",
    "\\end{array} \\right ).\n",
    "\\end{align}\n",
    "\n",
    "We can visualize this vector field with `quiver` as well."
   ]
  },
  {
   "cell_type": "code",
   "execution_count": null,
   "metadata": {
    "hidden": true
   },
   "outputs": [],
   "source": [
    "theta = np.linspace(-1, 1, 9)\n",
    "omega = np.linspace(-1, 1, 9)\n",
    "Theta,Omega = np.meshgrid(theta,omega)\n",
    "u = Omega\n",
    "v = -Theta - Omega\n",
    "plt.rcParams['figure.figsize'] = [5,5]\n",
    "plt.quiver(Theta, Omega, u, v, color='r')\n",
    "plt.xlabel('$\\\\theta_e$')\n",
    "plt.ylabel('$\\omega_e$')\n",
    "plt.title(\"Approximation of Pendulum Dynamics Near $x_e=0,0$\");"
   ]
  },
  {
   "cell_type": "markdown",
   "metadata": {
    "hidden": true
   },
   "source": [
    "Linear Systems and Eigenvalues\n",
    "===\n",
    "\n",
    "Note that once you linearize a system, you end up with $f(x) = Ax$ for some matrix $A \\in \\mathbb{R}^{n\\times n}$. The dynamics of a linear system are thus\n",
    "\n",
    "$$\n",
    "\\dot x = A x\n",
    "$$\n",
    "\n",
    "Here, we will try to characterize *everything* that could happen with two dimensional systems, that is, with $x \\in \\mathbb{R}^{2 \\times 2}$. It turns out that the *eigenvalues* of $A$ tell us almost everything. \n",
    "\n",
    "**Example:** Recall that the eigenvalues of the system \n",
    "$$\n",
    "A = \\left(\\begin{array}{cc}\n",
    "0 & 1 \\\\\n",
    "1 & -1\n",
    "\\end{array}\\right)\n",
    "$$\n",
    "\n",
    "are \n",
    "\n",
    "$$\n",
    "\\lambda = \\frac{-1\\pm\\sqrt{5}}{2}.\n",
    "$$\n",
    "\n",
    "or $-1.62$ and $0.62$. \n",
    "\n",
    "And the eigenvectors are\n",
    "\n",
    "$$\n",
    "A x = \\lambda x\n",
    "$$\n",
    "\n",
    "In this case, we have\n",
    "\n",
    "$$\n",
    "{\\bf x}_1 = \\begin{pmatrix}1\\\\\\frac{-1-\\sqrt{5}}{2}\\end{pmatrix} \\approx \n",
    "\\begin{pmatrix}1\\\\-1.62\\end{pmatrix}\n",
    "$$\n",
    "\n",
    "and\n",
    " \n",
    "$$\n",
    "{\\bf x}_2 = \\begin{pmatrix}1\\\\\\frac{-1+\\sqrt{5}}{2}\\end{pmatrix} \\approx \n",
    "\\begin{pmatrix}1\\\\0.62\\end{pmatrix}.\n",
    "$$\n",
    "\n",
    "Knowing the *eigenstructure* of a system makes it easy to draw a cartoon of the phase vector field if the eigenvalues are real. This is because for an eigenvector x, $\\dot x$ is just a scaled value of $x$: \n",
    "\n",
    "$$\n",
    "\\dot x = \\lambda x.\n",
    "$$\n",
    "\n",
    "**Example:** Draw the vector field for $\\dot x = A x$ when \n",
    "$$\n",
    "A =\\begin{pmatrix}0&1\\\\1&-1\\end{pmatrix}.\n",
    "$$\n",
    "\n",
    "- First draw eigenvector subspaces. This means drawing $\\lambda x$ where $x$ is an eigenvector for all $\\lambda \\in \\mathbb{R}$. \n",
    "- Second, draw $\\dot x$ on the subspaces.\n",
    "- Fill in the rest."
   ]
  },
  {
   "cell_type": "code",
   "execution_count": null,
   "metadata": {
    "ExecuteTime": {
     "end_time": "2019-10-29T21:24:32.630306Z",
     "start_time": "2019-10-29T21:24:32.386284Z"
    },
    "hidden": true,
    "scrolled": true
   },
   "outputs": [],
   "source": [
    "q=np.linspace(-2,2,10)\n",
    "a=(-1-np.sqrt(5))/2\n",
    "b=(-1+np.sqrt(5))/2\n",
    "\n",
    "theta = np.linspace(-2, 2, 8)\n",
    "omega = np.linspace(-3, 3, 8)\n",
    "Theta,Omega = np.meshgrid(theta,omega)\n",
    "u = Omega\n",
    "v = Theta - Omega\n",
    "plt.rcParams['figure.figsize'] = [5,5]\n",
    "plt.quiver(Theta, Omega, u, v, color='r',angles='xy',scale_units='xy')\n",
    "\n",
    "plt.plot(q,a*q)\n",
    "plt.plot(q,b*q)\n",
    "plt.quiver([1,-1,1,-1],[a,-a,b,-b],[-1,1,1,-1],[-a,a,b,-b],\n",
    "           scale=2,angles='xy',scale_units='xy');\n",
    "\n",
    "plt.xlabel('$theta$')\n",
    "plt.ylabel('$omega$')\n",
    "plt.title(\"Vector field with eigenvectors overlaid\");"
   ]
  },
  {
   "cell_type": "markdown",
   "metadata": {
    "hidden": true
   },
   "source": [
    "## Local Stability\n",
    "\n",
    "Here you can see that if you start near (0,0) that you will bu pushed away, unless you are on the blue line (which is unlikely in a real system). So we call this equilibrium point **unstable**. More generally, stability is defined as follows:\n",
    "\n",
    "**Def: ** A point $x^*$ is **locally asymptotically stable** if there exists $\\epsilon > 0$ such that for all points $x$ with $||x - x^*|| < \\epsilon$, $x(t) \\rightarrow x^*$. \n",
    "\n",
    "Since all systems can be converted to Jordan form (the generalization of diagonal form we talked about last time), we should be able to look at every possible Jordan form and figure out all possible types of equilibria.\n",
    "\n",
    "**Theorem (Lyapunov): **Now suppose that $x^* = 0$ is an equilibrium point of $\\dot x = f(x)$. Then locally, $\\dot x = Ax$. If this linear system defined by $A$ is stable, then $0$ is locally stable for the system defined by $f$. Furthermore, for $A$ to be stable, we require that\n",
    "\n",
    "$$\n",
    "\\mathrm{re}(\\lambda) < 0\n",
    "$$\n",
    "\n",
    "for all eigenvalues $\\lambda$ of $A$. \n",
    "\n",
    "**Example:** The point $(0,0)^T$ is unstable for the pendulum system since the eigenvalues of the linearization at this point are \n",
    "\n",
    "$$\\lambda = \\frac{-1\\pm\\sqrt{5}}{2}.$$\n",
    "\n",
    "**Example:** The point $(\\pi,0)^T$ is unstable for the pendulum system since the eigenvalues of the linearization \n",
    "\n",
    "$$\n",
    "A = \\left(\n",
    "\\begin{array}{cc}\n",
    "  0 & 1 \\\\\n",
    "  -1 & -1\n",
    "\\end{array}\n",
    "\\right).\n",
    "$$\n",
    "\n",
    "at this point are \n",
    "\n",
    "$$\n",
    "\\lambda = - \\frac{1}{2} \\pm \\frac{\\sqrt{3}i}{2} .\n",
    "$$"
   ]
  },
  {
   "cell_type": "code",
   "execution_count": null,
   "metadata": {
    "ExecuteTime": {
     "end_time": "2019-10-30T17:46:19.169626Z",
     "start_time": "2019-10-30T17:46:19.159426Z"
    },
    "hidden": true
   },
   "outputs": [],
   "source": [
    "A = sm.Matrix([\n",
    "    [0,1],\n",
    "    [-1,-1]\n",
    "])\n",
    "\n",
    "A.eigenvals()"
   ]
  },
  {
   "cell_type": "markdown",
   "metadata": {
    "hidden": true
   },
   "source": [
    "We now attempt to understand *every* possible behavior of an equilibrium point. To do this, recall the $A$ and $Q$ are similar if $A = PQP^{-1}$. In terms of differential equations, $P$ is a Change of Coordinates. In particular, if $A = PQP^{-1}$ define $z = P^{-1}x$ then $x = P z$ and \n",
    "\n",
    "$$\n",
    "\\dot z = P^{-1}\\dot x = P^{-1} A x = P^{-1} A P z = Q z\n",
    "$$\n",
    "\n",
    "Thus, the dynamics of $z$ are \"similar\" to the dynamics of $x$. And because they have the same eigenvalues, you can use either $A$ or $Q$ to understand the stability of either system.\n",
    "\n",
    "In particular, $A$ is a squashed, rotated, and/or reflected version of $Q$. Because $Q$ has to be full rank, $A$ is never a projected (lower dimensional) version of $Q$. \n",
    "\n",
    "Our approach then will be to look at every possible Jordan $J$ form of a $2 \\times 2$ matrix and investigate\n",
    "\n",
    "$$\n",
    "\\dot x = Jx .\n",
    "$$\n",
    "\n",
    "Since every matrix $A$ is similar to a matrix in Jordan form, every 2D linear system is a squashed, rotated, and/or reflected version of a linear system defined by a Jordan form matrix $J$. "
   ]
  },
  {
   "cell_type": "code",
   "execution_count": null,
   "metadata": {
    "ExecuteTime": {
     "end_time": "2019-10-30T17:51:08.619872Z",
     "start_time": "2019-10-30T17:51:08.608967Z"
    },
    "collapsed": true,
    "hidden": true
   },
   "outputs": [],
   "source": [
    "# This is just a convenience function for plotting things.\n",
    "\n",
    "def plot_phase_portrait(matrices,titles):\n",
    "    \"\"\"Makes a plot of the phase portraits of the given matrices\"\"\"\n",
    "    fig, ax = plt.subplots(1, len(matrices), figsize=(5*len(matrices)+1,5),squeeze=False)\n",
    "    x1,x2 = np.meshgrid(np.linspace(-1, 1, 9),np.linspace(-1, 1, 9))\n",
    "    for i,[matrix,title] in enumerate(zip(matrices,titles)):\n",
    "        a = np.array(matrix).astype(np.float64)\n",
    "        x1dot = a[0,0]*x1 + a[0,1]*x2\n",
    "        x2dot = a[1,0]*x1 + a[1,1]*x2\n",
    "        ax[0,i].quiver(x1, x2, x1dot, x2dot, color='r')\n",
    "        ax[0,i].set_xlabel('$x_1$')\n",
    "        ax[0,i].set_ylabel('$x_2$')\n",
    "        ax[0,i].set_title(title)\n",
    "    return None"
   ]
  },
  {
   "cell_type": "code",
   "execution_count": null,
   "metadata": {
    "ExecuteTime": {
     "end_time": "2019-10-30T17:51:11.245359Z",
     "start_time": "2019-10-30T17:51:10.571407Z"
    },
    "hidden": true
   },
   "outputs": [],
   "source": [
    "# Example matrix\n",
    "A = sm.Matrix([[0, 1], [1,-1]])\n",
    "P, Q = A.diagonalize()\n",
    "plot_phase_portrait(\n",
    "    [A,Q],\n",
    "    [\n",
    "        \"Phase Portrait in Original Coordinates\",\n",
    "        \"Phase Portrait in Diagonalized Coordinates\"\n",
    "    ])\n",
    "Q\n"
   ]
  },
  {
   "cell_type": "markdown",
   "metadata": {
    "hidden": true
   },
   "source": [
    "Real, Distinct Eigenvalues, Same Sign\n",
    "===\n",
    "\n",
    "In this case\n",
    "\n",
    "$$\n",
    "J = \\begin{pmatrix}\n",
    "a & 0 \\\\\n",
    "0 & b\n",
    "\\end{pmatrix}\n",
    "$$\n",
    "\n",
    "where $a$ and $b$ are not zero and have the same sign."
   ]
  },
  {
   "cell_type": "code",
   "execution_count": null,
   "metadata": {
    "ExecuteTime": {
     "end_time": "2019-10-29T21:30:53.508046Z",
     "start_time": "2019-10-29T21:30:52.977450Z"
    },
    "hidden": true
   },
   "outputs": [],
   "source": [
    "plot_phase_portrait(\n",
    "    [\n",
    "        sm.Matrix([[1,0],[0,2]]) ,\n",
    "        sm.Matrix([[-1,0],[0,-2]])\n",
    "    ],\n",
    "    [\n",
    "        \"Unstable node\",\n",
    "        \"Stable node\"\n",
    "    ])"
   ]
  },
  {
   "cell_type": "markdown",
   "metadata": {
    "hidden": true
   },
   "source": [
    "Real, Opposite Signs\n",
    "===\n",
    "\n",
    "In this case\n",
    "\n",
    "$$\n",
    "J = \\begin{pmatrix}\n",
    "a & 0 \\\\\n",
    "0 & b\n",
    "\\end{pmatrix}\n",
    "$$\n",
    "\n",
    "where $a$ and $b$ are not zero and have the opposite signs."
   ]
  },
  {
   "cell_type": "code",
   "execution_count": null,
   "metadata": {
    "ExecuteTime": {
     "end_time": "2019-10-29T21:31:00.544394Z",
     "start_time": "2019-10-29T21:31:00.303610Z"
    },
    "hidden": true
   },
   "outputs": [],
   "source": [
    "plot_phase_portrait(\n",
    "    [\n",
    "        sm.Matrix([[1,0],[0,-1]])\n",
    "    ],\n",
    "    [\n",
    "        \"Saddle\"\n",
    "    ])"
   ]
  },
  {
   "cell_type": "markdown",
   "metadata": {
    "hidden": true
   },
   "source": [
    "Repeated Eigenvalues\n",
    "===\n",
    "\n",
    "Note that the canonical matrix for repeated eigenvalues has two cases. One is just\n",
    "\n",
    "$$\n",
    "J = \\begin{pmatrix}\n",
    "a & 0 \\\\\n",
    "0 & a\n",
    "\\end{pmatrix}\n",
    "$$\n",
    "\n",
    "which looks a lot like the unrepeated case so we do not repeat it hear.\n",
    "\n",
    "In the other case, we have\n",
    "\n",
    "$$\n",
    "J = \\begin{pmatrix}\n",
    "a & 1 \\\\\n",
    "0 & a\n",
    "\\end{pmatrix}\n",
    "$$\n",
    "\n",
    "Evaluating $|\\lambda I - J|$ in the second case results in \n",
    "\n",
    "$$\n",
    "\\left|\\begin{pmatrix}\n",
    "\\lambda - a & -1 \\\\\n",
    "0 & \\lambda - a\n",
    "\\end{pmatrix}\\right| = (\\lambda-a)^2\n",
    "$$\n",
    "\n",
    "which has roots $a$ and $a$. "
   ]
  },
  {
   "cell_type": "code",
   "execution_count": null,
   "metadata": {
    "ExecuteTime": {
     "end_time": "2019-10-29T21:31:05.754406Z",
     "start_time": "2019-10-29T21:31:05.342484Z"
    },
    "hidden": true
   },
   "outputs": [],
   "source": [
    "plot_phase_portrait(\n",
    "    [\n",
    "        sm.Matrix([[1,1],[0,1]]) ,\n",
    "        sm.Matrix([[-1,1],[0,-1]])\n",
    "    ],\n",
    "    [\n",
    "        \"Repeated, second case unstable\",\n",
    "        \"Repeated, second case stable\"\n",
    "    ])"
   ]
  },
  {
   "cell_type": "markdown",
   "metadata": {
    "hidden": true
   },
   "source": [
    "One eigenvalue zero\n",
    "===\n",
    "\n",
    "In this case\n",
    "\n",
    "$$\n",
    "J = \\begin{pmatrix}\n",
    "a & 0 \\\\\n",
    "0 & 0\n",
    "\\end{pmatrix}\n",
    "$$\n",
    "\n",
    "where $a$ is some real number. "
   ]
  },
  {
   "cell_type": "code",
   "execution_count": null,
   "metadata": {
    "ExecuteTime": {
     "end_time": "2019-10-29T21:31:10.426580Z",
     "start_time": "2019-10-29T21:31:10.031049Z"
    },
    "hidden": true
   },
   "outputs": [],
   "source": [
    "plot_phase_portrait(\n",
    "    [\n",
    "        sm.Matrix([[1,0],[0,0]]) ,\n",
    "        sm.Matrix([[-1,0],[0,0]])\n",
    "    ],\n",
    "    [\n",
    "        \"Unstable line\",\n",
    "        \"Marginally stable line\"\n",
    "    ])"
   ]
  },
  {
   "cell_type": "markdown",
   "metadata": {
    "hidden": true
   },
   "source": [
    "Just as a reminder, these systems don't have to have vertical equilibrium lines. You could also have a zero eigenvalue with a matrix of the form\n",
    "\n",
    "In this case\n",
    "\n",
    "$$\n",
    "A = \\begin{pmatrix}\n",
    "a & a \\\\\n",
    "b & b\n",
    "\\end{pmatrix}\n",
    "$$\n",
    "\n",
    "where $a$ and $b$ are not zero."
   ]
  },
  {
   "cell_type": "code",
   "execution_count": null,
   "metadata": {
    "ExecuteTime": {
     "end_time": "2019-10-30T17:56:38.203312Z",
     "start_time": "2019-10-30T17:56:37.906394Z"
    },
    "hidden": true
   },
   "outputs": [],
   "source": [
    "plot_phase_portrait(\n",
    "    [\n",
    "        -sm.Matrix([[1,1],[1,1]]) \n",
    "    ],\n",
    "    [\n",
    "        \"Stable line\"\n",
    "    ])"
   ]
  },
  {
   "cell_type": "markdown",
   "metadata": {
    "hidden": true
   },
   "source": [
    "Complex Eigenvalues\n",
    "===\n",
    "\n",
    "The canonical form for a matrix with complex conjugate eigenvalues is\n",
    "\n",
    "$$\n",
    "A = \\begin{pmatrix}\n",
    "a & b \\\\\n",
    "-b & a\n",
    "\\end{pmatrix}\n",
    "$$\n",
    "\n",
    "Evaluating $|\\lambda I - A|$ results in \n",
    "\n",
    "\\begin{align}\n",
    "\\left|\\begin{pmatrix}\n",
    "\\lambda - a & -b \\\\\n",
    "b & \\lambda + -a\n",
    "\\end{pmatrix}\\right| & = (\\lambda - a )^2 + b^2 \\\\\n",
    "                     & = \\lambda^2 - 2 a \\lambda + a^2 + b^2\n",
    "\\end{align}\n",
    "\n",
    "which has roots $a \\pm b i$, as can be shown using sympy:"
   ]
  },
  {
   "cell_type": "code",
   "execution_count": null,
   "metadata": {
    "ExecuteTime": {
     "end_time": "2019-10-30T17:57:35.431171Z",
     "start_time": "2019-10-30T17:57:35.371544Z"
    },
    "hidden": true
   },
   "outputs": [],
   "source": [
    "a = sm.var(\"a\",real=True)\n",
    "b = sm.var(\"b\",real=True)\n",
    "lam = sm.var(\"lam\")\n",
    "sm.solve(lam**2 - 2*a*lam + a**2 + b**2,lam)"
   ]
  },
  {
   "cell_type": "markdown",
   "metadata": {
    "hidden": true
   },
   "source": [
    "Or better yet"
   ]
  },
  {
   "cell_type": "code",
   "execution_count": null,
   "metadata": {
    "ExecuteTime": {
     "end_time": "2019-10-30T17:57:46.116093Z",
     "start_time": "2019-10-30T17:57:46.090642Z"
    },
    "hidden": true
   },
   "outputs": [],
   "source": [
    "lam1, lam2 = sm.Matrix([[a,b],[-b,a]]).eigenvals()\n",
    "lam1, lam2"
   ]
  },
  {
   "cell_type": "markdown",
   "metadata": {
    "hidden": true
   },
   "source": [
    "Note that these matrices are diagonalizable, so their Jordan forms just look like\n",
    "\n",
    "$$\n",
    "J = \\begin{pmatrix}\n",
    "a - i b & 0 \\\\\n",
    "0       & a + i b\n",
    "\\end{pmatrix}\n",
    "$$\n",
    "\n",
    "but since we do not usually talk about linear systems with imaginary coefficients, we use the $A$ matrix defined above for this class of matrix's *canonical form*. \n",
    "\n",
    "To understand what these matrices do, you can use polar coordinates. Set\n",
    "\n",
    "$$\n",
    "r = \\sqrt{x_1^2 + x_2^2} \\\\\n",
    "\\theta = \\arctan(x_1,x_2)\n",
    "$$\n",
    "\n",
    "then \n",
    "\n",
    "$$\n",
    "r^2 = x_1^2 + x_2^2\n",
    "$$\n",
    "\n",
    "and \n",
    "\n",
    "$$\n",
    "2 r \\dot r = 2 x_1 \\dot x_1 + 2 x_2 \\dot x_2.\n",
    "$$\n",
    "\n",
    "However, since $\\dot x_1 = ax_1 + bx_2$ and $\\dot x_2 = -bx_1 + ax_2$, we get (after canceling the 2):\n",
    "\n",
    "\\begin{align}\n",
    "r \\dot r & = x_1 (ax_1 + bx_2) + x_2 (-bx_1 + ax_2) \\\\\n",
    "\\; & = a x_1^2 + a x_2^2 = a r^2\n",
    "\\end{align}\n",
    "\n",
    "and thus\n",
    "\n",
    "$$\n",
    "\\dot r = a r\n",
    "$$\n",
    "\n",
    "Also, \n",
    "\n",
    "$$\n",
    "\\tan \\theta = \\frac{x_2}{x_1}\n",
    "$$\n",
    "\n",
    "so\n",
    "\n",
    "$$\n",
    "\\dot\\theta\\sec^2\\theta  = \\frac{x_1 \\dot x_2 - \\dot x_1x_2}{x_1^2}\n",
    "$$\n",
    "\n",
    "Substituting in again gives\n",
    "\n",
    "\\begin{align}\n",
    "\\dot\\theta\\sec^2\\theta & = \\frac{x_1 (-bx_1 + ax_2) - (ax_1 + bx_2)x_2}{x_1^2} \\\\\n",
    "\\; & = - b \\frac{x_1^2+x_2^2}{x_1^2}\n",
    "\\end{align}\n",
    "\n",
    "which means (using the fact that sec is hypotenus over adjacent) that\n",
    "\n",
    "$$\n",
    "\\dot \\theta = -b .\n",
    "$$\n",
    "\n",
    "Thus, we can see that as long as $a<0$, then the system will spiral inwards. If $a=1$ then you get endless circles at the same radius. And if $a>0$ you get unstable spirals outwards. Furthermore, $b$ indicates the direction of the spiral."
   ]
  },
  {
   "cell_type": "code",
   "execution_count": null,
   "metadata": {
    "ExecuteTime": {
     "end_time": "2019-10-29T21:31:19.159506Z",
     "start_time": "2019-10-29T21:31:18.619150Z"
    },
    "hidden": true
   },
   "outputs": [],
   "source": [
    "plot_phase_portrait(\n",
    "    [\n",
    "        sm.Matrix([[1,1],[-1,1]]),\n",
    "        sm.Matrix([[0,1],[-1,0]]),\n",
    "        sm.Matrix([[-1,1],[-1,-1]])\n",
    "    ],\n",
    "    [\n",
    "        \"Unstable spiral, clockwise\",\n",
    "        \"Marginally stable circles, clockwise\",\n",
    "        \"Stable spiral, clockwise\",\n",
    "    ])"
   ]
  },
  {
   "cell_type": "code",
   "execution_count": null,
   "metadata": {
    "ExecuteTime": {
     "end_time": "2019-10-29T21:31:24.521366Z",
     "start_time": "2019-10-29T21:31:23.984990Z"
    },
    "hidden": true,
    "scrolled": true
   },
   "outputs": [],
   "source": [
    "plot_phase_portrait(\n",
    "    [\n",
    "        sm.Matrix([[1,-1],[1,1]]),\n",
    "        sm.Matrix([[0,-1],[1,0]]),\n",
    "        sm.Matrix([[-1,-1],[1,-1]])\n",
    "    ],\n",
    "    [\n",
    "        \"Unstable spiral, counterclockwise\",\n",
    "        \"Marginally stable circles, counterclockwise\",\n",
    "        \"Stable spiral, counterclockwise\",\n",
    "    ])"
   ]
  },
  {
   "cell_type": "markdown",
   "metadata": {
    "hidden": true
   },
   "source": [
    "An example\n",
    "===\n",
    "\n",
    "Suppose that \n",
    "\n",
    "\\begin{align}\n",
    "\\dot x_1 & = x_2 \\\\\n",
    "\\dot x_2 & = (x_1-1)(x_1+1) - x_2\n",
    "\\end{align}\n",
    "\n",
    "The equalibirum points are\n",
    "\n",
    "\\begin{align}\n",
    "x_2 & = 0 \\\\\n",
    "x_1 & = \\pm 1.\n",
    "\\end{align}\n",
    "\n",
    "Next we figure out what kind of linear system approximates the dynamics around each point. The Jacobian is\n",
    "\n",
    "\\begin{align}\n",
    "J & = \\begin{pmatrix}\n",
    "\\frac{\\partial x_2}{\\partial x_1} & \n",
    "\\frac{\\partial x_2}{\\partial x_2} \\\\\n",
    "\\frac{\\partial (x_1-1)(x_1+1) - x_2}{\\partial x_1} & \n",
    "\\frac{\\partial (x_1-1)(x_1+1) - x_2}{\\partial x_2} \\\\\n",
    "\\end{pmatrix} \\\\\n",
    "\\; & = \\begin{pmatrix}\n",
    "0 & 1 \\\\\n",
    "2 x_1 & -1\n",
    "\\end{pmatrix}.\n",
    "\\end{align}\n",
    "\n",
    "At $-1,0$ we get\n",
    "\n",
    "$$\n",
    "A = \\begin{pmatrix}\n",
    "0 & 1 \\\\\n",
    "-2 & -1\n",
    "\\end{pmatrix} \n",
    "$$\n",
    "\n",
    "which has eigenvalues"
   ]
  },
  {
   "cell_type": "code",
   "execution_count": null,
   "metadata": {
    "ExecuteTime": {
     "end_time": "2019-10-29T21:31:40.802494Z",
     "start_time": "2019-10-29T21:31:40.792651Z"
    },
    "hidden": true
   },
   "outputs": [],
   "source": [
    "sm.Matrix([\n",
    "    [0,1],\n",
    "    [-2,1]\n",
    "]).eigenvals()"
   ]
  },
  {
   "cell_type": "markdown",
   "metadata": {
    "hidden": true
   },
   "source": [
    "Thus, the point $(-1,0)$ is an unstable spiral. \n",
    "\n",
    "On the other hand, at $1,0$ we get\n",
    "\n",
    "$$\n",
    "A = \\begin{pmatrix}\n",
    "0 & 1 \\\\\n",
    "2 & -1\n",
    "\\end{pmatrix} \n",
    "$$\n",
    "\n",
    "which has eigenvalues "
   ]
  },
  {
   "cell_type": "code",
   "execution_count": null,
   "metadata": {
    "ExecuteTime": {
     "end_time": "2019-10-29T21:31:49.391726Z",
     "start_time": "2019-10-29T21:31:49.383705Z"
    },
    "hidden": true
   },
   "outputs": [],
   "source": [
    "sm.Matrix([\n",
    "    [0,1],\n",
    "    [2,1]\n",
    "]).eigenvals()"
   ]
  },
  {
   "cell_type": "markdown",
   "metadata": {
    "hidden": true
   },
   "source": [
    "which is a saddle point. We can find the eigenvectors to locate the axes of the saddle."
   ]
  },
  {
   "cell_type": "code",
   "execution_count": null,
   "metadata": {
    "ExecuteTime": {
     "end_time": "2019-10-29T21:31:58.842962Z",
     "start_time": "2019-10-29T21:31:58.829769Z"
    },
    "hidden": true
   },
   "outputs": [],
   "source": [
    "P,D = sm.Matrix([\n",
    "    [0,1],\n",
    "    [2,1]\n",
    "]).diagonalize()\n",
    "P"
   ]
  },
  {
   "cell_type": "markdown",
   "metadata": {
    "hidden": true
   },
   "source": [
    "So the stable axis is the line $x_{e,2} = x_{e,1}$ and the unstable axis is $2x_{e,2} = x_{e,1}$. We can use this information to draw a complete picture.\n",
    "\n",
    "<img src=\"https://raw.githubusercontent.com/klavins/ECE447/master/images/nonlinear-phase-portrait.png\" width=50%>\n",
    "\n",
    "Plotting with quiver supports our view."
   ]
  },
  {
   "cell_type": "code",
   "execution_count": null,
   "metadata": {
    "ExecuteTime": {
     "end_time": "2019-10-29T21:32:03.385808Z",
     "start_time": "2019-10-29T21:32:03.132844Z"
    },
    "hidden": true,
    "scrolled": true
   },
   "outputs": [],
   "source": [
    "x1,x2 = np.meshgrid(np.linspace(-2, 2, 9),np.linspace(-1, 1, 5))\n",
    "x1dot = x2\n",
    "x2dot = (x1-1)*(x1+1)-x2\n",
    "plt.rcParams['figure.figsize'] = [10,5]\n",
    "plt.quiver(x1, x2, x1dot, x2dot, color='r')\n",
    "plt.xlabel('$x_1$')\n",
    "plt.ylabel('$x_2$')\n",
    "plt.title(\"Example Phase Portrait\");"
   ]
  },
  {
   "cell_type": "markdown",
   "metadata": {
    "heading_collapsed": true
   },
   "source": [
    "# Solutions to Linear ODEs"
   ]
  },
  {
   "cell_type": "markdown",
   "metadata": {
    "hidden": true
   },
   "source": [
    "## The General Solution to $\\dot x = Ax$\n",
    "\n",
    "When $A \\in \\mathbb{R}^{n\\times n}$, then the we define $e^{At}$ by\n",
    "\n",
    "$$\n",
    "e^{At} \\triangleq I + At + \\frac{(At)^2}{2!} + \\frac{(At)^3}{3!} + \\dots\n",
    "$$\n",
    "\n",
    "It turns out that \n",
    "\n",
    "$$\n",
    "x(t) = e^{At}x(0)\n",
    "$$\n",
    "\n",
    "is the solution to $\\dot x = Ax$. This is because\n",
    "\n",
    "\\begin{align}\n",
    "\\frac{d}{dt}e^{At}x(0) & = \n",
    "\\frac{d}{dt}\\left(I + At + \\frac{(At)^2}{2!} + \\frac{(At)^3}{3!} + \\dots\\right)x(0) \\\\\n",
    " & = \\left(0 + A + A^2 t + \\frac{A^3t^2}{2!} + \\dots\\right)x(0) \\\\\n",
    " & = A \\left(I + At + + \\frac{(At)^2}{2!} + \\dots \\right)x(0) \\\\\n",
    " &= A e^{At} x(0) \\\\\n",
    " & = A x(t).\n",
    "\\end{align}\n",
    "\n",
    "We next explore what $e^{At}$ looks like for various types of matrices."
   ]
  },
  {
   "cell_type": "markdown",
   "metadata": {
    "hidden": true
   },
   "source": [
    "## Diagonalizable Matrices\n",
    "\n",
    "If $A$ is diagonalizable, then $A = P D P^{-1}$ for some $P$ and $D$. In this case,\n",
    "\n",
    "\\begin{align}\n",
    "e^{At} & = e^{PDP^{-1}t} \\\\\n",
    "       & = I + PDP^{-1}t + \\frac{(PDP^{-1}t)^2}{2!} + \\dots \\\\\n",
    "       & = I + PDP^{-1}t + \\frac{PDP^{-1}PDP^{-1}t^2}{2!} + \\dots \\\\\n",
    "       & = I + PDP^{-1}t + \\frac{PD^2P^{-1}t^2}{2!} + \\dots \\\\\n",
    "       & = P \\left(I + Dt + \\frac{D^2t^2}{2!} + \\dots \\right)P^{-1} \\\\\n",
    "       & = P e^{Dt} P^{-1}.\n",
    "\\end{align}\n",
    "\n",
    "Now, since $D$ is diagonal and of the form\n",
    "\n",
    "$$\n",
    "D = \\begin{pmatrix}\n",
    "\\lambda_1 & 0 \\\\\n",
    "0 & \\lambda_2\n",
    "\\end{pmatrix}\n",
    "$$\n",
    "\n",
    "it is clear that \n",
    "\n",
    "$$\n",
    "e^{Dt} = \\begin{pmatrix}\n",
    "e^{\\lambda_1t} & 0 \\\\\n",
    "0 & e^{\\lambda_2t}\n",
    "\\end{pmatrix} .\n",
    "$$\n",
    "\n",
    "Thus, figuring out $e^{At}$ is just matrix multiplication using $P e^{Dt} P^{-1}$.\n",
    "\n",
    "<span style=\"color: darkorange; border: 1pt solid darkorange; padding: 8px\">\n",
    "**NOTE**: In general, $e^{At}$ is **not** just the elementwise exponentials of the entries of $A$. \n",
    "</span>\n",
    "\n",
    "More generally, you need to figure out $e^{Jt}$ where $J$ is the Jordan canonical form of the matrix.\n",
    "\n",
    "Example: Real Eigenvalues\n",
    "---"
   ]
  },
  {
   "cell_type": "code",
   "execution_count": null,
   "metadata": {
    "ExecuteTime": {
     "end_time": "2019-10-29T23:36:31.249705Z",
     "start_time": "2019-10-29T23:36:30.878437Z"
    },
    "hidden": true
   },
   "outputs": [],
   "source": [
    "# Sympy has this built in\n",
    "\n",
    "t = sm.symbols(\"t\")\n",
    "J = sm.Matrix([[-1,1],[0,-1]])*t\n",
    "J,sm.exp(J)"
   ]
  },
  {
   "cell_type": "code",
   "execution_count": null,
   "metadata": {
    "ExecuteTime": {
     "end_time": "2019-10-29T21:40:49.930813Z",
     "start_time": "2019-10-29T21:40:49.784946Z"
    },
    "hidden": true
   },
   "outputs": [],
   "source": [
    "# Compute e^{At} using diagonalization method\n",
    "sm.var(\"t\")\n",
    "A = sm.Matrix([\n",
    "    [-2,-2],\n",
    "    [-1,-3]\n",
    "])\n",
    "P,D = A.diagonalize()\n",
    "sm.pprint(D)\n",
    "eDt = sm.Matrix([\n",
    "    [sm.exp(D[0,0]*t), 0], \n",
    "    [0, sm.exp(D[1,1]*t)]\n",
    "])\n",
    "eAt = P*eDt*P.inv()\n",
    "eAt.simplify()\n",
    "eAt"
   ]
  },
  {
   "cell_type": "code",
   "execution_count": null,
   "metadata": {
    "ExecuteTime": {
     "end_time": "2019-10-29T21:36:04.434180Z",
     "start_time": "2019-10-29T21:36:04.377303Z"
    },
    "hidden": true
   },
   "outputs": [],
   "source": [
    "# Compute e^{At} using sympy's exp which, works on \n",
    "# matrices and probably does the same thing\n",
    "w = sm.exp(A*t)\n",
    "w"
   ]
  },
  {
   "cell_type": "code",
   "execution_count": null,
   "metadata": {
    "ExecuteTime": {
     "end_time": "2019-10-29T21:36:09.850600Z",
     "start_time": "2019-10-29T21:36:09.656973Z"
    },
    "hidden": true
   },
   "outputs": [],
   "source": [
    "# Find the solution to x' = Ax when x(0) = (1,-2)\n",
    "sm.var(\"x10 x20\")\n",
    "x = eAt*sm.Matrix([x10,x20])\n",
    "x.simplify()\n",
    "x"
   ]
  },
  {
   "cell_type": "code",
   "execution_count": null,
   "metadata": {
    "ExecuteTime": {
     "end_time": "2019-10-29T21:36:19.021763Z",
     "start_time": "2019-10-29T21:36:18.895648Z"
    },
    "hidden": true
   },
   "outputs": [],
   "source": [
    "# Find the solution to x' = Ax when x(0) = (1,-2)\n",
    "x = eAt*sm.Matrix([1,-2])\n",
    "x.simplify()\n",
    "x"
   ]
  },
  {
   "cell_type": "code",
   "execution_count": null,
   "metadata": {
    "ExecuteTime": {
     "end_time": "2019-10-29T21:36:25.218333Z",
     "start_time": "2019-10-29T21:36:24.983137Z"
    },
    "hidden": true
   },
   "outputs": [],
   "source": [
    "# Note, we are using sympy's plotting.plot method, and not numpy's method\n",
    "sm.plot(x[0],x[1],(t,0,5));"
   ]
  },
  {
   "cell_type": "markdown",
   "metadata": {
    "hidden": true
   },
   "source": [
    "Sympy's symbols cannot be used with numpy.plt directly. First, you have to convert them into functions. To do this, you use `lambdify`. For example, to turn the expression $e^{-t}$ into a function that numpy can use, you do"
   ]
  },
  {
   "cell_type": "code",
   "execution_count": null,
   "metadata": {
    "ExecuteTime": {
     "end_time": "2019-10-29T21:36:31.818791Z",
     "start_time": "2019-10-29T21:36:31.815044Z"
    },
    "hidden": true
   },
   "outputs": [],
   "source": [
    "f = sm.lambdify(t,sm.exp(-t), modules=['numpy'])"
   ]
  },
  {
   "cell_type": "markdown",
   "metadata": {
    "hidden": true
   },
   "source": [
    "You can now evaluate f for any t. For example:"
   ]
  },
  {
   "cell_type": "code",
   "execution_count": null,
   "metadata": {
    "ExecuteTime": {
     "end_time": "2019-10-29T21:36:37.044109Z",
     "start_time": "2019-10-29T21:36:37.039994Z"
    },
    "hidden": true
   },
   "outputs": [],
   "source": [
    "print(f(0))\n",
    "print(f(1))\n",
    "print(f(2))"
   ]
  },
  {
   "cell_type": "markdown",
   "metadata": {
    "hidden": true
   },
   "source": [
    "So, to plot the above solution to $\\dot x = Ax$, we can do the following:"
   ]
  },
  {
   "cell_type": "code",
   "execution_count": null,
   "metadata": {
    "ExecuteTime": {
     "end_time": "2019-10-29T21:36:42.476446Z",
     "start_time": "2019-10-29T21:36:42.205822Z"
    },
    "hidden": true
   },
   "outputs": [],
   "source": [
    "# Using numpy. \n",
    "\n",
    "# First, turn xt into functions\n",
    "x = sm.lambdify(t,x, modules=['numpy'])\n",
    "\n",
    "# then plot\n",
    "tvals = np.linspace(0,5,100)\n",
    "plt.plot(tvals,x(tvals)[0,0], label=\"$x_1(t)$\")\n",
    "plt.plot(tvals,x(tvals)[1,0], label=\"$x_2(t)$\")\n",
    "plt.xlabel(\"$t$\")\n",
    "plt.title(\"example linear system response\")\n",
    "plt.legend();"
   ]
  },
  {
   "cell_type": "markdown",
   "metadata": {
    "hidden": true
   },
   "source": [
    "Example: Imaginary Eigenvalues\n",
    "---\n",
    "As another example, consider a matrix with complex eigenvalues. This can be diagonalized, you just don't get a real matrix. "
   ]
  },
  {
   "cell_type": "code",
   "execution_count": null,
   "metadata": {
    "ExecuteTime": {
     "end_time": "2019-10-29T21:36:46.080195Z",
     "start_time": "2019-10-29T21:36:46.063593Z"
    },
    "hidden": true
   },
   "outputs": [],
   "source": [
    "A = sm.Matrix([[-1,1],[-1,-1]])\n",
    "P,D = A.diagonalize()\n",
    "D"
   ]
  },
  {
   "cell_type": "code",
   "execution_count": null,
   "metadata": {
    "ExecuteTime": {
     "end_time": "2019-10-29T21:36:48.455032Z",
     "start_time": "2019-10-29T21:36:48.450700Z"
    },
    "hidden": true
   },
   "outputs": [],
   "source": [
    "P"
   ]
  },
  {
   "cell_type": "code",
   "execution_count": null,
   "metadata": {
    "ExecuteTime": {
     "end_time": "2019-10-29T21:36:51.333928Z",
     "start_time": "2019-10-29T21:36:51.218931Z"
    },
    "hidden": true
   },
   "outputs": [],
   "source": [
    "eAt=P*sm.exp(D*t)*P.inv()\n",
    "eAt"
   ]
  },
  {
   "cell_type": "code",
   "execution_count": null,
   "metadata": {
    "ExecuteTime": {
     "end_time": "2019-10-29T21:36:55.404490Z",
     "start_time": "2019-10-29T21:36:55.171758Z"
    },
    "hidden": true
   },
   "outputs": [],
   "source": [
    "eAt = eAt.simplify() # Uses cos(t) = (e^{it} + e^{-it})/2\n",
    "eAt"
   ]
  },
  {
   "cell_type": "code",
   "execution_count": null,
   "metadata": {
    "ExecuteTime": {
     "end_time": "2019-10-29T21:36:59.122394Z",
     "start_time": "2019-10-29T21:36:58.985323Z"
    },
    "hidden": true
   },
   "outputs": [],
   "source": [
    "x = eAt*sm.Matrix([1,-2]) # e^{At} * (initial condition)\n",
    "x.simplify()"
   ]
  },
  {
   "cell_type": "code",
   "execution_count": null,
   "metadata": {
    "ExecuteTime": {
     "end_time": "2019-10-29T21:37:02.756656Z",
     "start_time": "2019-10-29T21:37:02.511633Z"
    },
    "hidden": true,
    "scrolled": true
   },
   "outputs": [],
   "source": [
    "sm.plot(x[0],x[1],(t,0,5));"
   ]
  },
  {
   "cell_type": "markdown",
   "metadata": {
    "heading_collapsed": true
   },
   "source": [
    "# Picard Iteration (Not covered)"
   ]
  },
  {
   "cell_type": "markdown",
   "metadata": {
    "hidden": true
   },
   "source": [
    "As we have seen, not all differential equations are linear, and solving them can be hard. However, we can come up with arbitrarily close solutions using the Taylor Series idea in a process called **Picard Iteration**.\n",
    "\n",
    "The approach works as follows. First, set\n",
    "\n",
    "$$u_0(t) = x_0$$\n",
    "\n",
    "Then put\n",
    "\n",
    "$$\n",
    "u_{k+1}(t) = x_0 + \\int_0^t f(u_k(t)) ds.\n",
    "$$\n",
    "\n",
    "**Example**: To illustrate, consider the equation\n",
    "\n",
    "$$\n",
    "\\dot x = x\n",
    "$$\n",
    "\n",
    "with $x(0) = x_0$. Define\n",
    "\n",
    "$$\n",
    "u_0(t) = x_0.\n",
    "$$\n",
    "\n",
    "Then set\n",
    "\n",
    "$$\n",
    "u_1(t) = x_0 + \\int_0^t u_0(s) ds  = x_0 + \\int_0^t x_0 ds. \n",
    "$$\n",
    "\n",
    "Therefore,\n",
    "\n",
    "$$\n",
    "u_1(t) = x_0 + t x_0.\n",
    "$$\n",
    "\n",
    "Then define \n",
    "\n",
    "$$\n",
    "u_2(t) = x_0 + \\int_0^t u_1(s) ds = x_0 + \\int_0^t(x_0 + s x_0)ds.\n",
    "$$\n",
    "\n",
    "This gives\n",
    "\n",
    "$$\n",
    "u_2(t) = x_0 + t x_0 + \\frac{t^2}{2}x_0\n",
    "$$\n",
    "\n",
    "and so on. You can see that as $k \\rightarrow \\infty$ that $u_k(t)$ converges to\n",
    "\n",
    "$$\n",
    "x_0 \\sum_{i=0}^\\infty \\frac{t^i}{i!} = x_0 e^t,\n",
    "$$\n",
    "\n",
    "which was what we had initially (for $a=1$).\n",
    "\n",
    "**Example:** Find the Picard iterations of the ODE\n",
    "\n",
    "$$\n",
    "\\dot x = 1 - x^2\n",
    "$$\n",
    "\n",
    "with $x(0) = 0$. "
   ]
  },
  {
   "cell_type": "code",
   "execution_count": null,
   "metadata": {
    "ExecuteTime": {
     "end_time": "2019-10-30T21:31:36.740744Z",
     "start_time": "2019-10-30T21:31:36.355459Z"
    },
    "hidden": true
   },
   "outputs": [],
   "source": [
    "x, s, t = sm.symbols(\"x s t\")\n",
    "x0 = 0\n",
    "u = [x0]\n",
    "\n",
    "for _ in range(40):\n",
    "    u.append(x0 + sm.integrate(1-u[-1]**2, (s,0,t)))\n",
    "\n",
    "sm.plot(u[-1], u[-2], (t,0,1), xlabel=\"t\", ylabel=\"$u_k(t)$\");"
   ]
  },
  {
   "cell_type": "markdown",
   "metadata": {
    "hidden": true
   },
   "source": [
    "Here, the subsequent trajectories oscillate between ending at 0 and ending at 1. Plotting a numerical trajectory shows that the approximation is when $t<0.8$. "
   ]
  },
  {
   "cell_type": "code",
   "execution_count": null,
   "metadata": {
    "ExecuteTime": {
     "end_time": "2019-10-30T21:32:49.892038Z",
     "start_time": "2019-10-30T21:32:49.678051Z"
    },
    "hidden": true
   },
   "outputs": [],
   "source": [
    "t = np.linspace(0, 1, 60)\n",
    "x = spi.odeint(lambda x, t : 1 - x**2, 0, t);\n",
    "\n",
    "plt.plot(t,x,label=\"trajectory 1\");\n",
    "plt.xlabel(\"t\")\n",
    "plt.ylabel(\"x\");"
   ]
  },
  {
   "cell_type": "code",
   "execution_count": null,
   "metadata": {
    "ExecuteTime": {
     "end_time": "2019-10-30T21:33:48.260131Z",
     "start_time": "2019-10-30T21:33:47.185042Z"
    },
    "hidden": true
   },
   "outputs": [],
   "source": [
    "x,a,t = sm.symbols(\"x,a,t\")\n",
    "eqn = sm.diff(x(t), t) - 1 + x(t)**2\n",
    "sol = sm.dsolve(eqn, x(t))\n",
    "sol = sm.simplify(sol)\n",
    "sol"
   ]
  },
  {
   "cell_type": "code",
   "execution_count": null,
   "metadata": {
    "ExecuteTime": {
     "end_time": "2019-10-30T21:34:41.195289Z",
     "start_time": "2019-10-30T21:34:41.129164Z"
    },
    "hidden": true
   },
   "outputs": [],
   "source": [
    "x0,C1 = sm.symbols(\"x0, C1\")\n",
    "init = sm.solve(sol.args[1].subs(t,0)-0,C1)\n",
    "init"
   ]
  },
  {
   "cell_type": "code",
   "execution_count": null,
   "metadata": {
    "ExecuteTime": {
     "end_time": "2019-10-30T21:35:17.112865Z",
     "start_time": "2019-10-30T21:35:17.106181Z"
    },
    "hidden": true
   },
   "outputs": [],
   "source": [
    "traj = sol.args[1].subs(C1,init[0])\n",
    "traj"
   ]
  },
  {
   "cell_type": "code",
   "execution_count": null,
   "metadata": {
    "ExecuteTime": {
     "end_time": "2019-10-30T21:35:46.177452Z",
     "start_time": "2019-10-30T21:35:45.967575Z"
    },
    "hidden": true
   },
   "outputs": [],
   "source": [
    "sm.plot(traj,(t,0,1));"
   ]
  },
  {
   "cell_type": "code",
   "execution_count": null,
   "metadata": {
    "ExecuteTime": {
     "end_time": "2019-10-30T21:36:31.857407Z",
     "start_time": "2019-10-30T21:36:31.264294Z"
    },
    "hidden": true
   },
   "outputs": [],
   "source": [
    "sm.series(traj,t)"
   ]
  },
  {
   "cell_type": "code",
   "execution_count": null,
   "metadata": {
    "ExecuteTime": {
     "end_time": "2019-10-30T21:38:28.447241Z",
     "start_time": "2019-10-30T21:38:28.436035Z"
    },
    "hidden": true
   },
   "outputs": [],
   "source": [
    "sm.expand(u[5])"
   ]
  },
  {
   "cell_type": "markdown",
   "metadata": {
    "heading_collapsed": true
   },
   "source": [
    "# Exotic Behaviors"
   ]
  },
  {
   "cell_type": "markdown",
   "metadata": {
    "hidden": true
   },
   "source": [
    "In 1963 Edward Lorenz was studying convection in weather systems. After simplifying his model he ended up with the system\n",
    "\n",
    "\\begin{eqnarray}\n",
    "\\dot x & = & \\sigma (y-x) \\\\\n",
    "\\dot y & = & x(\\rho-z) - y \\\\\n",
    "\\dot z & = & x y - \\beta z .\n",
    "\\end{eqnarray}\n",
    "\n",
    "Here, $x$ is the rate of convection, $y$ is the variation in temperature horizontally, and $z$ the variation of temperature vertically. \n",
    "\n",
    "In an attempt to understand what the system did, he made a plot of the dynamics."
   ]
  },
  {
   "cell_type": "code",
   "execution_count": null,
   "metadata": {
    "ExecuteTime": {
     "end_time": "2019-10-30T18:19:44.553703Z",
     "start_time": "2019-10-30T18:19:44.121144Z"
    },
    "hidden": true
   },
   "outputs": [],
   "source": [
    "def f_lorenz(X,t):\n",
    "    x,y,z = X\n",
    "    a,r,b = 10, 28, 8/3\n",
    "    return [\n",
    "        a*(y-x),\n",
    "        x*(r-z)-y,\n",
    "        x*y - b*z\n",
    "    ]\n",
    "\n",
    "t = np.linspace(0., 40, 6000)\n",
    "X = spi.odeint(f_lorenz,[1,2,3],t);\n",
    "\n",
    "plt.plot(X[:,0],X[:,2],label=\"trajectory 1\");\n",
    "plt.xlabel(\"x\")\n",
    "plt.ylabel(\"z\");"
   ]
  },
  {
   "cell_type": "markdown",
   "metadata": {
    "hidden": true
   },
   "source": [
    "Note that in most normal systems of ODEs, if you start out with two points that are nearby, you end up near by. Not so with this system. "
   ]
  },
  {
   "cell_type": "code",
   "execution_count": null,
   "metadata": {
    "ExecuteTime": {
     "end_time": "2019-10-30T18:26:52.377167Z",
     "start_time": "2019-10-30T18:26:52.072738Z"
    },
    "hidden": true
   },
   "outputs": [],
   "source": [
    "t = np.linspace(0., 20, 1000)\n",
    "X1 = spi.odeint(f_lorenz,[1,2,3],t);\n",
    "X2 = spi.odeint(f_lorenz,[1.1,2,3],t);\n",
    "\n",
    "d = np.sqrt(np.sum((X1-X2)**2,1))\n",
    "\n",
    "plt.plot(t,d,label=\"trajectory 1\");\n",
    "plt.xlabel(\"y\")\n",
    "plt.ylabel(\"||X1-X2||\");"
   ]
  },
  {
   "cell_type": "markdown",
   "metadata": {
    "hidden": true
   },
   "source": [
    "These are the hallmark of a **chaotic system**. \n",
    "\n",
    "a) Trajectories starting in the *attracting region* stay in the attracting region; and\n",
    "b) Given nearby initial conditions, the trajectories move apart as far as they can. \n",
    "\n",
    "Some other examples of chaotic systems abound. Understanding their behavior is the subject of ongoing research.\n"
   ]
  },
  {
   "cell_type": "code",
   "execution_count": null,
   "metadata": {
    "collapsed": true,
    "hidden": true
   },
   "outputs": [],
   "source": []
  }
 ],
 "metadata": {
  "kernelspec": {
   "display_name": "Python 3",
   "language": "python",
   "name": "python3"
  },
  "language_info": {
   "codemirror_mode": {
    "name": "ipython",
    "version": 3
   },
   "file_extension": ".py",
   "mimetype": "text/x-python",
   "name": "python",
   "nbconvert_exporter": "python",
   "pygments_lexer": "ipython3",
   "version": "3.6.1"
  }
 },
 "nbformat": 4,
 "nbformat_minor": 2
}
