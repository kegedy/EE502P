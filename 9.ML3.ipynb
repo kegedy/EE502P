{
 "cells": [
  {
   "cell_type": "markdown",
   "metadata": {
    "ExecuteTime": {
     "end_time": "2019-11-27T22:07:32.841403Z",
     "start_time": "2019-11-27T22:07:32.833754Z"
    }
   },
   "source": [
    "EE 502 P: Analytical Methods for Electrical Engineering\n",
    "# 9. Machine Learning, Part II\n",
    "## Prof. Eric Klavins, Electrical and Computer Engineering\n",
    "### 25 September, 2019\n",
    "Copyright &copy; 2019, University of Washington"
   ]
  },
  {
   "cell_type": "code",
   "execution_count": 2,
   "metadata": {
    "ExecuteTime": {
     "end_time": "2019-11-27T22:07:47.196229Z",
     "start_time": "2019-11-27T22:07:42.904710Z"
    },
    "collapsed": true
   },
   "outputs": [],
   "source": [
    "import sys\n",
    "import math\n",
    "import random\n",
    "import scipy # Has linear algebra\n",
    "import scipy.ndimage\n",
    "import numpy as np\n",
    "import sympy as sm\n",
    "sm.init_printing(use_latex='mathjax')\n",
    "import matplotlib.pyplot as plt\n",
    "import matplotlib.patches as pch\n",
    "\n",
    "import torch\n",
    "import torch.nn as nn\n",
    "import torch.nn.functional as F\n",
    "from torch.utils.data import Dataset, DataLoader\n",
    "from torch.autograd import Variable\n",
    "\n",
    "import pandas as pd;\n",
    "\n",
    "%matplotlib inline"
   ]
  },
  {
   "cell_type": "code",
   "execution_count": 362,
   "metadata": {
    "ExecuteTime": {
     "end_time": "2019-11-28T00:43:02.712324Z",
     "start_time": "2019-11-28T00:42:54.518043Z"
    },
    "collapsed": true
   },
   "outputs": [],
   "source": [
    "# We first load the data\n",
    "\n",
    "class FashionMNISTDataset(Dataset):\n",
    "    '''Fashion MNIST Dataset'''\n",
    "    def __init__(self, csv_file, transform=None):\n",
    "        \"\"\"\n",
    "        Args:\n",
    "            csv_file (string): Path to the csv file\n",
    "            transform (callable): Optional transform to apply to sample\n",
    "        \"\"\"\n",
    "        \n",
    "        data = pd.read_csv(csv_file);\n",
    "        self.X = np.array(data.iloc[:, 1:]).reshape(-1, 1, 28, 28)#.astype(float);\n",
    "        self.Y = np.array(data.iloc[:, 0]);\n",
    "        \n",
    "        del data;\n",
    "        self.transform = transform;\n",
    "        \n",
    "    def __len__(self):\n",
    "        return len(self.X);\n",
    "    \n",
    "    def __getitem__(self, idx):\n",
    "        item = self.X[idx];\n",
    "        label = self.Y[idx];\n",
    "        \n",
    "        if self.transform:\n",
    "            item = self.transform(item);\n",
    "        \n",
    "        return (item, label);\n",
    "    \n",
    "meanings = [\n",
    "    \"T-shirt/top\",\n",
    "    \"Trouser\",\n",
    "    \"Pullover\",\n",
    "    \"Dress\",\n",
    "    \"Coat\",\n",
    "    \"Sandal\",\n",
    "    \"Shirt\",\n",
    "    \"Sneaker\",\n",
    "    \"Bag\",\n",
    "    \"Ankle boot\"\n",
    "];\n",
    "\n",
    "# https://www.kaggle.com/oddrationale/mnist-in-csv\n",
    "train_dataset = FashionMNISTDataset(csv_file='mnist-in-csv/mnist_train.csv');\n",
    "test_dataset = FashionMNISTDataset(csv_file='mnist-in-csv/mnist_test.csv')"
   ]
  },
  {
   "cell_type": "code",
   "execution_count": 363,
   "metadata": {
    "ExecuteTime": {
     "end_time": "2019-11-28T00:43:04.598700Z",
     "start_time": "2019-11-28T00:43:04.010920Z"
    }
   },
   "outputs": [
    {
     "data": {
      "image/png": "[encoded data removed]",
      "text/plain": [
       "<Figure size 648x648 with 9 Axes>"
      ]
     },
     "metadata": {},
     "output_type": "display_data"
    }
   ],
   "source": [
    "# Here, we show 9 random images, their indices, and labels. \n",
    "\n",
    "fig,ax=plt.subplots(3,3,figsize=(9,9))\n",
    "\n",
    "for k in range(9):\n",
    "    n = random.randint(0,len(train_dataset))\n",
    "    x,y = train_dataset[n]\n",
    "    i,j = k%3, int(k/3)\n",
    "    ax[i][j].imshow(x[0],cmap=\"gray\")\n",
    "    ax[i][j].set_title(\"%d: %s\" % (n,meanings[y]));\n",
    "    ax[i][j].axis('off');"
   ]
  },
  {
   "cell_type": "code",
   "execution_count": 364,
   "metadata": {
    "ExecuteTime": {
     "end_time": "2019-11-28T00:43:10.076512Z",
     "start_time": "2019-11-28T00:43:09.934945Z"
    }
   },
   "outputs": [],
   "source": [
    "ZDIM = 50\n",
    "CHA = 8\n",
    "CHB = 16\n",
    "\n",
    "class VAE(nn.Module):\n",
    "    def __init__(self):\n",
    "\n",
    "        super(VAE, self).__init__()\n",
    "        \n",
    "        # Encoder\n",
    "        self.layer1 = nn.Sequential(\n",
    "            nn.Conv2d(1, CHA, kernel_size=5, padding=2),\n",
    "            nn.BatchNorm2d(CHA),\n",
    "            nn.ReLU()) \n",
    "        self.layer2 = nn.Sequential(\n",
    "            nn.Conv2d(CHA, CHB, kernel_size=5, padding=2),\n",
    "            nn.BatchNorm2d(CHB),\n",
    "            nn.ReLU()) \n",
    "        self.compress = nn.Linear(28*28*CHB, 100)\n",
    "        self.fc1 = nn.Linear(100, ZDIM) # for mu\n",
    "        self.fc2 = nn.Linear(100, ZDIM) # for logvar\n",
    "\n",
    "        # Decoder\n",
    "        self.expand1 = nn.Linear(ZDIM, 100)\n",
    "        self.expand2 = nn.Linear(100, 28*28*CHB)\n",
    "        self.layer3 = nn.Sequential(\n",
    "            nn.ConvTranspose2d(CHB,CHA, kernel_size=5, padding=2), \n",
    "            nn.BatchNorm2d(CHA),\n",
    "            nn.ReLU()\n",
    "        )    \n",
    "        self.layer4 = nn.Sequential(\n",
    "            nn.ConvTranspose2d(CHA,1, kernel_size=5, padding=2), \n",
    "            nn.BatchNorm2d(1),\n",
    "            nn.ReLU()\n",
    "        )\n",
    "        self.sigmoid = nn.Sigmoid()\n",
    "\n",
    "    def reparameterize(self,mu,logvar):\n",
    "        if self.training:\n",
    "            std = logvar.mul(0.5).exp_()\n",
    "            eps = Variable(std.data.new(std.size()).normal_())\n",
    "            return eps.mul(std).add_(mu)\n",
    "        else:\n",
    "            return mu        \n",
    "        \n",
    "    def encode(self, x):\n",
    "        out = self.layer1(x)\n",
    "        out = self.layer2(out)\n",
    "        out = out.view(out.size(0), -1)\n",
    "        out = self.compress(out)\n",
    "        r1 = self.fc1(out)\n",
    "        r2 = self.fc2(out)\n",
    "        return r1, r2\n",
    "    \n",
    "    def decode(self, z):\n",
    "        out = self.expand1(z)   # ZDIM ==> 100\n",
    "        out = self.expand2(out) # 100 ==> 28*28*CHB\n",
    "        out = out.view(-1,CHB,28,28)\n",
    "        out = self.layer3(out)\n",
    "        out = self.layer4(out)\n",
    "        out = self.sigmoid(out)\n",
    "        return out    \n",
    "    \n",
    "    def forward(self, x):\n",
    "        mu, logvar = self.encode(x)\n",
    "        z = self.reparameterize(mu, logvar)\n",
    "        return self.decode(z), mu, logvar  \n",
    "    \n",
    "\n",
    "ZDIM = 20\n",
    "class VAE(nn.Module):\n",
    "    def __init__(self):\n",
    "        super(VAE, self).__init__()\n",
    "\n",
    "        self.fc1 = nn.Linear(784, 400)\n",
    "        self.fc21 = nn.Linear(400, ZDIM)\n",
    "        self.fc22 = nn.Linear(400, ZDIM)\n",
    "        self.fc3 = nn.Linear(ZDIM, 400)\n",
    "        self.fc4 = nn.Linear(400, 784)\n",
    "\n",
    "    def encode(self, x):\n",
    "        h1 = F.relu(self.fc1(x))\n",
    "        return self.fc21(h1), self.fc22(h1)\n",
    "\n",
    "    def reparameterize(self, mu, logvar):\n",
    "        std = torch.exp(0.5*logvar)\n",
    "        eps = torch.randn_like(std)\n",
    "        return mu + eps*std\n",
    "\n",
    "    def decode(self, z):\n",
    "        h3 = F.relu(self.fc3(z))\n",
    "        h3 = torch.sigmoid(self.fc4(h3))\n",
    "        h3 = h3.reshape(-1,1,28,28)\n",
    "        return h3\n",
    "\n",
    "    def forward(self, x):\n",
    "        mu, logvar = self.encode(x.view(-1, 784))\n",
    "        z = self.reparameterize(mu, logvar)\n",
    "        return self.decode(z), mu, logvar\n",
    "    \n",
    "class customLoss(nn.Module):\n",
    "    def __init__(self):\n",
    "        super(customLoss, self).__init__()\n",
    "        self.mse_loss = nn.MSELoss(reduction=\"sum\")\n",
    "\n",
    "    def forward(self, x_recon, x, mu, logvar):\n",
    "        # loss1 = self.mse_loss(x_recon, x)\n",
    "        loss1 = F.binary_cross_entropy(x_recon.view(-1, 784), x.view(-1, 784), reduction='sum')\n",
    "        loss2 = -0.5 * torch.sum(1 + logvar - mu.pow(2) - logvar.exp())\n",
    "        return ( loss1 + loss2 ) "
   ]
  },
  {
   "cell_type": "code",
   "execution_count": 365,
   "metadata": {
    "ExecuteTime": {
     "end_time": "2019-11-28T00:43:10.960433Z",
     "start_time": "2019-11-28T00:43:10.744835Z"
    }
   },
   "outputs": [
    {
     "data": {
      "text/latex": [
       "$$\\left ( 2, \\quad 1, \\quad 28, \\quad 28\\right )$$"
      ],
      "text/plain": [
       "(2, 1, 28, 28)"
      ]
     },
     "execution_count": 365,
     "metadata": {},
     "output_type": "execute_result"
    },
    {
     "data": {
      "image/png": "[encoded data removed]",
      "text/plain": [
       "<Figure size 432x288 with 1 Axes>"
      ]
     },
     "metadata": {},
     "output_type": "display_data"
    }
   ],
   "source": [
    "batch_size = 2\n",
    "\n",
    "train_loader = DataLoader(dataset=train_dataset,\n",
    "                          batch_size=batch_size,\n",
    "                          shuffle=True);\n",
    "\n",
    "images, _ = next(iter(train_loader))\n",
    "images = Variable(images.float()) / 255\n",
    "\n",
    "vae = VAE()\n",
    "new_images,mu,lv = vae(images)\n",
    "plt.imshow(new_images.detach()[0][0], cmap=\"gray\")\n",
    "new_images.shape"
   ]
  },
  {
   "cell_type": "code",
   "execution_count": 371,
   "metadata": {
    "ExecuteTime": {
     "end_time": "2019-11-28T00:47:34.588482Z",
     "start_time": "2019-11-28T00:44:51.088144Z"
    }
   },
   "outputs": [
    {
     "name": "stdout",
     "output_type": "stream",
     "text": [
      "14: 10331.582031    "
     ]
    }
   ],
   "source": [
    "batch_size = 128\n",
    "num_epochs = 15\n",
    "\n",
    "train_loader = DataLoader(dataset=train_dataset,\n",
    "                          batch_size=batch_size,\n",
    "                          shuffle=True);\n",
    "\n",
    "optimizer = torch.optim.Adam(vae.parameters(), lr=1e-3)\n",
    "loss_fcn = customLoss()\n",
    "\n",
    "losses = []\n",
    "for i in range(num_epochs):\n",
    "    for images, _ in train_loader:\n",
    "        images = Variable(images.float()) / 255\n",
    "        optimizer.zero_grad()\n",
    "        outputs, mu, logvar = vae(images)\n",
    "        loss = loss_fcn(outputs, images, mu, logvar)\n",
    "        loss.backward()\n",
    "        optimizer.step()\n",
    "        losses.append(loss) \n",
    "        sys.stdout.write(\"\\r%d: %lf    \" % (i,loss))\n"
   ]
  },
  {
   "cell_type": "code",
   "execution_count": 374,
   "metadata": {
    "ExecuteTime": {
     "end_time": "2019-11-28T00:48:39.469146Z",
     "start_time": "2019-11-28T00:48:39.282515Z"
    }
   },
   "outputs": [
    {
     "data": {
      "image/png": "[encoded data removed]",
      "text/plain": [
       "<Figure size 432x288 with 1 Axes>"
      ]
     },
     "metadata": {},
     "output_type": "display_data"
    }
   ],
   "source": [
    "plt.plot(losses);"
   ]
  },
  {
   "cell_type": "code",
   "execution_count": 382,
   "metadata": {
    "ExecuteTime": {
     "end_time": "2019-11-28T00:48:49.484652Z",
     "start_time": "2019-11-28T00:48:49.265183Z"
    }
   },
   "outputs": [
    {
     "data": {
      "image/png": "[encoded data removed]",
      "text/plain": [
       "<Figure size 432x288 with 1 Axes>"
      ]
     },
     "metadata": {},
     "output_type": "display_data"
    }
   ],
   "source": [
    "batch_size = 2\n",
    "\n",
    "train_loader = DataLoader(dataset=train_dataset,\n",
    "                          batch_size=batch_size,\n",
    "                          shuffle=True);\n",
    "\n",
    "images, _ = next(iter(train_loader)) \n",
    "images = Variable(images.float()) / 255\n",
    "\n",
    "vae = VAE()\n",
    "vae.eval();\n",
    "new_images, _, _ = vae(images)\n",
    "plt.imshow(new_images.detach()[0][0], cmap=\"gray\");"
   ]
  },
  {
   "cell_type": "code",
   "execution_count": null,
   "metadata": {
    "collapsed": true
   },
   "outputs": [],
   "source": []
  }
 ],
 "metadata": {
  "kernelspec": {
   "display_name": "Python 3",
   "language": "python",
   "name": "python3"
  },
  "language_info": {
   "codemirror_mode": {
    "name": "ipython",
    "version": 3
   },
   "file_extension": ".py",
   "mimetype": "text/x-python",
   "name": "python",
   "nbconvert_exporter": "python",
   "pygments_lexer": "ipython3",
   "version": "3.6.1"
  }
 },
 "nbformat": 4,
 "nbformat_minor": 2
}
