{
 "cells": [
  {
   "cell_type": "markdown",
   "metadata": {
    "ExecuteTime": {
     "end_time": "2019-09-24T16:05:23.746666Z",
     "start_time": "2019-09-24T16:05:23.741461Z"
    },
    "slideshow": {
     "slide_type": "slide"
    }
   },
   "source": [
    "## EE 502 P: Analytical Methods for Electrical Engineering\n",
    "    \n",
    "# Homework 10: Review\n",
    "## Due 15 December, 2019 at 11:59 PM\n",
    "\n",
    "Copyright &copy; 2019, University of Washington\n",
    "\n",
    "<hr>\n",
    "\n",
    "**Instructions**: Choose **<u>one</u>** of the following problems. Solve the problem and then write up your solution in a stand alone Jupyter Notebook. Your notebook should have the following elements:\n",
    "\n",
    "- Problem statement\n",
    "- Mathematical description of the solution\n",
    "- Executable code, commented, clear code\n",
    "\n",
    "You will be graded on how well your notebook reads like a nicely formated, well written report. You must:\n",
    "\n",
    "- Write mathematical descriptions using complete sentences, paragraphs, and LaTeX formulas. \n",
    "- Comment your code as necessary, with a description of what each function does and all major steps.\n",
    "- Label plots axes, use legends, and use plot titles. "
   ]
  },
  {
   "cell_type": "markdown",
   "metadata": {
    "slideshow": {
     "slide_type": "slide"
    }
   },
   "source": [
    "# The DBLP Publication Network\n",
    "\n",
    "This dataset:\n",
    "\n",
    "> http://konect.uni-koblenz.de/networks/dblp-author\n",
    "  \n",
    "contains a bipartite graph where the nodes are authors and academic papers. Each edge $(a,p)$ connects an author $a$ to a paper $p$. It contains 8.6 M edges (so it is a pretty large file). In this problem, we will analyze this data.\n",
    "\n",
    "**Warmups:**\n",
    "\n",
    "0. Find the minimum, maximum, and average, and standard deviation of the number of authors per paper.\n",
    "0. Find the minimum, maximum, and average, and standard deviation of the number of papers per author.\n",
    "0. Find the number of connected components of the network.\n",
    "0. Pick several three metrics on graphs, evaluate them for this graph, and interpret their meanings. \n",
    "\n",
    "**Main question:**\n",
    "\n",
    "Find the (not necessarily unique) author who has written the most papers. Call this author $X$. An author other than $X$ has an $X$-index of 1 if she has co-authored at least one paper with $X$. An author has an $X$-index of 2 if she does not have an $X$-index of 1, but has co-authored a paper with someone who has an $X$-index of 1. Similarly, you can define having an $X$-index of 3, 4, etc. \n",
    "\n",
    "Write a routine that produces the set of authors of a given index.\n",
    "\n",
    "Make a plot with the $X$-index on the horizontal axis, and the number of authors with that $X$-index on the vertical axis. \n",
    "\n",
    "**Notes:** The network is encoded in the file above with two numbers per line separated by spaces. You will need to parse that file and turn it into a Python data structure of some kind. Be careful not to do things that take a lot of operations or memory. The `networkx` library should work, as long as you don't try to draw the graph.\n"
   ]
  },
  {
   "cell_type": "markdown",
   "metadata": {
    "slideshow": {
     "slide_type": "slide"
    }
   },
   "source": [
    "# Graphs and Linear Algebra\n",
    "\n",
    "Recall that the adjacency matrix of an undirected graph has $A_{i,j} = 1$ if and only if nodes $i$ and $j$ are adjacent. Also , recall that a graph is **regular** with degree $k$ if every node has $k$ neighbors. We also say that the graph is $k$-regular. Finally, for shorthand, we say that the eigenvalues of a graph are the eigenvalues of its adjacency matrix.\n",
    "\n",
    "**a)** Find three graphs with more than five nodes that are 2-regular, 3-regular, and 4-regular. Represent these in `networkx`, draw them, and find their adjacency matrices. These will be running examples for this problem.\n",
    "\n",
    "**b)** Find the eigenvalues of the three examples, along with the multiplicities of the eigenvalues.\n",
    "\n",
    "**c)** Show that if $G$ is $k$-regular, then $k$ is an eigenvalue of $G$. \n",
    "\n",
    "**d)** Show that $G$ is $k$-regular and connected, then the eigenvalue $k$ of $G$ has multiplicity one. \n",
    "\n",
    "**e)** Show that $G$ is $k$-regular then $|\\lambda|\\leq k$ for any eigenvalue $\\lambda$ of $G$. \n",
    "\n",
    "**f)** Let $J$ be the matrix of all ones and $A$ be the adjacency matrix of a $k$-regular graph. Show that $AJ = JA=kJ$. \n",
    "\n",
    "**g)** Show by construction that a $5$-regular graph with 16 vertices has least eigenvalue equal to $-2$. \n",
    "\n",
    "**h)** Show that the following graph, called the Petersen Graph, is $3$-regular by finding its eigenvalues. \n",
    "\n",
    "<img src=\"https://www.researchgate.net/profile/Paul_Wenger/publication/45714891/figure/fig1/AS:669480808091681@1536628071715/The-Petersen-graph.png\" width=20%>\n",
    "\n",
    "**i)** Show that if both $n \\geq k+1$ and $nk$ is even, then there exists a $k$-regular graph of size $n$. "
   ]
  },
  {
   "cell_type": "markdown",
   "metadata": {
    "slideshow": {
     "slide_type": "slide"
    }
   },
   "source": [
    "# Hallucinating the Constitution\n",
    "\n",
    "Consider the constitution of the United States:\n",
    "\n",
    "> https://www.usconstitution.net/const.txt .\n",
    "\n",
    "This document contains upper- and lower-case letters, numbers, and basic punctuation. \n",
    "\n",
    "**One letter prediction:**\n",
    "\n",
    "1. Find the set of all characters used in the document. Call the number of characters $n$. \n",
    "2. Create an $n \\times n$ matrix whose $i,j$ entry is the probability that the next character is $j$ given that the current character is $i$. Estimate this probability by looking at all occurrences of character $i$ in the document and the number of times character $j$ immediately follows it. \n",
    "3. Simulate this system as a Markov chain that starts with an arbitrary capital letter and continues until it gets to a space. Produce $100$ random \"words\" this way. How many of them are actual words? Use a [Scrabble dictionary](https://scrabble.hasbro.com/en-us/tools#dictionary) if you are not certain whether a given sequence is a word. \n",
    "\n",
    "**Two letter prediction:**\n",
    "\n",
    "1. Create an $n \\times n \\times n$ tensor whose $i,j,k$ entry is the probability that the next character is $k$ given that the current character is $j$ and the previous character is $i$. Use the document to empirically find these probabilities. \n",
    "2. Use this model to construct random words. \n",
    "\n",
    "**Sentence prediction:**\n",
    "\n",
    "Do a one word prediction, but use all the unique *words* in the document. Hallucinate sentences. Consider a punctuation mark as a word. \n",
    "\n",
    "**Notes:** Use `open` and `file.read` to read in the file. Use `replace` and `split` to turn the file into a list. Use a `DiGraph` from the `networkx` library to store the data. Note that you can make weighted edges by adding data to the edges, as in [this document](https://networkx.github.io/documentation/stable/auto_examples/drawing/plot_weighted_graph.html)."
   ]
  },
  {
   "cell_type": "markdown",
   "metadata": {
    "collapsed": true,
    "slideshow": {
     "slide_type": "slide"
    }
   },
   "source": [
    "# Fourier Meets Neural Networks\n",
    "\n",
    "An approximation to a Fourier Series can be cast as a neural network where the input is a single number, which then fans out a number of neurons that output $\\sin(2 \\pi k x)$ and $\\cos(2 \\pi k x)$, for $k = 0 \\dots n-1$. Those neurons are then multiplied by weights and summed together, which can be accomplished with a fully connected layer with $2n$ inputs and one output. Graphically, this looks like the following:\n",
    "\n",
    "<img src=\"https://raw.githubusercontent.com/klavins/EE502P/master/images/fourier-network.jpeg\" width=60%>\n",
    "\n",
    "a) Write a `pytorch` model whose weights form the coefficients of a Fourier Series. The number of terms in the series should be an input to the constructor. Initially, the weights should be random. \n",
    "\n",
    "b) Create a `make_data` function that returns a square wave evaluated on a random list of numbers between 0 and 1. You will use this to train and evaluate your network. \n",
    "\n",
    "c) Use `MSELoss` and the `Adam` optimizer to learn the weights for the model so that it approximates the square wave using $n$ equal to $10$, $20$ and then $100$. How close are the learned weights to the optimal weights?\n",
    "\n",
    "d) Repeat the problem, but instead of using sines and cosines, use a sum of $n$ radial basis functions. That is, approximate the function by\n",
    "\n",
    "$$\n",
    "\\hat f(x) = \\sum_{i=1}^n r \\left (x-\\frac{i}{n} \\right )\n",
    "$$\n",
    "\n",
    "where \n",
    "\n",
    "$$\n",
    "r(x) = e^{-ax^2}\n",
    "$$\n",
    "\n",
    "and $a = 100$. \n",
    "\n",
    "Notes: You will need to understand `pytorch` tensors fairly well before attempting this problem. This [tutorial](https://pytorch.org/tutorials/beginner/blitz/tensor_tutorial.html#sphx-glr-beginner-blitz-tensor-tutorial-py) and these [docs](https://pytorch.org/docs/stable/tensors.html) are indispensable. "
   ]
  },
  {
   "cell_type": "markdown",
   "metadata": {
    "slideshow": {
     "slide_type": "slide"
    }
   },
   "source": [
    "# Differential Equations for Neural Networks\n",
    "\n",
    "The computational neural networks we have been studying are quite far from what is happening in biology. A slightly more realistic model is to admit that each neuron $i$ in a network has a time varying firing rate $x_i$, for $i$ equal $1$ to $n$. We let $W \\in \\mathbb{R}^{n \\times n}$ be weight matrix, and $b \\in \\mathbb{R}^n$. The dynamics of such a neural network are\n",
    "\n",
    "$$\n",
    "\\dot x_i = g \\left (\n",
    "\\sum_{j=1}^n w_{i,j} x_j + b_i\n",
    "\\right )\n",
    "$$\n",
    "\n",
    "where is the nonlinearity\n",
    "\n",
    "$$\n",
    "g(x) = \\frac{1}{1+e^{-x}} - \\frac{1}{2} .\n",
    "$$\n",
    "\n",
    "*a)* Show through simulation that the matrix \n",
    "\n",
    "$$\n",
    "W = - \\begin{pmatrix}\n",
    "1 & 2 & 0 \\\\\n",
    "0 & 1 & 2 \\\\\n",
    "2 & 0 & 1\n",
    "\\end{pmatrix}\n",
    "$$\n",
    "\n",
    "with $b = 0$ results in oscillations. This is called a ring oscillator. Draw a graph representation of it. Now show through simulation that a ring of $n$ neurons so arranged oscillates when $n$ is odd, but not when it is even.\n",
    "\n",
    "*b)* Define $W$ and $b$ so that the resulting network is bistable. That is, when one neuron is on in steady state, another is off, and *vice versa*. Simulate the system with different initial conditions. Draw a graph representation of your network.\n",
    "\n",
    "*c)* Build a network that contains two subnetworks that oscillate, that are connected in such a way that if one subnetwork oscillates, it prevents the other from oscillating, and *vice versa*. Simulate the system with different initial conditions to show the desired behavior. Draw a graph representation of your network.\n",
    "\n",
    "*d)* Define $W \\in \\mathbb{R}^{n \\times n}$ and $b \\in \\mathbb{R}^n$ with $n = 50$ to be a random neural network. \n",
    "\n",
    "Given a number $p \\in [0,1]$, define a random matrix $A$ as follows. For each $i,j$, choose $r \\in [0,1]$ randomly. Then put\n",
    "\n",
    "$$\n",
    "A_{i,j} = \\left \\{\n",
    "\\begin{array}{ll}\n",
    "1 & \\mathrm{if} & r \\leq \\frac{p}{2} \\\\\n",
    "-1 & \\mathrm{if} & \\frac{p}{2} < r \\leq p \\\\\n",
    "0 & \\mathrm{otherwise}.\n",
    "\\end{array}\n",
    "\\right .\n",
    "$$\n",
    "\n",
    "Then put \n",
    "\n",
    "$$\n",
    "W = A - I\n",
    "$$\n",
    "\n",
    "where $I$ is the identity matrix. Through simulations with $n=20$, explain the various behaviors you can get with various values of $p$. "
   ]
  },
  {
   "cell_type": "markdown",
   "metadata": {
    "slideshow": {
     "slide_type": "slide"
    }
   },
   "source": [
    "# The Problems\n",
    "\n",
    "0. The DBLP Publication Network\n",
    "0. Graphs and Linear Algebra\n",
    "0. Hallucinating the Constitution\n",
    "0. Fourier meets Neural Networks\n",
    "0. DIfferential Equations and Neural Networks"
   ]
  }
 ],
 "metadata": {
  "celltoolbar": "Slideshow",
  "kernelspec": {
   "display_name": "Python 3",
   "language": "python",
   "name": "python3"
  },
  "language_info": {
   "codemirror_mode": {
    "name": "ipython",
    "version": 3
   },
   "file_extension": ".py",
   "mimetype": "text/x-python",
   "name": "python",
   "nbconvert_exporter": "python",
   "pygments_lexer": "ipython3",
   "version": "3.6.1"
  }
 },
 "nbformat": 4,
 "nbformat_minor": 2
}
