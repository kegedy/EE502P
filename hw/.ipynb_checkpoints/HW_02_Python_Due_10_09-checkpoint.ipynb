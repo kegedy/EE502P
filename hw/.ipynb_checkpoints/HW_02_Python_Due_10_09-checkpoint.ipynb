{
 "cells": [
  {
   "cell_type": "markdown",
   "metadata": {
    "ExecuteTime": {
     "end_time": "2019-09-24T16:05:23.746666Z",
     "start_time": "2019-09-24T16:05:23.741461Z"
    }
   },
   "source": [
    "## EE 502 P: Analytical Methods for Electrical Engineering\n",
    "    \n",
    "# Homework 2: Sets, functions, and relations\n",
    "## Due 9 October, 2019 at 6:00 PM\n",
    "### <span style=\"color: red\">YOUR NAME HERE</span>\n",
    "\n",
    "Copyright &copy; 2019, University of Washington\n",
    "\n",
    "<hr>\n",
    "\n",
    "**Instructions**: Use this notebook as a template. Answer all questions using well formatted Markdown with embedded LaTeX equations, executable Jupyter cells, or both. Submit your homework solutions as an `.ipynb` file via Canvas.\n",
    "\n",
    "<span style=\"background: yellow; padding: 6px; border: 1pt solid black\">\n",
    "Although you may discuss the homework with others, you must turn in your own, original work.\n",
    "</span>\n",
    "\n",
    "**Things to remember:**\n",
    "- Use complete sentences. Equations should appear in text as grammatical elements.\n",
    "- Comment your code.\n",
    "- Label your axes. Title your plots. Use legends where appropriate. \n",
    "- Before submitting a notebook, choose Kernel -> Restart and Run All to make sure your notebook runs when the cells are evaluated in order. \n",
    "\n",
    "Note : Late homework will be accepted up to one week after the due date and will be worth 50% of its full credit score. "
   ]
  },
  {
   "cell_type": "markdown",
   "metadata": {},
   "source": [
    "### 0. Warmup (Do not turn in)\n",
    "\n",
    "- Make sure you get download and run the notebook for lecture 2. Work through the notebook cell by cell and see what happens when you change the expressions, and make up some of your own.\n",
    "- Read chapter one of [An Introduction to Real Analysis](https://www.math.ucdavis.edu/~hunter/intro_analysis_pdf/intro.pdf) by John K. Hunter. You can skim the sections on index sets and infinite unions and intersections.\n",
    "- Read up on [sets](https://www.w3schools.com/python/python_sets.asp), [tuples](https://www.w3schools.com/python/python_tuples.asp), and [lambdas](https://www.w3schools.com/python/python_lambda.asp) at python.org."
   ]
  },
  {
   "cell_type": "markdown",
   "metadata": {},
   "source": [
    "### 1. Set properties\n",
    "\n",
    "Given the follow definitions of sets\n",
    "\n",
    "$$A = \\{1,2,3\\}$$\n",
    "$$B = \\{3,4,5\\}$$\n",
    "$$C = \\{3,4,5,6,7\\}$$\n",
    "\n",
    "determine which of the following properties hold:\n",
    "\n",
    "$$0 \\in A$$\n",
    "\n",
    "$$4 \\in B \\cap C$$\n",
    "\n",
    "$$5 \\in C-B$$\n",
    "\n",
    "$$A \\subseteq B$$\n",
    "\n",
    "$$A \\subseteq C$$\n",
    "\n",
    "$$A \\cap B \\subseteq A$$\n",
    "\n",
    "$$B \\subseteq C$$\n",
    "\n",
    "If the property holds, say why. If it does not hold, give a counterexample showing the definition is not satisfied. "
   ]
  },
  {
   "cell_type": "markdown",
   "metadata": {},
   "source": [
    "### 2. Set operations\n",
    "\n",
    "Let $A = \\{ 1,2,3,4,5 \\}$ and $B = \\{ 0,3,6 \\}$. Find\n",
    "\n",
    "a) $A \\cup B$\n",
    "\n",
    "b) $A \\cap B$\n",
    "\n",
    "c) $A - B$\n",
    "\n",
    "d) $B - A$\n",
    "\n",
    "Verify your results using Python sets."
   ]
  },
  {
   "cell_type": "markdown",
   "metadata": {},
   "source": [
    "### 3. Set Proofs\n",
    "\n",
    "Using the definitions of the set operations, the definition of the subset relation, and basic logic, show the following are true.\n",
    "\n",
    "a) $A - B \\subseteq A$\n",
    "\n",
    "b) $A \\cap (B-A) = \\varnothing$\n",
    "\n",
    "c) $A \\cup (B-A) = A \\cup B$\n",
    "\n",
    "Show examples using small sets in Python illustrating each property. "
   ]
  },
  {
   "cell_type": "markdown",
   "metadata": {
    "ExecuteTime": {
     "end_time": "2019-09-30T20:21:35.986395Z",
     "start_time": "2019-09-30T20:21:35.964585Z"
    }
   },
   "source": [
    "### 4. Cartesian Products\n",
    "\n",
    "a) If $A_i$ has $n_i$ elements, how many elements does $A_1 \\times A_2 \\times \\dots A_n$ have? Why?\n",
    "\n",
    "b) Give an example where the numbers of elements in $A_1 \\times A_2 \\times \\dots A_n$ is 1. \n",
    "\n",
    "c) Give examples of nonempty sets $A$ and $B$ where $A \\times B = B \\times A$. "
   ]
  },
  {
   "cell_type": "markdown",
   "metadata": {},
   "source": [
    "### 5. Function Properties\n",
    "\n",
    "Plot each of the following functions from $\\mathbb{Z}$ to $\\mathbb{Z}$ over a representative subdomain (use points and not a line since the domain is $\\mathbb{Z}$. What is the range of each function? State which of them are injective, which are surjective, and which are bijective. For functions for which a given property holds, explain why. For functions for which the given property does not hold, give a counterexample.\n",
    "\n",
    "a) $f(n) = n-1$\n",
    "\n",
    "b) $f(n) = n^3$\n",
    "\n",
    "c) $f(n) = n^2 + 1$\n",
    "\n",
    "d) $f(n) = \\lceil n/2 \\rceil$"
   ]
  },
  {
   "cell_type": "markdown",
   "metadata": {},
   "source": [
    "### 6. Composition\n",
    "\n",
    "a) Suppose that $f(x) = x^2 + 1$ and $g(x) = e^x$ are functions from $\\mathbb{R}$ into $\\mathbb{R}$. Find $f \\circ g$ and $g \\circ f$ and plot them in Python (on the same axis to compare).\n",
    "\n",
    "b) Suppose $f(x) = a x + b$ and $g(x) = c x + d$ are functions from $\\mathbb{R}$ into $\\mathbb{R}$. Find constants $a$, $b$, $c$ and $d$ such that $f \\circ g = g \\circ f$. "
   ]
  },
  {
   "cell_type": "markdown",
   "metadata": {},
   "source": [
    "### 7. Relations\n",
    "\n",
    "Define the relation $R$ on $\\mathbb{N} \\times \\mathbb{N}$ saying that $x \\; R\\; y$ if and only if the binary representations of $x$ and $y$ have the same number of ones. For example, $15 \\; R \\; 23$ since $15$ in binary is $1111$ and $23$ in binary is $10111$, which both have four ones. \n",
    "\n",
    "a) Show that $R$ is an equivalence relation.\n",
    "\n",
    "b) What is the equivalence class $[3]_R$ of the number $3$ (expressed in base 10). Hint: Come up with a general formula for numbers in this class.\n",
    "\n",
    "c) Write simple line of Python code that produces the set of all elements of $[3]_R$ that are less than 100 (expressed in base 10). "
   ]
  },
  {
   "cell_type": "markdown",
   "metadata": {},
   "source": [
    "### 8. Sets, Functions, and Relations in Python\n",
    "\n",
    "Express each of the following objects in Python.\n",
    "\n",
    "a) The set of $P$ prime numbers less than 100. \n",
    "\n",
    "b) The relation $<$ on the set $\\{1,2,3,4,5,6\\}$, expressed as a set of tuples.\n",
    "\n",
    "c) The function $f: \\{1,2,3,4,5,6\\} \\rightarrow \\{0,1\\}$ in which $f(x) = 0$ if $x$ is even and $f(x)=1$ if $x$ is odd, expressed as a dictionary.\n",
    "\n",
    "d) The Cartesian product $\\{0,1\\}^4$ as a set of tuples. "
   ]
  },
  {
   "cell_type": "markdown",
   "metadata": {
    "ExecuteTime": {
     "end_time": "2019-10-01T17:52:09.486952Z",
     "start_time": "2019-10-01T17:52:09.482366Z"
    }
   },
   "source": [
    "### 9. The Cantor Set\n",
    "\n",
    "Define $C_0$ to be the closed interval $[0,1]$.\n",
    "\n",
    "Define $C_1$ to be the result of removing the middle third of $C_0$. So \n",
    "\n",
    "$$\n",
    "C_1 = [0,\\frac{1}{3}] \\cup [\\frac{1}{3},1].\n",
    "$$\n",
    "\n",
    "Define $C_2$ to be the result of removing the middle thirds of the two intervals in $C_2$. So\n",
    "\n",
    "$$\n",
    "C_2 = [0,\\frac{1}{9}] \\cup [\\frac{2}{9},\\frac{1}{3}] \\cup [\\frac{2}{3},\\frac{7}{9}] \\cup [\\frac{8}{9},1] .\n",
    "$$\n",
    "\n",
    "In general, $C_{n+1}$ is obtained by remove the middle thirds of the intervals in $C_n$. \n",
    "\n",
    "Write a Python function that takes a number $n$ and returns the set $C_n$. Use Python tuples to represent intervals, Python sets to represent sets of intervals, and sympy to represent the fractions. For example, you would have\n",
    "\n",
    "```python\n",
    "import sympy as sm\n",
    "\n",
    "C_0 = { (sm.Integer(0),sm.Integer(1)) }\n",
    "C_1 = { (sm.Integer(0),sm.Rational(1,3)), (sm.Rational(2,3),sm.Integer(1)) }\n",
    "```\n",
    "\n",
    "Demonstrate your function for a few different values of $n$. \n",
    "\n",
    "**Not graded**: Define the Cantor Set $C$ to be the limit of the series $C_0, C_1, \\dots$ as $n \\rightarrow \\infty$. Show $\\frac{1}{4} \\in C$."
   ]
  },
  {
   "cell_type": "markdown",
   "metadata": {},
   "source": [
    "### 10 Cardinality\n",
    "\n",
    "a) A polynomial with integer coefficients is a an expression like $2 x^3 + 3 x^2 - 4 x + 8$. Show that the set of all polynomials with integer coefficients is countable. \n",
    "\n",
    "b) A number is called *algebraic* if it is the root of some polynomial with integer coefficients. For example, $\\sqrt 2$ is algebraic because it is a root of the polynomial $x^2 - 2$. Use (a) to show that the set of algebraic numbers is countable. \n",
    "\n",
    "c) A number is called **transcendental** if it is neither rational nor algebraic. Using (b) and facts discussed in class, explain why the set of transcendental numbers in $\\mathbb{R}$ is uncountable. "
   ]
  },
  {
   "cell_type": "code",
   "execution_count": null,
   "metadata": {
    "collapsed": true
   },
   "outputs": [],
   "source": []
  }
 ],
 "metadata": {
  "kernelspec": {
   "display_name": "Python 3",
   "language": "python",
   "name": "python3"
  },
  "language_info": {
   "codemirror_mode": {
    "name": "ipython",
    "version": 3
   },
   "file_extension": ".py",
   "mimetype": "text/x-python",
   "name": "python",
   "nbconvert_exporter": "python",
   "pygments_lexer": "ipython3",
   "version": "3.6.1"
  }
 },
 "nbformat": 4,
 "nbformat_minor": 2
}
