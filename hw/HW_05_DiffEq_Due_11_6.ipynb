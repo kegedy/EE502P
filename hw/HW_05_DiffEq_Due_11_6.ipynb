{
 "cells": [
  {
   "cell_type": "markdown",
   "metadata": {
    "ExecuteTime": {
     "end_time": "2019-09-24T16:05:23.746666Z",
     "start_time": "2019-09-24T16:05:23.741461Z"
    }
   },
   "source": [
    "## EE 502 P: Analytical Methods for Electrical Engineering\n",
    "    \n",
    "# Homework 5: Differential Equations\n",
    "## Due 6 November, 2019 at 6:00 PM\n",
    "### <span style=\"color: red\">YOUR NAME HERE</span>\n",
    "\n",
    "Copyright &copy; 2019, University of Washington\n",
    "\n",
    "<hr>\n",
    "\n",
    "**Instructions**: Use this notebook as a template. Answer all questions using well formatted Markdown with embedded LaTeX equations, executable Jupyter cells, or both. Submit your homework solutions as an `.ipynb` file via Canvas.\n",
    "\n",
    "<span style=\"background: yellow; padding: 6px; border: 1pt solid black\">\n",
    "Although you may discuss the homework with others, you must turn in your own, original work.\n",
    "</span>\n",
    "\n",
    "**Things to remember:**\n",
    "- Use complete sentences. Equations should appear in text as grammatical elements.\n",
    "- Comment your code.\n",
    "- Label your axes. Title your plots. Use legends where appropriate. \n",
    "- Before submitting a notebook, choose Kernel -> Restart and Run All to make sure your notebook runs when the cells are evaluated in order. \n",
    "\n",
    "Note : Late homework will be accepted up to one week after the due date and will be worth 50% of its full credit score. "
   ]
  },
  {
   "cell_type": "markdown",
   "metadata": {},
   "source": [
    "### 0. Warmup (Do not turn in)\n",
    "\n",
    "- Make sure you get download, read, and run the notebook for lecture 4. Work through the notebook cell by cell and see what happens when you change the expressions, and make up some of your own.\n",
    "- The material covered in class is intended to be an introductory subset the general subject of differential equations. To get the full story, an absolutely indispensable book is the one by Hirsch and Smale: https://www.amazon.com/Differential-Equations-Dynamical-Systems-Introduction/dp/0123820103\n",
    "- The material covered here in particular comes from the beginnings of Chapters 1, 2, 3, 3, 6, 12, and 14."
   ]
  },
  {
   "cell_type": "markdown",
   "metadata": {
    "ExecuteTime": {
     "end_time": "2019-10-08T16:48:02.889303Z",
     "start_time": "2019-10-08T16:48:02.885366Z"
    }
   },
   "source": [
    "### 1. Phase Portraits and Linearization\n",
    "\n",
    "For each of the\n",
    "following systems, (i) find the equilibria, (ii) linearize the system\n",
    "around each equilibrium and find the eigenvalues and eigenvectors, (iii)\n",
    "state whether the system is stable at each equilibrium, (iv) draw a phase\n",
    "portrait by first drawing the phase portrait near the equilibria and\n",
    "then interpolating. Compare your drawing to a phase portrait of the entire system generated with Python.\n",
    "\n",
    "$$\n",
    "\\mathrm{a)} \\;\\; \n",
    "\\begin{pmatrix}\n",
    "\\dot x_1 \\\\\n",
    "\\dot x_2\n",
    "\\end{pmatrix} = \n",
    "\\begin{pmatrix}\n",
    "x_2^2 \\\\\n",
    "x_1^2\n",
    "\\end{pmatrix}\n",
    "$$\n",
    "\n",
    "$$\n",
    "\\mathrm{b)} \\;\\; \n",
    "\\begin{pmatrix}\n",
    "\\dot x_1 \\\\\n",
    "\\dot x_2\n",
    "\\end{pmatrix} = \n",
    "\\begin{pmatrix}\n",
    "x_1^2 + x_2^2 \\\\\n",
    "x_2\n",
    "\\end{pmatrix}\n",
    "$$\n",
    "\n",
    "$$\n",
    "\\mathrm{c)} \\;\\; \n",
    "\\begin{pmatrix}\n",
    "\\dot x_1 \\\\\n",
    "\\dot x_2\n",
    "\\end{pmatrix} = \n",
    "\\begin{pmatrix}\n",
    "\\sin x_2 \\\\\n",
    "\\cos x_1\n",
    "\\end{pmatrix}\n",
    "$$"
   ]
  },
  {
   "cell_type": "markdown",
   "metadata": {},
   "source": [
    "### 2. Nonlinear Systems\n",
    "\n",
    "a) Find a single nonlinear systems that has exactly four distinct equilibria, each of which has a different eigenvalue structure (i.e. a different type in the taxonomy). \n",
    "\n",
    "b) Find a nonlinear system that has the following phase portrait. Hint: Try polar coordinates. Plot the phase portait in Python.\n",
    "\n",
    "<img src=\"https://raw.githubusercontent.com/klavins/ECE447/master/images/limit-cycle.png\" width=30%>"
   ]
  },
  {
   "cell_type": "markdown",
   "metadata": {},
   "source": [
    "### 3. Tuning Eigenvalues\n",
    "\n",
    "Consider the matrix\n",
    "\n",
    "$$\n",
    "A = \\begin{pmatrix}\n",
    "  k & -k \\\\\n",
    "  1 & k+1 \\\\\n",
    "\\end{pmatrix}\n",
    "$$\n",
    "\n",
    "and the system $\\dot x = A x$. Plot the real part of the eigenvalues of $A$ as a function of $k$, for $k$ ranging from -2 to 2. For what values of $k$ is the system stable? Plot example phase portraits for $A$ when $k$ is in the stable range showing the range of behaviors you can get from tuning $k$. "
   ]
  },
  {
   "cell_type": "markdown",
   "metadata": {
    "ExecuteTime": {
     "end_time": "2019-10-30T18:53:43.242983Z",
     "start_time": "2019-10-30T18:53:43.238177Z"
    }
   },
   "source": [
    "### 4. Rotations Again\n",
    "\n",
    "Let $\\dot x = Ax$\n",
    "\n",
    "$$\n",
    "A = \\begin{pmatrix}\n",
    "0 & -w_3 & w_2 \\\\\n",
    "w_3 & 0 & -w_1 \\\\\n",
    "-w_2 & w_1 & 0\n",
    "\\end{pmatrix}\n",
    "$$\n",
    "\n",
    "where $w_i \\in \\mathbb{R}$. \n",
    "\n",
    "a) Show that $A$ is **skew symmetric**, meaning that, that $A^T = -A$.\n",
    "\n",
    "b) Show that $e^{At}$ is an **orthonormal** matrix. (Recall that $Q$ is orthonormal if $Q^TQ = QQ^T = I$. Use the definition of the matrix exponential as a series. \n",
    "\n",
    "c) Show that all points of the form \n",
    "\n",
    "$$\n",
    "x = a \\begin{pmatrix}\n",
    "w_1 \\\\\n",
    "w_2 \\\\\n",
    "w_3\n",
    "\\end{pmatrix}\n",
    "$$\n",
    "\n",
    "where $a$ is a scalar are equilibrum points. \n",
    "\n",
    "d) Choose a few different choices for the $w_i$ and for each choice show example numerical trajectories by plotting the three components of the state $x$ versus time. Also plot the trajectories in the $x_1$ - $x_2$ plane. "
   ]
  },
  {
   "cell_type": "markdown",
   "metadata": {},
   "source": [
    "### 5. Analysis of a Bistable Switch\n",
    "\n",
    "A genetic bistable switch has the model\n",
    "\n",
    "$$\n",
    "\\dot u = \\frac{\\alpha_1}{1 + v^2} - u \\\\\n",
    "\\dot v = \\frac{\\alpha_2}{1 + u^2} - v \n",
    "$$\n",
    "\n",
    "where $\\alpha_1$ and $\\alpha_2$ are the expression rates of the two proteins $u$ and $v$, and $\\beta$ and $\\gamma$ are the called Hill coefficients. The behavior of this system is that when one protein is high, the other should be low.\n",
    "\n",
    "a) Show that when $\\alpha_1 = \\alpha_2 = 2$ there are two isolated equilibra corresponding to having one protein be high and the other low. Show that these equilibria are unstable. Also show that the set of points where $u=v$ consists of all unstable equilibria.\n",
    "\n",
    "b) Find values of $\\alpha_1$ and $\\alpha_2$ for which there is only equilibrium (assuming positive values for $u$ and $v$). Is this equilibrium stable?"
   ]
  },
  {
   "cell_type": "markdown",
   "metadata": {},
   "source": [
    "### 6. Simulation \n",
    "\n",
    "Using simulation and visualization, explain the behavior of the system\n",
    "\n",
    "\\begin{eqnarray}\n",
    "\\dot x & = & -y - z \\\\\n",
    "\\dot y & = & x + a y \\\\\n",
    "\\dot z & = & b + z(x-c)\n",
    "\\end{eqnarray}\n",
    "\n",
    "where $a=0.2$, $b=0.2$ and $c=5.7$. "
   ]
  }
 ],
 "metadata": {
  "kernelspec": {
   "display_name": "Python 3",
   "language": "python",
   "name": "python3"
  },
  "language_info": {
   "codemirror_mode": {
    "name": "ipython",
    "version": 3
   },
   "file_extension": ".py",
   "mimetype": "text/x-python",
   "name": "python",
   "nbconvert_exporter": "python",
   "pygments_lexer": "ipython3",
   "version": "3.6.1"
  }
 },
 "nbformat": 4,
 "nbformat_minor": 2
}
