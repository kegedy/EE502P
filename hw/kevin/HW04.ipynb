{
 "cells": [
  {
   "cell_type": "markdown",
   "metadata": {
    "ExecuteTime": {
     "end_time": "2019-09-24T16:05:23.746666Z",
     "start_time": "2019-09-24T16:05:23.741461Z"
    }
   },
   "source": [
    "## EE 502 P: Analytical Methods for Electrical Engineering\n",
    "    \n",
    "# Homework 4: Linear Algebra\n",
    "## Due 30 October, 2019 at 6:00 PM\n",
    "### <span style=\"color: red\">YOUR NAME HERE</span>\n",
    "\n",
    "Copyright &copy; 2019, University of Washington\n",
    "\n",
    "<hr>\n",
    "\n",
    "**Instructions**: Use this notebook as a template. Answer all questions using well formatted Markdown with embedded LaTeX equations, executable Jupyter cells, or both. Submit your homework solutions as an `.ipynb` file via Canvas.\n",
    "\n",
    "<span style=\"background: yellow; padding: 6px; border: 1pt solid black\">\n",
    "Although you may discuss the homework with others, you must turn in your own, original work.\n",
    "</span>\n",
    "\n",
    "**Things to remember:**\n",
    "- Use complete sentences. Equations should appear in text as grammatical elements.\n",
    "- Comment your code.\n",
    "- Label your axes. Title your plots. Use legends where appropriate. \n",
    "- Before submitting a notebook, choose Kernel -> Restart and Run All to make sure your notebook runs when the cells are evaluated in order. \n",
    "\n",
    "Note : Late homework will be accepted up to one week after the due date and will be worth 50% of its full credit score. "
   ]
  },
  {
   "cell_type": "markdown",
   "metadata": {},
   "source": [
    "### 0. Warmup (Do not turn in)\n",
    "\n",
    "- Make sure you get download, read, and run the notebook for lecture 4. Work through the notebook cell by cell and see what happens when you change the expressions, and make up some of your own.\n",
    "- The material covered in class is intended to be an introductory subset the general subject of Linear Algebra, for example covered in the following online books:\n",
    "    - [Beezer](http://linear.ups.edu/html/fcla.html). Does not cover matrix exponentials, Caley-Hamilton, SVD, or PCA.\n",
    "    - [Hefferon](http://joshua.smcvt.edu/linearalgebra/book.pdf). Also does not cover the above.\n",
    "- The more advanced ideas are covered online as well. For example:\n",
    "    - Matrix Exponentials are typically not covered until a course on linear different equations. But the [Wikipedia page](https://en.wikipedia.org/wiki/Matrix_exponential) is pretty good.\n",
    "    - [Caley-Hamilton](https://brilliant.org/wiki/cayley-hamilton-theorem/)\n",
    "    - [SVD](https://www.cs.cmu.edu/~venkatg/teaching/CStheory-infoage/book-chapter-4.pdf)\n",
    "    - [PCA](https://medium.com/@jonathan_hui/machine-learning-singular-value-decomposition-svd-principal-component-analysis-pca-1d45e885e491)\n",
    "- If you want the **best** textbooks in linear algebra, get\n",
    "    - [Strang](https://www.amazon.com/Introduction-Linear-Algebra-Gilbert-Strang/dp/0980232775). Introductory. See also [Strang's Online Lectures](https://ocw.mit.edu/courses/mathematics/18-06-linear-algebra-spring-2010/video-lectures/).\n",
    "    - [Horn and Johnson](http://www.cse.zju.edu.cn/eclass/attachments/2015-10/01-1446086008-145421.pdf)"
   ]
  },
  {
   "cell_type": "code",
   "execution_count": 3,
   "metadata": {},
   "outputs": [],
   "source": [
    "# Imports\n",
    "import numpy as np\n",
    "import sympy as sp"
   ]
  },
  {
   "cell_type": "markdown",
   "metadata": {
    "ExecuteTime": {
     "end_time": "2019-10-08T16:48:02.889303Z",
     "start_time": "2019-10-08T16:48:02.885366Z"
    }
   },
   "source": [
    "### 1. Linear independence \n",
    "\n",
    "Which of the following sets of vectors are linearly independent? Why?\n",
    "\n",
    "a) $\\left (\n",
    "\\begin{array}{c}\n",
    "1 \\\\\n",
    "2 \\\\\n",
    "3 \\\\\n",
    "4\n",
    "\\end{array}\n",
    "\\right )$ and $\\left (\n",
    "\\begin{array}{c}\n",
    "5 \\\\\n",
    "6 \\\\\n",
    "7 \\\\\n",
    "8\n",
    "\\end{array}\n",
    "\\right )$\n",
    "\n",
    "b) $\\left (\n",
    "\\begin{array}{c}\n",
    "1 \\\\\n",
    "1 \\\\\n",
    "0 \\\\\n",
    "0\n",
    "\\end{array}\n",
    "\\right )$, $\\left (\n",
    "\\begin{array}{c}\n",
    "0 \\\\\n",
    "0 \\\\\n",
    "1 \\\\\n",
    "1\n",
    "\\end{array}\n",
    "\\right )$, $\\left (\n",
    "\\begin{array}{c}\n",
    "0 \\\\\n",
    "1 \\\\\n",
    "1 \\\\\n",
    "0\n",
    "\\end{array}\n",
    "\\right )$ and $\\left (\n",
    "\\begin{array}{c}\n",
    "1 \\\\\n",
    "0 \\\\\n",
    "0 \\\\\n",
    "1\n",
    "\\end{array}\n",
    "\\right )$\n",
    "\n",
    "c) $\\left (\n",
    "\\begin{array}{c}\n",
    "1 \\\\\n",
    "1 \\\\\n",
    "0 \\\\\n",
    "0\n",
    "\\end{array}\n",
    "\\right )$, $\\left (\n",
    "\\begin{array}{c}\n",
    "0 \\\\\n",
    "0 \\\\\n",
    "1 \\\\\n",
    "1\n",
    "\\end{array}\n",
    "\\right )$, $\\left (\n",
    "\\begin{array}{c}\n",
    "0 \\\\\n",
    "1 \\\\\n",
    "1 \\\\\n",
    "0\n",
    "\\end{array}\n",
    "\\right )$ and $\\left (\n",
    "\\begin{array}{c}\n",
    "0 \\\\\n",
    "1 \\\\\n",
    "0 \\\\\n",
    "1\n",
    "\\end{array}\n",
    "\\right )$"
   ]
  },
  {
   "cell_type": "markdown",
   "metadata": {},
   "source": [
    "<hr>\n",
    "\n",
    "**Def:** A set of vectors $v_1,...,v_n$ is **linearly independent** if there exist scalars $a_1, ..., a_n$ that are not all zero but for which \n",
    "\n",
    "$$\n",
    "a_1 v_1 + ... + a_n v_n = 0.\n",
    "$$\n",
    "\n",
    "<hr>"
   ]
  },
  {
   "cell_type": "markdown",
   "metadata": {},
   "source": [
    "Let $v_1 = $\n",
    "$\\left (\n",
    "\\begin{array}{c}\n",
    "1 \\\\\n",
    "2 \\\\\n",
    "3 \\\\\n",
    "4\n",
    "\\end{array}\n",
    "\\right )$ and $v_2 = $\n",
    "$\\left (\n",
    "\\begin{array}{c}\n",
    "5 \\\\\n",
    "6 \\\\\n",
    "7 \\\\\n",
    "8\n",
    "\\end{array}\n",
    "\\right )$,\n",
    "<br>\n",
    "then $v_1$ and $v_2$ are not linearly independent. There is not a (non-zero) linear combination equal to $0$."
   ]
  },
  {
   "cell_type": "code",
   "execution_count": 2,
   "metadata": {},
   "outputs": [
    {
     "data": {
      "text/plain": [
       "{(0, 0)}"
      ]
     },
     "execution_count": 2,
     "metadata": {},
     "output_type": "execute_result"
    }
   ],
   "source": [
    "# Python \n",
    "a1,a2 = sp.symbols('a1,a2')\n",
    "v1 = np.array([1,2,3,4])\n",
    "v2 = np.array([5,6,7,8])\n",
    "expr = a1*v1+a2*v2\n",
    "sp.linsolve(sp.Array(expr), (a1,a2))"
   ]
  },
  {
   "cell_type": "markdown",
   "metadata": {},
   "source": [
    "Let $v_1 = $\n",
    "$\\left (\n",
    "\\begin{array}{c}\n",
    "1 \\\\\n",
    "1 \\\\\n",
    "0 \\\\\n",
    "0\n",
    "\\end{array}\n",
    "\\right ), v_2 = $\n",
    "$\\left (\n",
    "\\begin{array}{c}\n",
    "0 \\\\\n",
    "0 \\\\\n",
    "1 \\\\\n",
    "1\n",
    "\\end{array}\n",
    "\\right ), v_3 = $\n",
    "$\\left (\n",
    "\\begin{array}{c}\n",
    "0 \\\\\n",
    "1 \\\\\n",
    "1 \\\\\n",
    "0\n",
    "\\end{array}\n",
    "\\right )$, and $v_4 = $\n",
    "$\\left (\n",
    "\\begin{array}{c}\n",
    "1 \\\\\n",
    "0 \\\\\n",
    "0 \\\\\n",
    "1\n",
    "\\end{array}\n",
    "\\right )$\n",
    "<br>\n",
    "then $v_1, v_2, v_3,$ and $v_4$ are linearly independent.\n",
    "<br>\n",
    "There exists a linear combination equal to $0$. For example $v_1 + v_2 - v_3 - v_4 = 0$."
   ]
  },
  {
   "cell_type": "code",
   "execution_count": 3,
   "metadata": {},
   "outputs": [
    {
     "data": {
      "text/plain": [
       "{(-a4, -a4, a4, a4)}"
      ]
     },
     "execution_count": 3,
     "metadata": {},
     "output_type": "execute_result"
    }
   ],
   "source": [
    "# Python\n",
    "a1,a2,a3,a4 = sp.symbols('a1,a2,a3,a4')\n",
    "v1 = np.array([1,1,0,0])\n",
    "v2 = np.array([0,0,1,1])\n",
    "v3 = np.array([0,1,1,0])\n",
    "v4 = np.array([1,0,0,1])\n",
    "expr = a1*v1+a2*v2+a3*v3+a4*v4\n",
    "sp.linsolve(sp.Array(expr), (a1,a2,a3,a4))"
   ]
  },
  {
   "cell_type": "markdown",
   "metadata": {},
   "source": [
    "Let $v_1 = $ \n",
    "$\\left (\n",
    "\\begin{array}{c}\n",
    "1 \\\\\n",
    "1 \\\\\n",
    "0 \\\\\n",
    "0\n",
    "\\end{array}\n",
    "\\right ), v_2 = $\n",
    "$\\left (\n",
    "\\begin{array}{c}\n",
    "0 \\\\\n",
    "0 \\\\\n",
    "1 \\\\\n",
    "1\n",
    "\\end{array}\n",
    "\\right ), v_3 = $ \n",
    "$\\left (\n",
    "\\begin{array}{c}\n",
    "0 \\\\\n",
    "1 \\\\\n",
    "1 \\\\\n",
    "0\n",
    "\\end{array}\n",
    "\\right ),$ and $v_4 = $\n",
    "$\\left (\n",
    "\\begin{array}{c}\n",
    "0 \\\\\n",
    "1 \\\\\n",
    "0 \\\\\n",
    "1\n",
    "\\end{array}\n",
    "\\right )$\n",
    "<br>\n",
    "then $v_1, v_2, v_3,$ and $v_4$ are not linearly independent. There is not a (non-zero) linear combinations that equals zero."
   ]
  },
  {
   "cell_type": "code",
   "execution_count": 4,
   "metadata": {},
   "outputs": [
    {
     "data": {
      "text/plain": [
       "{(0, 0, 0, 0)}"
      ]
     },
     "execution_count": 4,
     "metadata": {},
     "output_type": "execute_result"
    }
   ],
   "source": [
    "# Python\n",
    "a1,a2,a3,a4 = sp.symbols('a1,a2,a3,a4')\n",
    "v1 = np.array([1,1,0,0])\n",
    "v2 = np.array([0,0,1,1])\n",
    "v3 = np.array([0,1,1,0])\n",
    "v4 = np.array([0,1,0,1])\n",
    "expr = a1*v1+a2*v2+a3*v3+a4*v4\n",
    "sp.linsolve(sp.Array(expr), (a1,a2,a3,a4))"
   ]
  },
  {
   "cell_type": "markdown",
   "metadata": {},
   "source": [
    "### 2. Orthogonality\n",
    "\n",
    "a) Find two orthogonal vectors that are also orthogonal to the vector\n",
    "$v = \\left (\n",
    "\\begin{array}{c}\n",
    "1 \\\\\n",
    "-1 \\\\\n",
    "3 \\\\\n",
    "\\end{array}\n",
    "\\right ).$\n",
    "\n",
    "b) Argue that the resulting set of three vectors form a basis for for $\\mathbb{R}^3$.\n",
    "\n",
    "c) Express the vector $x = \\left (\n",
    "\\begin{array}{c}\n",
    "1 \\\\\n",
    "2 \\\\\n",
    "3\n",
    "\\end{array}\n",
    "\\right )$ as a linear combination of your three vectors. "
   ]
  },
  {
   "cell_type": "markdown",
   "metadata": {},
   "source": [
    "<hr>\n",
    "\n",
    "**Def:** Two vectors $u$ and $v$ are **orthogonal** if $u^Tv = 0$. \n",
    "\n",
    "<hr>"
   ]
  },
  {
   "cell_type": "code",
   "execution_count": 5,
   "metadata": {},
   "outputs": [],
   "source": [
    "# Sympy vectors\n",
    "u1,u2,u3 = sp.symbols('u1,u2,u3')\n",
    "u = np.array([u1,u2,u3])\n",
    "v = np.array([1,-1,3])"
   ]
  },
  {
   "cell_type": "code",
   "execution_count": 6,
   "metadata": {},
   "outputs": [],
   "source": [
    "# Orthogonal to v = [1,-1,3]\n",
    "expr = np.dot(u.T,v)  \n",
    "\n",
    "# Solve\n",
    "sol = sp.linsolve(sp.Array(expr), (u1,u2,u3)) # {(u2 - 3*u3, u2, u3)}\n",
    "sol = next(iter(sol)) # (u2 - 3*u3, u2, u3)\n",
    "v1 = np.array(sol)    # [u2 - 3*u3, u2, u3]\n",
    "v1_eval = np.array(sol.subs({u1:1,u2:1,u3:1})) # [-2,1,1]"
   ]
  },
  {
   "cell_type": "code",
   "execution_count": 7,
   "metadata": {},
   "outputs": [],
   "source": [
    "# Orthogonal to v1_eval = [-2,1,1]\n",
    "expr = np.dot(u.T,v1_eval)\n",
    "\n",
    "# Solve\n",
    "sol = sp.linsolve(sp.Array(expr), (u1,u2,u3)) # {(u2/2 + u3/2, u2, u3)}\n",
    "sol = next(iter(sol))     # (u2/2 + u3/2, u2, u3)\n",
    "t = np.array(sol)  # [u2/2 + u3/2, u2, u3]"
   ]
  },
  {
   "cell_type": "code",
   "execution_count": 8,
   "metadata": {},
   "outputs": [],
   "source": [
    "# v2 must be orthogonal to v and v1\n",
    "expr = sp.Array(v1[0]-t[0])\n",
    "\n",
    "# solve: u2 - 3*u3 = u2/2 + u3/2 \n",
    "sol = sp.linsolve(expr,(u1,u2,u3)) # {(u1, 7*u3, u3)}\n",
    "sol = next(iter(sol))  # (u1, 7*u3, u3)\n",
    "v2 = np.array(sol)     # [u1, 7*u3, u3]\n",
    "\n",
    "# orthogonal vector must have shape (u2 - 3*u3, 7*u3, u3)\n",
    "v2_eval = np.array(sol.subs({u1:4,u2:7,u3:1})) # [4,7,1]"
   ]
  },
  {
   "cell_type": "code",
   "execution_count": 9,
   "metadata": {},
   "outputs": [
    {
     "name": "stdout",
     "output_type": "stream",
     "text": [
      "[ 1 -1  3] , [-2 1 1] , [4 7 1]\n"
     ]
    }
   ],
   "source": [
    "# test\n",
    "v = np.array([1,-1,3])\n",
    "print(v,\",\",v1_eval,\",\",v2_eval)\n",
    "assert np.dot(v1_eval.T,v)==0, \"solution1 vector is not orthogonal to vector v\"\n",
    "assert np.dot(v2_eval.T,v)==0, \"solution2 vector is not orthogonal to vector v\"\n",
    "assert np.dot(v1_eval,v2_eval)==0, \"solution1 and solution2 are not orthogonal\""
   ]
  },
  {
   "cell_type": "markdown",
   "metadata": {},
   "source": [
    "Two vectors that are orthogonal to\n",
    "$v = \n",
    "\\left (\n",
    "\\begin{array}{c}\n",
    "1 \\\\\n",
    "-1 \\\\\n",
    "3 \\\\\n",
    "\\end{array}\n",
    "\\right ).$\n",
    "are \n",
    "$\\left (\n",
    "\\begin{array}{c}\n",
    "-2 \\\\\n",
    "1 \\\\\n",
    "1 \\\\\n",
    "\\end{array}\n",
    "\\right )$ and\n",
    "$\\left (\n",
    "\\begin{array}{c}\n",
    "4 \\\\\n",
    "7 \\\\\n",
    "1 \\\\\n",
    "\\end{array}\n",
    "\\right )$."
   ]
  },
  {
   "cell_type": "markdown",
   "metadata": {},
   "source": [
    "The resulting set of 3 orthogonal vectors is the basis for $\\mathbb{R}^3$ because _"
   ]
  },
  {
   "cell_type": "code",
   "execution_count": 33,
   "metadata": {},
   "outputs": [],
   "source": [
    "# solve\n",
    "a1,a2,a3 = sp.symbols('a1,a2,a3')\n",
    "v1 = np.array([1,-1,3])\n",
    "v2 = np.array([-2,1,1])\n",
    "v3 = np.array([4,7,1])\n",
    "x = np.array([1,2,3])\n",
    "expr = a1*v1+a2*v2+a3*v3-x\n",
    "sol = sp.linsolve(sp.Array(expr), (a1,a2,a3)) # {(8/11, 1/2, 7/22)}\n",
    "a = np.array(next(iter(sol)))\n",
    "a1,a2,a3 = a[0],a[1],a[2]\n",
    "\n",
    "# test\n",
    "assert np.sum(a1*v1 + a2*v2 + a3*v3 - x) == 0, \"linear combination is not valid\""
   ]
  },
  {
   "cell_type": "markdown",
   "metadata": {},
   "source": [
    "Given $v_1 = $ \n",
    "$\\left (\n",
    "\\begin{array}{c}\n",
    "1 \\\\\n",
    "-1 \\\\\n",
    "3\n",
    "\\end{array}\n",
    "\\right ), v_2 = $\n",
    "$\\left (\n",
    "\\begin{array}{c}\n",
    "-2 \\\\\n",
    "1 \\\\\n",
    "1\n",
    "\\end{array}\n",
    "\\right ), v_3 = $ \n",
    "$\\left (\n",
    "\\begin{array}{c}\n",
    "4 \\\\\n",
    "7 \\\\\n",
    "1\n",
    "\\end{array}\n",
    "\\right ),$ choose $a_1, a_2, a_3 = \n",
    "\\frac{8}{11},\n",
    "\\frac{1}{2},\n",
    "\\frac{7}{22}\n",
    "$\n",
    "<br>\n",
    "such that \n",
    "$$\n",
    "\\frac{8}{11}\n",
    "\\left (\n",
    "    \\begin{array}{c}\n",
    "    1 \\\\\n",
    "    -1 \\\\\n",
    "    3\n",
    "    \\end{array}\n",
    "\\right ) + \n",
    "\\frac{1}{2}\n",
    "\\left (\n",
    "    \\begin{array}{c}\n",
    "    -2 \\\\\n",
    "    1 \\\\\n",
    "    1\n",
    "    \\end{array}\n",
    "\\right ) +  \n",
    "\\frac{7}{22}\n",
    "\\left (\n",
    "    \\begin{array}{c}\n",
    "    4 \\\\\n",
    "    7 \\\\\n",
    "    1\n",
    "    \\end{array}\n",
    "\\right ) =\n",
    "\\left (\n",
    "    \\begin{array}{c}\n",
    "    1 \\\\\n",
    "    2 \\\\\n",
    "    3\n",
    "    \\end{array}\n",
    "\\right ).\n",
    "$$"
   ]
  },
  {
   "cell_type": "markdown",
   "metadata": {},
   "source": [
    "### 3. Magnitude\n",
    "\n",
    "Recall the set of rotation matrices defined by\n",
    "\n",
    "$$\n",
    "R(\\theta) = \n",
    "\\begin{pmatrix}\n",
    "\\cos \\theta & \\sin \\theta \\\\\n",
    "-\\sin \\theta & \\cos \\theta\n",
    "\\end{pmatrix}.\n",
    "$$\n",
    "\n",
    "for each $\\theta \\in \\mathbb{R}$. Show that if $x \\in \\mathbb{R}^2$ that the magnitude of $x$ is equal to the magnitude of $R(\\theta)x$ for all $\\theta$. Thus, rotations do not affect magnitudes. "
   ]
  },
  {
   "cell_type": "markdown",
   "metadata": {},
   "source": [
    "<hr>\n",
    "\n",
    "**Def:** \n",
    "\n",
    "<hr>"
   ]
  },
  {
   "cell_type": "code",
   "execution_count": 35,
   "metadata": {},
   "outputs": [
    {
     "data": {
      "text/plain": [
       "Matrix([\n",
       "[ cos(theta), sin(theta)],\n",
       "[-sin(theta), cos(theta)]])"
      ]
     },
     "execution_count": 35,
     "metadata": {},
     "output_type": "execute_result"
    }
   ],
   "source": [
    "o = sp.symbols('theta')\n",
    "R = sp.Matrix([\n",
    "    [sp.cos(o),sp.sin(o)],\n",
    "    [-sp.sin(o),sp.cos(o)]\n",
    "])\n",
    "R"
   ]
  },
  {
   "cell_type": "markdown",
   "metadata": {},
   "source": [
    "### 4. Inverses\n",
    "\n",
    "Find the inverse of each of the following matrices, or explain why no inverse exists.\n",
    "\n",
    "$\n",
    "A = \\begin{pmatrix}\n",
    "0 & 1 & 1 \\\\\n",
    "1 & 0 & 1 \\\\\n",
    "1 & 1 & 0\n",
    "\\end{pmatrix}\n",
    "$\n",
    "\n",
    "B = $\n",
    "\\begin{pmatrix}\n",
    "0 & 1 & 1 \\\\\n",
    "1 & 0 & 1 \\\\\n",
    "1 & -1 & 0\n",
    "\\end{pmatrix}\n",
    "$"
   ]
  },
  {
   "cell_type": "code",
   "execution_count": 11,
   "metadata": {},
   "outputs": [
    {
     "data": {
      "text/plain": [
       "matrix([[-0.5,  0.5,  0.5],\n",
       "        [ 0.5, -0.5,  0.5],\n",
       "        [ 0.5,  0.5, -0.5]])"
      ]
     },
     "execution_count": 11,
     "metadata": {},
     "output_type": "execute_result"
    }
   ],
   "source": [
    "A = np.matrix([\n",
    "    [0,1,1],\n",
    "    [1,0,1],\n",
    "    [1,1,0]\n",
    "])\n",
    "A**-1"
   ]
  },
  {
   "cell_type": "markdown",
   "metadata": {},
   "source": [
    "The inverse of $A$ is\n",
    "$$\n",
    "\\begin{pmatrix}\n",
    "0 & 1 & 1 \\\\\n",
    "1 & 0 & 1 \\\\\n",
    "1 & 1 & 0\n",
    "\\end{pmatrix}^{-1}\n",
    "=\n",
    "\\begin{pmatrix}\n",
    "-\\frac{1}{2} & \\frac{1}{2} & \\frac{1}{2} \\\\\n",
    "\\frac{1}{2} & -\\frac{1}{2} & \\frac{1}{2} \\\\\n",
    "\\frac{1}{2} & \\frac{1}{2} & -\\frac{1}{2}\n",
    "\\end{pmatrix}\n",
    "$$"
   ]
  },
  {
   "cell_type": "code",
   "execution_count": 12,
   "metadata": {},
   "outputs": [],
   "source": [
    "B = np.matrix([\n",
    "    [0,1,1],\n",
    "    [1,0,1],\n",
    "    [1,-1,0]\n",
    "])\n",
    "#B**-1"
   ]
  },
  {
   "cell_type": "markdown",
   "metadata": {},
   "source": [
    "The inverse of $B$ does not exist because _"
   ]
  },
  {
   "cell_type": "markdown",
   "metadata": {},
   "source": [
    "### 5. Commutativity\n",
    "\n",
    "In three dimensions, there are three different kinds of rotations, one for rotation about each axis. These are defined as follows:\n",
    "\n",
    "$$\n",
    "R_x(\\theta) = \n",
    "\\begin{pmatrix}\n",
    "1 & 0 & 0 \\\\\n",
    "0 & \\cos \\theta  & \\sin \\theta  \\\\\n",
    "0 & -\\sin \\theta & \\cos \\theta \n",
    "\\end{pmatrix}.\n",
    "$$\n",
    "\n",
    "$$\n",
    "R_z(\\theta) = \n",
    "\\begin{pmatrix}\n",
    "\\cos \\theta  & 0 & \\sin \\theta \\\\\n",
    "0 & 1 & 0 \\\\\n",
    "-\\sin \\theta & 0 & \\cos \\theta \n",
    "\\end{pmatrix}.\n",
    "$$\n",
    "\n",
    "$$\n",
    "R_z(\\theta) = \n",
    "\\begin{pmatrix}\n",
    "\\cos \\theta  & \\sin \\theta & 0 \\\\\n",
    "-\\sin \\theta & \\cos \\theta & 0 \\\\\n",
    "0 & 0 & 1\n",
    "\\end{pmatrix}.\n",
    "$$\n",
    "\n",
    "Are these matrices pairwise commutative in general? That is: Is it the case that\n",
    "\n",
    "$$\n",
    "R_x(\\theta_1)R_y(\\theta_2) = R_y(\\theta_2)R_x(\\theta_1)\n",
    "$$\n",
    "\n",
    "and similarly for $x,z$ and $y,z$? Explain your answer."
   ]
  },
  {
   "cell_type": "code",
   "execution_count": 25,
   "metadata": {},
   "outputs": [
    {
     "name": "stdout",
     "output_type": "stream",
     "text": [
      "Rx(o1)Ry(o2) != Ry(o2)Rx(o1)\n",
      "Rx(o1)Rz(o2) != Rz(o2)Rx(o1)\n"
     ]
    }
   ],
   "source": [
    "o1,o2 = sp.symbols('theta1, theta2')\n",
    "Rx = lambda o : sp.Matrix([\n",
    "    [1, 0, 0],\n",
    "    [0, sp.cos(o), sp.sin(o)],\n",
    "    [0, -sp.sin(o), sp.cos(o)]\n",
    "])\n",
    "Ry = lambda o : sp.Matrix([\n",
    "    [sp.cos(o), 0, sp.sin(o)],\n",
    "    [0, 1, 0],\n",
    "    [-sp.sin(o), 0, sp.cos(o)]\n",
    "])\n",
    "Rz = lambda o : sp.Matrix([\n",
    "    [sp.cos(o), sp.sin(o), 0],\n",
    "    [-sp.sin(o),sp.cos(o), 0],\n",
    "    [0, 0, 1]\n",
    "])\n",
    "\n",
    "try:\n",
    "    assert Rx(o1)*Ry(o2) == Ry(o2)*Rx(o1), \"Rx(o1)Ry(o2) != Ry(o2)Rx(o1)\"\n",
    "    print(\"Rx(o1)Ry(o2) == Ry(o2)Rx(o1)\")\n",
    "except Exception as e:\n",
    "    print(e)\n",
    "    \n",
    "try:\n",
    "    assert Rx(o1)*Rz(o2) == Rz(o2)*Rx(o1), \"Rx(o1)Rz(o2) != Rz(o2)Rx(o1)\"\n",
    "    print(\"Rx(o1)Rz(o2) == Rz(o2)Rx(o1)\")\n",
    "except Exception as e:\n",
    "    print(e)"
   ]
  },
  {
   "cell_type": "markdown",
   "metadata": {},
   "source": [
    "### 6. Orthogonal Matrices\n",
    "\n",
    "The set of reflection matrices is defined by\n",
    "\n",
    "$$\n",
    "S(\\theta) = \n",
    "\\begin{pmatrix}\n",
    "\\cos 2\\theta & \\sin 2 \\theta \\\\\n",
    "\\sin 2\\theta & -\\cos 2 \\theta\n",
    "\\end{pmatrix}.\n",
    "$$\n",
    "\n",
    "a) Show how $S(\\frac{\\pi}{4})$ transforms the vector $(1\\;-1)^T$. \n",
    "\n",
    "b) Show that $S(\\theta)$ does not change any vectors that happen to lie on the axis of reflection.\n",
    "\n",
    "c) Show that these matrices are orthogonal for all $\\theta$. "
   ]
  },
  {
   "cell_type": "markdown",
   "metadata": {
    "ExecuteTime": {
     "end_time": "2019-10-23T18:01:28.779050Z",
     "start_time": "2019-10-23T18:01:28.773729Z"
    }
   },
   "source": [
    "### 7. Similarity\n",
    "\n",
    "Show that the following two matrices are similar.\n",
    "\n",
    "$\n",
    "A = \\begin{pmatrix}\n",
    "2 & 4 & 6 \\\\\n",
    "0 & 2 & 0 \\\\\n",
    "1 & 1 & 0\n",
    "\\end{pmatrix}\n",
    "$\n",
    "\n",
    "B = $\n",
    "\\begin{pmatrix}\n",
    "1 & -1 & 2 \\\\\n",
    "4 & 2 & 1 \\\\\n",
    "5 & 1 & 1\n",
    "\\end{pmatrix}\n",
    "$"
   ]
  },
  {
   "cell_type": "markdown",
   "metadata": {},
   "source": [
    "<hr>\n",
    "\n",
    "**Def:** $A$ and $B$ are **similar** if there exists an invertible matrix $A$ such that $B = Q A Q^{-1}$. \n",
    "\n",
    "<hr>"
   ]
  },
  {
   "cell_type": "code",
   "execution_count": null,
   "metadata": {},
   "outputs": [],
   "source": []
  },
  {
   "cell_type": "markdown",
   "metadata": {},
   "source": [
    "### 8. Diagonalization\n",
    "\n",
    "Diagonalize the matrices in problem 7 (you can use `sympy`) and show they have the same diagonal form."
   ]
  },
  {
   "cell_type": "markdown",
   "metadata": {
    "ExecuteTime": {
     "end_time": "2019-10-23T18:34:47.222384Z",
     "start_time": "2019-10-23T18:34:47.217657Z"
    }
   },
   "source": [
    "### 9. Cayley Hamilton\n",
    "\n",
    "a) Use the Cayley Hamilton Theorem to come up with an expression for $A^n$ in terms of $n$ when \n",
    "\n",
    "$$\n",
    "A = \\begin{pmatrix}\n",
    "-\\frac{1}{2} & 1  \\\\\n",
    "0 & \\frac{1}{4}\n",
    "\\end{pmatrix} .\n",
    "$$\n",
    "\n",
    "b) Define $x_{k+1} = A x_k$ and argue that no matter what value $x_0$ is, $x_k$ converges to $(0 \\; 0)^T$. \n",
    "\n",
    "c) Choose $x_0 = (-2,3)^T$ and plot $x_k$ for $k = 0$ to $10$. Plot the two components of of $x_k$ as two separate trajectories overlaid on the same plot."
   ]
  },
  {
   "cell_type": "markdown",
   "metadata": {
    "ExecuteTime": {
     "end_time": "2019-10-23T18:47:28.833529Z",
     "start_time": "2019-10-23T18:47:28.828866Z"
    }
   },
   "source": [
    "### 10. Matrix Exponential Properties\n",
    "---\n",
    "\n",
    "Recall that for matrices $A$ and $B$ that it is not necessarily the case that $AB = BA$ (i.e. that $A$ and $B$ commute). Show that \n",
    "\n",
    "a) If $AB=BA$ then $e^Ae^B = e^Be^A$ using the definition of the matrix exponential as a series.\n",
    "\n",
    "b) Find an example in 2D where $A$ and $B$ do not commute and show that $e^Ae^B \\neq e^Be^A$."
   ]
  },
  {
   "cell_type": "markdown",
   "metadata": {},
   "source": [
    "### 11. Senators Revisited\n",
    "\n",
    "Repeat the clustering of senators by voting habit for the years 1999, 1979 and 1959. Plot them together with the 2019 plot in a grid of plots. Which years seem the most divided? \n",
    "\n",
    "Note you will need to get the data at [https://voteview.com/data](https://voteview.com/data). Choose \"Member's Votes\", \"Senate Only\", the desired year, and CSV file. \n",
    "\n",
    "I had to edit the CSV file (in a text editor or ExCEL) to remove the heading in the first row before loading the file.\n",
    "\n",
    "**Extra credit:** Color the each dot in the plots by whether the senator is a republican (red), democract (blue), or independent (green). This information is not in the data files above, so you'll need to find it elsewhere."
   ]
  },
  {
   "cell_type": "code",
   "execution_count": null,
   "metadata": {},
   "outputs": [],
   "source": []
  }
 ],
 "metadata": {
  "kernelspec": {
   "display_name": "Python 3",
   "language": "python",
   "name": "python3"
  },
  "language_info": {
   "codemirror_mode": {
    "name": "ipython",
    "version": 3
   },
   "file_extension": ".py",
   "mimetype": "text/x-python",
   "name": "python",
   "nbconvert_exporter": "python",
   "pygments_lexer": "ipython3",
   "version": "3.7.1"
  }
 },
 "nbformat": 4,
 "nbformat_minor": 2
}
