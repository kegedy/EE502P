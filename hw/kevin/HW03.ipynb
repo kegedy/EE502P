{
 "cells": [
  {
   "cell_type": "markdown",
   "metadata": {
    "ExecuteTime": {
     "end_time": "2019-09-24T16:05:23.746666Z",
     "start_time": "2019-09-24T16:05:23.741461Z"
    }
   },
   "source": [
    "## EE 502 P: Analytical Methods for Electrical Engineering\n",
    "    \n",
    "# Homework 3: Real Analysis\n",
    "## Due 23 October, 2019 at 6:00 PM\n",
    "### <span style=\"color: red\">Kevin Egedy</span>\n",
    "\n",
    "Copyright &copy; 2019, University of Washington\n",
    "\n",
    "<hr>\n",
    "\n",
    "**Instructions**: Use this notebook as a template. Answer all questions using well formatted Markdown with embedded LaTeX equations, executable Jupyter cells, or both. Submit your homework solutions as an `.ipynb` file via Canvas.\n",
    "\n",
    "<span style=\"background: yellow; padding: 6px; border: 1pt solid black\">\n",
    "Although you may discuss the homework with others, you must turn in your own, original work.\n",
    "</span>\n",
    "\n",
    "**Things to remember:**\n",
    "- Use complete sentences. Equations should appear in text as grammatical elements.\n",
    "- Comment your code.\n",
    "- Label your axes. Title your plots. Use legends where appropriate. \n",
    "- Before submitting a notebook, choose Kernel -> Restart and Run All to make sure your notebook runs when the cells are evaluated in order. \n",
    "\n",
    "Note : Late homework will be accepted up to one week after the due date and will be worth 50% of its full credit score. "
   ]
  },
  {
   "cell_type": "code",
   "execution_count": 13,
   "metadata": {},
   "outputs": [],
   "source": [
    "# Imports\n",
    "import numpy as np\n",
    "import sympy as sp\n",
    "import matplotlib.pyplot as plt\n",
    "%matplotlib inline\n",
    "from mpl_toolkits.mplot3d import Axes3D \n",
    "from IPython.core.interactiveshell import InteractiveShell\n",
    "InteractiveShell.ast_node_interactivity = \"all\""
   ]
  },
  {
   "cell_type": "markdown",
   "metadata": {},
   "source": [
    "### 0. Warmup (Do not turn in)\n",
    "\n",
    "- Make sure you get download, read, and run the notebook for lecture 3. Work through the notebook cell by cell and see what happens when you change the expressions, and make up some of your own.\n",
    "- The material covered in class is intended to be an introductory subset the general subject of Real Analysis, for example covered in the book [An Introduction to Real Analysis](https://www.math.ucdavis.edu/~hunter/intro_analysis_pdf/intro_analysis.html). You do not need to read all of this book (although doing so would be great), but you should at least read the following sections.\n",
    "  - [Chapter 3](https://www.math.ucdavis.edu/~hunter/intro_analysis_pdf/ch3.pdf), Sections 3.2, 3.3, and 3.4. You can skip the proofs if you want to. \n",
    "  - [Chapter 6](https://www.math.ucdavis.edu/~hunter/intro_analysis_pdf/ch6.pdf), Sections 6.1 and 6.3.\n",
    "  - [Chapter 7](https://www.math.ucdavis.edu/~hunter/intro_analysis_pdf/ch7.pdf), Sections 7.1, 7.2, and 7.6.\n",
    "  - [Chapter 8](https://www.math.ucdavis.edu/~hunter/intro_analysis_pdf/ch8.pdf), Sections 8.1, 8.2, 8.3, 8.5, 8.6, and 8.8.\n",
    "  - [Chapter 11](https://www.math.ucdavis.edu/~hunter/intro_analysis_pdf/ch8.pdf), Sections 11.1, 11.2, and 11.5.\n",
    "  \n",
    "  \n",
    "-  <span style=\"color: #F5793A;\">**Warning:** My notes attempt to make sure no concepts require other concepts that were not yet covered. However, if you just skim the above, you will likely encounter definitions that use other definitions in sections I did not suggest you read.</span>\n",
    "- If the textbook above is not clear to you, you might try looking at alternative textbooks, such as the [one by Jiri Lebl](https://www.jirka.org/ra/realanal.pdf).\n",
    "- If you would like to buy a textbook on real analysis, here are a few:\n",
    "  - [Rudin](https://www.amazon.com/Principles-Mathematical-Analysis-International-Mathematics/dp/007054235X). Very concise. \n",
    "  - [Strichartz](https://www.amazon.com/Analysis-Revised-Jones-Bartlett-Mathematics/dp/0763714976/ref=sr_1_1?keywords=Strichartz%27s+book+%22The+way+of+analysis&qid=1570552954&s=books&sr=1-1). Gentler.\n",
    "  - [Kolmogorov](https://www.amazon.com/Introductory-Analysis-Dover-Books-Mathematics/dp/0486612260/ref=sr_1_1?keywords=Kolmogorov+real+analysis&qid=1570553008&s=books&sr=1-1). A classic!"
   ]
  },
  {
   "cell_type": "markdown",
   "metadata": {
    "ExecuteTime": {
     "end_time": "2019-10-08T16:48:02.889303Z",
     "start_time": "2019-10-08T16:48:02.885366Z"
    }
   },
   "source": [
    "### 1. Sequences\n",
    "\n",
    "For each of the patterns below, define a formula for $n$th term $x_n$ of the sequence. Also, plot the first 20 terms of the sequences. Combine all three plots into a figure using the subplot command. Label everything.\n",
    "\n",
    "a) 5,7,9,11,...\n",
    "\n",
    "b) 1/2, 2/3, 3/4, 4/5, ...\n",
    "\n",
    "c) 1/2, -1/4, 1/8, -1/16, ...\n",
    "\n"
   ]
  },
  {
   "cell_type": "markdown",
   "metadata": {},
   "source": [
    "The formula for sequence 5,7,9,11,... is \n",
    "$$x_n = 2n + 5 .$$"
   ]
  },
  {
   "cell_type": "markdown",
   "metadata": {},
   "source": [
    "The formula for sequnece 1/2, 2/3, 3/4, 4/5, ... is \n",
    "$$x_n = \\frac{n+1}{n+2} .$$"
   ]
  },
  {
   "cell_type": "markdown",
   "metadata": {},
   "source": [
    "The formula for sequence 1/2, -1/4, 1/8, -1/16, ... is\n",
    "$$x_n = \\frac{(-1)^{n}}{2^{n+1}} .$$"
   ]
  },
  {
   "cell_type": "code",
   "execution_count": 2,
   "metadata": {},
   "outputs": [
    {
     "data": {
      "image/png": "[encoded data removed]",
      "text/plain": [
       "<Figure size 864x864 with 3 Axes>"
      ]
     },
     "metadata": {
      "needs_background": "light"
     },
     "output_type": "display_data"
    }
   ],
   "source": [
    "# Define Sequences\n",
    "seq0 = lambda n: 2*n+5\n",
    "seq1 = lambda n: (n+1)/(n+2)\n",
    "seq2 = lambda n: ((-1)**n)/(2**(n+1))\n",
    "N = 20\n",
    "n = np.arange(0,N)\n",
    "\n",
    "# matplotlib\n",
    "fig,axs = plt.subplots(3,1, figsize=(12,12))\n",
    "plt.subplots_adjust(hspace=0.35)\n",
    "fig.suptitle('Sequences')\n",
    "\n",
    "# Sequence0\n",
    "axs[0].scatter(n,seq0(n),label='2n + 5')\n",
    "axs[0].set_title('2n + 5')\n",
    "axs[0].set_xlabel('n')\n",
    "axs[0].set_ylabel('x_n')\n",
    "axs[0].set_xticks(np.arange(0,N,2))\n",
    "axs[0].grid(True)\n",
    "\n",
    "# Sequence1\n",
    "axs[1].scatter(n,seq1(n),label='(n + 1)/(n + 2)')\n",
    "axs[1].set_title('(n + 1) / (n + 2)')\n",
    "axs[1].set_xlabel('n')\n",
    "axs[1].set_ylabel('x_n')\n",
    "axs[1].set_xticks(np.arange(0,N,2))\n",
    "axs[1].grid(True)\n",
    "\n",
    "# Sequence2\n",
    "axs[2].scatter(n,seq2(n),label='( (-1)^n )/( 2^(n + 1)')\n",
    "axs[2].set_title('(-1)^n / 2^(n + 1)')\n",
    "axs[2].set_xlabel('n')\n",
    "axs[2].set_ylabel('x_n')\n",
    "axs[2].set_xticks(np.arange(0,N,2))\n",
    "axs[2].grid(True);"
   ]
  },
  {
   "cell_type": "markdown",
   "metadata": {},
   "source": [
    "### 2. Sequence Convergence\n",
    "\n",
    "Show that the following sequence limits using either an $\\varepsilon-\\delta$ argument or **Thm 1** from the lecture notes. \n",
    "\n",
    "a) $\\lim \\frac{3n+1}{2n+5} = \\frac{3}{2}$\n",
    "\n",
    "b) $\\lim \\frac{2n}{n+2} = 2$\n",
    "\n",
    "c) $\\lim\\left(\\frac{1}{n} - \\frac{1}{n+1} \\right) = 0$"
   ]
  },
  {
   "cell_type": "markdown",
   "metadata": {},
   "source": [
    "<hr>\n",
    "\n",
    "**References**<br> \n",
    "**Limit Definition:** <br>Let $X = (x_n)$ be a sequence. $x$ is a **limit** of $X$ if for every $\\varepsilon > 0$ there exists $K(\\varepsilon) \\in \\mathbb{N}$ such that for all $n \\geq K(\\varepsilon)$, \n",
    "\n",
    "  $$\n",
    "  x - \\varepsilon < x_n < x + \\varepsilon\n",
    "  $$ or\n",
    "  $$ \n",
    "  |x_n-x| \\lt \\varepsilon.\n",
    "  $$\n",
    "  \n",
    "In this case we write $\\lim x_n = x$ and say that $x_n$ converges to $x$.\n",
    "<br>\n",
    "\n",
    "**Thm 1:** <br>\n",
    "Let $(a_n)$ and $(x_n)$ be sequences with $\\lim a_n = 0$ and let $x \\in \\mathbb{R}$. If for some $C > 0$ and some $m > 0$ it is the case that\n",
    "\n",
    "$$\n",
    "\\left |x_n - x \\right | \\leq C\\left |a_n\\right |\n",
    "$$\n",
    "\n",
    "for all $n > m$, then $\\lim x_n = x$. \n",
    "<hr>"
   ]
  },
  {
   "cell_type": "markdown",
   "metadata": {},
   "source": [
    "$$\\lim \\frac{3n+1}{2n+5} = \\frac{3}{2}$$\n",
    "- $\\left |x_n - x \\right | \\leq C\\left |a_n\\right | $\n"
   ]
  },
  {
   "cell_type": "markdown",
   "metadata": {},
   "source": [
    "$$\\lim \\frac{2n}{n+2} = 2$$\n",
    "- $x_n = , \\epsilon = $"
   ]
  },
  {
   "cell_type": "markdown",
   "metadata": {},
   "source": [
    "$$\\lim\\left(\\frac{1}{n} - \\frac{1}{n+1} \\right) = 0$$\n",
    "- $x_n = , \\epsilon = $"
   ]
  },
  {
   "cell_type": "markdown",
   "metadata": {},
   "source": [
    "### 3. Proving non-convergence\n",
    "\n",
    "Show that the sequence $(x_n)$ where $x_n = (-1)^n$ does not converge to any number $c$. Use the definition of limit for sequences. Given $\\varepsilon > 0$ you have to show that there does not exist an $m$ such that for all $n>m$ such that $c-\\varepsilon < x_n < c+\\varepsilon$. "
   ]
  },
  {
   "cell_type": "markdown",
   "metadata": {},
   "source": []
  },
  {
   "cell_type": "markdown",
   "metadata": {},
   "source": [
    "### 4. Sequences via recurrence relations\n",
    "\n",
    "Let $x_0 = 1$ and $x_{i+1} = - a x_i$ where $0 < a < 1$.\n",
    "\n",
    "a) Plot the first 20 points in $(x_n)$ when $a=\\frac{1}{2}$. \n",
    "\n",
    "b) Show that $(x_n)$ converges to 0. "
   ]
  },
  {
   "cell_type": "code",
   "execution_count": 3,
   "metadata": {},
   "outputs": [
    {
     "data": {
      "image/png": "[encoded data removed]",
      "text/plain": [
       "<Figure size 576x576 with 1 Axes>"
      ]
     },
     "metadata": {
      "needs_background": "light"
     },
     "output_type": "display_data"
    }
   ],
   "source": [
    "# Define Sequence\n",
    "\n",
    "def relation_sequences(n):\n",
    "    '''\n",
    "    Returns the sequence where x_{i+1} = -ax_i where x_0 is 1 and a = 1/2.\n",
    "    '''\n",
    "    a = 1/2\n",
    "    x0 = 1\n",
    "    arr = [x0]\n",
    "    def relation(arr,i):\n",
    "        '''Returns x_{i+1} = -ax_i'''\n",
    "        if i == 1: \n",
    "            return arr\n",
    "        else:\n",
    "            x_prev = arr[-1]\n",
    "            arr.append(-a*x_prev)\n",
    "            return relation(arr,i-1)\n",
    "    return relation(arr,n)\n",
    "\n",
    "# matplotlib\n",
    "N = 20\n",
    "X = relation_sequences(N)\n",
    "n = range(0,N)\n",
    "fig,ax = plt.subplots(figsize=(8,8))\n",
    "plt.scatter(n,X)\n",
    "plt.title('Sequences via Recurrence Relations')\n",
    "plt.xlabel('n')\n",
    "plt.ylabel('x_n')\n",
    "plt.xticks(np.arange(0,N,2))\n",
    "plt.grid(True);"
   ]
  },
  {
   "cell_type": "markdown",
   "metadata": {},
   "source": [
    "$(x_n)$ converges to 0. \n",
    "Explain!"
   ]
  },
  {
   "cell_type": "markdown",
   "metadata": {},
   "source": [
    "### 5. Continuous Functions\n",
    "\n",
    "Define the function $s$ by\n",
    "\n",
    "$$\n",
    "s(x) = \\left \\{\n",
    "\\begin{array}{ll}\n",
    "-1 & \\mathrm{if}\\;x<0 \\\\\n",
    "0 & \\mathrm{if}\\;x = 0 \\\\\n",
    "1 & \\mathrm{if}\\;x > 0\n",
    "\\end{array}\n",
    "\\right .\n",
    "$$\n",
    "\n",
    "a) Find a sequence $(x_n)$ converges to $0$ but where $(s(x_n))$ does not converge. Conclude that $s$ is not continuous at $0$. \n",
    "\n",
    "b) Show that $s$ is continuous at all other points in $\\mathbb{R}$."
   ]
  },
  {
   "cell_type": "markdown",
   "metadata": {},
   "source": []
  },
  {
   "cell_type": "markdown",
   "metadata": {},
   "source": []
  },
  {
   "cell_type": "markdown",
   "metadata": {
    "ExecuteTime": {
     "end_time": "2019-10-08T22:22:21.515713Z",
     "start_time": "2019-10-08T22:22:21.511746Z"
    },
    "collapsed": true
   },
   "source": [
    "### 6. Mean Value Theorem\n",
    "\n",
    "Suppose $f'(x) \\geq 0$ for all $x$. Use the intermediate value theorem to show that if $x_1 \\leq x_2$, then $f(x_1) \\leq f(x_2)$. "
   ]
  },
  {
   "cell_type": "markdown",
   "metadata": {},
   "source": []
  },
  {
   "cell_type": "markdown",
   "metadata": {},
   "source": [
    "### 7. Finding Roots Using the Bisection Method\n",
    "\n",
    "Write a function that implements the \"bisection method\" for finding the roots of function. The signature of your function should look like\n",
    "\n",
    "```python\n",
    "def find_root(f,a,b,n):\n",
    "```\n",
    "where $n$ is the maximum number of iterations of to search for the root.\n",
    "\n",
    "The code should follow this algorithm:\n",
    "\n",
    "- We are given a continuous function $f$ and numbers $a$ and $b$ and with $a < b$ with $f(a) < 0 < f(b)$. From the intermediate value theorem we know that there exists a $c$ with $a<c<b$ with $f(c) = 0$. We want to find $c$.\n",
    "\n",
    "- Set $a_1 = a$ and $b_1 = b$ and $m = \\frac{1}{2}(a+b)$. \n",
    "\n",
    "- For $i = 1$ to $n$ do\n",
    "    - If $f(m) = 0$, then $c = m$ so break and return $m$.\n",
    "    - Else If $f(m) > 0$ then set $a_{i+1} = a_i$ and $b_{i+1} = m$.\n",
    "    - Else If $f(m) < 0$, then set $a_{i+1} = m_i$ and $b_{i+1} = b_i$.\n",
    "\n",
    "\n",
    "- Return m\n",
    "\n",
    "Test on several examples, including one in which the first 'if' statement is true, and another where it is never true. Check your work by plotting the results."
   ]
  },
  {
   "cell_type": "code",
   "execution_count": 4,
   "metadata": {},
   "outputs": [],
   "source": [
    "def find_root(f,a,b,n):\n",
    "    '''\n",
    "    Implements the \"bisection method\" for finding the roots of a function.\n",
    "    f : continuous function\n",
    "    a : start of interval\n",
    "    b : end of interval\n",
    "    n : maximum number of iterations\n",
    "    '''\n",
    "    m = (1/2)*(a+b)\n",
    "    A = [a]\n",
    "    B = [b]\n",
    "    M = [m]\n",
    "    c = None\n",
    "    x = np.arange(a-5,b+5,0.1)\n",
    "    \n",
    "    # Plot continuous function f\n",
    "    fig,ax = plt.subplots(figsize=(8,8))    \n",
    "    plt.plot(x,f(x))\n",
    "    plt.plot(x,np.zeros(len(x)),color='C0')\n",
    "    plt.title('Roots of a Continuous Function')\n",
    "    plt.xlabel('x')\n",
    "    plt.ylabel('f(x)')\n",
    "    # Check conditions hold\n",
    "    if (a>b): tmp=b;b=a;a=tmp\n",
    "    if f(a)>f(b): raise Exception('continuous function must follow f(a) < 0 < f(b)')\n",
    "    if f(a)>0: raise Exception('continuous function must follow f(a) < 0')\n",
    "    if f(b)<0: raise Exception('continuous function must follow f(b) > 0')\n",
    "    \n",
    "    # Bisection Method\n",
    "    for i in range(1,n+1):\n",
    "        a_prev,b_prev = A[-1],B[-1]\n",
    "        m = (1/2)*(a_prev+b_prev)\n",
    "        plt.scatter(a_prev,f(a_prev),color='green',marker='o')\n",
    "        plt.scatter(b_prev,f(b_prev),color='red',marker='o')\n",
    "        if f(m) == 0:\n",
    "            c = m\n",
    "            break\n",
    "        elif f(m) > 0:\n",
    "            A.append(a_prev)\n",
    "            B.append(m)\n",
    "        else:\n",
    "            A.append(m)\n",
    "            B.append(b_prev)\n",
    "    plt.show()\n",
    "    return m"
   ]
  },
  {
   "cell_type": "code",
   "execution_count": 5,
   "metadata": {},
   "outputs": [
    {
     "data": {
      "image/png": "[encoded data removed]",
      "text/plain": [
       "<Figure size 576x576 with 1 Axes>"
      ]
     },
     "metadata": {
      "needs_background": "light"
     },
     "output_type": "display_data"
    },
    {
     "data": {
      "text/plain": [
       "0.0"
      ]
     },
     "execution_count": 5,
     "metadata": {},
     "output_type": "execute_result"
    }
   ],
   "source": [
    "find_root(np.sin,-1/2*np.pi,1/2*np.pi,7)"
   ]
  },
  {
   "cell_type": "code",
   "execution_count": 6,
   "metadata": {},
   "outputs": [
    {
     "ename": "Exception",
     "evalue": "continuous function must follow f(a) < 0 < f(b)",
     "output_type": "error",
     "traceback": [
      "\u001b[0;31m---------------------------------------------------------------------------\u001b[0m",
      "\u001b[0;31mException\u001b[0m                                 Traceback (most recent call last)",
      "\u001b[0;32m<ipython-input-6-b5443e050810>\u001b[0m in \u001b[0;36m<module>\u001b[0;34m\u001b[0m\n\u001b[1;32m      1\u001b[0m \u001b[0mmycos\u001b[0m \u001b[0;34m=\u001b[0m \u001b[0;32mlambda\u001b[0m \u001b[0mx\u001b[0m\u001b[0;34m:\u001b[0m \u001b[0mnp\u001b[0m\u001b[0;34m.\u001b[0m\u001b[0mcos\u001b[0m\u001b[0;34m(\u001b[0m\u001b[0mx\u001b[0m\u001b[0;34m)\u001b[0m\u001b[0;34m+\u001b[0m\u001b[0;36m2\u001b[0m\u001b[0;34m\u001b[0m\u001b[0;34m\u001b[0m\u001b[0m\n\u001b[0;32m----> 2\u001b[0;31m \u001b[0mfind_root\u001b[0m\u001b[0;34m(\u001b[0m\u001b[0mmycos\u001b[0m\u001b[0;34m,\u001b[0m\u001b[0;34m-\u001b[0m\u001b[0;36m1\u001b[0m\u001b[0;34m/\u001b[0m\u001b[0;36m4\u001b[0m\u001b[0;34m*\u001b[0m\u001b[0mnp\u001b[0m\u001b[0;34m.\u001b[0m\u001b[0mpi\u001b[0m\u001b[0;34m,\u001b[0m\u001b[0;36m2\u001b[0m\u001b[0;34m/\u001b[0m\u001b[0;36m3\u001b[0m\u001b[0;34m*\u001b[0m\u001b[0mnp\u001b[0m\u001b[0;34m.\u001b[0m\u001b[0mpi\u001b[0m\u001b[0;34m,\u001b[0m\u001b[0;36m7\u001b[0m\u001b[0;34m)\u001b[0m\u001b[0;34m\u001b[0m\u001b[0;34m\u001b[0m\u001b[0m\n\u001b[0m",
      "\u001b[0;32m<ipython-input-4-6bdf3f7caa1f>\u001b[0m in \u001b[0;36mfind_root\u001b[0;34m(f, a, b, n)\u001b[0m\n\u001b[1;32m     23\u001b[0m     \u001b[0;31m# Check conditions hold\u001b[0m\u001b[0;34m\u001b[0m\u001b[0;34m\u001b[0m\u001b[0;34m\u001b[0m\u001b[0m\n\u001b[1;32m     24\u001b[0m     \u001b[0;32mif\u001b[0m \u001b[0;34m(\u001b[0m\u001b[0ma\u001b[0m\u001b[0;34m>\u001b[0m\u001b[0mb\u001b[0m\u001b[0;34m)\u001b[0m\u001b[0;34m:\u001b[0m \u001b[0mtmp\u001b[0m\u001b[0;34m=\u001b[0m\u001b[0mb\u001b[0m\u001b[0;34m;\u001b[0m\u001b[0mb\u001b[0m\u001b[0;34m=\u001b[0m\u001b[0ma\u001b[0m\u001b[0;34m;\u001b[0m\u001b[0ma\u001b[0m\u001b[0;34m=\u001b[0m\u001b[0mtmp\u001b[0m\u001b[0;34m\u001b[0m\u001b[0;34m\u001b[0m\u001b[0m\n\u001b[0;32m---> 25\u001b[0;31m     \u001b[0;32mif\u001b[0m \u001b[0mf\u001b[0m\u001b[0;34m(\u001b[0m\u001b[0ma\u001b[0m\u001b[0;34m)\u001b[0m\u001b[0;34m>\u001b[0m\u001b[0mf\u001b[0m\u001b[0;34m(\u001b[0m\u001b[0mb\u001b[0m\u001b[0;34m)\u001b[0m\u001b[0;34m:\u001b[0m \u001b[0;32mraise\u001b[0m \u001b[0mException\u001b[0m\u001b[0;34m(\u001b[0m\u001b[0;34m'continuous function must follow f(a) < 0 < f(b)'\u001b[0m\u001b[0;34m)\u001b[0m\u001b[0;34m\u001b[0m\u001b[0;34m\u001b[0m\u001b[0m\n\u001b[0m\u001b[1;32m     26\u001b[0m     \u001b[0;32mif\u001b[0m \u001b[0mf\u001b[0m\u001b[0;34m(\u001b[0m\u001b[0ma\u001b[0m\u001b[0;34m)\u001b[0m\u001b[0;34m>\u001b[0m\u001b[0;36m0\u001b[0m\u001b[0;34m:\u001b[0m \u001b[0;32mraise\u001b[0m \u001b[0mException\u001b[0m\u001b[0;34m(\u001b[0m\u001b[0;34m'continuous function must follow f(a) < 0'\u001b[0m\u001b[0;34m)\u001b[0m\u001b[0;34m\u001b[0m\u001b[0;34m\u001b[0m\u001b[0m\n\u001b[1;32m     27\u001b[0m     \u001b[0;32mif\u001b[0m \u001b[0mf\u001b[0m\u001b[0;34m(\u001b[0m\u001b[0mb\u001b[0m\u001b[0;34m)\u001b[0m\u001b[0;34m<\u001b[0m\u001b[0;36m0\u001b[0m\u001b[0;34m:\u001b[0m \u001b[0;32mraise\u001b[0m \u001b[0mException\u001b[0m\u001b[0;34m(\u001b[0m\u001b[0;34m'continuous function must follow f(b) > 0'\u001b[0m\u001b[0;34m)\u001b[0m\u001b[0;34m\u001b[0m\u001b[0;34m\u001b[0m\u001b[0m\n",
      "\u001b[0;31mException\u001b[0m: continuous function must follow f(a) < 0 < f(b)"
     ]
    },
    {
     "data": {
      "image/png": "[encoded data removed]",
      "text/plain": [
       "<Figure size 576x576 with 1 Axes>"
      ]
     },
     "metadata": {
      "needs_background": "light"
     },
     "output_type": "display_data"
    }
   ],
   "source": [
    "mycos = lambda x: np.cos(x)+2\n",
    "find_root(mycos,-1/4*np.pi,2/3*np.pi,7)"
   ]
  },
  {
   "cell_type": "markdown",
   "metadata": {},
   "source": [
    "### 8. Definition of Derivative\n",
    "\n",
    "Use the definition of the derivative to find the derivatives of the following functions.\n",
    "\n",
    "a) $f(x) = x^3$, for any $x$\n",
    "\n",
    "b) $g(x) = 1/x$, for $x \\neq 0$\n",
    "\n",
    "c) $h(x) = \\sqrt{x}$, for $x > 0$\n",
    "\n",
    "d) $k(x) = x^{-1/2}$ for $x > 0$."
   ]
  },
  {
   "cell_type": "markdown",
   "metadata": {},
   "source": [
    "The derivative of $f(x) = x^3$, for any $x$ is\n",
    "\\begin{eqnarray}\n",
    "f'(c) & = & \\lim_{x \\rightarrow c} \\frac{f(x) - f(c)}{x-c} \\\\\n",
    "      &   &                                                \\\\\n",
    "f'(c) & = & \\lim_{x \\rightarrow c} \\frac{x^3 - c^3}{x-c}   \\\\\n",
    "      &   &                                                \\\\\n",
    "f'(c) & = & \\lim_{x \\rightarrow c} \\frac{(x-c)(x^2+xc+c^2)}{x-c} \\\\\n",
    "      &   &                                                \\\\\n",
    "f'(c) & = & \\lim_{x \\rightarrow c} x^2+xc+c^2 = 3c^2       \\\\\n",
    "      &   &                                                \\\\\n",
    "f'(x) & = & 3x^2\n",
    "\\end{eqnarray}\n",
    "<hr>"
   ]
  },
  {
   "cell_type": "markdown",
   "metadata": {},
   "source": [
    "The derivative of $g(x) = 1/x$, for $x \\neq 0$ is \n",
    "\\begin{eqnarray}\n",
    "g'(c) & = & \\lim_{x \\rightarrow c} \\frac{g(x) - g(c)}{x-c} \\\\\n",
    "      &   &  \\\\\n",
    "g'(c) & = & \\lim_{x \\rightarrow c} \\frac{\\frac{1}{x} - \\frac{1}{c}}{x-c} \\\\\n",
    "      &   &  \\\\\n",
    "g'(c) & = & \\lim_{x \\rightarrow c} \\frac{\\frac{c-x}{xc}}{x-c} \\\\\n",
    "      &   &  \\\\\n",
    "g'(c) & = & \\lim_{x \\rightarrow c} \\frac{x-c}{-xc} \\frac{1}{x-c} \\\\\n",
    "      &   &  \\\\\n",
    "g'(c) & = & \\lim_{x \\rightarrow c} \\frac{1}{-xc} = \\frac{-1}{c^2} \\\\\n",
    "      &   &  \\\\\n",
    "g'(x) & = & \\frac{-1}{x^2}\n",
    "\\end{eqnarray}\n",
    "<hr>"
   ]
  },
  {
   "cell_type": "markdown",
   "metadata": {},
   "source": [
    "The derivative of $h(x) = \\sqrt{x}$, for $x > 0$ is\n",
    "\\begin{eqnarray}\n",
    "h'(c) & = & \\lim_{x \\rightarrow c} \\frac{h(x) - h(c)}{x-c} \\\\\n",
    "      &   &  \\\\\n",
    "h'(c) & = & \\lim_{x \\rightarrow c} \\frac{\\sqrt{x}-\\sqrt{c}}{x-c} \\cdot\n",
    "      \\frac{\\sqrt{x}+\\sqrt{c}}{\\sqrt{x}+\\sqrt{c}} \\\\\n",
    "      &   &  \\\\\n",
    "h'(c) & = & \\lim_{x \\rightarrow c} \\frac{x-c}{(x-c)(\\sqrt{x}+\\sqrt{c})} \\\\\n",
    "      &   &  \\\\\n",
    "h'(c) & = & \\lim_{x \\rightarrow c} \\frac{1}{\\sqrt{x}+\\sqrt{c}}  = \\frac{1}{2\\sqrt{c}} \\\\\n",
    "      &   &  \\\\\n",
    "h'(x) & = & \\frac{1}{2\\sqrt{x}}\n",
    "\\end{eqnarray}\n",
    "<hr>"
   ]
  },
  {
   "cell_type": "markdown",
   "metadata": {},
   "source": [
    "The derivative of $k(x) = x^{-1/2}$ for $x > 0$ is \n",
    "\\begin{eqnarray}\n",
    "k'(c) & = & \\lim_{x \\rightarrow c} \\frac{k(x) - k(c)}{x-c} \\\\\n",
    "      &   & \\\\\n",
    "k'(c) & = & \\lim_{x \\rightarrow c} \\frac{x^{\\frac{-1}{2}} - c^{\\frac{-1}{2}}}{x-c} \\cdot\n",
    "      \\frac{x^{\\frac{-1}{2}} + c^{\\frac{-1}{2}}}{x^{\\frac{-1}{2}} + c^{\\frac{-1}{2}}} \\\\\n",
    "      &   &  \\\\\n",
    "k'(c) & = & \\lim_{x \\rightarrow c} \\frac{x^{-1}-c^{-1}}\n",
    "      {(x-c)(x^{\\frac{-1}{2}} + c^{\\frac{-1}{2}})} \\\\\n",
    "      &   &  \\\\\n",
    "k'(c) & = & \\lim_{x \\rightarrow c} \\frac{\\frac{x-c}{-xc}}\n",
    "      {(x-c)(x^{\\frac{-1}{2}} + c^{\\frac{-1}{2}})} \\\\\n",
    "      &   &  \\\\\n",
    "k'(c) & = & \\lim_{x \\rightarrow c} \\frac{-1}{(xc)(x^{\\frac{-1}{2}} + c^{\\frac{-1}{2}})} =\n",
    "            \\lim_{x \\rightarrow c} \\frac{-1}{cx^{\\frac{1}{2}} + xc^{\\frac{1}{2}}}\\\\\n",
    "      &   &  \\\\\n",
    "k'(c) & = & \\frac{-1}{c^{\\frac{3}{2}} + c^{\\frac{3}{2}}} = \n",
    "      \\frac{-1}{2c^{\\frac{3}{2}}}\\\\\n",
    "      &   &  \\\\\n",
    "k'(x) & = & (\\frac{-1}{2})x^{\\frac{-3}{2}}\n",
    "\\end{eqnarray}\n",
    "<hr>"
   ]
  },
  {
   "cell_type": "markdown",
   "metadata": {},
   "source": [
    "### 9. The Chain Rule\n",
    "\n",
    "Use the chain rule to find these deriviatives. Verify your results with `sympy`.\n",
    "\n",
    "a) $f(x) = \\frac{1}{1+x^2}$\n",
    "\n",
    "b) $h(x) = (\\sin x^k)^m$ for $m,k \\in \\mathbb{N}$"
   ]
  },
  {
   "cell_type": "markdown",
   "metadata": {},
   "source": [
    "<hr>\n",
    "\n",
    "**Definition**\n",
    "\n",
    "$$\n",
    "(g \\circ f)'(x) = g'(f(x)) \\cdot f'(x).\n",
    "$$\n",
    "\n",
    "<hr>"
   ]
  },
  {
   "cell_type": "markdown",
   "metadata": {},
   "source": [
    "The derivative of $f(x) = \\frac{1}{1+x^2}$ is evaulated as <br>\n",
    "- Let $h(x) = 1+x^2$ and $k(x) = \\frac{1}{x}$ <br><br>\n",
    "- $h'(x) = 2x$ and $k'(x) = \\frac{-1}{x^2}$ <br><br>\n",
    "- then $(\\frac{1}{1+x^2})' = k'(h(x)) \\cdot h'(x)$ <br><br>\n",
    "- Sustitute expressions:$\\frac{-1}{(1+x^2)^2} \\cdot 2x$ <br><br>\n",
    "- $f'(x) = \\frac{-2x}{(1+x^2)^2}$"
   ]
  },
  {
   "cell_type": "code",
   "execution_count": 7,
   "metadata": {},
   "outputs": [
    {
     "data": {
      "text/latex": [
       "$\\displaystyle - \\frac{2 x}{\\left(x^{2} + 1\\right)^{2}}$"
      ],
      "text/plain": [
       "-2*x/(x**2 + 1)**2"
      ]
     },
     "execution_count": 7,
     "metadata": {},
     "output_type": "execute_result"
    }
   ],
   "source": [
    "# sympy derivative\n",
    "x = sp.symbols(\"x\")\n",
    "f = 1/(1+x**2)\n",
    "Df = sp.diff(f,x)\n",
    "Df"
   ]
  },
  {
   "cell_type": "markdown",
   "metadata": {},
   "source": [
    "The derivative of $h(x) = (\\sin x^k)^m$ for $m,k \\in \\mathbb{N}$ is evaluated as <br>\n",
    "- Execute the chain rule twice <br><br>\n",
    "- Let $f(x) = x^k$ and $g(x) = \\sin{x}$ then <br><br>\n",
    "    - solve again where $c(x) = \\sin{x^k}$ and $d(x) = x^m$ <br><br>\n",
    "- $f'(x) = kx^{k-1}$ and $g'(x) = \\cos{x}$ <br><br>\n",
    "- $(\\sin{x^k})' = \\cos(x^{k}) \\cdot kx^{k-1}$ <br><br>\n",
    "- Remaining term, $d'(x) = mx^{m-1}$<br><br>\n",
    "- Substitute into $d'(c(x)) \\cdot c'(x) = m(\\sin{x^k})^{m-1} \\cdot kx^{k-1}\\cos(x^{k})$ <br><br>\n",
    "- Refactor $ kmx^{k-1}\\cos(x^{k})\\sin(x^k)^{m-1} = kmx^{k}x^{-1}\\cos(x^k)\\sin(x^k)^m \\sin(x^k)^{-1} $ <br><br>\n",
    "- $h'(x) = \\frac{kmx^{k}\\cos(x^k)\\sin(x^k)^m}{x\\sin(x^k)}$"
   ]
  },
  {
   "cell_type": "code",
   "execution_count": 8,
   "metadata": {},
   "outputs": [
    {
     "data": {
      "text/latex": [
       "$\\displaystyle \\frac{k m x^{k} \\sin^{m}{\\left(x^{k} \\right)} \\cos{\\left(x^{k} \\right)}}{x \\sin{\\left(x^{k} \\right)}}$"
      ],
      "text/plain": [
       "k*m*x**k*sin(x**k)**m*cos(x**k)/(x*sin(x**k))"
      ]
     },
     "execution_count": 8,
     "metadata": {},
     "output_type": "execute_result"
    }
   ],
   "source": [
    "# sympy derivative\n",
    "x,k,m = sp.symbols(\"x k m\")\n",
    "h = sp.sin(x**k)**m\n",
    "Dh = sp.diff(h,x)\n",
    "Dh"
   ]
  },
  {
   "cell_type": "markdown",
   "metadata": {},
   "source": [
    "### 10. The Mean Value Theorem\n",
    "\n",
    "Use the mean value theorem to show that $|\\sin x - \\sin y| \\leq |x-y|$ for all $x,y \\in \\mathbb{R}$. \n",
    "\n",
    "Visualize this problem with a plot."
   ]
  },
  {
   "cell_type": "markdown",
   "metadata": {},
   "source": [
    "The mean value theorem of $|\\sin x - \\sin y| \\leq |x-y|$ for all $x,y \\in \\mathbb{R}$ is __\n",
    "$$ .$$"
   ]
  },
  {
   "cell_type": "code",
   "execution_count": 9,
   "metadata": {},
   "outputs": [],
   "source": [
    "# matplotlib\n",
    "\n",
    "fig = plt.figure(figsize=(10,6))\n",
    "ax = fig.add_subplot(111, projection='3d')\n",
    "\n",
    "# Make data.\n",
    "X = np.arange(-5, 5, 0.25)\n",
    "Y = np.arange(-5, 5, 0.25)\n",
    "X, Y = np.meshgrid(X, Y)\n",
    "R = np.sqrt(X**2 + Y**2)\n",
    "Z = np.sin(R)/(1+R)\n",
    "\n",
    "# Plot the surface with face colors taken from the array we made.\n",
    "surf = ax.plot_surface(X, Y, Z, cmap='Blues_r')\n",
    "\n",
    "# Add labels\n",
    "ax.set_xlabel('X')\n",
    "ax.set_ylabel('Y')\n",
    "ax.set_zlabel('Z');\n"
   ]
  },
  {
   "cell_type": "markdown",
   "metadata": {},
   "source": [
    "### 11. Taylor Approxmations\n",
    "\n",
    "Use `sympy` to find the Taylor Approximations to $\\sin x$ with 1 term, 2 terms, 3 terms, all the way up to 6 terms. Ignore the remainder term. Plot all of these approximations along with $\\sin x$ on the same plot, showing the approximations get better and better. "
   ]
  },
  {
   "cell_type": "markdown",
   "metadata": {},
   "source": [
    "<hr>\n",
    "\n",
    "**Taylor Approximation**\n",
    "\n",
    "$$\n",
    "f(x) = f(x_0) + f'(x_0)(x-x_0) + \\frac{f''(x_0)}{2!}(x-x_0)^2 + ... \n",
    "     + \\frac{f^{(n)}(x_0)}{n!}(x-x_0)^n\n",
    "     + \\frac{f^{(n+1)}(c)}{(n+1)!}(x-x_0)^{n+1}\n",
    "$$\n",
    "\n",
    "<hr>"
   ]
  },
  {
   "cell_type": "code",
   "execution_count": 10,
   "metadata": {},
   "outputs": [
    {
     "name": "stdout",
     "output_type": "stream",
     "text": [
      "[x]\n",
      "[x, -x**3/6]\n",
      "[x, -x**3/6, x**5/120]\n",
      "[x, -x**3/6, x**5/120, -x**7/5040]\n",
      "[x, -x**3/6, x**5/120, -x**7/5040, x**9/362880]\n",
      "[x, -x**3/6, x**5/120, -x**7/5040, x**9/362880, -x**11/39916800]\n"
     ]
    }
   ],
   "source": [
    "# Taylor Series Approximations for sin(x)\n",
    "\n",
    "def taylor_power_approx(f,n):\n",
    "    '''\n",
    "    Returns n (non-zero) terms in taylor series approximation of f \n",
    "    Assumes n > 0 and f is a continuous function dependent upon 1 variable\n",
    "    '''\n",
    "    apprx = []\n",
    "    x = f.free_symbols.pop()\n",
    "    x0 = sp.symbols(\"x0\")\n",
    "    f = f.subs(x,x0)\n",
    "    term = f.subs(x0,0) #chose approximation around x = 0\n",
    "    if term != 0: apprx.append(term)\n",
    "    def next_term(apprx,f,i,n):\n",
    "        if len(apprx) == n:\n",
    "            return apprx\n",
    "        else:\n",
    "            term = sp.diff(f)*((x-x0)**(i+1)/sp.factorial(i+1))\n",
    "            term = term.subs(x0,0)\n",
    "            if term != 0: apprx.append(term)\n",
    "            return next_term(apprx,sp.diff(f),i+1,n)\n",
    "    apprx = next_term(apprx,f,0,n)\n",
    "    print(apprx)\n",
    "    return sp.lambdify(x,sum(apprx),'numpy')\n",
    "\n",
    "x = sp.symbols(\"x\")\n",
    "sin1 = taylor_power_approx(sp.sin(x),1)\n",
    "sin2 = taylor_power_approx(sp.sin(x),2)\n",
    "sin3 = taylor_power_approx(sp.sin(x),3)\n",
    "sin4 = taylor_power_approx(sp.sin(x),4)\n",
    "sin5 = taylor_power_approx(sp.sin(x),5)\n",
    "sin6 = taylor_power_approx(sp.sin(x),6);"
   ]
  },
  {
   "cell_type": "code",
   "execution_count": 12,
   "metadata": {},
   "outputs": [
    {
     "data": {
      "image/png": "[encoded data removed]",
      "text/plain": [
       "<Figure size 720x576 with 1 Axes>"
      ]
     },
     "metadata": {
      "needs_background": "light"
     },
     "output_type": "display_data"
    }
   ],
   "source": [
    "# matplotlib\n",
    "n = np.arange(-np.pi,np.pi,0.1)\n",
    "f = np.sin\n",
    "\n",
    "fig,ax = plt.subplots(figsize=(10,8))    \n",
    "plt.plot(n,f(n),label='sin(x)')\n",
    "plt.scatter(n,sin1(n),marker='.',label='sin_approx1')\n",
    "plt.scatter(n,sin2(n),marker='.',label='sin_approx2')\n",
    "plt.scatter(n,sin3(n),marker='.',label='sin_approx3')\n",
    "plt.scatter(n,sin4(n),marker='.',label='sin_approx4')\n",
    "plt.scatter(n,sin5(n),marker='.',label='sin_approx5')\n",
    "plt.scatter(n,sin6(n),marker='.',label='sin_approx6')\n",
    "plt.xticks(np.pi * np.array([-1,-1/2,0,1/2,1]))\n",
    "ax.set_xticklabels([\"-$\\pi$\", \"-$\\pi/2$\", \"0\", \"$\\pi/2$\", \"$\\pi$\"])\n",
    "plt.xlabel('x')\n",
    "plt.ylabel('f(x)')\n",
    "plt.title('Taylor Series Approximation for sin(x)')\n",
    "plt.legend();"
   ]
  },
  {
   "cell_type": "code",
   "execution_count": 11,
   "metadata": {},
   "outputs": [],
   "source": [
    "def taylor_approx(f,n):\n",
    "    '''\n",
    "    Returns n terms in taylor series approximation of f \n",
    "    '''\n",
    "    apprx = []\n",
    "    x = f.free_symbols.pop()\n",
    "    x0 = sp.symbols(\"x0\")\n",
    "    f = f.subs(x,x0)\n",
    "    term = f.subs(x0,0) #chose approximation around x = 0\n",
    "    apprx.append(term)\n",
    "    def next_term(apprx,f,i,n):\n",
    "        if len(apprx) == n:\n",
    "            return apprx\n",
    "        else:\n",
    "            term = sp.diff(f)*((x-x0)**(i+1)/sp.factorial(i+1))\n",
    "            term = term.subs(x0,0)\n",
    "            apprx.append(term)\n",
    "            return next_term(apprx,sp.diff(f),i+1,n)\n",
    "    apprx = next_term(apprx,f,0,n)\n",
    "    print(apprx)\n",
    "    return sp.lambdify(x,sum(apprx),'numpy')\n",
    "\n",
    "\n",
    "x = sp.symbols(\"x\")\n",
    "#sin1 = taylor_approx(sp.sin(x),1)\n",
    "#sin2 = taylor_approx(sp.sin(x),2)\n",
    "#sin3 = taylor_approx(sp.sin(x),3)\n",
    "#sin4 = taylor_approx(sp.sin(x),4)\n",
    "#sin5 = taylor_approx(sp.sin(x),5)\n",
    "#sin6 = taylor_approx(sp.sin(x),6);"
   ]
  },
  {
   "cell_type": "code",
   "execution_count": 12,
   "metadata": {},
   "outputs": [
    {
     "data": {
      "image/png": "[encoded data removed]",
      "text/plain": [
       "<Figure size 720x576 with 1 Axes>"
      ]
     },
     "metadata": {
      "needs_background": "light"
     },
     "output_type": "display_data"
    }
   ],
   "source": [
    "# matplotlib\n",
    "n = np.arange(-np.pi,np.pi,0.1)\n",
    "f = np.sin\n",
    "\n",
    "fig,ax = plt.subplots(figsize=(10,8))    \n",
    "plt.plot(n,f(n),label='sin(x)')\n",
    "plt.scatter(n,sin1(n),marker='.',label='sin_approx1')\n",
    "plt.scatter(n,sin2(n),marker='.',label='sin_approx2')\n",
    "plt.scatter(n,sin3(n),marker='.',label='sin_approx3')\n",
    "plt.scatter(n,sin4(n),marker='.',label='sin_approx4')\n",
    "plt.scatter(n,sin5(n),marker='.',label='sin_approx5')\n",
    "plt.scatter(n,sin6(n),marker='.',label='sin_approx6')\n",
    "plt.xticks(np.pi * np.array([-1,-1/2,0,1/2,1]))\n",
    "ax.set_xticklabels([\"-$\\pi$\", \"-$\\pi/2$\", \"0\", \"$\\pi/2$\", \"$\\pi$\"])\n",
    "plt.xlabel('x')\n",
    "plt.ylabel('f(x)')\n",
    "plt.title('Taylor Series Approximation for sin(x)')\n",
    "plt.legend();"
   ]
  },
  {
   "cell_type": "markdown",
   "metadata": {},
   "source": [
    "### 12. Showing Inequalities With Taylor's Approximation.\n",
    "\n",
    "Show that if $x>0$ then $1 + \\frac{1}{2}x - \\frac{1}{8}x^2 \\leq \\sqrt{1+x} \\leq 1 + \\frac{1}{2}x$. Hint, break this into two steps, one for each inequality. For the first step, use the first three terms of the Taylor approximation and a residual term that is cubic. For the second inequality, use the first two terms of the Taylor approximation and a residual term that is a square. Make sure to explain each step of your argument.\n",
    "\n",
    "How good is this approximation for $\\sqrt{2}$? How about $\\sqrt{3}$? \n",
    "\n",
    "Visualize this problem by making a plot showing the relationship of the three expressions as $x$ increases."
   ]
  },
  {
   "cell_type": "markdown",
   "metadata": {},
   "source": []
  },
  {
   "cell_type": "code",
   "execution_count": null,
   "metadata": {},
   "outputs": [],
   "source": []
  },
  {
   "cell_type": "markdown",
   "metadata": {},
   "source": [
    "### 13. L'Hospital's Rule\n",
    "\n",
    "Find expressions whose limits exist and correspond to each of the cases $0/0$, $\\infty/\\infty$, and $0^0$. Use `sympy` to evaluate these limits to show that it knows how to use L'Hospital's rule."
   ]
  },
  {
   "cell_type": "code",
   "execution_count": null,
   "metadata": {},
   "outputs": [],
   "source": []
  },
  {
   "cell_type": "code",
   "execution_count": null,
   "metadata": {},
   "outputs": [],
   "source": []
  },
  {
   "cell_type": "code",
   "execution_count": null,
   "metadata": {},
   "outputs": [],
   "source": []
  },
  {
   "cell_type": "code",
   "execution_count": null,
   "metadata": {},
   "outputs": [],
   "source": []
  },
  {
   "cell_type": "code",
   "execution_count": null,
   "metadata": {},
   "outputs": [],
   "source": []
  },
  {
   "cell_type": "code",
   "execution_count": null,
   "metadata": {},
   "outputs": [],
   "source": []
  },
  {
   "cell_type": "markdown",
   "metadata": {},
   "source": [
    "### 14. Integral Approximation\n",
    "\n",
    "a) Consider the function $f(x) = \\sin(x) / x$ over the domain $[1,9]$. Make a plot similar to the following that shows how to approximate the function with a set of $n = 20$ rectangles. The rectangles should have width $dx = (b-a)/n$ and heights $f(a), \\; f(a+dx), \\; f(a+2dx), \\dots$. \n",
    "\n",
    "![integral-approx](https://raw.githubusercontent.com/klavins/EE502P/master/imgaes/integral-approx.png)\n",
    "\n",
    "b) Write a Python function that takes a function `f`, a starting point `a`, an ending point `b`, and a positive integer `n` and returns the approximation of the integral $\\int_a^b f(x)dx$ that uses $n$ rectangles as defined in part (a). The signature of your function should look like\n",
    "\n",
    "```python\n",
    "def approx(f,a,b,n):\n",
    "```\n",
    "\n",
    "Demonstrate your function with the $f$ in part (a). \n",
    "\n",
    "c) Make a plot of `approx(f,a,b,n)` for $n = 1 \\; \\mathrm{to} \\; 100$. Use `sympy` to evaluate the actual integral. To which value of $n$ is the integral accurate to 5 decimal places?\n",
    "\n",
    "d) Use your function to make successive approximations to the integral $\\int_0^1 \\frac{1}{x} dx$ for $n=1$ to $20$, illustrating that the sequence does not converge.  "
   ]
  },
  {
   "cell_type": "code",
   "execution_count": null,
   "metadata": {},
   "outputs": [],
   "source": []
  },
  {
   "cell_type": "code",
   "execution_count": null,
   "metadata": {},
   "outputs": [],
   "source": [
    "def approx(f,a,b,n):\n",
    "    '''\n",
    "    Returns\n",
    "    f : continuous function\n",
    "    a : starting point\n",
    "    b : ending point\n",
    "    n : number of rectangles\n",
    "    '''\n",
    "    x = f.free_symbols.pop()"
   ]
  }
 ],
 "metadata": {
  "kernelspec": {
   "display_name": "Python 3",
   "language": "python",
   "name": "python3"
  },
  "language_info": {
   "codemirror_mode": {
    "name": "ipython",
    "version": 3
   },
   "file_extension": ".py",
   "mimetype": "text/x-python",
   "name": "python",
   "nbconvert_exporter": "python",
   "pygments_lexer": "ipython3",
   "version": "3.7.3"
  }
 },
 "nbformat": 4,
 "nbformat_minor": 2
}
