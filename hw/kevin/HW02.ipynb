{
 "cells": [
  {
   "cell_type": "markdown",
   "metadata": {
    "ExecuteTime": {
     "end_time": "2019-09-24T16:05:23.746666Z",
     "start_time": "2019-09-24T16:05:23.741461Z"
    }
   },
   "source": [
    "## EE 502 P: Analytical Methods for Electrical Engineering\n",
    "    \n",
    "# Homework 2: Sets, functions, and relations\n",
    "## Due 9 October, 2019 at 6:00 PM\n",
    "### <span style=\"color: red\">Kevin Egedy</span>\n",
    "\n",
    "Copyright &copy; 2019, University of Washington\n",
    "\n",
    "<hr>\n",
    "\n",
    "**Instructions**: Use this notebook as a template. Answer all questions using well formatted Markdown with embedded LaTeX equations, executable Jupyter cells, or both. Submit your homework solutions as an `.ipynb` file via Canvas.\n",
    "\n",
    "<span style=\"background: yellow; padding: 6px; border: 1pt solid black\">\n",
    "Although you may discuss the homework with others, you must turn in your own, original work.\n",
    "</span>\n",
    "\n",
    "**Things to remember:**\n",
    "- Use complete sentences. Equations should appear in text as grammatical elements.\n",
    "- Comment your code.\n",
    "- Label your axes. Title your plots. Use legends where appropriate. \n",
    "- Before submitting a notebook, choose Kernel -> Restart and Run All to make sure your notebook runs when the cells are evaluated in order. \n",
    "\n",
    "Note : Late homework will be accepted up to one week after the due date and will be worth 50% of its full credit score. "
   ]
  },
  {
   "cell_type": "code",
   "execution_count": 1,
   "metadata": {},
   "outputs": [],
   "source": [
    "# Libraries and Imports\n",
    "import numpy as np\n",
    "import sympy as sp\n",
    "import matplotlib.pyplot as plt\n",
    "%matplotlib inline"
   ]
  },
  {
   "cell_type": "markdown",
   "metadata": {},
   "source": [
    "### 0. Warmup (Do not turn in)\n",
    "\n",
    "- Make sure you get download and run the notebook for lecture 2. Work through the notebook cell by cell and see what happens when you change the expressions, and make up some of your own.\n",
    "- Read chapter one of [An Introduction to Real Analysis](https://www.math.ucdavis.edu/~hunter/intro_analysis_pdf/intro_analysis.html) by John K. Hunter. You can skim the sections on index sets and infinite unions and intersections.\n",
    "- Read up on [sets](https://www.w3schools.com/python/python_sets.asp), [tuples](https://www.w3schools.com/python/python_tuples.asp), and [lambdas](https://www.w3schools.com/python/python_lambda.asp) at python.org."
   ]
  },
  {
   "cell_type": "markdown",
   "metadata": {},
   "source": [
    "### 1. Set properties\n",
    "\n",
    "Given the follow definitions of sets\n",
    "\n",
    "$$A = \\{1,2,3\\}$$\n",
    "$$B = \\{3,4,5\\}$$\n",
    "$$C = \\{3,4,5,6,7\\}$$\n",
    "\n",
    "determine which of the following properties hold:\n",
    "\n",
    "$$0 \\in A$$\n",
    "\n",
    "$$4 \\in B \\cap C$$\n",
    "\n",
    "$$5 \\in C-B$$\n",
    "\n",
    "$$A \\subseteq B$$\n",
    "\n",
    "$$A \\subseteq C$$\n",
    "\n",
    "$$A \\cap B \\subseteq A$$\n",
    "\n",
    "$$B \\subseteq C$$\n",
    "\n",
    "If the property holds, say why. If it does not hold, give a counterexample showing the definition is not satisfied. "
   ]
  },
  {
   "cell_type": "markdown",
   "metadata": {},
   "source": [
    "The property $0 \\in A$ does not hold.\n",
    "- For all $a \\in A$, no value of $a = 0$\n",
    "- Thus $0 \\notin A$"
   ]
  },
  {
   "cell_type": "markdown",
   "metadata": {},
   "source": [
    "The property $4 \\in B \\cap C$ holds.\n",
    "- Given $x \\in (A \\cap B)$\n",
    "- Then $x \\in A$ and $x \\in B$\n",
    "- The result of $4 \\in A$ is true and the result of $4 \\in B$ is true\n",
    "- Thus $4 \\in B \\cap C$"
   ]
  },
  {
   "cell_type": "markdown",
   "metadata": {},
   "source": [
    "The property $5 \\in C-B$ does not hold.\n",
    "- Assume $x \\in (C-B)$ \n",
    "- Then $x \\in C$ and $x \\notin B$\n",
    "- The result of $5 \\in C$ is true but the result of $5 \\notin B$ is false\n",
    "- Thus $5 \\notin C-B$"
   ]
  },
  {
   "cell_type": "markdown",
   "metadata": {},
   "source": [
    "The property $A \\subseteq B$ does not hold. An example is the value 1.\n",
    "- For all $a \\in A$, not all $a \\in B$\n",
    "- Thus $A \\not\\subset B$"
   ]
  },
  {
   "cell_type": "markdown",
   "metadata": {},
   "source": [
    "The property $A \\subseteq C$ does not hold. An example is the value 1.\n",
    "- For all $a \\in A$, not all $a \\in C$\n",
    "- Thus $A \\not\\subset C$"
   ]
  },
  {
   "cell_type": "markdown",
   "metadata": {},
   "source": [
    "The property $A \\cap B \\subseteq A$ holds.\n",
    "- Assume $x \\in (A \\cap B)$\n",
    "- Then $x \\in A$ and $x \\in B$\n",
    "- Therefore, whenever $x \\in A \\cap B$ it is also in A\n",
    "- Thus  $A \\cap B \\subseteq A$"
   ]
  },
  {
   "cell_type": "markdown",
   "metadata": {},
   "source": [
    "The property $B \\subseteq C$ holds.\n",
    "- For all $b \\in B, b \\in C$ \n",
    "- Thus $B \\subseteq C$"
   ]
  },
  {
   "cell_type": "markdown",
   "metadata": {},
   "source": [
    "### 2. Set operations\n",
    "\n",
    "Let $A = \\{ 1,2,3,4,5 \\}$ and $B = \\{ 0,3,6 \\}$. Find\n",
    "\n",
    "a) $A \\cup B$\n",
    "\n",
    "b) $A \\cap B$\n",
    "\n",
    "c) $A - B$\n",
    "\n",
    "d) $B - A$\n",
    "\n",
    "Verify your results using Python sets."
   ]
  },
  {
   "cell_type": "markdown",
   "metadata": {},
   "source": [
    "The result of $A \\cup B$ is $$\\left\\{0, 1, 2, 3, 4, 5, 6\\right\\}.$$"
   ]
  },
  {
   "cell_type": "markdown",
   "metadata": {},
   "source": [
    "The result of $A \\cap B$ is $$\\left\\{3\\right\\}.$$"
   ]
  },
  {
   "cell_type": "markdown",
   "metadata": {},
   "source": [
    "The result of $A - B$ is $$\\left\\{1, 2, 4, 5\\right\\}.$$"
   ]
  },
  {
   "cell_type": "markdown",
   "metadata": {},
   "source": [
    "The result of $B - A$ is $$\\left\\{0, 6\\right\\}.$$"
   ]
  },
  {
   "cell_type": "code",
   "execution_count": 2,
   "metadata": {},
   "outputs": [],
   "source": [
    "# Define sets\n",
    "A = {1,2,3,4,5}\n",
    "B = {0,3,6}"
   ]
  },
  {
   "cell_type": "code",
   "execution_count": 3,
   "metadata": {},
   "outputs": [
    {
     "data": {
      "text/plain": [
       "{0, 1, 2, 3, 4, 5, 6}"
      ]
     },
     "execution_count": 3,
     "metadata": {},
     "output_type": "execute_result"
    }
   ],
   "source": [
    "A.union(B)"
   ]
  },
  {
   "cell_type": "code",
   "execution_count": 4,
   "metadata": {},
   "outputs": [
    {
     "data": {
      "text/plain": [
       "{3}"
      ]
     },
     "execution_count": 4,
     "metadata": {},
     "output_type": "execute_result"
    }
   ],
   "source": [
    "A.intersection(B)"
   ]
  },
  {
   "cell_type": "code",
   "execution_count": 5,
   "metadata": {},
   "outputs": [
    {
     "data": {
      "text/plain": [
       "{1, 2, 4, 5}"
      ]
     },
     "execution_count": 5,
     "metadata": {},
     "output_type": "execute_result"
    }
   ],
   "source": [
    "A.difference(B)"
   ]
  },
  {
   "cell_type": "code",
   "execution_count": 6,
   "metadata": {},
   "outputs": [
    {
     "data": {
      "text/plain": [
       "{0, 6}"
      ]
     },
     "execution_count": 6,
     "metadata": {},
     "output_type": "execute_result"
    }
   ],
   "source": [
    "B.difference(A)"
   ]
  },
  {
   "cell_type": "markdown",
   "metadata": {},
   "source": [
    "### 3. Set Proofs\n",
    "\n",
    "Using the definitions of the set operations, the definition of the subset relation, and basic logic, show the following are true.\n",
    "\n",
    "a) $A - B \\subseteq A$\n",
    "\n",
    "b) $A \\cap (B-A) = \\varnothing$\n",
    "\n",
    "c) $A \\cup (B-A) = A \\cup B$\n",
    "\n",
    "Show examples using small sets in Python illustrating each property. "
   ]
  },
  {
   "cell_type": "markdown",
   "metadata": {},
   "source": [
    "$A - B \\subseteq A$\n",
    "- Assume $x \\in (A-B)$ \n",
    "- Then $x \\in A$ and $x \\notin B$\n",
    "- Therefore, whenever $x \\in (A-B)$ it is also in A\n",
    "- Thus $A - B \\subseteq A$"
   ]
  },
  {
   "cell_type": "markdown",
   "metadata": {},
   "source": [
    " $A \\cap (B-A) = \\varnothing$\n",
    "- Difference Property: $x \\in (B-A)$ then $x \\in B$ and $x \\notin A$\n",
    "- Intersect Property:  $x \\in (A \\cap C)$ then $x \\in A$ and $x \\in C$\n",
    "- Substitute LHS: \n",
    "  $x \\in A$ and ($x \\in B$ and $x \\notin A$)\n",
    "- No value exists such that $x \\in A$ and $x \\notin A$\n",
    "- Thus $A \\cap (B-A) = \\varnothing$"
   ]
  },
  {
   "cell_type": "markdown",
   "metadata": {},
   "source": [
    "$A \\cup (B-A) = A \\cup B$\n",
    "- Difference Property: $x \\in (B-A)$ then $x \\in B$ and $x \\notin A$\n",
    "- Union Property:  $x \\in (A \\cup C)$ then $x \\in A$ or $x \\in C$\n",
    "- Substitue LHS:\n",
    "  $x \\in A$ or ($x \\in B$ and $x \\notin A$)\n",
    "- Distributive Law:\n",
    "  ($x \\in A$ or $x \\in B$) and ($x \\in A$ or $x \\notin A$)\n",
    "- Simplify:\n",
    "  ($x \\in A$ or $x \\in B$) and (True)\n",
    "- Therefore we are left with $x \\in A$ or $x \\in B$ which is the definition of the union property\n",
    "- Thus $A \\cup (B-A) = A \\cup B$"
   ]
  },
  {
   "cell_type": "markdown",
   "metadata": {
    "ExecuteTime": {
     "end_time": "2019-09-30T20:21:35.986395Z",
     "start_time": "2019-09-30T20:21:35.964585Z"
    }
   },
   "source": [
    "### 4. Cartesian Products\n",
    "\n",
    "a) If $A_i$ has $n_i$ elements, how many elements does $A_1 \\times A_2 \\times \\dots A_n$ have? Why?\n",
    "\n",
    "b) Give an example where the numbers of elements in $A_1 \\times A_2 \\times \\dots A_n$ is 1. \n",
    "\n",
    "c) Give examples of nonempty sets $A$ and $B$ where $A \\times B = B \\times A$. "
   ]
  },
  {
   "cell_type": "markdown",
   "metadata": {},
   "source": [
    "The Cartesian product is the set of all ordered pairs. The number of elements in $A_1 \\times A_2 \\times \\dots A_n$ is the product of $n_1 \\cdot n_2 \\cdot \\dots n_n$. If $n_1 = 1,n_2=2,\\dots$ then the total is $n!$. The total number of elements is the product of the cardinality in each set."
   ]
  },
  {
   "cell_type": "markdown",
   "metadata": {},
   "source": [
    "$A_1 \\times A_2 \\times \\dots A_n$ results in 1 element when every set contains 1 element.<br>\n",
    "For example,\n",
    "$$\\{1\\} \\times \\{2\\} \\times \\{3\\} .. \\{n\\} = \\{(1,2,3,..n)\\}$$"
   ]
  },
  {
   "cell_type": "markdown",
   "metadata": {},
   "source": [
    "$A \\times B = B \\times A$ occurs when $A = B$ and $(A or B)$ only contain 1 element."
   ]
  },
  {
   "cell_type": "markdown",
   "metadata": {},
   "source": [
    "### 5. Function Properties\n",
    "\n",
    "Plot each of the following functions from $\\mathbb{Z}$ to $\\mathbb{Z}$ over a representative subdomain (use points and not a line since the domain is $\\mathbb{Z}$. What is the range of each function? State which of them are injective, which are surjective, and which are bijective. For functions for which a given property holds, explain why. For functions for which the given property does not hold, give a counterexample.\n",
    "\n",
    "a) $f(n) = n-1$\n",
    "\n",
    "b) $f(n) = n^3$\n",
    "\n",
    "c) $f(n) = n^2 + 1$\n",
    "\n",
    "d) $f(n) = \\lceil n/2 \\rceil$"
   ]
  },
  {
   "cell_type": "code",
   "execution_count": 7,
   "metadata": {},
   "outputs": [
    {
     "data": {
      "image/png": "[encoded data removed]",
      "text/plain": [
       "<Figure size 720x720 with 1 Axes>"
      ]
     },
     "metadata": {
      "needs_background": "light"
     },
     "output_type": "display_data"
    }
   ],
   "source": [
    "# Define subdomain and funtion\n",
    "n = np.arange(-10,11)\n",
    "f0 = lambda n: n-1\n",
    "\n",
    "# Plot\n",
    "ax,fig = plt.subplots(1,figsize=(10,10))\n",
    "plt.scatter(n,f0(n))\n",
    "plt.grid(True)\n",
    "plt.xticks(np.arange(-10,11,2))\n",
    "plt.xlabel('domain (Z)')\n",
    "plt.ylabel('codomain (Z)')\n",
    "plt.title('n - 1')\n",
    "plt.show()"
   ]
  },
  {
   "cell_type": "code",
   "execution_count": 8,
   "metadata": {},
   "outputs": [],
   "source": [
    "#for x in np.arange(-10,11):\n",
    "#    print(x,f0(x))"
   ]
  },
  {
   "cell_type": "markdown",
   "metadata": {},
   "source": [
    "The range for $f(n) = n-1$ is $[-11, 9]$."
   ]
  },
  {
   "cell_type": "markdown",
   "metadata": {},
   "source": [
    "The injective property holds.<br> \n",
    "The function is a one to one map from distinct elements of X to distinct elements of Y.<br>\n",
    "Given $x_1,x_2 \\in X$ and $x_1 \\neq x_2$, then $f(x_1) \\neq f(x_2)$ "
   ]
  },
  {
   "cell_type": "markdown",
   "metadata": {},
   "source": [
    "The surjective property holds.<br>\n",
    "In the function, for all $y \\in Y$, there exists $x \\in X$ such that $f(x) = y$."
   ]
  },
  {
   "cell_type": "markdown",
   "metadata": {},
   "source": [
    "The bijective property holds.<br>\n",
    "The function is both injective and surjective.<br>\n",
    "Each element of the codomain is mapped to exactly one element of the domain."
   ]
  },
  {
   "cell_type": "code",
   "execution_count": 9,
   "metadata": {},
   "outputs": [
    {
     "data": {
      "image/png": "[encoded data removed]",
      "text/plain": [
       "<Figure size 720x720 with 1 Axes>"
      ]
     },
     "metadata": {
      "needs_background": "light"
     },
     "output_type": "display_data"
    }
   ],
   "source": [
    "# Define subdomain and function\n",
    "n = np.arange(-10,11)\n",
    "f1 = lambda n: n**3\n",
    "\n",
    "# Plot\n",
    "ax,fig = plt.subplots(1,figsize=(10,10))\n",
    "plt.scatter(n,f1(n))\n",
    "plt.grid(True)\n",
    "plt.xticks(np.arange(-10,11,2))\n",
    "plt.xlabel('domain (Z)')\n",
    "plt.ylabel('codomain (Z)')\n",
    "plt.title('n^3')\n",
    "plt.show()"
   ]
  },
  {
   "cell_type": "code",
   "execution_count": 10,
   "metadata": {},
   "outputs": [],
   "source": [
    "#for x in np.arange(-10,11):\n",
    "#    print(x,f1(x))"
   ]
  },
  {
   "cell_type": "markdown",
   "metadata": {},
   "source": [
    "The range for $f(n) = n^3$ is $[-1000,1000]$."
   ]
  },
  {
   "cell_type": "markdown",
   "metadata": {},
   "source": [
    "The injective property holds.<br> \n",
    "The function is a one to one map from distinct elements of X to distinct elements of Y.<br>\n",
    "Given $x_1,x_2 \\in X$ and $x_1 \\neq x_2$, then $f(x_1) \\neq f(x_2)$ "
   ]
  },
  {
   "cell_type": "markdown",
   "metadata": {},
   "source": [
    "The surjective property holds.<br>\n",
    "In the function, for all $y \\in Y$, there exists $x \\in X$ such that $f(x) = y$."
   ]
  },
  {
   "cell_type": "markdown",
   "metadata": {},
   "source": [
    "The bijective property holds.<br>\n",
    "The function is both injective and surjective.<br>\n",
    "Each element of the codomain is mapped to exactly one element of the domain."
   ]
  },
  {
   "cell_type": "code",
   "execution_count": 11,
   "metadata": {},
   "outputs": [
    {
     "data": {
      "image/png": "[encoded data removed]",
      "text/plain": [
       "<Figure size 720x720 with 1 Axes>"
      ]
     },
     "metadata": {
      "needs_background": "light"
     },
     "output_type": "display_data"
    }
   ],
   "source": [
    "# Define subdomain and function\n",
    "n = np.arange(-10,11)\n",
    "f2 = lambda n: n**2 + 1\n",
    "\n",
    "# Plot\n",
    "ax,fig = plt.subplots(1,figsize=(10,10))\n",
    "plt.scatter(n,f2(n))\n",
    "plt.grid(True)\n",
    "plt.xticks(np.arange(-10,11,2))\n",
    "plt.xlabel('domain (Z)')\n",
    "plt.ylabel('codomain (Z)')\n",
    "plt.title('n^2 + 1')\n",
    "plt.show()"
   ]
  },
  {
   "cell_type": "code",
   "execution_count": 12,
   "metadata": {},
   "outputs": [],
   "source": [
    "#for x in np.arange(-10,11):\n",
    "#    print(x,f2(x))"
   ]
  },
  {
   "cell_type": "markdown",
   "metadata": {},
   "source": [
    "The range for $f(n) = n^2 + 1$ is $[101,101]$."
   ]
  },
  {
   "cell_type": "markdown",
   "metadata": {},
   "source": [
    "The injective property does not hold.<br>\n",
    "$f(x_1) = f(x_2)$ for all values $x_1,x_2 \\in X$ such that $x_1 = -x_2$ and $x_1,x_2 \\neq 0$.<br>\n",
    "For example, $f(x)=101$ at $x_1=10$ and $x_2=-10$."
   ]
  },
  {
   "cell_type": "markdown",
   "metadata": {},
   "source": [
    "The surjective property holds.<br>\n",
    "In the function, for all $y \\in Y$, there exists $x \\in X$ such that $f(x) = y$."
   ]
  },
  {
   "cell_type": "markdown",
   "metadata": {},
   "source": [
    "The bijective property does not hold.<br>\n",
    "The function is surjective but not injective."
   ]
  },
  {
   "cell_type": "code",
   "execution_count": 13,
   "metadata": {},
   "outputs": [
    {
     "data": {
      "image/png": "[encoded data removed]",
      "text/plain": [
       "<Figure size 720x720 with 1 Axes>"
      ]
     },
     "metadata": {
      "needs_background": "light"
     },
     "output_type": "display_data"
    }
   ],
   "source": [
    "# Define subdomain and function\n",
    "n = np.arange(-10,11)\n",
    "f3 = lambda n: np.ceil(n/2)\n",
    "\n",
    "# Plot\n",
    "ax,fig = plt.subplots(1,figsize=(10,10))\n",
    "plt.scatter(n,f3(n))\n",
    "plt.grid(True)\n",
    "plt.xticks(np.arange(-10,11,2))\n",
    "plt.xlabel('domain (Z)')\n",
    "plt.ylabel('codomain (Z)')\n",
    "plt.title('np.ceil(n/2)')\n",
    "plt.show()"
   ]
  },
  {
   "cell_type": "code",
   "execution_count": 14,
   "metadata": {},
   "outputs": [],
   "source": [
    "#for x in np.arange(-10,11):\n",
    "#    print(x,f3(x))"
   ]
  },
  {
   "cell_type": "markdown",
   "metadata": {},
   "source": [
    "The range for $f(n) = \\lceil n/2 \\rceil$ is $[-5,5]$."
   ]
  },
  {
   "cell_type": "markdown",
   "metadata": {},
   "source": [
    "The injective property does not hold.<br>\n",
    "For example, $f(x)=1$ at $x_1=1$ and $x_2=2$."
   ]
  },
  {
   "cell_type": "markdown",
   "metadata": {},
   "source": [
    "The surjective property holds.<br>\n",
    "In the function, for all $y \\in Y$, there exists $x \\in X$ such that $f(x) = y$."
   ]
  },
  {
   "cell_type": "markdown",
   "metadata": {},
   "source": [
    "The bijective property does not hold.<br>\n",
    "The function is surjective but not injective."
   ]
  },
  {
   "cell_type": "markdown",
   "metadata": {},
   "source": [
    "### 6. Composition\n",
    "\n",
    "a) Suppose that $f(x) = x^2 + 1$ and $g(x) = e^x$ are functions from $\\mathbb{R}$ into $\\mathbb{R}$. Find $f \\circ g$ and $g \\circ f$ and plot them in Python (on the same axis to compare).\n",
    "\n",
    "b) Suppose $f(x) = a x + b$ and $g(x) = c x + d$ are functions from $\\mathbb{R}$ into $\\mathbb{R}$. Find constants $a$, $b$, $c$ and $d$ such that $f \\circ g = g \\circ f$. "
   ]
  },
  {
   "cell_type": "code",
   "execution_count": 15,
   "metadata": {},
   "outputs": [
    {
     "data": {
      "image/png": "[encoded data removed]",
      "text/plain": [
       "<Figure size 720x720 with 1 Axes>"
      ]
     },
     "metadata": {
      "needs_background": "light"
     },
     "output_type": "display_data"
    }
   ],
   "source": [
    "# Define functions\n",
    "f = lambda x: x**2+1\n",
    "g = lambda x: np.exp(x)\n",
    "\n",
    "# Plot\n",
    "ax,fig = plt.subplots(1,figsize=(10,10))\n",
    "n = np.arange(-2,3)\n",
    "plt.plot(n,f(g(n)),label='f * g')\n",
    "plt.plot(n,g(f(n)),label='g * f')\n",
    "plt.legend()\n",
    "plt.xlabel('domain (R)')\n",
    "plt.ylabel('codomain (R)')\n",
    "plt.title('Composition')\n",
    "plt.grid(True)\n",
    "plt.xticks(np.arange(-2,3))\n",
    "plt.show()"
   ]
  },
  {
   "cell_type": "markdown",
   "metadata": {},
   "source": [
    "The result of $f \\circ g$ is\n",
    "$$ (e^{x})^{2}+1 = e^{2x}+1.$$"
   ]
  },
  {
   "cell_type": "markdown",
   "metadata": {},
   "source": [
    "The result of $g \\circ f$ is\n",
    "$$ e^{x^{2}+1}.$$"
   ]
  },
  {
   "cell_type": "code",
   "execution_count": 16,
   "metadata": {},
   "outputs": [
    {
     "name": "stdout",
     "output_type": "stream",
     "text": [
      "[((b*c - b + d)/d, b, c, d)]\n"
     ]
    }
   ],
   "source": [
    "# Solve composition with SymPy\n",
    "a,b,c,d,x = sp.symbols('a b c d x')\n",
    "f = a*x + b\n",
    "g = c*x + d\n",
    "f_g = f.subs({x:g})\n",
    "g_f = g.subs({x:f})\n",
    "print(sp.solve([f_g-g_f],[a,b,c,d]))"
   ]
  },
  {
   "cell_type": "markdown",
   "metadata": {},
   "source": [
    "The constants for $f \\circ g = g \\circ f$ where $f(x) = a x + b$ and $g(x) = c x + d$ are <br><br>\n",
    "$$ a=\\frac{(b \\cdot c)-b+d}{d},$$<br>\n",
    "$$b=b,$$<br>\n",
    "$$c=c,$$<br>\n",
    "$$d=d.$$"
   ]
  },
  {
   "cell_type": "markdown",
   "metadata": {},
   "source": [
    "### 7. Relations\n",
    "\n",
    "Define the relation $R$ on $\\mathbb{N} \\times \\mathbb{N}$ saying that $x \\; R\\; y$ if and only if the binary representations of $x$ and $y$ have the same number of ones. For example, $15 \\; R \\; 23$ since $15$ in binary is $1111$ and $23$ in binary is $10111$, which both have four ones. \n",
    "\n",
    "a) Show that $R$ is an equivalence relation.\n",
    "\n",
    "b) What is the equivalence class $[3]_R$ of the number $3$ (expressed in base 10). Hint: Come up with a general formula for numbers in this class.\n",
    "\n",
    "c) Write simple line of Python code that produces the set of all elements of $[3]_R$ that are less than 100 (expressed in base 10). "
   ]
  },
  {
   "cell_type": "markdown",
   "metadata": {},
   "source": [
    "$R$ is an equivalence relation because it is symmetric, transitive, and reflexive.<br>\n",
    "R is symmetric since $aRb$ and $bRa$. \n",
    "For example, $15 R 23$ and $23 R 15$.<br>\n",
    "R is transitive since $aRb$, $bRc$, and $aRc$.\n",
    "For example, $15 R 23$ and $23 R 24$ and $15 R 24$.<br>\n",
    "R is reflexive since $aRa$ for all $a$."
   ]
  },
  {
   "cell_type": "markdown",
   "metadata": {},
   "source": [
    "The equivalence class $[3]_R$ is $\\{ n \\in \\mathbb{N} \\mid n \\geq 3, n \\bmod 2 \\neq 0$ and $\\log_2(n-1) \\bmod 1 = 0\\}$."
   ]
  },
  {
   "cell_type": "code",
   "execution_count": 17,
   "metadata": {},
   "outputs": [
    {
     "data": {
      "text/plain": [
       "{3, 5, 9, 17, 33, 65}"
      ]
     },
     "execution_count": 17,
     "metadata": {},
     "output_type": "execute_result"
    }
   ],
   "source": [
    "# Python code to produce the set of all elements of [3]R\n",
    "{i for i in range(3,100) if i%2 != 0 and np.log2(i-1)%1==0}"
   ]
  },
  {
   "cell_type": "markdown",
   "metadata": {},
   "source": [
    "### 8. Sets, Functions, and Relations in Python\n",
    "\n",
    "Express each of the following objects in Python.\n",
    "\n",
    "a) The set of $P$ prime numbers less than 100. \n",
    "\n",
    "b) The relation $<$ on the set $\\{1,2,3,4,5,6\\}$, expressed as a set of tuples.\n",
    "\n",
    "c) The function $f: \\{1,2,3,4,5,6\\} \\rightarrow \\{0,1\\}$ in which $f(x) = 0$ if $x$ is even and $f(x)=1$ if $x$ is odd, expressed as a dictionary.\n",
    "\n",
    "d) The Cartesian product $\\{0,1\\}^4$ as a set of tuples. "
   ]
  },
  {
   "cell_type": "code",
   "execution_count": 18,
   "metadata": {},
   "outputs": [
    {
     "name": "stdout",
     "output_type": "stream",
     "text": [
      "{1, 2, 3, 5, 7, 11, 13, 17, 19, 23, 29, 31, 37, 41, 43, 47, 53, 59, 61, 67, 71, 73, 79, 83, 89, 97}\n"
     ]
    }
   ],
   "source": [
    "# Prime Numbers\n",
    "def primeNums(n):\n",
    "    '''Returns the prime numbers in the range from 1 to n'''\n",
    "    pn = {1}\n",
    "    for i in range(2,n):\n",
    "        flag = False\n",
    "        for j in range(2,i):\n",
    "            if i%j==0:\n",
    "                flag = True\n",
    "                break\n",
    "        if not flag: pn.add(i)\n",
    "    return pn\n",
    "P = primeNums(100)\n",
    "print(P)"
   ]
  },
  {
   "cell_type": "code",
   "execution_count": 19,
   "metadata": {},
   "outputs": [
    {
     "name": "stdout",
     "output_type": "stream",
     "text": [
      "{(1, 3), (5, 6), (0, 2), (1, 6), (2, 5), (0, 3), (1, 2), (1, 5), (3, 6), (0, 4), (2, 6), (4, 5), (1, 4), (0, 5), (2, 3), (3, 5), (0, 1), (4, 6), (0, 6), (3, 4), (2, 4)}\n"
     ]
    }
   ],
   "source": [
    "# Relation <\n",
    "X = {0,1,2,3,4,5,6}\n",
    "product = {(x0,x1) for x0 in X for x1 in X if x0<x1}\n",
    "print(product)"
   ]
  },
  {
   "cell_type": "code",
   "execution_count": 20,
   "metadata": {},
   "outputs": [
    {
     "name": "stdout",
     "output_type": "stream",
     "text": [
      "{1: 1, 2: 0, 3: 1, 4: 0, 5: 1, 6: 0}\n"
     ]
    }
   ],
   "source": [
    "# Even and Odd Function\n",
    "def even_odd(S):\n",
    "    '''Returns a function where f(x)=0 if x is even and \n",
    "    f(x)=1 if x is odd\n",
    "    Returns f(x) as a dictionary'''\n",
    "    d = {}\n",
    "    for s in S:\n",
    "        if s%2==0: d[s] = 0\n",
    "        else: d[s] = 1\n",
    "    return d\n",
    "f = even_odd({1,2,3,4,5,6})\n",
    "print(f)"
   ]
  },
  {
   "cell_type": "code",
   "execution_count": 21,
   "metadata": {},
   "outputs": [
    {
     "name": "stdout",
     "output_type": "stream",
     "text": [
      "{(1, 0, 1, 1), (1, 1, 0, 1), (1, 0, 0, 0), (1, 1, 1, 0), (1, 0, 1, 0), (0, 0, 0, 1), (0, 1, 1, 1), (1, 1, 0, 0), (1, 0, 0, 1), (0, 1, 0, 0), (0, 0, 1, 0), (1, 1, 1, 1), (0, 0, 0, 0), (0, 1, 1, 0), (0, 0, 1, 1), (0, 1, 0, 1)}\n"
     ]
    }
   ],
   "source": [
    "# Cartesian Product\n",
    "X = {0,1}\n",
    "product = {(x0,x1,x2,x3) for x0 in X for x1 in X for x2 in X for x3 in X}\n",
    "print(product)"
   ]
  },
  {
   "cell_type": "markdown",
   "metadata": {
    "ExecuteTime": {
     "end_time": "2019-10-01T17:52:09.486952Z",
     "start_time": "2019-10-01T17:52:09.482366Z"
    }
   },
   "source": [
    "### 9. The Cantor Set\n",
    "\n",
    "Define $C_0$ to be the closed interval $[0,1]$.\n",
    "\n",
    "Define $C_1$ to be the result of removing the middle third of $C_0$. So \n",
    "\n",
    "$$\n",
    "C_1 = [0,\\frac{1}{3}] \\cup [\\frac{1}{3},1].\n",
    "$$\n",
    "\n",
    "Define $C_2$ to be the result of removing the middle thirds of the two intervals in $C_2$. So\n",
    "\n",
    "$$\n",
    "C_2 = [0,\\frac{1}{9}] \\cup [\\frac{2}{9},\\frac{1}{3}] \\cup [\\frac{2}{3},\\frac{7}{9}] \\cup [\\frac{8}{9},1] .\n",
    "$$\n",
    "\n",
    "In general, $C_{n+1}$ is obtained by remove the middle thirds of the intervals in $C_n$. \n",
    "\n",
    "Write a Python function that takes a number $n$ and returns the set $C_n$. Use Python tuples to represent intervals, Python sets to represent sets of intervals, and sympy to represent the fractions. For example, you would have\n",
    "\n",
    "```python\n",
    "import sympy as sm\n",
    "\n",
    "C_0 = { (sm.Integer(0),sm.Integer(1)) }\n",
    "C_1 = { (sm.Integer(0),sm.Rational(1,3)), (sm.Rational(2,3),sm.Integer(1)) }\n",
    "```\n",
    "\n",
    "Demonstrate your function for a few different values of $n$. \n",
    "\n",
    "**Not graded**: Define the Cantor Set $C$ to be the limit of the series $C_0, C_1, \\dots$ as $n \\rightarrow \\infty$. Show $\\frac{1}{4} \\in C$."
   ]
  },
  {
   "cell_type": "code",
   "execution_count": 22,
   "metadata": {},
   "outputs": [],
   "source": [
    "def cantorSet(n):\n",
    "    '''Defines the Cantor Set C over the closerd interval [0,1]'''\n",
    "    C = [(sp.Integer(0),sp.Integer(1))]\n",
    "    def makeSet(C,n):\n",
    "        '''Recursive function that appends new ranges in C'''\n",
    "        if n==0: return C\n",
    "        else:\n",
    "            newRng = []\n",
    "            for rng in C:\n",
    "                start,stop = rng[0],rng[1]\n",
    "                newRng.append((start/3,stop/3))\n",
    "            for rng in C:\n",
    "                start,stop = rng[0],rng[1]\n",
    "                newRng.append((sp.Rational(2,3)+start/3,sp.Rational(2,3)+stop/3))\n",
    "            return makeSet(newRng,n-1)\n",
    "    return set(makeSet(C,n))   "
   ]
  },
  {
   "cell_type": "code",
   "execution_count": 23,
   "metadata": {},
   "outputs": [
    {
     "data": {
      "text/plain": [
       "{(0, 1/27),\n",
       " (2/27, 1/9),\n",
       " (2/9, 7/27),\n",
       " (8/27, 1/3),\n",
       " (2/3, 19/27),\n",
       " (20/27, 7/9),\n",
       " (8/9, 25/27),\n",
       " (26/27, 1)}"
      ]
     },
     "execution_count": 23,
     "metadata": {},
     "output_type": "execute_result"
    }
   ],
   "source": [
    "cantorSet(3) "
   ]
  },
  {
   "cell_type": "code",
   "execution_count": 24,
   "metadata": {},
   "outputs": [
    {
     "data": {
      "text/plain": [
       "{(0, 1/81),\n",
       " (2/81, 1/27),\n",
       " (2/27, 7/81),\n",
       " (8/81, 1/9),\n",
       " (2/9, 19/81),\n",
       " (20/81, 7/27),\n",
       " (8/27, 25/81),\n",
       " (26/81, 1/3),\n",
       " (2/3, 55/81),\n",
       " (56/81, 19/27),\n",
       " (20/27, 61/81),\n",
       " (62/81, 7/9),\n",
       " (8/9, 73/81),\n",
       " (74/81, 25/27),\n",
       " (26/27, 79/81),\n",
       " (80/81, 1)}"
      ]
     },
     "execution_count": 24,
     "metadata": {},
     "output_type": "execute_result"
    }
   ],
   "source": [
    "cantorSet(4) "
   ]
  },
  {
   "cell_type": "code",
   "execution_count": 25,
   "metadata": {},
   "outputs": [
    {
     "data": {
      "text/plain": [
       "{(0, 1/243),\n",
       " (2/243, 1/81),\n",
       " (2/81, 7/243),\n",
       " (8/243, 1/27),\n",
       " (2/27, 19/243),\n",
       " (20/243, 7/81),\n",
       " (8/81, 25/243),\n",
       " (26/243, 1/9),\n",
       " (2/9, 55/243),\n",
       " (56/243, 19/81),\n",
       " (20/81, 61/243),\n",
       " (62/243, 7/27),\n",
       " (8/27, 73/243),\n",
       " (74/243, 25/81),\n",
       " (26/81, 79/243),\n",
       " (80/243, 1/3),\n",
       " (2/3, 163/243),\n",
       " (164/243, 55/81),\n",
       " (56/81, 169/243),\n",
       " (170/243, 19/27),\n",
       " (20/27, 181/243),\n",
       " (182/243, 61/81),\n",
       " (62/81, 187/243),\n",
       " (188/243, 7/9),\n",
       " (8/9, 217/243),\n",
       " (218/243, 73/81),\n",
       " (74/81, 223/243),\n",
       " (224/243, 25/27),\n",
       " (26/27, 235/243),\n",
       " (236/243, 79/81),\n",
       " (80/81, 241/243),\n",
       " (242/243, 1)}"
      ]
     },
     "execution_count": 25,
     "metadata": {},
     "output_type": "execute_result"
    }
   ],
   "source": [
    "cantorSet(5) "
   ]
  },
  {
   "cell_type": "markdown",
   "metadata": {},
   "source": [
    "### 10 Cardinality\n",
    "\n",
    "a) A polynomial with integer coefficients is a an expression like $2 x^3 + 3 x^2 - 4 x + 8$. Show that the set of all polynomials with integer coefficients is countable. \n",
    "\n",
    "b) A number is called *algebraic* if it is the root of some polynomial with integer coefficients. For example, $\\sqrt 2$ is algebraic because it is a root of the polynomial $x^2 - 2$. Use (a) to show that the set of algebraic numbers is countable. \n",
    "\n",
    "c) A number is called **transcendental** if it is neither rational nor algebraic. Using (b) and facts discussed in class, explain why the set of transcendental numbers in $\\mathbb{R}$ is uncountable. "
   ]
  },
  {
   "cell_type": "markdown",
   "metadata": {},
   "source": [
    "- Take $P_n$ as the set of all polynomials of degree n with integer coefficients. \n",
    "- Make injection (1-1 map of distinct X to distinct Y) so $P_n$ maps to $\\mathbb{Z}^{n+1}$. <br><br>\n",
    "$$a_0 + a_1x + \\dots +a_nx^{n} \\mapsto (a_0,a_1,\\dots a_n)$$<br>\n",
    "- $\\mathbb{Z}$ is countable and $\\mathbb{Z}^{n+1}$ is the countable cartesian product of $\\mathbb{Z}$ onto itself.\n",
    "    - We define the function $f : \\mathbb{Z} \\times \\mathbb{Z}$\n",
    "    - The product $\\mathbb{Z} \\times \\mathbb{Z}$ is arranged in a table such that $(m,n) \\lt (m',n')$.\n",
    "    - We can define a linear order such that $f$ is injective and surjective therefore it is countable.\n",
    "- Since $\\mathbb{Z}^{n+1}$ is countable then $P_n$ is also countable.\n",
    "- The set of all $P_n$ can be expressed as $P = \\cup_{n \\in \\mathbb{N}}P_n$.\n",
    "- Therefore since $P_n$ is countable and $\\mathbb{N}$ is countable, the set of all polynomials is a countable union of countable sets."
   ]
  },
  {
   "cell_type": "markdown",
   "metadata": {},
   "source": [
    "- We have shown the set of all polynomials is countable.\n",
    "- Each polynomial in the set has a finite number of roots.\n",
    "- Therefore there is a countable union of finite sets.\n",
    "- The set of algebraic numbers $A$ is countable."
   ]
  },
  {
   "cell_type": "markdown",
   "metadata": {},
   "source": [
    "- The set of transcendental numbers $T \\subseteq \\mathbb{R} - (A \\cup \\mathbb{Q})$.\n",
    "- We know that $\\mathbb{R}$ is uncountable and we know that A and $\\mathbb{Q}$ are countable.\n",
    "- Then we know that for $t \\in T$, then $t \\in \\mathbb{R}$ and $t \\notin A$ and $t \\notin \\mathbb{Q}$.\n",
    "- Therefore we know that $T$ is not countable since it does not contain any countable sets within $\\mathbb{R}$.  "
   ]
  },
  {
   "cell_type": "code",
   "execution_count": null,
   "metadata": {},
   "outputs": [],
   "source": []
  }
 ],
 "metadata": {
  "kernelspec": {
   "display_name": "Python 3",
   "language": "python",
   "name": "python3"
  },
  "language_info": {
   "codemirror_mode": {
    "name": "ipython",
    "version": 3
   },
   "file_extension": ".py",
   "mimetype": "text/x-python",
   "name": "python",
   "nbconvert_exporter": "python",
   "pygments_lexer": "ipython3",
   "version": "3.7.3"
  }
 },
 "nbformat": 4,
 "nbformat_minor": 2
}
