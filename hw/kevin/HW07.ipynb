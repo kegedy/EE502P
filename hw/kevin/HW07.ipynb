{
 "cells": [
  {
   "cell_type": "markdown",
   "metadata": {
    "ExecuteTime": {
     "end_time": "2019-09-24T16:05:23.746666Z",
     "start_time": "2019-09-24T16:05:23.741461Z"
    }
   },
   "source": [
    "<span style=\"color: orange\">DRAFT: WILL BE FINALIZED BY FRIDAY. PROBABLY ONLY SMALL CHANGES IF ANY.</span>\n",
    "\n",
    "## EE 502 P: Analytical Methods for Electrical Engineering\n",
    "    \n",
    "# Homework 7: Graphs and Networks\n",
    "## Due 20 November, 2019 at 6:00 PM\n",
    "### <span style=\"color: red\">YOUR NAME HERE</span>\n",
    "\n",
    "Copyright &copy; 2019, University of Washington\n",
    "\n",
    "<hr>\n",
    "\n",
    "**Instructions**: Use this notebook as a template. Answer all questions using well formatted Markdown with embedded LaTeX equations, executable Jupyter cells, or both. Submit your homework solutions as an `.ipynb` file via Canvas.\n",
    "\n",
    "<span style=\"background: yellow; padding: 6px; border: 1pt solid black\">\n",
    "Although you may discuss the homework with others, you must turn in your own, original work.\n",
    "</span>\n",
    "\n",
    "**Things to remember:**\n",
    "- Use complete sentences. Equations should appear in text as grammatical elements.\n",
    "- Comment your code.\n",
    "- Label your axes. Title your plots. Use legends where appropriate. \n",
    "- Before submitting a notebook, choose Kernel -> Restart and Run All to make sure your notebook runs when the cells are evaluated in order. \n",
    "\n",
    "Note : Late homework will be accepted up to one week after the due date and will be worth 50% of its full credit score. "
   ]
  },
  {
   "cell_type": "markdown",
   "metadata": {},
   "source": [
    "### 0. Warmup (Do not turn in)\n",
    "\n",
    "- Make sure you get download, read, and run the notebook for lecture 7. Work through the notebook cell by cell and see what happens when you change the expressions, and make up some of your own.\n",
    "- The material covered in class is intended to be an introductory overview of the incredibly rich and expansive subject of Graph Theory.\n",
    "- Most of the section on basic graph theory is from chapter one of\n",
    "\n",
    "> Bollobas, [Modern Graph Theory](https://www.springer.com/gp/book/9780387984889).\n",
    "\n",
    "- The spanning tree algorithm by Prim is from \n",
    "\n",
    "> Gibbons, [Algorithmic Graph Theory](https://www.amazon.com/Algorithmic-Graph-Theory-Alan-Gibbons/dp/0521288819). \n",
    "\n",
    "- Graphs as matrices is covered in \n",
    "\n",
    "> Nica, [A Brief Introduction to Spectral Graph Theory](https://www.amazon.com/Introduction-Spectral-Theory-Textbooks-Mathematics/dp/3037191880/ref=sr_1_2?crid=3ETRQ8B0PW4EJ&keywords=spectral+graph+theory&qid=1573687537&s=books&sprefix=spectral+graph%2Cstripbooks%2C195&sr=1-2).\n",
    "\n",
    "The consensus algorithm is described in [these notes](http://www.eeci-institute.eu/pdf/M010/Eeci-sp09_L4_graphtheory.pdf) by Richard Murray.\n",
    "\n",
    "You will also need `networkx` which can be obtained [here](https://networkx.github.io/). If you are on Google CoLab, see [here](https://stackoverflow.com/questions/51342408/how-do-i-install-python-packages-in-googles-colab) for how to install packages. "
   ]
  },
  {
   "cell_type": "code",
   "execution_count": 10,
   "metadata": {},
   "outputs": [],
   "source": [
    "# Imports\n",
    "import io\n",
    "import requests\n",
    "import random\n",
    "import itertools\n",
    "import math\n",
    "import cmath\n",
    "import pandas as pd\n",
    "import numpy as np\n",
    "import networkx as nx\n",
    "import sympy as sp\n",
    "sp.init_printing(use_latex='mathjax')\n",
    "import scipy\n",
    "import scipy.ndimage\n",
    "import scipy.integrate as spi\n",
    "import matplotlib.pyplot as plt\n",
    "import matplotlib.patches as pch\n",
    "%matplotlib inline\n",
    "from mpl_toolkits.mplot3d import Axes3D \n",
    "from IPython.core.interactiveshell import InteractiveShell\n",
    "InteractiveShell.ast_node_interactivity = \"all\"\n",
    "#import warnings\n",
    "#warnings.filterwarnings(\"ignore\", module=\"matplotlib\")"
   ]
  },
  {
   "cell_type": "markdown",
   "metadata": {},
   "source": [
    "### 0. Creating a Graph\n",
    "\n",
    "Let $V = \\{ 1, ..., 20 \\}$ and say that $uv \\in E$ if and only if $u$ and $v$ have a common factor other than $1$. Use `networkx` to define this graph and render it. Make sure to label the nodes."
   ]
  },
  {
   "cell_type": "code",
   "execution_count": null,
   "metadata": {},
   "outputs": [],
   "source": [
    "'''uv in E iff  u  and  v  have a common factor other than  1 (i.e. u,v not coprime)'''\n",
    "# Undirected Graph\n",
    "G = nx.Graph()\n",
    "G.add_nodes_from(range(1,21)) # V: 20 nodes\n",
    "\n",
    "# Finds the greatest common factor of 2 input numbers a,b\n",
    "print(math.gcd(1,15))\n",
    "\n",
    "# Here is a possible implementation\n",
    "mylist = [] # fill this up with edges u,v iff u,v not coprime\n",
    "for u in range(1,21): # possible u node in V\n",
    "    for v in range(1,21): # possible v node in V\n",
    "        if #uv are not coprime then\n",
    "            # add them to mylist\n",
    "            \n",
    "G.add_edges_from(mylist) # V: fill out 20 nodes\n",
    "\n",
    "basic_graph,ax = plt.subplots(1,1)\n",
    "nx.draw(G, ax=ax, pos=nx.kamada_kawai_layout(G),with_labels=True, node_color='#444444',font_color=\"white\")\n",
    "\n"
   ]
  },
  {
   "cell_type": "markdown",
   "metadata": {},
   "source": [
    "### 2. Isomorphism\n",
    "\n",
    "Draw all graphs with four nodes and four edges, up to isomorphism."
   ]
  },
  {
   "cell_type": "code",
   "execution_count": 2,
   "metadata": {},
   "outputs": [
    {
     "data": {
      "text/latex": [
       "$$6.0$$"
      ],
      "text/plain": [
       "6.0"
      ]
     },
     "execution_count": 2,
     "metadata": {},
     "output_type": "execute_result"
    }
   ],
   "source": [
    "from scipy.special import comb\n",
    "comb(4,2)"
   ]
  },
  {
   "cell_type": "code",
   "execution_count": 5,
   "metadata": {},
   "outputs": [
    {
     "name": "stderr",
     "output_type": "stream",
     "text": [
      "/home/kegedy/anaconda3/lib/python3.7/site-packages/networkx/drawing/nx_pylab.py:611: MatplotlibDeprecationWarning: isinstance(..., numbers.Number)\n",
      "  if cb.is_numlike(alpha):\n"
     ]
    },
    {
     "data": {
      "image/png": "[encoded data removed]",
      "text/plain": [
       "<Figure size 432x288 with 1 Axes>"
      ]
     },
     "metadata": {},
     "output_type": "display_data"
    }
   ],
   "source": [
    "G1 = nx.Graph()\n",
    "G1.add_nodes_from(range(1,5)) # V: 4 nodes\n",
    "G1.add_edges_from([(3,2),(1,3),(1,4),(4,2)]) # 4 Edges\n",
    "basic_graph,ax = plt.subplots(1,1)\n",
    "nx.draw(G1, ax=ax, pos=nx.kamada_kawai_layout(G1),with_labels=True, node_color='#444444',font_color=\"white\")"
   ]
  },
  {
   "cell_type": "markdown",
   "metadata": {},
   "source": [
    "### 3. Bipartite Graphs\n",
    "\n",
    "a) What is the greatest number of edges a connected bipartite graph with $5$ nodes can have? Draw all five node graphs with this number of edges up to isomorphism.\n",
    "\n",
    "b) What is the least number of edges a connected bipartite graph with $5$ nodes can have? Draw all five node graphs with this number of edges up to isomorphism."
   ]
  },
  {
   "cell_type": "markdown",
   "metadata": {},
   "source": []
  },
  {
   "cell_type": "code",
   "execution_count": 7,
   "metadata": {},
   "outputs": [
    {
     "name": "stdout",
     "output_type": "stream",
     "text": [
      "Is Gs[0] bipartite:  True\n",
      "Is Gs[1] bipartite:  True\n",
      "Is Gs[2] bipartite:  False\n",
      "Is Gs[3] bipartite:  True\n"
     ]
    }
   ],
   "source": [
    "#Create some graphs that may or may not be bipartite\n",
    "G2 = nx.Graph(); \n",
    "G2.add_nodes_from(list(range(1,3)), bipartite=0); # The bipartite set U\n",
    "G2.add_nodes_from(['a','b','c'], bipartite=1); # The bipartite set V\n",
    "G2.add_edges_from([(1,'a'),(1,'b'),(1,'c'),(2,'b')]) \n",
    "\n",
    "G3 = nx.Graph(); G3.add_nodes_from(list(range(1,3)),bipartite=0); G3.add_nodes_from(['a','b','c'],bipartite=1); \n",
    "G3.add_edges_from([(2,'a'),(2,'b'),(2,'c'),(1,'b')]) \n",
    "\n",
    "G4 = nx.Graph(); G4.add_nodes_from(list(range(1,3)),bipartite=0); G4.add_nodes_from(['a','b','c'],bipartite=1); \n",
    "G4.add_edges_from([(2,'a'),(2,'b'),(2,'c'),(1,'b'),(1,2)])\n",
    "\n",
    "G5 = nx.Graph(); \n",
    "G5.add_nodes_from(list(range(1,6)))\n",
    "G5.add_edges_from([(1,2)])\n",
    "\n",
    "Gs = [G2,G3,G4,G5]\n",
    "\n",
    "# Double check if bipartite\n",
    "for i,v in enumerate(Gs):\n",
    "    print('Is Gs['+str(i)+'] bipartite: ' ,nx.is_bipartite(v))"
   ]
  },
  {
   "cell_type": "code",
   "execution_count": 8,
   "metadata": {},
   "outputs": [
    {
     "data": {
      "image/png": "[encoded data removed]",
      "text/plain": [
       "<Figure size 1224x216 with 2 Axes>"
      ]
     },
     "metadata": {},
     "output_type": "display_data"
    }
   ],
   "source": [
    "# Plot the graphs\n",
    "basic_graph,ax = plt.subplots(1,2,figsize=(17,3))\n",
    "plt.subplots_adjust(wspace=0.5)\n",
    "\n",
    "nx.draw(G2, ax=ax[0], with_labels=True, pos=nx.kamada_kawai_layout(G2), node_color='#444444',font_color=\"white\")\n",
    "nx.draw(G3, ax=ax[1], with_labels=True, pos=nx.kamada_kawai_layout(G3), node_color='#444444',font_color=\"white\")"
   ]
  },
  {
   "cell_type": "code",
   "execution_count": 11,
   "metadata": {},
   "outputs": [
    {
     "name": "stdout",
     "output_type": "stream",
     "text": [
      "(0, 1) True\n",
      "(0, 2) False\n",
      "(0, 3) False\n",
      "(1, 2) False\n",
      "(1, 3) False\n",
      "(2, 3) False\n"
     ]
    }
   ],
   "source": [
    "# Check for isomorphisms in the list of Gs\n",
    "def test4Iso(Gs):\n",
    "    '''\n",
    "    Assumes Gs is a list of graphs with the same # of nodes\n",
    "    Prints out tuples of the indices of Gi,Gj and whether or not Gi is isomorphic to Gj\n",
    "    '''\n",
    "    nums = itertools.combinations(range(len(Gs)),2)\n",
    "    comb = itertools.combinations(Gs,2)\n",
    "\n",
    "    for i,v in zip(nums,comb): \n",
    "        print(i,nx.is_isomorphic(v[0],v[1]))\n",
    "\n",
    "test4Iso(Gs)"
   ]
  },
  {
   "cell_type": "markdown",
   "metadata": {},
   "source": [
    "### 4. Cycles\n",
    "\n",
    "Define and draw a graph that decomposes into three non-overlapping cycles and whose maximal degree is $4$. "
   ]
  },
  {
   "cell_type": "code",
   "execution_count": 12,
   "metadata": {},
   "outputs": [],
   "source": [
    "# Cycles have nodes 0...n-1 and edges (i,i+1 mod n) for 0<=i<=n-1. \n",
    "\n",
    "# Play around with different configurations"
   ]
  },
  {
   "cell_type": "markdown",
   "metadata": {},
   "source": [
    "### 5. Hamiltonian Circuits\n",
    "\n",
    "Consider the set of square grid graphs like those returned by the function `nx.grid_graph(dim=[n,n])` where $n>0$. Show that these graphs always have a Hamilton Circuit when $n$ is even. Use networkx to draw the square grid graph for $n=6$, highlighting a Hamilton cycle. "
   ]
  },
  {
   "cell_type": "code",
   "execution_count": 13,
   "metadata": {},
   "outputs": [],
   "source": [
    "def route_graph(route):\n",
    "    \"\"\"Turns a list into a graph\"\"\"\n",
    "    R = nx.Graph()\n",
    "    R.add_nodes_from(route)\n",
    "    for i in range(len(route)-1):\n",
    "        R.add_edge(route[i], route[i+1])\n",
    "    return R\n",
    "\n",
    "# 1.) Add a route = [(0,0),(0,1)...(0,5),(1,5)...] This IS the Hamilton Circuit\n",
    "# 2.) Convert route to graph using the function\n",
    "# 3.) Go to the part of the lecture notes where an orange route is made\n",
    "# 4.) Draw the graph\n",
    "\n"
   ]
  },
  {
   "cell_type": "markdown",
   "metadata": {},
   "source": [
    "### 6. Spanning Trees and Hamilton Paths\n",
    "\n",
    "In the spanning tree algorithm presented in class (and in the Jupyter notebook for this week), the spanning tree algorithm always starts with node zero. Furthermore, it always chooses the first neighbor of $v$ (in the `v.pop()` line). Thus, when the approximate Hamilton Cycle algorithm finds a spanning tree, it always gets the same one. \n",
    "\n",
    "Modify the spanning tree function to choose a random starting point and a random neighbor. Then write a wrapper around the code for the approximate Hamilton Cycle algorithm that runs it 10 times and returns the shortest cycle found."
   ]
  },
  {
   "cell_type": "code",
   "execution_count": 14,
   "metadata": {},
   "outputs": [
    {
     "name": "stdout",
     "output_type": "stream",
     "text": [
      "1\n",
      "3\n",
      "2\n",
      "4\n",
      "1\n"
     ]
    }
   ],
   "source": [
    "mylist = [1,2,3,4,5]\n",
    "for i in range(len(mylist)):\n",
    "    print(np.random.choice(mylist)) # print a randomly chosen element\n",
    "\n"
   ]
  },
  {
   "cell_type": "code",
   "execution_count": null,
   "metadata": {},
   "outputs": [],
   "source": [
    "def spanning_tree(G): # Function from class\n",
    "    \n",
    "    \"\"\"Returns a spanning tree of the graph G if one exists, otherwise\n",
    "       raises an exception.\"\"\"\n",
    "    \n",
    "    # Initialize\n",
    "    V = {list(G.nodes)[0]} # INITIALIZE RANDOM STARTING POINT HERE'''\n",
    "    E = set({})\n",
    "    \n",
    "    while len(V) < len(G.nodes):\n",
    "\n",
    "        # find a node u in V that has a neighbor v in notV\n",
    "        v = None\n",
    "        for u in V:\n",
    "            nbrs = set(G.neighbors(u)) - V\n",
    "            if len(nbrs) > 0:\n",
    "                v = nbrs.pop()\n",
    "                break\n",
    "        \n",
    "        # If no v is found, then return an exception\n",
    "        if v == None:\n",
    "            raise Exception(\"Graph is not connected\")\n",
    "        \n",
    "        # Add that node to V\n",
    "        V.add(v)\n",
    "        \n",
    "        # Add the edge uv to E\n",
    "        E.add((u,v))\n",
    "        \n",
    "    # Build the graph\n",
    "    T = nx.Graph()\n",
    "    T.add_nodes_from(V)\n",
    "    T.add_edges_from(E)\n",
    "    \n",
    "    return T"
   ]
  },
  {
   "cell_type": "code",
   "execution_count": null,
   "metadata": {},
   "outputs": [],
   "source": [
    "# Suroutines for for finding approximate HAMILTON CYCLE\n",
    "\n",
    "# Global variable for storing the nodes visited during depth first search\n",
    "route = []\n",
    "\n",
    "def DFS(T):\n",
    "    \"\"\"Given a tree T, do a depth first search starting\n",
    "       with the first node. Returns a list of nodes visited,\n",
    "       including repeats of nodes revisited when backtracking.\"\"\"\n",
    "    global route\n",
    "    route = []\n",
    "    for v in T.nodes:\n",
    "        T.nodes[v][\"visited\"] = False;\n",
    "    v = list(T.nodes)[0]\n",
    "    DFS_aux(T,v)\n",
    "    return route\n",
    "\n",
    "def DFS_aux(T,v):\n",
    "    \"\"\"Auxilliary method for depth first search\"\"\"\n",
    "    global route\n",
    "    route.append(v)\n",
    "    T.nodes[v][\"visited\"] = True\n",
    "    children = [u for u in T.neighbors(v) if not T.nodes[u][\"visited\"]]\n",
    "    for child in children:\n",
    "        DFS_aux(T,child)\n",
    "        route.append(v)\n",
    "\n",
    "def shorten(G,route):\n",
    "    \"\"\"Given a graph G and a route, shorten the route as much\n",
    "       as possible.\"\"\"\n",
    "    new_route = shorten_by_one(G,route)\n",
    "    while len(new_route) < len(route):\n",
    "        route = new_route\n",
    "        new_route = shorten_by_one(G,route)\n",
    "    return new_route\n",
    "        \n",
    "def shorten_by_one(G,route):\n",
    "    \"\"\"Given a graph G and a sequence of nodes in route, try to find a \n",
    "       repeated node that can be skipped. Return the new route if such a \n",
    "       node can be found, or the given route if not.\"\"\"\n",
    "    repeats = [v for v in route[1:-1] if route.count(v) > 1]\n",
    "    random.shuffle(repeats) # avoids always picking 0\n",
    "    for r in repeats:\n",
    "        for i,v in enumerate(route):\n",
    "            if route[i] == r and i != 0 and i != len(route) - 1:\n",
    "                x,y = route[i-1], route[i+1]\n",
    "                if G.has_edge(x,y):\n",
    "                    return route[0:i] + route[i+1:]\n",
    "    return route\n",
    "\n",
    "def route_graph(route):\n",
    "    \"\"\"Turns a list into a graph\"\"\"\n",
    "    R = nx.Graph()\n",
    "    R.add_nodes_from(route)\n",
    "    for i in range(len(route)-1):\n",
    "        R.add_edge(route[i], route[i+1])\n",
    "    return R\n"
   ]
  },
  {
   "cell_type": "code",
   "execution_count": 18,
   "metadata": {},
   "outputs": [],
   "source": [
    "def myWrapper(G):\n",
    "    '''\n",
    "    Assumes G is a graph.\n",
    "    Returns the shortest approximate Hamilton Cycle found\n",
    "    '''\n",
    "    shortest = 80 # A guess that purposely way too big\n",
    "    myR = G\n",
    "    for i in range(10):\n",
    "        # 1.) Put Eric's code here \n",
    "        # 2.) update the shortest when found\n",
    "        # 3.) update myR\n",
    "    \n",
    "    return myR"
   ]
  },
  {
   "cell_type": "markdown",
   "metadata": {},
   "source": [
    "### 7. The Laplacian\n",
    "\n",
    "Consider the random graphs returned by `nx.fast_gnp_random_graph(n,p)` where $n$ is the number of nodes and $p$ is the probability of an edge between any two nodes. \n",
    "\n",
    "Make a list of graphs with $10$ nodes with $p$ ranging from 0 to 1 by steps of 0.01. For each graph, compute the eigenvalues of the Laplacian. Then plot all the eigenvalues for against $p$. For example, above $p=0.01$ you would have a point for each of the 10 real eigenvalues of the graph you made with $p=0.01$. \n",
    "\n",
    "What trends do you see in the eigenvalues?\n",
    "\n",
    "Based on experimentation, what are the eigenvalues of the Laplacian of a completely connected graph?"
   ]
  },
  {
   "cell_type": "code",
   "execution_count": null,
   "metadata": {},
   "outputs": [],
   "source": [
    "# The networkx library can be used to get the Laplacian of a graph\n",
    "n,p = 10, 0.25 #np.linspace(...)\n",
    "G = nx.fast_gnp_random_graph(n,p)\n",
    "print(\"%d component(s)\" % nx.number_connected_components(G)) # if > 1 then not a complete graph\n",
    "L = nx.laplacian_matrix(G).todense() # We have to make this change todense() because its a sparse matrix opbject\n",
    "\n",
    "# Changes:\n",
    "# 1.) create p ranging from 0,1 in 0.01 steps\n",
    "# 2.) Put code into a for loop that runs for each different p value\n",
    "# 3.) Calculate the Laplacian at the ith p value\n",
    "# 4.) Calculate the eigenvalues of the Laplacian at the ith p value\n",
    "# 5.) Plot all 10 eigenvalues for the ith p value on the same graph as the others "
   ]
  },
  {
   "cell_type": "code",
   "execution_count": null,
   "metadata": {},
   "outputs": [],
   "source": [
    "# This is from the lecture. We'll need to make some modifications\n",
    "\n",
    "# Checking that all the eigenvalues are non-neagitve\n",
    "eigs = np.linalg.eigvals(L)\n",
    "plt.plot(np.sort(eigs),'o')\n",
    "plt.title(\"Eigenvalues of Laplacian of Random Matrix P=0.25\")\n",
    "plt.xlabel('index')\n",
    "plt.ylabel('Eigenvalues')\n",
    "plt.show()"
   ]
  },
  {
   "cell_type": "code",
   "execution_count": null,
   "metadata": {},
   "outputs": [],
   "source": [
    "newp = np.linspace(0,1,101)\n",
    "newp"
   ]
  }
 ],
 "metadata": {
  "kernelspec": {
   "display_name": "Python 3",
   "language": "python",
   "name": "python3"
  },
  "language_info": {
   "codemirror_mode": {
    "name": "ipython",
    "version": 3
   },
   "file_extension": ".py",
   "mimetype": "text/x-python",
   "name": "python",
   "nbconvert_exporter": "python",
   "pygments_lexer": "ipython3",
   "version": "3.7.4"
  }
 },
 "nbformat": 4,
 "nbformat_minor": 2
}
