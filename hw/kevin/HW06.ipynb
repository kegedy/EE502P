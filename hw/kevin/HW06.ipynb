{
 "cells": [
  {
   "cell_type": "markdown",
   "metadata": {
    "ExecuteTime": {
     "end_time": "2019-09-24T16:05:23.746666Z",
     "start_time": "2019-09-24T16:05:23.741461Z"
    }
   },
   "source": [
    "<span style=\"color: orange\">DRAFT: WILL BE FINALIZED BY FRIDAY. PROBABLY ONLY SMALL CHANGES IF ANY.</span>\n",
    "\n",
    "## EE 502 P: Analytical Methods for Electrical Engineering\n",
    "    \n",
    "# Homework 6: Fourier Analysis\n",
    "## Due 13 November, 2019 at 6:00 PM\n",
    "### <span style=\"color: red\">Kevin Egedy</span>\n",
    "\n",
    "Copyright &copy; 2019, University of Washington\n",
    "\n",
    "<hr>\n",
    "\n",
    "**Instructions**: Use this notebook as a template. Answer all questions using well formatted Markdown with embedded LaTeX equations, executable Jupyter cells, or both. Submit your homework solutions as an `.ipynb` file via Canvas.\n",
    "\n",
    "<span style=\"background: yellow; padding: 6px; border: 1pt solid black\">\n",
    "Although you may discuss the homework with others, you must turn in your own, original work.\n",
    "</span>\n",
    "\n",
    "**Things to remember:**\n",
    "- Use complete sentences. Equations should appear in text as grammatical elements.\n",
    "- Comment your code.\n",
    "- Label your axes. Title your plots. Use legends where appropriate. \n",
    "- Before submitting a notebook, choose Kernel -> Restart and Run All to make sure your notebook runs when the cells are evaluated in order. \n",
    "\n",
    "Note : Late homework will be accepted up to one week after the due date and will be worth 50% of its full credit score. "
   ]
  },
  {
   "cell_type": "markdown",
   "metadata": {},
   "source": [
    "### 0. Warmup (Do not turn in)\n",
    "\n",
    "- Make sure you get download, read, and run the notebook for lecture 4. Work through the notebook cell by cell and see what happens when you change the expressions, and make up some of your own.\n",
    "- The material covered in class is intended to be an introductory overview of the incredibly rich and expansive subject of Fourier Analysis. \n",
    "- If you would like more resources, the following book is a good place to start. It is actually the notes used to teach intro signal processing at Stanford. Most of the material I covered in class is in these notes, plu a whole lot more.\n",
    "> Osgood, [Lecture notes for EE 261](\n",
    "https://see.stanford.edu/materials/lsoftaee261/book-fall-07.pdf).\n",
    "- A more advanced and concise treatment of the subject is in the following book.\n",
    "> Stein and Shakarchi, [Fourier Analysis: An Introduction](https://www.amazon.com/Fourier-Analysis-Introduction-Princeton-Lectures/dp/069111384X/ref=sr_1_1?keywords=stein+and+shakarchi+fourier&qid=1572974320&sr=8-1)."
   ]
  },
  {
   "cell_type": "code",
   "execution_count": 1,
   "metadata": {},
   "outputs": [],
   "source": [
    "# Imports\n",
    "import io\n",
    "import requests\n",
    "import math\n",
    "import pandas as pd\n",
    "import numpy as np\n",
    "import mpmath\n",
    "import sympy as sp\n",
    "sp.init_printing(use_latex='mathjax')\n",
    "from sympy.utilities.lambdify import lambdify\n",
    "import scipy\n",
    "import scipy.ndimage\n",
    "import scipy.integrate as spi\n",
    "import matplotlib.pyplot as plt\n",
    "import matplotlib.patches as pch\n",
    "%matplotlib inline\n",
    "from mpl_toolkits.mplot3d import Axes3D \n",
    "from IPython.core.interactiveshell import InteractiveShell\n",
    "InteractiveShell.ast_node_interactivity = \"all\"\n",
    "import warnings\n",
    "warnings.filterwarnings(\"ignore\", module=\"matplotlib\")"
   ]
  },
  {
   "cell_type": "markdown",
   "metadata": {
    "ExecuteTime": {
     "end_time": "2019-10-08T16:48:02.889303Z",
     "start_time": "2019-10-08T16:48:02.885366Z"
    }
   },
   "source": [
    "### 1. Exponential form of Complex Numbers\n",
    "\n",
    "Express each of the following complex numbers in the form $r e^{i\\theta}$. Do this by hand (or in Latex) and check your work with Python.\n",
    "\n",
    "$$0$$\n",
    "$$1$$\n",
    "$$-1$$\n",
    "$$i$$\n",
    "$$1-2i$$\n",
    "$$-8+7i$$"
   ]
  },
  {
   "cell_type": "markdown",
   "metadata": {},
   "source": [
    "Complex number $0$ is equivalent to $ 0e^{i \\theta}$.\n",
    "<br><br>\n",
    "Complex number $1$ is equivalent to $ 1e^{i 0}$.\n",
    "<br><br>\n",
    "Complex number $-1$ is equivalent to $ 1e^{-i \\pi}$.\n",
    "<br><br>\n",
    "Complex number $i$ is equivalent to $ 1e^{i \\pi/2}$.\n",
    "<br><br>\n",
    "Complex number $1-2i$ is equivalent to $ \\sqrt{5}e^{-1.1071 i}$.\n",
    "<br><br>\n",
    "Complex number $-8+7i$ is equivalent to $ \\sqrt{113}e^{2.4228i}$."
   ]
  },
  {
   "cell_type": "code",
   "execution_count": 9,
   "metadata": {},
   "outputs": [],
   "source": [
    "# Go from complex number to polar\n",
    "def complexPolar(a,b):\n",
    "    '''\n",
    "    Takes complex numbers and finds its polar equivalent such that (a+bi) = r*e^(i*theta)\n",
    "    r*e^(i*theta) = r * (cos(theta) + i*sin(theta))\n",
    "    abs(),cmath.phase(i)\n",
    "    '''\n",
    "    r = 0; theta = 0\n",
    "    r = sp.sqrt(abs(a)**2+abs(b)**2)\n",
    "    if a==0 and b==0:\n",
    "        theta = 0\n",
    "    elif a==0 and b>0:\n",
    "        theta = sp.pi/2\n",
    "    elif a==0 and b<0:\n",
    "        theta = -sp.pi/2\n",
    "    elif a>0 and b==0:\n",
    "        theta = 0\n",
    "    elif a<0 and b==0:\n",
    "        theta = -sp.pi\n",
    "    elif a<0 and b!=0:\n",
    "        theta = round((sp.atan(b/a) + sp.pi).evalf(),4)\n",
    "    else:\n",
    "        theta = round(sp.atan(b/a),4)\n",
    "    return print(f'({a} + {b}i) = {r}*exp(({theta})j)')"
   ]
  },
  {
   "cell_type": "code",
   "execution_count": 10,
   "metadata": {},
   "outputs": [
    {
     "name": "stdout",
     "output_type": "stream",
     "text": [
      "(0 + 0i) = 0*exp((0)j)\n",
      "(1 + 0i) = 1*exp((0)j)\n",
      "(-1 + 0i) = 1*exp((-pi)j)\n",
      "(0 + 1i) = 1*exp((pi/2)j)\n",
      "(1 + -2i) = sqrt(5)*exp((-1.1071)j)\n",
      "(-8 + 7i) = sqrt(113)*exp((2.4228)j)\n"
     ]
    }
   ],
   "source": [
    "complexPolar(0,0)  # 0\n",
    "complexPolar(1,0)  # 1\n",
    "complexPolar(-1,0) # -1\n",
    "complexPolar(0,1)  # i\n",
    "complexPolar(1,-2) # 1-2i\n",
    "complexPolar(-8,7) # -8+7i"
   ]
  },
  {
   "cell_type": "code",
   "execution_count": 17,
   "metadata": {},
   "outputs": [],
   "source": [
    "# Go from polar to complex number:  r * (cos(theta) + i*sin(theta))\n",
    "def polarComplex(r,theta):\n",
    "    return print(r * (sp.cos(theta)+sp.sin(theta)*sp.I))"
   ]
  },
  {
   "cell_type": "code",
   "execution_count": 18,
   "metadata": {},
   "outputs": [
    {
     "name": "stdout",
     "output_type": "stream",
     "text": [
      "0\n",
      "1\n",
      "-1\n",
      "I\n",
      "1.00009743440143 - 1.99995127983251*I\n",
      "-8.00026141664386 + 6.99970122686388*I\n"
     ]
    }
   ],
   "source": [
    "polarComplex(0,0)\n",
    "polarComplex(1,0)\n",
    "polarComplex(1,-sp.pi)\n",
    "polarComplex(1,sp.pi/2)\n",
    "polarComplex(math.sqrt(5),-1.1071)\n",
    "polarComplex(math.sqrt(113),2.4228)"
   ]
  },
  {
   "cell_type": "markdown",
   "metadata": {},
   "source": [
    "### 2. A Trigonometric Identity\n",
    "\n",
    "The goal of this exercise is to find formulas for $\\cos(\\alpha+\\beta)$ and $\\sin(\\alpha + \\beta)$. in terms of $\\sin\\alpha$, $\\sin\\beta$, $\\cos\\alpha$, and $\\cos\\beta$.\n",
    "\n",
    "a) First, express $e^{(\\alpha+\\beta)i}$ directly in terms of the $\\sin$ and $\\cos$ using Euler's formula.\n",
    "\n",
    "b) Next, express $e^{(\\alpha+\\beta)i}$ as a product of two exponentials. Then convert each term in the product into $\\sin$ and $\\cos$ using Euler's formula. Expand the expression and group the terms in the real part and the imaginary part.\n",
    "\n",
    "c) Equate the real parts and imaginary parts from (a) and (b)."
   ]
  },
  {
   "cell_type": "markdown",
   "metadata": {},
   "source": [
    "We know $e^{(\\theta)i} = \\cos{(\\theta)} + i \\sin{(\\theta)} $, so \n",
    "<br><br>\n",
    "$$e^{(\\alpha+\\beta)i} = \\cos{(\\alpha+\\beta)} + i \\sin{(\\alpha+\\beta)} .$$\n",
    "\n",
    "<hr>"
   ]
  },
  {
   "cell_type": "markdown",
   "metadata": {},
   "source": [
    "$\\begin{eqnarray}\n",
    "e^{(\\alpha+\\beta)i} & = & e^{\\alpha i}e^{\\beta i} \\\\\n",
    "& = & (\\cos{\\alpha} + i \\sin{\\alpha})(\\cos{\\beta} + i \\sin{\\beta}) \\\\\n",
    "& = & \\cos{\\alpha}\\cos{\\beta} + i \\cos{\\alpha}\\sin{\\beta} + \n",
    "        i \\sin{\\alpha}\\cos{\\beta} + (i \\sin{\\alpha})(i \\sin{\\beta}) \\\\\n",
    "& = & (\\cos{\\alpha}\\cos{\\beta} - \\sin{\\alpha}\\sin{\\beta}) + \n",
    "        i(\\cos{\\alpha}\\sin{\\beta} + \\sin{\\alpha}\\cos{\\beta}) \\\\\n",
    "\\end{eqnarray}$\n",
    "\n",
    "<hr>"
   ]
  },
  {
   "cell_type": "markdown",
   "metadata": {},
   "source": [
    "Using trigonometric identities: \n",
    "<br><br>\n",
    "$\\begin{eqnarray}\n",
    "\\cos{(A+B)} & = & \\cos{A}\\cos{B} - \\sin{A}\\sin{B} \\\\\n",
    "\\sin{(A+B)} & = & \\sin{A}\\cos{B} + \\cos{A}\\sin{B}\n",
    "\\end{eqnarray}$\n",
    "<br><br>\n",
    "Then\n",
    "\n",
    "- $(\\cos{\\alpha}\\cos{\\beta} - \\sin{\\alpha}\\sin{\\beta}) + \n",
    "        i(\\cos{\\alpha}\\sin{\\beta} + \\sin{\\alpha}\\cos{\\beta})$\n",
    "- $(\\cos{\\alpha}\\cos{\\beta} - \\sin{\\alpha}\\sin{\\beta}) + \n",
    "        i(\\sin{\\alpha}\\cos{\\beta} + \\sin{\\beta}\\cos{\\alpha})$\n",
    "- $\\cos{(\\alpha+\\beta)} + i \\sin{(\\alpha+\\beta)}$\n",
    "\n",
    "Thus $e^{(\\alpha+\\beta)i} = \\cos{(\\alpha+\\beta)} + i \\sin{(\\alpha+\\beta)}.$"
   ]
  },
  {
   "cell_type": "markdown",
   "metadata": {},
   "source": [
    "### 3. Fourier Series Approximation\n",
    "\n",
    "Similar to the example of the square wave done in class, find a Fourier Series approximation to the function\n",
    "\n",
    "$$\n",
    "f(t) = \\left |cos(2\\pi t) \\right|\n",
    "$$\n",
    "\n",
    "which is a *rectified cosine*. Make sure you get the period of this function correct. Make a plot with three subplots for $N=5$, $N=10$, and $N=20$ showing better and better approximations."
   ]
  },
  {
   "cell_type": "code",
   "execution_count": 17,
   "metadata": {},
   "outputs": [
    {
     "data": {
      "text/plain": [
       "'This is the relevant example from class'"
      ]
     },
     "execution_count": 17,
     "metadata": {},
     "output_type": "execute_result"
    },
    {
     "data": {
      "text/latex": [
       "$\\displaystyle - \\frac{2}{8 \\pi n^{2} e^{i \\pi n} - 2 \\pi e^{i \\pi n}} - \\frac{2}{8 \\pi n^{2} e^{- i \\pi n} - 2 \\pi e^{- i \\pi n}}$"
      ],
      "text/plain": [
       "              2                             2              \n",
       "- ────────────────────────── - ────────────────────────────\n",
       "       2  ⅈ⋅π⋅n        ⅈ⋅π⋅n        2  -ⅈ⋅π⋅n        -ⅈ⋅π⋅n\n",
       "  8⋅π⋅n ⋅ℯ      - 2⋅π⋅ℯ        8⋅π⋅n ⋅ℯ       - 2⋅π⋅ℯ      "
      ]
     },
     "execution_count": 17,
     "metadata": {},
     "output_type": "execute_result"
    }
   ],
   "source": [
    "'This is the relevant example from class'\n",
    "\n",
    "# Example: Square Wave\n",
    "# f(t) = 1, if t in [0, 1/2)\n",
    "#       -1, if t in [1,2, 1)\n",
    "# Note that the magnitude of the coefficients decreases like 1/n, showing that\n",
    "# higher and higher frequencies contribute less and less to the overall shape.\n",
    "\n",
    "t = sp.symbols(\"t\", real=True)\n",
    "n = sp.symbols(\"n\", integer=True, positive=True)\n",
    "q = -sp.pi*sp.I*n*t/T # arguments of the exponential in the cn equation\n",
    "\n",
    "f = sp.cos(2*sp.pi*t)  # function of interest\n",
    "T = sp.Rational(1,4) # half period (since symmetric interval is used)\n",
    "period = 2*T\n",
    "\n",
    "# Formula for the complex coefficients\n",
    "cn = (1 / (period))*sp.integrate(f*sp.exp(q), (t,-T,T))\n",
    "cn # Complex coefficients"
   ]
  },
  {
   "cell_type": "code",
   "execution_count": 57,
   "metadata": {},
   "outputs": [
    {
     "data": {
      "text/latex": [
       "$\\displaystyle \\left[ \\frac{2 e^{- 20 i \\pi t}}{99 \\pi}, \\  - \\frac{2 e^{- 16 i \\pi t}}{63 \\pi}, \\  \\frac{2 e^{- 12 i \\pi t}}{35 \\pi}, \\  - \\frac{2 e^{- 8 i \\pi t}}{15 \\pi}, \\  \\frac{2 e^{- 4 i \\pi t}}{3 \\pi}, \\  \\frac{2}{\\pi}, \\  \\frac{2 e^{4 i \\pi t}}{3 \\pi}, \\  - \\frac{2 e^{8 i \\pi t}}{15 \\pi}, \\  \\frac{2 e^{12 i \\pi t}}{35 \\pi}, \\  - \\frac{2 e^{16 i \\pi t}}{63 \\pi}\\right]$"
      ],
      "text/plain": [
       "⎡   -20⋅ⅈ⋅π⋅t      -16⋅ⅈ⋅π⋅t      -12⋅ⅈ⋅π⋅t      -8⋅ⅈ⋅π⋅t      -4⋅ⅈ⋅π⋅t       \n",
       "⎢2⋅ℯ           -2⋅ℯ            2⋅ℯ           -2⋅ℯ           2⋅ℯ          2  2⋅\n",
       "⎢────────────, ──────────────, ────────────, ─────────────, ───────────, ─, ──\n",
       "⎣    99⋅π           63⋅π           35⋅π           15⋅π          3⋅π      π    \n",
       "\n",
       " 4⋅ⅈ⋅π⋅t      8⋅ⅈ⋅π⋅t      12⋅ⅈ⋅π⋅t      16⋅ⅈ⋅π⋅t ⎤\n",
       "ℯ         -2⋅ℯ          2⋅ℯ          -2⋅ℯ         ⎥\n",
       "────────, ────────────, ───────────, ─────────────⎥\n",
       " 3⋅π          15⋅π          35⋅π          63⋅π    ⎦"
      ]
     },
     "execution_count": 57,
     "metadata": {},
     "output_type": "execute_result"
    }
   ],
   "source": [
    "# Here are some of the terms of the Fourier Series\n",
    "N = 10\n",
    "vals = range(math.floor(-N/2),math.ceil(N/2))\n",
    "terms = [cn.subs(n,k)*sp.exp(sp.pi*sp.I*k*t/T) for k in vals]\n",
    "terms = [i for i in terms if i != sp.nan]\n",
    "terms"
   ]
  },
  {
   "cell_type": "code",
   "execution_count": 58,
   "metadata": {},
   "outputs": [
    {
     "data": {
      "text/latex": [
       "$\\displaystyle 10$"
      ],
      "text/plain": [
       "10"
      ]
     },
     "execution_count": 58,
     "metadata": {},
     "output_type": "execute_result"
    },
    {
     "data": {
      "image/png": "[encoded data removed]",
      "text/plain": [
       "<Figure size 432x288 with 1 Axes>"
      ]
     },
     "metadata": {
      "needs_background": "light"
     },
     "output_type": "display_data"
    },
    {
     "data": {
      "text/plain": [
       "<sympy.plotting.plot.Plot at 0x786dc5c8d3c8>"
      ]
     },
     "execution_count": 58,
     "metadata": {},
     "output_type": "execute_result"
    },
    {
     "data": {
      "text/latex": [
       "$\\displaystyle \\frac{1208}{385 \\pi}$"
      ],
      "text/plain": [
       " 1208\n",
       "─────\n",
       "385⋅π"
      ]
     },
     "execution_count": 58,
     "metadata": {},
     "output_type": "execute_result"
    }
   ],
   "source": [
    "# Plot the sum of all the terms versus theta\n",
    "len(terms)\n",
    "fapprox = sp.re(sum(terms))\n",
    "sp.plot(fapprox,(t,-1,1),title=r\"Finite Fourier Series Approximation\")\n",
    "plt.show()\n",
    "fapprox.subs(t,1)"
   ]
  },
  {
   "cell_type": "markdown",
   "metadata": {},
   "source": [
    "### 4. Orthogonality\n",
    "\n",
    "Show that $\\cos(2\\pi t)$ and $\\sin(2 \\pi t)$ are orthogonal by showing that their inner product (a.k.a. dot product) is zero. Hint: Express the two functions in exponential form, and expand their product inside the integral."
   ]
  },
  {
   "cell_type": "code",
   "execution_count": null,
   "metadata": {},
   "outputs": [],
   "source": [
    "# integrate or use trig identity"
   ]
  },
  {
   "cell_type": "markdown",
   "metadata": {},
   "source": [
    "### 5. Fourier Transforms\n",
    "\n",
    "Find the Fourier Transforms of the following functions. You can use `sympy`. Make sure to simplify, these shouldn't give complicated results. Plot original functions and their transforms in a nice 3 $\\times$ 2 grid of plots. Label the sub plots.\n",
    "\n",
    "$$\n",
    "f(t) = \\left \\{ \n",
    "\\begin{array}{l}\n",
    "1 \\;\\mathrm{if} \\;t \\geq 0 \\\\\n",
    "0 \\;\\mathrm{else}\n",
    "\\end{array}\n",
    "\\right .\n",
    "$$\n",
    "\n",
    "$$\n",
    "f(t) = \\frac{1}{1+t^2}\n",
    "$$\n",
    "\n",
    "$$\n",
    "f(t) = e^{-\\pi t^2}\n",
    "$$"
   ]
  },
  {
   "cell_type": "code",
   "execution_count": 25,
   "metadata": {},
   "outputs": [
    {
     "data": {
      "text/latex": [
       "$\\displaystyle \\begin{cases} - \\frac{i}{2 \\pi s} & \\text{for}\\: \\left|{\\arg{\\left(s \\right)} + \\frac{\\pi}{2}}\\right| < \\frac{\\pi}{2} \\\\\\int\\limits_{0}^{\\infty} e^{- 2 i \\pi s t}\\, dt & \\text{otherwise} \\end{cases}$"
      ],
      "text/plain": [
       "⎧      -ⅈ              │         π│   π\n",
       "⎪     ─────        for │arg(s) + ─│ < ─\n",
       "⎪     2⋅π⋅s            │         2│   2\n",
       "⎪                                      \n",
       "⎪∞                                     \n",
       "⎨⌠                                     \n",
       "⎪⎮  -2⋅ⅈ⋅π⋅s⋅t                         \n",
       "⎪⎮ ℯ           dt       otherwise      \n",
       "⎪⌡                                     \n",
       "⎪0                                     \n",
       "⎩                                      "
      ]
     },
     "execution_count": 25,
     "metadata": {},
     "output_type": "execute_result"
    }
   ],
   "source": [
    "# 5.a) An example of how to check\n",
    "\n",
    "t, s = sp.var(\"t s\")\n",
    "\n",
    "Ff_a = sp.integrate(sp.exp(-2*sp.pi*sp.I*s*t) * 0,(t,-sp.oo, 0))\n",
    "\n",
    "Ff_b = sp.integrate(sp.exp(-2*sp.pi*sp.I*s*t) * 1,(t,0, sp.oo))\n",
    "\n",
    "Ff1 = Ff_a.simplify() + Ff_b.simplify()\n",
    "Ff1"
   ]
  },
  {
   "cell_type": "code",
   "execution_count": 21,
   "metadata": {},
   "outputs": [
    {
     "data": {
      "text/latex": [
       "$\\displaystyle \\begin{cases} \\pi e^{- 2 \\pi s} & \\text{for}\\: s > 0 \\\\\\int\\limits_{-\\infty}^{\\infty} \\frac{e^{- 2 i \\pi s t}}{t^{2} + 1}\\, dt & \\text{otherwise} \\end{cases}$"
      ],
      "text/plain": [
       "⎧       -2⋅π⋅s               \n",
       "⎪    π⋅ℯ            for s > 0\n",
       "⎪                            \n",
       "⎪∞                           \n",
       "⎪⌠                           \n",
       "⎪⎮   -2⋅ⅈ⋅π⋅s⋅t              \n",
       "⎨⎮  ℯ                        \n",
       "⎪⎮  ─────────── dt  otherwise\n",
       "⎪⎮      2                    \n",
       "⎪⎮     t  + 1                \n",
       "⎪⌡                           \n",
       "⎪-∞                          \n",
       "⎩                            "
      ]
     },
     "execution_count": 21,
     "metadata": {},
     "output_type": "execute_result"
    }
   ],
   "source": [
    "f2 = 1/(1+t**2)\n",
    "Ff2 = sp.integrate(sp.exp(-2*sp.pi*sp.I*s*t) * f,(t,-sp.oo, sp.oo))\n",
    "Ff2.simplify()"
   ]
  },
  {
   "cell_type": "code",
   "execution_count": 24,
   "metadata": {},
   "outputs": [],
   "source": [
    "f = sp.exp(-sp.pi*t**2)\n",
    "Ff3 = sp.integrate(sp.exp(-2*sp.pi*sp.I*s*t) *f,(t,-sp.oo, sp.oo))\n",
    "f3 = Ff3.simplify()"
   ]
  },
  {
   "cell_type": "code",
   "execution_count": null,
   "metadata": {},
   "outputs": [],
   "source": [
    "s = np.linspace(-2,2,1000)\n",
    "t = s\n",
    "\n",
    "# The f(t) functions\n",
    "fta = lambda t: np.where(t>=0, 1, 0)  \n",
    "ftb = \n",
    "ftc = \n",
    "\n",
    "# The Fourier Transforms\n",
    "FTa = abs(1 / (2*np.pi*sm.I*s)) # Can't plot Argand Diagram along with these so let's just do magnitude \n",
    "FTb = \n",
    "FTc = \n",
    "\n",
    "# Begin plotting\n",
    "fig,ax=plt.subplots(3,2,sharex=True,figsize=(15,7))\n",
    "\n",
    "ax[0,0].plot(t, fta(t)); ax[0,0].set_ylabel(r\"$f(t) =$ step$(t)$\")\n",
    "ax[0,1].plot(s, FTa); ax[0,1].set_ylabel(r\"$|F(s)|$\")\n",
    "\n",
    "ax[1,0].plot(t, ftb ); ax[1,0].set_ylabel(r\"$f(t)=\\frac{1}{1+t^2}$\")\n",
    "ax[1,1].plot(s, FTb); ax[1,1].set_ylabel(r\"$F(s)=\\pi e^{-2\\pi |s|}$\")\n",
    "\n",
    "ax[2,0].plot(t, ftc); ax[2,0].set_ylabel(r\"$f(t)=e^{-\\pi t^2}$\"); ax[2,0].set_xlabel('t');\n",
    "ax[2,1].plot(s, FTc); ax[2,1].set_ylabel(r\"$F(s)=e^{-\\pi s^2}$\"); ax[2,1].set_xlabel('s');\n",
    "plt.suptitle('Fourier Transform Pairs')\n",
    "plt.show()"
   ]
  },
  {
   "cell_type": "markdown",
   "metadata": {},
   "source": [
    "### 6. Solve a system of ODEs\n",
    "\n",
    "Similar to the ODE example in the notes, find a solution to the two differential equations\n",
    "\n",
    "\\begin{eqnarray}\n",
    "\\dot x & = & -y \\\\\n",
    "\\dot y & = & -x + u\n",
    "\\end{eqnarray}\n",
    "\n",
    "a) First take the Fourier Transform of both equations. \n",
    "\n",
    "b) Solve for $Y(s)$ in terms of $U(s)$. \n",
    "\n",
    "c) Note that the solution for $Y(s)$ involves a function of $s$ times $U(s)$. Figure out the inverse Fourier Transform of that function. \n",
    "\n",
    "d) Use a convolution to figure out $y(t)$ in terms of $u(t)$. \n",
    "\n",
    "e) Find $X(s)$ in terms of $Y(s)$ and then $x(t)$ in terms of $y(t)$. "
   ]
  },
  {
   "cell_type": "markdown",
   "metadata": {},
   "source": [
    "### 7. The DFT\n",
    "\n",
    "a) Write a python function that takes an integer $N$ and returns a `sympy` matrix representing the DFT matrix $\\mathbf{F}$ as defined in the notes. \n",
    "\n",
    "b) Define $\\mathbf{U} = \\frac{1}{\\sqrt{N}}\\mathbf{F}$. Find the eigenvalues of $\\mathbf{U}$ for various values of $N$. What do you notice? Is there a pattern?\n",
    "\n",
    "c) Make a random sequence of $20$ real numbers between 0 and 1. Find the DFT using your matrix and compare it to the DFT you get using `numpy`'s built in function. Hint: you should convert your $\\mathbf{F}$ matrix into a `numpy` matrix first. Plot your sequence, the magnitude of the DFT and the angle of the DFT."
   ]
  },
  {
   "cell_type": "code",
   "execution_count": 29,
   "metadata": {},
   "outputs": [
    {
     "data": {
      "text/latex": [
       "$\\displaystyle \\left[\\begin{matrix}1 & 1 & 1 & 1\\\\1 & - i & -1 & i\\\\1 & -1 & 1 & -1\\\\1 & i & -1 & - i\\end{matrix}\\right]$"
      ],
      "text/plain": [
       "⎡1  1   1   1 ⎤\n",
       "⎢             ⎥\n",
       "⎢1  -ⅈ  -1  ⅈ ⎥\n",
       "⎢             ⎥\n",
       "⎢1  -1  1   -1⎥\n",
       "⎢             ⎥\n",
       "⎣1  ⅈ   -1  -ⅈ⎦"
      ]
     },
     "execution_count": 29,
     "metadata": {},
     "output_type": "execute_result"
    }
   ],
   "source": [
    "def myDFT(N):\n",
    "    '''\n",
    "    Assumes N is a positive integer\n",
    "    Returns F, the DFT matrix\n",
    "    '''\n",
    "    wn = sp.exp(-2*sp.pi*sp.I / N)\n",
    "    F = np.empty((N,N))\n",
    "    F = sp.Matrix(F)\n",
    "    for i in range (0,N):\n",
    "        for j in range(0,N):\n",
    "            F[i,j] = wn**(i*j)\n",
    "            \n",
    "    return F\n",
    "\n",
    "\n",
    "myDFT(4)"
   ]
  },
  {
   "cell_type": "code",
   "execution_count": 30,
   "metadata": {},
   "outputs": [
    {
     "name": "stdout",
     "output_type": "stream",
     "text": [
      "[]\n",
      "[1]\n",
      "[-1, 1]\n",
      "[sqrt(3)/9 - 2*(-1)**(1/3)*sqrt(3)/9 - (-9*(-1)**(2/3)*sqrt(3)/2 - 3*(-1)**(1/3)*sqrt(3) + 3*sqrt(3)*exp(10*I*pi/3)/2 + (-sqrt(3)/3 + 2*(-1)**(1/3)*sqrt(3)/3)**3 - (-3*sqrt(3) + 6*(-1)**(1/3)*sqrt(3))*(-2/3 - (-1)**(1/3)/3 + (-1)**(2/3)/3)/2 + sqrt((-9*(-1)**(2/3)*sqrt(3) - 6*(-1)**(1/3)*sqrt(3) + 3*sqrt(3)*exp(10*I*pi/3) + 2*(-sqrt(3)/3 + 2*(-1)**(1/3)*sqrt(3)/3)**3 - (-3*sqrt(3) + 6*(-1)**(1/3)*sqrt(3))*(-2/3 - (-1)**(1/3)/3 + (-1)**(2/3)/3))**2 - 4*(2 - (-1)**(2/3) + (-sqrt(3)/3 + 2*(-1)**(1/3)*sqrt(3)/3)**2 + (-1)**(1/3))**3)/2)**(1/3)/3 - (2 - (-1)**(2/3) + (-sqrt(3)/3 + 2*(-1)**(1/3)*sqrt(3)/3)**2 + (-1)**(1/3))/(3*(-9*(-1)**(2/3)*sqrt(3)/2 - 3*(-1)**(1/3)*sqrt(3) + 3*sqrt(3)*exp(10*I*pi/3)/2 + (-sqrt(3)/3 + 2*(-1)**(1/3)*sqrt(3)/3)**3 - (-3*sqrt(3) + 6*(-1)**(1/3)*sqrt(3))*(-2/3 - (-1)**(1/3)/3 + (-1)**(2/3)/3)/2 + sqrt((-9*(-1)**(2/3)*sqrt(3) - 6*(-1)**(1/3)*sqrt(3) + 3*sqrt(3)*exp(10*I*pi/3) + 2*(-sqrt(3)/3 + 2*(-1)**(1/3)*sqrt(3)/3)**3 - (-3*sqrt(3) + 6*(-1)**(1/3)*sqrt(3))*(-2/3 - (-1)**(1/3)/3 + (-1)**(2/3)/3))**2 - 4*(2 - (-1)**(2/3) + (-sqrt(3)/3 + 2*(-1)**(1/3)*sqrt(3)/3)**2 + (-1)**(1/3))**3)/2)**(1/3)), sqrt(3)/9 - 2*(-1)**(1/3)*sqrt(3)/9 - (-1/2 + sqrt(3)*I/2)*(-9*(-1)**(2/3)*sqrt(3)/2 - 3*(-1)**(1/3)*sqrt(3) + 3*sqrt(3)*exp(10*I*pi/3)/2 + (-sqrt(3)/3 + 2*(-1)**(1/3)*sqrt(3)/3)**3 - (-3*sqrt(3) + 6*(-1)**(1/3)*sqrt(3))*(-2/3 - (-1)**(1/3)/3 + (-1)**(2/3)/3)/2 + sqrt((-9*(-1)**(2/3)*sqrt(3) - 6*(-1)**(1/3)*sqrt(3) + 3*sqrt(3)*exp(10*I*pi/3) + 2*(-sqrt(3)/3 + 2*(-1)**(1/3)*sqrt(3)/3)**3 - (-3*sqrt(3) + 6*(-1)**(1/3)*sqrt(3))*(-2/3 - (-1)**(1/3)/3 + (-1)**(2/3)/3))**2 - 4*(2 - (-1)**(2/3) + (-sqrt(3)/3 + 2*(-1)**(1/3)*sqrt(3)/3)**2 + (-1)**(1/3))**3)/2)**(1/3)/3 - (2 - (-1)**(2/3) + (-sqrt(3)/3 + 2*(-1)**(1/3)*sqrt(3)/3)**2 + (-1)**(1/3))/(3*(-1/2 + sqrt(3)*I/2)*(-9*(-1)**(2/3)*sqrt(3)/2 - 3*(-1)**(1/3)*sqrt(3) + 3*sqrt(3)*exp(10*I*pi/3)/2 + (-sqrt(3)/3 + 2*(-1)**(1/3)*sqrt(3)/3)**3 - (-3*sqrt(3) + 6*(-1)**(1/3)*sqrt(3))*(-2/3 - (-1)**(1/3)/3 + (-1)**(2/3)/3)/2 + sqrt((-9*(-1)**(2/3)*sqrt(3) - 6*(-1)**(1/3)*sqrt(3) + 3*sqrt(3)*exp(10*I*pi/3) + 2*(-sqrt(3)/3 + 2*(-1)**(1/3)*sqrt(3)/3)**3 - (-3*sqrt(3) + 6*(-1)**(1/3)*sqrt(3))*(-2/3 - (-1)**(1/3)/3 + (-1)**(2/3)/3))**2 - 4*(2 - (-1)**(2/3) + (-sqrt(3)/3 + 2*(-1)**(1/3)*sqrt(3)/3)**2 + (-1)**(1/3))**3)/2)**(1/3)), sqrt(3)/9 - (2 - (-1)**(2/3) + (-sqrt(3)/3 + 2*(-1)**(1/3)*sqrt(3)/3)**2 + (-1)**(1/3))/(3*(-1/2 - sqrt(3)*I/2)*(-9*(-1)**(2/3)*sqrt(3)/2 - 3*(-1)**(1/3)*sqrt(3) + 3*sqrt(3)*exp(10*I*pi/3)/2 + (-sqrt(3)/3 + 2*(-1)**(1/3)*sqrt(3)/3)**3 - (-3*sqrt(3) + 6*(-1)**(1/3)*sqrt(3))*(-2/3 - (-1)**(1/3)/3 + (-1)**(2/3)/3)/2 + sqrt((-9*(-1)**(2/3)*sqrt(3) - 6*(-1)**(1/3)*sqrt(3) + 3*sqrt(3)*exp(10*I*pi/3) + 2*(-sqrt(3)/3 + 2*(-1)**(1/3)*sqrt(3)/3)**3 - (-3*sqrt(3) + 6*(-1)**(1/3)*sqrt(3))*(-2/3 - (-1)**(1/3)/3 + (-1)**(2/3)/3))**2 - 4*(2 - (-1)**(2/3) + (-sqrt(3)/3 + 2*(-1)**(1/3)*sqrt(3)/3)**2 + (-1)**(1/3))**3)/2)**(1/3)) - 2*(-1)**(1/3)*sqrt(3)/9 - (-1/2 - sqrt(3)*I/2)*(-9*(-1)**(2/3)*sqrt(3)/2 - 3*(-1)**(1/3)*sqrt(3) + 3*sqrt(3)*exp(10*I*pi/3)/2 + (-sqrt(3)/3 + 2*(-1)**(1/3)*sqrt(3)/3)**3 - (-3*sqrt(3) + 6*(-1)**(1/3)*sqrt(3))*(-2/3 - (-1)**(1/3)/3 + (-1)**(2/3)/3)/2 + sqrt((-9*(-1)**(2/3)*sqrt(3) - 6*(-1)**(1/3)*sqrt(3) + 3*sqrt(3)*exp(10*I*pi/3) + 2*(-sqrt(3)/3 + 2*(-1)**(1/3)*sqrt(3)/3)**3 - (-3*sqrt(3) + 6*(-1)**(1/3)*sqrt(3))*(-2/3 - (-1)**(1/3)/3 + (-1)**(2/3)/3))**2 - 4*(2 - (-1)**(2/3) + (-sqrt(3)/3 + 2*(-1)**(1/3)*sqrt(3)/3)**2 + (-1)**(1/3))**3)/2)**(1/3)/3]\n",
      "[-1, 1, -I]\n"
     ]
    }
   ],
   "source": [
    "for N in range(0,5):\n",
    "    U = (1/sp.sqrt(N) * myDFT(N))\n",
    "    print(list(U.eigenvals().keys()))"
   ]
  },
  {
   "cell_type": "code",
   "execution_count": 28,
   "metadata": {},
   "outputs": [
    {
     "data": {
      "text/plain": [
       "array([0.33231229, 0.2249558 , 0.83765536, 0.63342011, 0.95883489,\n",
       "       0.31577084, 0.89023307, 0.08177553, 0.92504356, 0.24002533,\n",
       "       0.93859425, 0.90849508, 0.487158  , 0.69064521, 0.23739035,\n",
       "       0.36500729, 0.60296342, 0.23749663, 0.78437174, 0.92641722])"
      ]
     },
     "execution_count": 28,
     "metadata": {},
     "output_type": "execute_result"
    }
   ],
   "source": [
    "seq = np.random.rand(20).transpose()\n",
    "myDFT(20)*"
   ]
  },
  {
   "cell_type": "markdown",
   "metadata": {},
   "source": [
    "### 8. Filtering\n",
    "\n",
    "Repeat the example from the notes on filtering the sum of two sine waves, except do the sum of a sine wave plus zero centered Gaussian noise with variance 0.25. Note, to make a list of numbers random Gaussian numbers, use the function `np.random.normal`. In the notes, a cutoff of 10 was used. Tune this to try to recover the sine wave as best you can in the low pass filtered version."
   ]
  },
  {
   "cell_type": "markdown",
   "metadata": {},
   "source": [
    "### 9.  Image Processing\n",
    "\n",
    "Find a nice gray scale image to load, or use the Minion image from class. Call the resulting matrix $m$.\n",
    "\n",
    "a) Render the image using `matplotlib`. \n",
    "\n",
    "b) Take the DFT of the image $m$ to get a matrix $M$. Then make a new matrix $M_\\mathrm{new}$ in which each entry is just the magnitude of the corresponding entry in $M$. Create a new image from the inverse Fourier transform of this image and render it. \n",
    "\n",
    "c) Do the same thing, except set the entries in $M_\\mathrm{new}$ to the angle of the entries in $M$. Create a new image from the inverse Fourier transform of this image and render it.\n",
    "\n",
    "d) Do the same thing, except normalize all the entries in $M_\\mathrm{new}$ to have magnitude 1. Create a new image from the inverse Fourier transform of this image and render it.\n",
    "\n",
    "What might you conclude about the information contained in the magnitude of the transformed image? What might you conclude about the information contained in the angle?\n",
    "\n",
    "**Extra Credit:** Do this exercise with a color image instead of gray scale."
   ]
  },
  {
   "cell_type": "code",
   "execution_count": 39,
   "metadata": {},
   "outputs": [],
   "source": [
    "!wget 'https://partycity6.scene7.com/is/image/PartyCity/_pdp_sq_?$_1000x1000_$&$product=PartyCity/615535' -o minion"
   ]
  },
  {
   "cell_type": "code",
   "execution_count": null,
   "metadata": {},
   "outputs": [],
   "source": []
  }
 ],
 "metadata": {
  "kernelspec": {
   "display_name": "Python 3",
   "language": "python",
   "name": "python3"
  },
  "language_info": {
   "codemirror_mode": {
    "name": "ipython",
    "version": 3
   },
   "file_extension": ".py",
   "mimetype": "text/x-python",
   "name": "python",
   "nbconvert_exporter": "python",
   "pygments_lexer": "ipython3",
   "version": "3.7.3"
  }
 },
 "nbformat": 4,
 "nbformat_minor": 2
}
