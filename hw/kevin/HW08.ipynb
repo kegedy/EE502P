{
 "cells": [
  {
   "cell_type": "markdown",
   "metadata": {
    "ExecuteTime": {
     "end_time": "2019-09-24T16:05:23.746666Z",
     "start_time": "2019-09-24T16:05:23.741461Z"
    }
   },
   "source": [
    "## EE 502 P: Analytical Methods for Electrical Engineering\n",
    "    \n",
    "# Homework 8: Probability and Markov Processes\n",
    "## Due 27 November, 2019 at 6:00 PM\n",
    "### <span style=\"color: red\">Kevin Egedy</span>\n",
    "\n",
    "Copyright &copy; 2019, University of Washington\n",
    "\n",
    "<hr>\n",
    "\n",
    "**Instructions**: Use this notebook as a template. Answer all questions using well formatted Markdown with embedded LaTeX equations, executable Jupyter cells, or both. Submit your homework solutions as an `.ipynb` file via Canvas.\n",
    "\n",
    "<span style=\"background: yellow; padding: 6px; border: 1pt solid black\">\n",
    "Although you may discuss the homework with others, you must turn in your own, original work.\n",
    "</span>\n",
    "\n",
    "**Things to remember:**\n",
    "- Use complete sentences. Equations should appear in text as grammatical elements.\n",
    "- Comment your code.\n",
    "- Label your axes. Title your plots. Use legends where appropriate. \n",
    "- Before submitting a notebook, choose Kernel -> Restart and Run All to make sure your notebook runs when the cells are evaluated in order. \n",
    "\n",
    "Note : Late homework will be accepted up to one week after the due date and will be worth 50% of its full credit score. "
   ]
  },
  {
   "cell_type": "markdown",
   "metadata": {},
   "source": [
    "### 0. Warmup (Do not turn in)\n",
    "\n",
    "- Make sure you get download, read, and run the notebook for lecture 8. Work through the notebook cell by cell and see what happens when you change the expressions, and make up some of your own.\n",
    "- Most of the section on basic graph theory is from chapter the really, really, really good book:\n",
    "\n",
    "> Feller, [An Introduction to Probability Theory and Its Applications, Vol 1](https://www.amazon.com/Introduction-Probability-Theory-Applications-Vol/dp/0471257087), 3rd Edition, Wiley, 1968. \n",
    "\n",
    "- The material on Markov Chains can be found in numerous textbooks. A good online source is Chapter 11 of \n",
    "\n",
    "> Grinstead, [Introduction to Probability](http://www.dartmouth.edu/~chance/teaching_aids/books_articles/probability_book/book.html).\n",
    "\n"
   ]
  },
  {
   "cell_type": "code",
   "execution_count": 1,
   "metadata": {},
   "outputs": [],
   "source": [
    "# Imports\n",
    "import io\n",
    "import requests\n",
    "import random\n",
    "import itertools\n",
    "import math\n",
    "import cmath\n",
    "import pandas as pd\n",
    "import numpy as np\n",
    "import networkx as nx\n",
    "import sympy as sp\n",
    "sp.init_printing(use_latex='mathjax')\n",
    "import scipy\n",
    "import scipy.ndimage\n",
    "import scipy.integrate as spi\n",
    "import matplotlib.pyplot as plt\n",
    "import matplotlib.patches as pch\n",
    "%matplotlib inline\n",
    "from mpl_toolkits.mplot3d import Axes3D \n",
    "from IPython.core.interactiveshell import InteractiveShell\n",
    "InteractiveShell.ast_node_interactivity = \"all\"\n",
    "#import warnings\n",
    "#warnings.filterwarnings(\"ignore\", module=\"matplotlib\")"
   ]
  },
  {
   "cell_type": "markdown",
   "metadata": {},
   "source": [
    "### 1. Fundamental properties\n",
    "\n",
    "Use the definitions and basic properties of a probability function to show the following identities:\n",
    "\n",
    "a) $P[A \\oplus B] = P[A \\cap \\overline{B}] + P[\\overline{A} \\cap B]$ where $\\oplus$ is the exclusive or operation. \n",
    "\n",
    "b) $P[A \\oplus B] = P[A] + P[B] - 2 P[A\\cap B]$."
   ]
  },
  {
   "cell_type": "markdown",
   "metadata": {},
   "source": [
    "Part A:\n",
    "\n",
    "- $P[A \\oplus B]  =  P[(A \\cap \\overline{B}) \\cup (\\overline{A} \\cap B)]$ <br><br>\n",
    "- $P[A \\oplus B]  =  P[A \\cap \\overline{B}] + P[\\overline{A} \\cap B]$\n",
    "\n",
    "<hr>"
   ]
  },
  {
   "cell_type": "markdown",
   "metadata": {},
   "source": [
    "Part B:\n",
    "\n",
    "- $P[A \\oplus B]  =  P[(A \\cap \\overline{B}) \\cup (\\overline{A} \\cap B)]$ <br><br>\n",
    "- $P[A \\oplus B]  =  P[A \\cap \\overline{B}] + P[\\overline{A} \\cap B]$ <br><br>\n",
    "    - $P[A \\cap \\overline B] = P[A] - P[A \\cap B]$ <br><br>\n",
    "    - $P[\\overline{A} \\cap B] = P[B] - P[A \\cap B]$ <br><br>\n",
    "- $P[A \\oplus B]  =  (P[A] - P[A \\cap B]) + (P[B] - P[A \\cap B])$ <br><br>\n",
    "- $P[A \\oplus B]  =  P[A] + P[B] - 2(P[A \\cap B])$"
   ]
  },
  {
   "cell_type": "markdown",
   "metadata": {},
   "source": [
    "## 2. Dice\n",
    "\n",
    "Suppose two dice are tossed, but that the dice are weighted so that 1 comes up as twice as likely as any other number for both dice. \n",
    "\n",
    "a) What is the probability of getting a sum of seven?\n",
    "\n",
    "b) What is the probability of getting a sum of seven given that the first die comes up 1?\n",
    "\n",
    "c) What is the probability neither die coming up 1?\n",
    "\n",
    "d) What is the PDF of the random variable $X$ defined to the the sum of the two dice?"
   ]
  },
  {
   "cell_type": "markdown",
   "metadata": {},
   "source": [
    "Part A:\n",
    "\n",
    "$P[1] \\cdot P[6] +$\n",
    "\n",
    "$P[2] \\cdot P[5] +$\n",
    "\n",
    "$P[3] \\cdot P[4] +$ \n",
    "\n",
    "$P[4] \\cdot P[3] +$ \n",
    "\n",
    "$P[5] \\cdot P[2] +$ \n",
    "\n",
    "$P[6] \\cdot P[1] +$ \n",
    "\n",
    "$= \\frac{8}{49}$\n",
    "\n",
    "<hr>"
   ]
  },
  {
   "cell_type": "markdown",
   "metadata": {},
   "source": [
    "Part B:\n",
    "\n",
    "$P[(D_1+D_2 = 7) | (D_1 = 1)] = \\frac{P[(D_1 + D_2 = 7) \\cap (D_1 = 1)]}{P[D_1 = 1]} = \\frac{P[(1,6)]}{P[D_1=1]} = P[B] = \\frac{1}{7}$\n",
    "\n",
    "<hr>"
   ]
  },
  {
   "cell_type": "markdown",
   "metadata": {},
   "source": [
    "Part C:\n",
    "\n",
    "$(1-\\frac{2}{7}) \\cdot (1-\\frac{2}{7}) = \\frac{25}{49}$\n",
    "\n",
    "<hr>"
   ]
  },
  {
   "cell_type": "markdown",
   "metadata": {},
   "source": [
    "Part D:"
   ]
  },
  {
   "cell_type": "code",
   "execution_count": 2,
   "metadata": {},
   "outputs": [
    {
     "data": {
      "image/png": "[encoded data removed]",
      "text/plain": [
       "<Figure size 432x432 with 1 Axes>"
      ]
     },
     "metadata": {
      "needs_background": "light"
     },
     "output_type": "display_data"
    }
   ],
   "source": [
    "def prob(i):\n",
    "    return sp.Rational(1,6)\n",
    "\n",
    "def wprob(i):\n",
    "    if i==1:\n",
    "        return sp.Rational(2,7)\n",
    "    else:\n",
    "        return sp.Rational(1,7)\n",
    "\n",
    "sums = {}\n",
    "wsums = {}\n",
    "for i in range(1,7):\n",
    "    for j in range(1,7):\n",
    "        s = i+j\n",
    "        if s not in sums:\n",
    "            sums[s] = [prob(i)*prob(j)]\n",
    "            wsums[s] = [wprob(i)*wprob(j)]\n",
    "        else:\n",
    "            arr = sums[s]; arr.append(prob(i)*prob(j))\n",
    "            arr = wsums[s]; arr.append(wprob(i)*wprob(j))\n",
    "\n",
    "for s in sums:\n",
    "    sums[s] = sum(sums[s])\n",
    "    wsums[s] = sum(wsums[s])\n",
    "\n",
    "fig,ax = plt.subplots(figsize=(6,6))\n",
    "ax.scatter(sums.keys(),sums.values(),label='normal')\n",
    "ax.scatter(wsums.keys(),wsums.values(),label='weighted')\n",
    "ax.set_title('Two Die Sum PDF')\n",
    "ax.set_xlabel('Sum')\n",
    "ax.set_ylabel('Probability')\n",
    "ax.legend()\n",
    "plt.grid(True);"
   ]
  },
  {
   "cell_type": "code",
   "execution_count": 3,
   "metadata": {},
   "outputs": [
    {
     "data": {
      "text/latex": [
       "$$\\left \\{ 2 : \\frac{4}{49}, \\quad 3 : \\frac{4}{49}, \\quad 4 : \\frac{5}{49}, \\quad 5 : \\frac{6}{49}, \\quad 6 : \\frac{1}{7}, \\quad 7 : \\frac{8}{49}, \\quad 8 : \\frac{5}{49}, \\quad 9 : \\frac{4}{49}, \\quad 10 : \\frac{3}{49}, \\quad 11 : \\frac{2}{49}, \\quad 12 : \\frac{1}{49}\\right \\}$$"
      ],
      "text/plain": [
       "{2: 4/49, 3: 4/49, 4: 5/49, 5: 6/49, 6: 1/7, 7: 8/49, 8: 5/49, 9: 4/49, 10: 3/\n",
       "49, 11: 2/49, 12: 1/49}"
      ]
     },
     "execution_count": 3,
     "metadata": {},
     "output_type": "execute_result"
    }
   ],
   "source": [
    "wsums"
   ]
  },
  {
   "cell_type": "markdown",
   "metadata": {},
   "source": [
    "## 3. PDF and CDF\n",
    "\n",
    "Suppose that a random variable $X$ has PDF defined by\n",
    "\n",
    "$$\n",
    "f_X(x) = \\left \\{\n",
    "\\begin{array}{ll}\n",
    "a(1+x) & \\; \\mathrm{if} \\; -1 < x \\leq 0 \\\\\n",
    "a(1-x) & \\; \\mathrm{if} \\; 0 < x < 1 \\\\\n",
    "0 & \\; \\mathrm{otherwise}.\n",
    "\\end{array}\n",
    "\\right .\n",
    "$$\n",
    "\n",
    "a) What does the value of $a$ need to be to make $f_X$ a probability distribution? Plot $f_X$ for this value.\n",
    "\n",
    "b) Find and plot $F_X$.\n",
    "\n",
    "c) Find $b$ such that $P[X>b] = \\frac{1}{2} P[X \\leq b]$. "
   ]
  },
  {
   "cell_type": "markdown",
   "metadata": {},
   "source": [
    "<hr>\n",
    "\n",
    "**Properties of the PDF:**\n",
    "\n",
    "a) $\\int_{-\\infty}^\\infty f_X(x) dx = 1$\n",
    "\n",
    "b) $F_X(x) = \\sum f_X(x)$, assuming $x$ takes on discrete values. \n",
    "\n",
    "<hr>"
   ]
  },
  {
   "cell_type": "markdown",
   "metadata": {},
   "source": [
    "Part A:\n",
    "\n",
    "Use properties of PDF such that $\\int_{-\\infty}^{\\infty}{f_X(x)}dx = 1 $\n",
    "\n",
    "Then $ \\left. a(t+\\frac{t^2}{2})\\right|_{-1}^{0} + \\left. a(t-\\frac{t^2}{2})\\right|_{0}^{1} = 1 $\n",
    "\n",
    "Simplify to $\\frac{a}{2} + \\frac{a}{2} = 1$\n",
    "\n",
    "Thus $a = 1$."
   ]
  },
  {
   "cell_type": "code",
   "execution_count": 4,
   "metadata": {},
   "outputs": [
    {
     "data": {
      "image/png": "[encoded data removed]",
      "text/plain": [
       "<Figure size 432x288 with 1 Axes>"
      ]
     },
     "metadata": {
      "needs_background": "light"
     },
     "output_type": "display_data"
    }
   ],
   "source": [
    "x = np.linspace(-2,2,101)\n",
    "def pdf_function3(x):\n",
    "    a = 1\n",
    "    x0 = x[x<=-1]\n",
    "    x1 = x[(x>-1) & (x<=0)]\n",
    "    x2 = x[(x>0) & (x<1)]\n",
    "    x3 = x[x>=1]\n",
    "    y0 = lambda x: np.zeros(len(x))\n",
    "    y1 = lambda x: a*(1+x)          #f_x if -1<x<=0\n",
    "    y2 = lambda x: a*(1-x)          #f_x if 0<x<1\n",
    "    y3 = lambda x: np.zeros(len(x))\n",
    "    return y0(x0).tolist()+\\\n",
    "            y1(x1).tolist()+\\\n",
    "            y2(x2).tolist()+\\\n",
    "            y3(x3).tolist() \n",
    "\n",
    "fig,ax = plt.subplots(figsize=(6,4))\n",
    "ax.plot(x,pdf_function3(x),color='C0')\n",
    "ax.set_title('PDF f_x(x)');\n",
    "ax.set_xlabel('x')\n",
    "ax.set_ylabel('probability');"
   ]
  },
  {
   "cell_type": "markdown",
   "metadata": {},
   "source": [
    "Part B:\n",
    "\n",
    "For $x \\in (-1,0]$, $F_X(x) = \\int_{-1}^{x}{a(1+t)}dt $\n",
    "\n",
    "For $x \\in (0,1)$, $F_X(x) = F_X(0) + \\int_{0}^{x}{a(1-t)}dt $"
   ]
  },
  {
   "cell_type": "code",
   "execution_count": 7,
   "metadata": {},
   "outputs": [
    {
     "data": {
      "image/png": "[encoded data removed]",
      "text/plain": [
       "<Figure size 432x288 with 1 Axes>"
      ]
     },
     "metadata": {
      "needs_background": "light"
     },
     "output_type": "display_data"
    }
   ],
   "source": [
    "x = np.linspace(-2,2,101)\n",
    "def cdf_function3(x):\n",
    "    a = 1\n",
    "    x0 = x[x<=-1]\n",
    "    x1 = x[(x>-1) & (x<=0)]\n",
    "    x2 = x[(x>0) & (x<1)]\n",
    "    x3 = x[x>=1]\n",
    "    y0 = lambda x: np.zeros(len(x))\n",
    "    y1 = lambda x: a*(x+(x**2)/2) - a*(-1/2)   #F_x if -1<x<=0\n",
    "    F0 = np.max(y1(x1).tolist())               \n",
    "    y2 = lambda x: a*(x-(x**2)/2)+F0           #F_x if 0<x<1\n",
    "    y3 = lambda x: np.ones(len(x))\n",
    "    return y0(x0).tolist()+\\\n",
    "            y1(x1).tolist()+\\\n",
    "            y2(x2).tolist()+\\\n",
    "            y3(x3).tolist() \n",
    "\n",
    "fig,ax = plt.subplots(figsize=(6,4))\n",
    "ax.plot(x,cdf_function3(x),color='C0')\n",
    "ax.set_title('CDF F_x(x)')\n",
    "ax.set_xlabel('x')\n",
    "ax.set_ylabel('probability');"
   ]
  },
  {
   "cell_type": "markdown",
   "metadata": {},
   "source": [
    "Part C:\n",
    "\n",
    "- $P[X>b] = \\frac{1}{2} P[X \\leq b] $<br><br>\n",
    "    - $[X>b] = 1 - P[X \\leq b] $<br><br>\n",
    "- $1 - P[X \\leq b] = \\frac{1}{2} P[X \\leq b] $<br><br>\n",
    "- $1 = \\frac{3}{2} P[X \\leq b] $<br><br>\n",
    "- $\\frac{2}{3} = P[X \\leq b] $<br><br>\n",
    "- $\\frac{2}{3} = P[X \\leq b] $ Note that $b \\in (0,1)$<br><br>\n",
    "- $\\frac{2}{3} = F_X(0) + \\int_{0}^{b}{a(1-t)}dt $<br><br>\n",
    "- $\\frac{2}{3} = \\frac{1}{2} + \\left. (t-\\frac{t^2}{2})\\right|_{0}^{b} $<br><br>\n",
    "- $\\frac{-b^2}{2} + b - \\frac{1}{6} = 0 $<br><br>\n",
    "- $b = 1 \\pm \\sqrt{\\frac{2}{3}}$ Exclude value greater than 1<br><br>\n",
    "- $b = 1 - \\sqrt{\\frac{2}{3}} = 0.18 $"
   ]
  },
  {
   "cell_type": "markdown",
   "metadata": {},
   "source": [
    "## 4. Functions of a Random Variable\n",
    "\n",
    "Suppose $X$ is distributed uniformly in the interval $[0,1]$. That is, $f_X(x) = 1$ if $x \\in [0,1]$ and $f_X(x) = 0$ otherwise. \n",
    "\n",
    "a) What is the CDF of $X$?\n",
    "\n",
    "b) Let $Y = X^2$. Find and plot $F_Y$ and $f_Y$. \n",
    "\n",
    "c) Let $Z = - \\frac{1}{\\lambda} \\ln X$. Find and plot $F_Z$ and $f_Z$. "
   ]
  },
  {
   "cell_type": "markdown",
   "metadata": {},
   "source": [
    "Part A:\n",
    "\n",
    "$f_X(x) = \n",
    "\\begin{cases} \n",
    "  1 & x \\in [0,1] \\\\\n",
    "  0 & otherwise\n",
    "\\end{cases} $ then\n",
    "$ F_X(x) = \n",
    "\\begin{cases} \n",
    "  0 & x \\leq 0 \\\\\n",
    "  x & x \\in [0,1] \\\\\n",
    "  1 & x > 1\n",
    "\\end{cases}$"
   ]
  },
  {
   "cell_type": "markdown",
   "metadata": {},
   "source": [
    "Part B:\n",
    "\n"
   ]
  },
  {
   "cell_type": "markdown",
   "metadata": {},
   "source": []
  },
  {
   "cell_type": "markdown",
   "metadata": {},
   "source": [
    "## 5. Markov Process Properties\n",
    "\n",
    "Consider the following three Markov Processes.\n",
    "\n",
    "<img src=\"../../images/HW-MPs.jpeg\" width=80%>\n",
    "\n",
    "For each process,\n",
    "\n",
    "i) Find the period of each state.\n",
    "\n",
    "ii) Identify transient states.\n",
    "\n",
    "iii) Identify absorbing states and absorbing subsets of states.\n",
    "\n",
    "iv) Identify ergodic states."
   ]
  },
  {
   "cell_type": "markdown",
   "metadata": {},
   "source": [
    "## 6. Stationary Distributions\n",
    "\n",
    "For each Markov Process in Problem 5:\n",
    "\n",
    "i) Find the update matrix $Q$.\n",
    "\n",
    "ii) Simulate the dynamics $p_{k+1} = p_k Q$ starting at the distribution in which $p_0(0) = 1$. Make a nice plot of the dynamics for each system. To do this, plot a 2D grid where grid point $(k,i)$ is a gray-scale square corresponding to the probability that the process is in state $i$ at time $k$ (the Gambler's Ruin example in the notes does this). \n",
    "\n",
    "iii) Find the left eigenvector(s) corresponding to the stationary distribution(s) of the process. If there is more than one such eigenvector, describe the space of stationary distributions as a linear combination of them.\n",
    "\n",
    "iv) Find the reachable stationary distribution assuming $p_0(0) = 1$. "
   ]
  },
  {
   "cell_type": "code",
   "execution_count": 13,
   "metadata": {},
   "outputs": [],
   "source": [
    "# Update Matrices Q\n",
    "\n",
    "Qa = np.matrix([\n",
    "    [0,0.5,0.5],\n",
    "    [0.5,0,0.5],\n",
    "    [0.5,0.5,0]\n",
    "])\n",
    "Qb = np.matrix([\n",
    "    [0,1,0,0],\n",
    "    [0,0,1,0],\n",
    "    [0,0,0.5,1],\n",
    "    [0.5,0,0,0]\n",
    "])\n",
    "Qc = np.matrix([\n",
    "    [0,0.5,0,0.25,0,0.25,0],\n",
    "    [0,0,1,0,0,0,0],\n",
    "    [0,1,0,0,0,0,0],\n",
    "    [0,0,0,0,1,0,0],\n",
    "    [0,0,0,1,0,0,0],\n",
    "    [0,0,0,0,0,0,1],\n",
    "    [0,0,0,0,0,1,0]\n",
    "])"
   ]
  },
  {
   "cell_type": "code",
   "execution_count": null,
   "metadata": {},
   "outputs": [],
   "source": [
    "def dynamics(k, Q, p):\n",
    "    '''\n",
    "    Assumes k is the numer of steps\n",
    "            Q is the update matrix\n",
    "            p0 is the starting distribution.\n",
    "    Returns a matrix of trajectories.\n",
    "    '''\n",
    "    trajectory = [p]\n",
    "    for t in range(k):\n",
    "        p = np.dot(p,Q)\n",
    "        trajectory.append(p)\n",
    "    trajectory = np.matrix(trajectory).transpose()\n",
    "\n",
    "    return trajectory"
   ]
  },
  {
   "cell_type": "code",
   "execution_count": null,
   "metadata": {},
   "outputs": [],
   "source": [
    "init = [1,0,0]\n"
   ]
  },
  {
   "cell_type": "markdown",
   "metadata": {},
   "source": [
    "## 7. Means and standard deviations\n",
    "\n",
    "For each process in problem 6, find the mean and standard deviation of the value of the state in the reachable stationary distribution. For example, in process (a), the stationary distribution has all states equally likely, so the mean would be $\\frac{1}{3} (0+1+2) = 1$. "
   ]
  },
  {
   "cell_type": "markdown",
   "metadata": {},
   "source": [
    "## 8. The Page Rank Algorithm\n",
    "\n",
    "For the following problem, use the `networkx` `pagerank` function or find the eigenvector of the graph as a Markov Process corresponding to the eigenvector 1. Use undirected graphs.\n",
    "\n",
    "a) Find a 10 node, connected graph in which all nodes are ranked equally or explain why such a graph does not exist.\n",
    "\n",
    "b) Find a 10 node, connected graph in which all nodes are ranked differently or explain why such a graph does not exist.\n",
    "\n",
    "c) Find a 10 node, connected graph in which there are two sets $A$ and $B$ of $5$ nodes for which all nodes in $A$ are ranked the same and all nodes in $B$ are ranked the same, but different from nodes in $A$. Or explain why such a graph does not exist."
   ]
  },
  {
   "cell_type": "code",
   "execution_count": 11,
   "metadata": {},
   "outputs": [
    {
     "data": {
      "text/plain": [
       "(0.17050722528531248, 7)"
      ]
     },
     "execution_count": 11,
     "metadata": {},
     "output_type": "execute_result"
    }
   ],
   "source": [
    "# Now we compute the page rank vector\n",
    "n = 10\n",
    "p = 0.02\n",
    "G = nx.fast_gnp_random_graph(n,p,directed=True)\n",
    "PR = nx.pagerank(G).values()\n",
    "\n",
    "\n",
    "# Find the ranking of all nodes, and the max ranged node\n",
    "vals = np.array(list(nx.pagerank(G).values()))\n",
    "m = np.argmax(vals)\n",
    "max(vals),m\n"
   ]
  },
  {
   "cell_type": "code",
   "execution_count": null,
   "metadata": {},
   "outputs": [],
   "source": []
  }
 ],
 "metadata": {
  "kernelspec": {
   "display_name": "Python 3",
   "language": "python",
   "name": "python3"
  },
  "language_info": {
   "codemirror_mode": {
    "name": "ipython",
    "version": 3
   },
   "file_extension": ".py",
   "mimetype": "text/x-python",
   "name": "python",
   "nbconvert_exporter": "python",
   "pygments_lexer": "ipython3",
   "version": "3.7.4"
  }
 },
 "nbformat": 4,
 "nbformat_minor": 2
}
