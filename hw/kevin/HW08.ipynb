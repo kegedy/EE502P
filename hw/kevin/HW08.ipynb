{
 "cells": [
  {
   "cell_type": "markdown",
   "metadata": {
    "ExecuteTime": {
     "end_time": "2019-09-24T16:05:23.746666Z",
     "start_time": "2019-09-24T16:05:23.741461Z"
    }
   },
   "source": [
    "## EE 502 P: Analytical Methods for Electrical Engineering\n",
    "    \n",
    "# Homework 8: Probability and Markov Processes\n",
    "## Due 27 November, 2019 at 6:00 PM\n",
    "### <span style=\"color: red\">YOUR NAME HERE</span>\n",
    "\n",
    "Copyright &copy; 2019, University of Washington\n",
    "\n",
    "<hr>\n",
    "\n",
    "**Instructions**: Use this notebook as a template. Answer all questions using well formatted Markdown with embedded LaTeX equations, executable Jupyter cells, or both. Submit your homework solutions as an `.ipynb` file via Canvas.\n",
    "\n",
    "<span style=\"background: yellow; padding: 6px; border: 1pt solid black\">\n",
    "Although you may discuss the homework with others, you must turn in your own, original work.\n",
    "</span>\n",
    "\n",
    "**Things to remember:**\n",
    "- Use complete sentences. Equations should appear in text as grammatical elements.\n",
    "- Comment your code.\n",
    "- Label your axes. Title your plots. Use legends where appropriate. \n",
    "- Before submitting a notebook, choose Kernel -> Restart and Run All to make sure your notebook runs when the cells are evaluated in order. \n",
    "\n",
    "Note : Late homework will be accepted up to one week after the due date and will be worth 50% of its full credit score. "
   ]
  },
  {
   "cell_type": "markdown",
   "metadata": {},
   "source": [
    "### 0. Warmup (Do not turn in)\n",
    "\n",
    "- Make sure you get download, read, and run the notebook for lecture 8. Work through the notebook cell by cell and see what happens when you change the expressions, and make up some of your own.\n",
    "- Most of the section on basic graph theory is from chapter the really, really, really good book:\n",
    "\n",
    "> Feller, [An Introduction to Probability Theory and Its Applications, Vol 1](https://www.amazon.com/Introduction-Probability-Theory-Applications-Vol/dp/0471257087), 3rd Edition, Wiley, 1968. \n",
    "\n",
    "- The material on Markov Chains can be found in numerous textbooks. A good online source is Chapter 11 of \n",
    "\n",
    "> Grinstead, [Introduction to Probability](http://www.dartmouth.edu/~chance/teaching_aids/books_articles/probability_book/book.html).\n",
    "\n"
   ]
  },
  {
   "cell_type": "code",
   "execution_count": 3,
   "metadata": {},
   "outputs": [],
   "source": [
    "# Imports\n",
    "import io\n",
    "import requests\n",
    "import random\n",
    "import itertools\n",
    "import math\n",
    "import cmath\n",
    "import pandas as pd\n",
    "import numpy as np\n",
    "import networkx as nx\n",
    "import sympy as sp\n",
    "sp.init_printing(use_latex='mathjax')\n",
    "import scipy\n",
    "import scipy.ndimage\n",
    "import scipy.integrate as spi\n",
    "import matplotlib.pyplot as plt\n",
    "import matplotlib.patches as pch\n",
    "%matplotlib inline\n",
    "from mpl_toolkits.mplot3d import Axes3D \n",
    "from IPython.core.interactiveshell import InteractiveShell\n",
    "InteractiveShell.ast_node_interactivity = \"all\"\n",
    "#import warnings\n",
    "#warnings.filterwarnings(\"ignore\", module=\"matplotlib\")"
   ]
  },
  {
   "cell_type": "markdown",
   "metadata": {},
   "source": [
    "### 1. Fundamental properties\n",
    "\n",
    "Use the definitions and basic properties of a probability function to show the following identities:\n",
    "\n",
    "a) $P[A \\oplus B] = P[A \\cap \\overline{B}] + P[\\overline{A} \\cap B]$ where $\\oplus$ is the exclusive or operation. \n",
    "\n",
    "b) $P[A \\oplus B] = P[A] + P[B] - 2 P[A\\cap B]$."
   ]
  },
  {
   "cell_type": "markdown",
   "metadata": {},
   "source": [
    "Part A:\n",
    "\n",
    "- $P[A \\oplus B]  =  P[(A \\cap \\overline{B}) \\cup (\\overline{A} \\cap B)]$ <br><br>\n",
    "- $P[A \\oplus B]  =  P[A \\cap \\overline{B}] + P[\\overline{A} \\cap B]$\n",
    "\n",
    "<hr>"
   ]
  },
  {
   "cell_type": "markdown",
   "metadata": {},
   "source": [
    "Part B:\n",
    "\n",
    "- $P[A \\oplus B]  =  P[(A \\cap \\overline{B}) \\cup (\\overline{A} \\cap B)]$ <br><br>\n",
    "- $P[A \\oplus B]  =  P[A \\cap \\overline{B}] + P[\\overline{A} \\cap B]$ <br><br>\n",
    "    - $P[A \\cap \\overline B] = P[A] - P[A \\cap B]$ <br><br>\n",
    "    - $P[\\overline{A} \\cap B] = P[B] - P[A \\cap B]$ <br><br>\n",
    "- $P[A \\oplus B]  =  (P[A] - P[A \\cap B]) + (P[B] - P[A \\cap B])$ <br><br>\n",
    "- $P[A \\oplus B]  =  P[A] + P[B] - 2(P[A \\cap B])$"
   ]
  },
  {
   "cell_type": "markdown",
   "metadata": {},
   "source": [
    "## 2. Dice\n",
    "\n",
    "Suppose two dice are tossed, but that the dice are weighted so that 1 comes up as twice as likely as any other number for both dice. \n",
    "\n",
    "a) What is the probability of getting a sum of seven?\n",
    "\n",
    "b) What is the probability of getting a sum of seven given that the first die comes up 1?\n",
    "\n",
    "c) What is the probability neither die coming up 1?\n",
    "\n",
    "d) What is the PDF of the random variable $X$ defined to the the sum of the two dice?"
   ]
  },
  {
   "cell_type": "markdown",
   "metadata": {},
   "source": [
    "$P[1] \\cdot P[6] +$\n",
    "\n",
    "$P[2] \\cdot P[5] +$\n",
    "\n",
    "$P[3] \\cdot P[4] +$ \n",
    "\n",
    "$P[4] \\cdot P[3] +$ \n",
    "\n",
    "$P[5] \\cdot P[2] +$ \n",
    "\n",
    "$P[6] \\cdot P[1] +$ \n",
    "\n",
    "$= $"
   ]
  },
  {
   "cell_type": "markdown",
   "metadata": {},
   "source": [
    "$\\frac{2}{7} \\cdot \\frac{1}{7} = \\frac{2}{49}$"
   ]
  },
  {
   "cell_type": "markdown",
   "metadata": {},
   "source": [
    "$\\frac{5}{7} \\cdot \\frac{5}{7} = \\frac{25}{49}$"
   ]
  },
  {
   "cell_type": "code",
   "execution_count": null,
   "metadata": {},
   "outputs": [],
   "source": []
  },
  {
   "cell_type": "markdown",
   "metadata": {},
   "source": [
    "## 3. PDF and CDF\n",
    "\n",
    "Suppose that a random variable $X$ has PDF defined by\n",
    "\n",
    "$$\n",
    "f_X(x) = \\left \\{\n",
    "\\begin{array}{ll}\n",
    "a(1+x) & \\; \\mathrm{if} \\; -1 < x \\leq 0 \\\\\n",
    "a(1-x) & \\; \\mathrm{if} \\; 0 < x < 1 \\\\\n",
    "0 & \\; \\mathrm{otherwise}.\n",
    "\\end{array}\n",
    "\\right .\n",
    "$$\n",
    "\n",
    "a) What does the value of $a$ need to be to make $f_X$ a probability distribution? Plot $f_X$ for this value.\n",
    "\n",
    "b) Find and plot $F_X$.\n",
    "\n",
    "c) Find $b$ such that $P[X>b] = \\frac{1}{2} P[X \\leq b]$. "
   ]
  },
  {
   "cell_type": "code",
   "execution_count": 22,
   "metadata": {},
   "outputs": [
    {
     "data": {
      "image/png": "[encoded data removed]",
      "text/plain": [
       "<Figure size 432x432 with 1 Axes>"
      ]
     },
     "metadata": {
      "needs_background": "light"
     },
     "output_type": "display_data"
    }
   ],
   "source": [
    "a = 1\n",
    "x0 = np.linspace(-1,0,11)\n",
    "x1 = np.linspace(0,1,11)\n",
    "y0 = lambda x: a*(1+x)\n",
    "y1 = lambda x: a*(1-x)\n",
    "\n",
    "fig,ax = plt.subplots(figsize=(6,6))\n",
    "ax.scatter(x1,y1(x1),color='C0')\n",
    "ax.scatter(x0,y0(x0),color='C0')\n",
    "ax.set_title('Integral of f_x(x) = 1; a = 1');"
   ]
  },
  {
   "cell_type": "code",
   "execution_count": 25,
   "metadata": {},
   "outputs": [
    {
     "data": {
      "text/plain": [
       "array([0. , 0.1, 0.2, 0.3, 0.4, 0.5, 0.6, 0.7, 0.8, 0.9, 1. ])"
      ]
     },
     "execution_count": 25,
     "metadata": {},
     "output_type": "execute_result"
    }
   ],
   "source": [
    "y0(x0)"
   ]
  },
  {
   "cell_type": "markdown",
   "metadata": {},
   "source": [
    "## 4. Functions of a Random Variable\n",
    "\n",
    "Suppose $X$ is distributed uniformly in the interval $[0,1]$. That is, $f_X(x) = 1$ if $x \\in [0,1]$ and $f_X(x) = 0$ otherwise. \n",
    "\n",
    "a) What is the CDF of $X$?\n",
    "\n",
    "b) Let $Y = X^2$. Find and plot $F_Y$ and $f_Y$. \n",
    "\n",
    "c) Let $Z = - \\frac{1}{\\lambda} \\ln X$. Find and plot $F_Z$ and $f_Z$. "
   ]
  },
  {
   "cell_type": "markdown",
   "metadata": {},
   "source": [
    "## 5. Markov Process Properties\n",
    "\n",
    "Consider the following three Markov Processes.\n",
    "\n",
    "<img src=\"../../images/HW-MPs.jpeg\" width=80%>\n",
    "\n",
    "For each process,\n",
    "\n",
    "i) Find the period of each state.\n",
    "\n",
    "ii) Identify transient states.\n",
    "\n",
    "iii) Identify absorbing states and absorbing subsets of states.\n",
    "\n",
    "iv) Identify ergodic states."
   ]
  },
  {
   "cell_type": "markdown",
   "metadata": {},
   "source": [
    "## 6. Stationary Distributions\n",
    "\n",
    "For each Markov Process in Problem 5:\n",
    "\n",
    "i) Find the update matrix $Q$.\n",
    "\n",
    "ii) Simulate the dynamics $p_{k+1} = p_k Q$ starting at the distribution in which $p_0(0) = 1$. Make a nice plot of the dynamics for each system. To do this, plot a 2D grid where grid point $(k,i)$ is a gray-scale square corresponding to the probability that the process is in state $i$ at time $k$ (the Gambler's Ruin example in the notes does this). \n",
    "\n",
    "iii) Find the left eigenvector(s) corresponding to the stationary distribution(s) of the process. If there is more than one such eigenvector, describe the space of stationary distributions as a linear combination of them.\n",
    "\n",
    "iv) Find the reachable stationary distribution assuming $p_0(0) = 1$. "
   ]
  },
  {
   "cell_type": "markdown",
   "metadata": {},
   "source": [
    "## 7. Means and standard deviations\n",
    "\n",
    "For each process in problem 6, find the mean and standard deviation of the value of the state in the reachable stationary distribution. For example, in process (a), the stationary distribution has all states equally likely, so the mean would be $\\frac{1}{3} (0+1+2) = 1$. "
   ]
  },
  {
   "cell_type": "markdown",
   "metadata": {},
   "source": [
    "## 8. The Page Rank Algorithm\n",
    "\n",
    "For the following problem, use the `networkx` `pagerank` function or find the eigenvector of the graph as a Markov Process corresponding to the eigenvector 1. Use undirected graphs.\n",
    "\n",
    "a) Find a 10 node, connected graph in which all nodes are ranked equally or explain why such a graph does not exist.\n",
    "\n",
    "b) Find a 10 node, connected graph in which all nodes are ranked differently or explain why such a graph does not exist.\n",
    "\n",
    "c) Find a 10 node, connected graph in which there are two sets $A$ and $B$ of $5$ nodes for which all nodes in $A$ are ranked the same and all nodes in $B$ are ranked the same, but different from nodes in $A$. Or explain why such a graph does not exist."
   ]
  }
 ],
 "metadata": {
  "kernelspec": {
   "display_name": "Python 3",
   "language": "python",
   "name": "python3"
  },
  "language_info": {
   "codemirror_mode": {
    "name": "ipython",
    "version": 3
   },
   "file_extension": ".py",
   "mimetype": "text/x-python",
   "name": "python",
   "nbconvert_exporter": "python",
   "pygments_lexer": "ipython3",
   "version": "3.7.4"
  }
 },
 "nbformat": 4,
 "nbformat_minor": 2
}
