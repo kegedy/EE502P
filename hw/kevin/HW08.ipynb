{
 "cells": [
  {
   "cell_type": "markdown",
   "metadata": {
    "ExecuteTime": {
     "end_time": "2019-09-24T16:05:23.746666Z",
     "start_time": "2019-09-24T16:05:23.741461Z"
    }
   },
   "source": [
    "## EE 502 P: Analytical Methods for Electrical Engineering\n",
    "    \n",
    "# Homework 8: Probability and Markov Processes\n",
    "## Due 27 November, 2019 at 6:00 PM\n",
    "### <span style=\"color: red\">Kevin Egedy</span>\n",
    "\n",
    "Copyright &copy; 2019, University of Washington\n",
    "\n",
    "<hr>\n",
    "\n",
    "**Instructions**: Use this notebook as a template. Answer all questions using well formatted Markdown with embedded LaTeX equations, executable Jupyter cells, or both. Submit your homework solutions as an `.ipynb` file via Canvas.\n",
    "\n",
    "<span style=\"background: yellow; padding: 6px; border: 1pt solid black\">\n",
    "Although you may discuss the homework with others, you must turn in your own, original work.\n",
    "</span>\n",
    "\n",
    "**Things to remember:**\n",
    "- Use complete sentences. Equations should appear in text as grammatical elements.\n",
    "- Comment your code.\n",
    "- Label your axes. Title your plots. Use legends where appropriate. \n",
    "- Before submitting a notebook, choose Kernel -> Restart and Run All to make sure your notebook runs when the cells are evaluated in order. \n",
    "\n",
    "Note : Late homework will be accepted up to one week after the due date and will be worth 50% of its full credit score. "
   ]
  },
  {
   "cell_type": "markdown",
   "metadata": {},
   "source": [
    "### 0. Warmup (Do not turn in)\n",
    "\n",
    "- Make sure you get download, read, and run the notebook for lecture 8. Work through the notebook cell by cell and see what happens when you change the expressions, and make up some of your own.\n",
    "- Most of the section on basic graph theory is from chapter the really, really, really good book:\n",
    "\n",
    "> Feller, [An Introduction to Probability Theory and Its Applications, Vol 1](https://www.amazon.com/Introduction-Probability-Theory-Applications-Vol/dp/0471257087), 3rd Edition, Wiley, 1968. \n",
    "\n",
    "- The material on Markov Chains can be found in numerous textbooks. A good online source is Chapter 11 of \n",
    "\n",
    "> Grinstead, [Introduction to Probability](http://www.dartmouth.edu/~chance/teaching_aids/books_articles/probability_book/book.html).\n",
    "\n"
   ]
  },
  {
   "cell_type": "code",
   "execution_count": 1,
   "metadata": {},
   "outputs": [],
   "source": [
    "# Imports\n",
    "import io\n",
    "import requests\n",
    "import random\n",
    "import itertools\n",
    "import math\n",
    "import cmath\n",
    "import pandas as pd\n",
    "import numpy as np\n",
    "import networkx as nx\n",
    "import sympy as sp\n",
    "sp.init_printing(use_latex='mathjax')\n",
    "import scipy\n",
    "import scipy.ndimage\n",
    "import scipy.integrate as spi\n",
    "import matplotlib.pyplot as plt\n",
    "import matplotlib.patches as pch\n",
    "%matplotlib inline\n",
    "from mpl_toolkits.mplot3d import Axes3D \n",
    "from IPython.core.interactiveshell import InteractiveShell\n",
    "InteractiveShell.ast_node_interactivity = \"all\"\n",
    "#import warnings\n",
    "#warnings.filterwarnings(\"ignore\", module=\"matplotlib\")"
   ]
  },
  {
   "cell_type": "markdown",
   "metadata": {},
   "source": [
    "### 1. Fundamental properties\n",
    "\n",
    "Use the definitions and basic properties of a probability function to show the following identities:\n",
    "\n",
    "a) $P[A \\oplus B] = P[A \\cap \\overline{B}] + P[\\overline{A} \\cap B]$ where $\\oplus$ is the exclusive or operation. \n",
    "\n",
    "b) $P[A \\oplus B] = P[A] + P[B] - 2 P[A\\cap B]$."
   ]
  },
  {
   "cell_type": "markdown",
   "metadata": {},
   "source": [
    "Part A:\n",
    "\n",
    "- $P[A \\oplus B]  =  P[(A \\cap \\overline{B}) \\cup (\\overline{A} \\cap B)]$ <br><br>\n",
    "- $P[A \\oplus B]  =  P[A \\cap \\overline{B}] + P[\\overline{A} \\cap B]$\n",
    "\n",
    "<hr>"
   ]
  },
  {
   "cell_type": "markdown",
   "metadata": {},
   "source": [
    "Part B:\n",
    "\n",
    "- $P[A \\oplus B]  =  P[(A \\cap \\overline{B}) \\cup (\\overline{A} \\cap B)]$ <br><br>\n",
    "- $P[A \\oplus B]  =  P[A \\cap \\overline{B}] + P[\\overline{A} \\cap B]$ <br><br>\n",
    "    - $P[A \\cap \\overline B] = P[A] - P[A \\cap B]$ <br><br>\n",
    "    - $P[\\overline{A} \\cap B] = P[B] - P[A \\cap B]$ <br><br>\n",
    "- $P[A \\oplus B]  =  (P[A] - P[A \\cap B]) + (P[B] - P[A \\cap B])$ <br><br>\n",
    "- $P[A \\oplus B]  =  P[A] + P[B] - 2(P[A \\cap B])$"
   ]
  },
  {
   "cell_type": "markdown",
   "metadata": {},
   "source": [
    "## 2. Dice\n",
    "\n",
    "Suppose two dice are tossed, but that the dice are weighted so that 1 comes up as twice as likely as any other number for both dice. \n",
    "\n",
    "a) What is the probability of getting a sum of seven?\n",
    "\n",
    "b) What is the probability of getting a sum of seven given that the first die comes up 1?\n",
    "\n",
    "c) What is the probability neither die coming up 1?\n",
    "\n",
    "d) What is the PDF of the random variable $X$ defined to the the sum of the two dice?"
   ]
  },
  {
   "cell_type": "markdown",
   "metadata": {},
   "source": [
    "Part A:\n",
    "\n",
    "$P[1] \\cdot P[6] +$\n",
    "\n",
    "$P[2] \\cdot P[5] +$\n",
    "\n",
    "$P[3] \\cdot P[4] +$ \n",
    "\n",
    "$P[4] \\cdot P[3] +$ \n",
    "\n",
    "$P[5] \\cdot P[2] +$ \n",
    "\n",
    "$P[6] \\cdot P[1] +$ \n",
    "\n",
    "$= \\frac{8}{49}$\n",
    "\n",
    "<hr>"
   ]
  },
  {
   "cell_type": "markdown",
   "metadata": {},
   "source": [
    "Part B:\n",
    "\n",
    "$P[(D_1+D_2 = 7) | (D_1 = 1)] = \\frac{P[(D_1 + D_2 = 7) \\cap (D_1 = 1)]}{P[D_1 = 1]} = \\frac{P[(1,6)]}{P[D_1=1]} = \\frac{1}{7}$\n",
    "\n",
    "<hr>"
   ]
  },
  {
   "cell_type": "markdown",
   "metadata": {},
   "source": [
    "Part C:\n",
    "\n",
    "$(1-\\frac{2}{7}) \\cdot (1-\\frac{2}{7}) = \\frac{25}{49}$\n",
    "\n",
    "<hr>"
   ]
  },
  {
   "cell_type": "markdown",
   "metadata": {},
   "source": [
    "Part D:"
   ]
  },
  {
   "cell_type": "code",
   "execution_count": 2,
   "metadata": {},
   "outputs": [
    {
     "data": {
      "image/png": "[encoded data removed]",
      "text/plain": [
       "<Figure size 432x432 with 1 Axes>"
      ]
     },
     "metadata": {
      "needs_background": "light"
     },
     "output_type": "display_data"
    }
   ],
   "source": [
    "def prob(i):\n",
    "    return sp.Rational(1,6)\n",
    "\n",
    "def wprob(i):\n",
    "    if i==1:\n",
    "        return sp.Rational(2,7)\n",
    "    else:\n",
    "        return sp.Rational(1,7)\n",
    "\n",
    "sums = {}\n",
    "wsums = {}\n",
    "for i in range(1,7):\n",
    "    for j in range(1,7):\n",
    "        s = i+j\n",
    "        if s not in sums:\n",
    "            sums[s] = [prob(i)*prob(j)]\n",
    "            wsums[s] = [wprob(i)*wprob(j)]\n",
    "        else:\n",
    "            arr = sums[s]; arr.append(prob(i)*prob(j))\n",
    "            arr = wsums[s]; arr.append(wprob(i)*wprob(j))\n",
    "\n",
    "for s in sums:\n",
    "    sums[s] = sum(sums[s])\n",
    "    wsums[s] = sum(wsums[s])\n",
    "\n",
    "fig,ax = plt.subplots(figsize=(6,6))\n",
    "ax.scatter(sums.keys(),sums.values(),label='normal')\n",
    "ax.scatter(wsums.keys(),wsums.values(),label='weighted')\n",
    "ax.set_title('Two Die Sum PDF')\n",
    "ax.set_xlabel('Sum')\n",
    "ax.set_ylabel('Value')\n",
    "ax.legend()\n",
    "plt.grid(True);"
   ]
  },
  {
   "cell_type": "code",
   "execution_count": 3,
   "metadata": {},
   "outputs": [
    {
     "data": {
      "text/latex": [
       "$$\\left \\{ 2 : \\frac{4}{49}, \\quad 3 : \\frac{4}{49}, \\quad 4 : \\frac{5}{49}, \\quad 5 : \\frac{6}{49}, \\quad 6 : \\frac{1}{7}, \\quad 7 : \\frac{8}{49}, \\quad 8 : \\frac{5}{49}, \\quad 9 : \\frac{4}{49}, \\quad 10 : \\frac{3}{49}, \\quad 11 : \\frac{2}{49}, \\quad 12 : \\frac{1}{49}\\right \\}$$"
      ],
      "text/plain": [
       "{2: 4/49, 3: 4/49, 4: 5/49, 5: 6/49, 6: 1/7, 7: 8/49, 8: 5/49, 9: 4/49, 10: 3/\n",
       "49, 11: 2/49, 12: 1/49}"
      ]
     },
     "execution_count": 3,
     "metadata": {},
     "output_type": "execute_result"
    }
   ],
   "source": [
    "wsums"
   ]
  },
  {
   "cell_type": "markdown",
   "metadata": {},
   "source": [
    "## 3. PDF and CDF\n",
    "\n",
    "Suppose that a random variable $X$ has PDF defined by\n",
    "\n",
    "$$\n",
    "f_X(x) = \\left \\{\n",
    "\\begin{array}{ll}\n",
    "a(1+x) & \\; \\mathrm{if} \\; -1 < x \\leq 0 \\\\\n",
    "a(1-x) & \\; \\mathrm{if} \\; 0 < x < 1 \\\\\n",
    "0 & \\; \\mathrm{otherwise}.\n",
    "\\end{array}\n",
    "\\right .\n",
    "$$\n",
    "\n",
    "a) What does the value of $a$ need to be to make $f_X$ a probability distribution? Plot $f_X$ for this value.\n",
    "\n",
    "b) Find and plot $F_X$.\n",
    "\n",
    "c) Find $b$ such that $P[X>b] = \\frac{1}{2} P[X \\leq b]$. "
   ]
  },
  {
   "cell_type": "markdown",
   "metadata": {},
   "source": [
    "<hr>\n",
    "\n",
    "**Properties of the PDF:**\n",
    "\n",
    "a) $\\int_{-\\infty}^\\infty f_X(x) dx = 1$\n",
    "\n",
    "b) $F_X(x) = \\sum f_X(x)$, assuming $x$ takes on discrete values. \n",
    "\n",
    "<hr>"
   ]
  },
  {
   "cell_type": "markdown",
   "metadata": {},
   "source": [
    "Part A:\n",
    "\n",
    "Use properties of PDF such that $\\int_{-\\infty}^{\\infty}{f_X(x)}dx = 1 $\n",
    "\n",
    "Then $ \\left. a(t+\\frac{t^2}{2})\\right|_{-1}^{0} + \\left. a(t-\\frac{t^2}{2})\\right|_{0}^{1} = 1 $\n",
    "\n",
    "Simplify to $\\frac{a}{2} + \\frac{a}{2} = 1$\n",
    "\n",
    "Thus $a = 1$."
   ]
  },
  {
   "cell_type": "code",
   "execution_count": 4,
   "metadata": {},
   "outputs": [
    {
     "data": {
      "image/png": "[encoded data removed]",
      "text/plain": [
       "<Figure size 432x288 with 1 Axes>"
      ]
     },
     "metadata": {
      "needs_background": "light"
     },
     "output_type": "display_data"
    }
   ],
   "source": [
    "x = np.linspace(-2,2,101)\n",
    "def pdf_function3(x):\n",
    "    a = 1\n",
    "    x0 = x[x<=-1]\n",
    "    x1 = x[(x>-1) & (x<=0)]\n",
    "    x2 = x[(x>0) & (x<1)]\n",
    "    x3 = x[x>=1]\n",
    "    y0 = lambda x: np.zeros(len(x))\n",
    "    y1 = lambda x: a*(1+x)          #f_x if -1<x<=0\n",
    "    y2 = lambda x: a*(1-x)          #f_x if 0<x<1\n",
    "    y3 = lambda x: np.zeros(len(x))\n",
    "    return y0(x0).tolist()+\\\n",
    "            y1(x1).tolist()+\\\n",
    "            y2(x2).tolist()+\\\n",
    "            y3(x3).tolist() \n",
    "\n",
    "fig,ax = plt.subplots(figsize=(6,4))\n",
    "ax.plot(x,pdf_function3(x))\n",
    "ax.set_title('PDF f_x(x)');\n",
    "ax.set_xlabel('x')\n",
    "ax.set_ylabel('value');"
   ]
  },
  {
   "cell_type": "markdown",
   "metadata": {},
   "source": [
    "Part B:\n",
    "\n",
    "For $x \\in (-1,0]$, $F_X(x) = \\int_{-1}^{x}{a(1+t)}dt $\n",
    "\n",
    "For $x \\in (0,1)$, $F_X(x) = F_X(0) + \\int_{0}^{x}{a(1-t)}dt $"
   ]
  },
  {
   "cell_type": "code",
   "execution_count": 5,
   "metadata": {},
   "outputs": [
    {
     "data": {
      "image/png": "[encoded data removed]",
      "text/plain": [
       "<Figure size 432x288 with 1 Axes>"
      ]
     },
     "metadata": {
      "needs_background": "light"
     },
     "output_type": "display_data"
    }
   ],
   "source": [
    "x = np.linspace(-2,2,101)\n",
    "def cdf_function3(x):\n",
    "    a = 1\n",
    "    x0 = x[x<=-1]\n",
    "    x1 = x[(x>-1) & (x<=0)]\n",
    "    x2 = x[(x>0) & (x<1)]\n",
    "    x3 = x[x>=1]\n",
    "    y0 = lambda x: np.zeros(len(x))\n",
    "    y1 = lambda x: a*(x+(x**2)/2) - a*(-1/2)   #F_x if -1<x<=0\n",
    "    F0 = np.max(y1(x1).tolist())               \n",
    "    y2 = lambda x: a*(x-(x**2)/2)+F0           #F_x if 0<x<1\n",
    "    y3 = lambda x: np.ones(len(x))\n",
    "    return y0(x0).tolist()+\\\n",
    "            y1(x1).tolist()+\\\n",
    "            y2(x2).tolist()+\\\n",
    "            y3(x3).tolist() \n",
    "\n",
    "fig,ax = plt.subplots(figsize=(6,4))\n",
    "ax.plot(x,cdf_function3(x))\n",
    "ax.set_title('CDF F_x(x)')\n",
    "ax.set_xlabel('x')\n",
    "ax.set_ylabel('value');"
   ]
  },
  {
   "cell_type": "markdown",
   "metadata": {},
   "source": [
    "Part C:\n",
    "\n",
    "- $P[X>b] = \\frac{1}{2} P[X \\leq b] $<br><br>\n",
    "    - $[X>b] = 1 - P[X \\leq b] $<br><br>\n",
    "- $1 - P[X \\leq b] = \\frac{1}{2} P[X \\leq b] $<br><br>\n",
    "- $1 = \\frac{3}{2} P[X \\leq b] $<br><br>\n",
    "- $\\frac{2}{3} = P[X \\leq b] $<br><br>\n",
    "- $\\frac{2}{3} = P[X \\leq b] $ Note that $b \\in (0,1)$<br><br>\n",
    "- $\\frac{2}{3} = F_X(0) + \\int_{0}^{b}{a(1-t)}dt $<br><br>\n",
    "- $\\frac{2}{3} = \\frac{1}{2} + \\left. (t-\\frac{t^2}{2})\\right|_{0}^{b} $<br><br>\n",
    "- $\\frac{-b^2}{2} + b - \\frac{1}{6} = 0 $<br><br>\n",
    "- $b = 1 \\pm \\sqrt{\\frac{2}{3}}$ Exclude value greater than 1<br><br>\n",
    "- $b = 1 - \\sqrt{\\frac{2}{3}} = 0.18 $"
   ]
  },
  {
   "cell_type": "markdown",
   "metadata": {},
   "source": [
    "## 4. Functions of a Random Variable\n",
    "\n",
    "Suppose $X$ is distributed uniformly in the interval $[0,1]$. That is, $f_X(x) = 1$ if $x \\in [0,1]$ and $f_X(x) = 0$ otherwise. \n",
    "\n",
    "a) What is the CDF of $X$?\n",
    "\n",
    "b) Let $Y = X^2$. Find and plot $F_Y$ and $f_Y$. \n",
    "\n",
    "c) Let $Z = - \\frac{1}{\\lambda} \\ln X$. Find and plot $F_Z$ and $f_Z$. "
   ]
  },
  {
   "cell_type": "markdown",
   "metadata": {},
   "source": [
    "Part A:\n",
    "\n",
    "$f_X(x) = \n",
    "\\begin{cases} \n",
    "  1 & x \\in [0,1] \\\\\n",
    "  0 & otherwise\n",
    "\\end{cases} $ then\n",
    "$ F_X(x) = \n",
    "\\begin{cases} \n",
    "  0 & x \\leq 0 \\\\\n",
    "  x & x \\in [0,1] \\\\\n",
    "  1 & x > 1\n",
    "\\end{cases}$"
   ]
  },
  {
   "cell_type": "code",
   "execution_count": 6,
   "metadata": {},
   "outputs": [
    {
     "data": {
      "image/png": "[encoded data removed]",
      "text/plain": [
       "<Figure size 1008x288 with 2 Axes>"
      ]
     },
     "metadata": {
      "needs_background": "light"
     },
     "output_type": "display_data"
    }
   ],
   "source": [
    "x = np.linspace(-1,2,101)\n",
    "\n",
    "def pdf_function4a(x):\n",
    "    x0 = x[x<0]\n",
    "    x1 = x[(x>=0) & (x<=1)]\n",
    "    x2 = x[x>1]\n",
    "    y0 = lambda x: np.zeros(len(x))\n",
    "    y1 = lambda x: np.ones(len(x))\n",
    "    y2 = lambda x: np.zeros(len(x))\n",
    "    return y0(x0).tolist()+\\\n",
    "            y1(x1).tolist()+\\\n",
    "            y2(x2).tolist()\n",
    "\n",
    "def cdf_function4a(x):\n",
    "    x0 = x[x<0]\n",
    "    x1 = x[(x>=0) & (x<=1)]\n",
    "    x2 = x[x>1]\n",
    "    y0 = lambda x: np.zeros(len(x))\n",
    "    y1 = lambda x: x\n",
    "    y2 = lambda x: np.ones(len(x))\n",
    "    return y0(x0).tolist()+\\\n",
    "            y1(x1).tolist()+\\\n",
    "            y2(x2).tolist()\n",
    "\n",
    "fig,axs = plt.subplots(1,2,figsize=(14,4))\n",
    "\n",
    "axs[0].plot(x,pdf_function4a(x))\n",
    "axs[0].set_title('PDF f_X(x)')\n",
    "axs[0].set_xlabel('x')\n",
    "axs[0].set_ylabel('value')\n",
    "\n",
    "axs[1].plot(x,cdf_function4a(x))\n",
    "axs[1].set_title('CDF F_X(x)')\n",
    "axs[1].set_xlabel('x')\n",
    "axs[1].set_ylabel('value');"
   ]
  },
  {
   "cell_type": "markdown",
   "metadata": {},
   "source": [
    "Part B:\n",
    "\n",
    "$F_Y(y) = P[Y \\leq y] = P[X^2 \\leq y] = P[X \\leq \\sqrt{y}] = \n",
    "\\begin{cases}\n",
    "  0        & y < 0 \\\\\n",
    "  \\sqrt{y} & o \\leq y \\leq 1 \\\\\n",
    "  1        & y \\geq 1\n",
    "\\end{cases}$\n",
    "\n",
    "$f_Y(y) = \\frac{\\partial}{\\partial y} F_Y(y) = \n",
    "\\begin{cases}\n",
    "  \\frac{1}{2}\\frac{1}{\\sqrt{y}} &  0 \\leq y \\leq 1 \\\\\n",
    "  0        & otherwise\n",
    "\\end{cases}$"
   ]
  },
  {
   "cell_type": "code",
   "execution_count": 7,
   "metadata": {},
   "outputs": [
    {
     "data": {
      "image/png": "[encoded data removed]",
      "text/plain": [
       "<Figure size 1008x288 with 2 Axes>"
      ]
     },
     "metadata": {
      "needs_background": "light"
     },
     "output_type": "display_data"
    }
   ],
   "source": [
    "x = np.linspace(-1,2,101)\n",
    "\n",
    "def pdf_function4b(x):\n",
    "    x0 = x[x<=0]\n",
    "    x1 = x[(x>0) & (x<=1)]\n",
    "    x2 = x[x>1]\n",
    "    y0 = lambda x: np.zeros(len(x))\n",
    "    y1 = lambda x: (1/2)*(1/np.sqrt(x))\n",
    "    y2 = lambda x: np.zeros(len(x))\n",
    "    return y0(x0).tolist()+\\\n",
    "            y1(x1).tolist()+\\\n",
    "            y2(x2).tolist()\n",
    "\n",
    "def cdf_function4b(x):\n",
    "    x0 = x[x<0]\n",
    "    x1 = x[(x>=0) & (x<=1)]\n",
    "    x2 = x[x>1]\n",
    "    y0 = lambda x: np.zeros(len(x))\n",
    "    y1 = lambda x: np.sqrt(x)\n",
    "    y2 = lambda x: np.ones(len(x))\n",
    "    return y0(x0).tolist()+\\\n",
    "            y1(x1).tolist()+\\\n",
    "            y2(x2).tolist()\n",
    "\n",
    "fig,axs = plt.subplots(1,2,figsize=(14,4))\n",
    "\n",
    "axs[0].plot(x,pdf_function4b(x))\n",
    "axs[0].set_title('PDF f_Y(y)')\n",
    "axs[0].set_xlabel('y')\n",
    "axs[0].set_ylabel('value')\n",
    "\n",
    "axs[1].plot(x,cdf_function4b(x))\n",
    "axs[1].set_title('CDF F_Y(y)')\n",
    "axs[1].set_xlabel('y')\n",
    "axs[1].set_ylabel('value');"
   ]
  },
  {
   "cell_type": "markdown",
   "metadata": {},
   "source": [
    "Part C:\n",
    "\n",
    "$\\begin{eqnarray}\n",
    "F_Z(z) & = & P[Z \\leq z] \\\\\n",
    "       & = & P[-\\frac{1}{\\lambda}\\ln{X} \\leq z] \\\\\n",
    "       & = & P[\\ln{X} \\geq -\\lambda z] \\\\\n",
    "       & = & P[X \\geq e^{-\\lambda z}] \\\\\n",
    "       & = & 1 - P[X \\leq e^{-\\lambda z}]\n",
    "       & = & 1 - F_X(e^{-\\lambda z})\n",
    "\\end{eqnarray}$\n",
    "<br><br>\n",
    "$F_Z(z) = \n",
    "\\begin{cases}\n",
    "  1 - e^{-\\lambda z} &  z \\in (-\\frac{1}{\\lambda}\\ln{0}, -\\frac{1}{\\lambda}\\ln{1}) \\\\\n",
    "  0        & otherwise\n",
    "\\end{cases}$\n",
    "<br><br>\n",
    "$F_Z(z) = \n",
    "\\begin{cases}\n",
    "  1 - e^{-\\lambda z} &  z \\in (0, \\infty) \\\\\n",
    "  0        & otherwise\n",
    "\\end{cases}$\n",
    "\n",
    "\n",
    "$f_Z(z) = \\frac{\\partial}{\\partial z} F_Z(z) = \n",
    "\\begin{cases}\n",
    "  \\lambda e^{-\\lambda z} &  z \\geq 0 \\\\\n",
    "  0        & otherwise\n",
    "\\end{cases}$"
   ]
  },
  {
   "cell_type": "code",
   "execution_count": 25,
   "metadata": {},
   "outputs": [
    {
     "data": {
      "image/png": "[encoded data removed]",
      "text/plain": [
       "<Figure size 1008x288 with 2 Axes>"
      ]
     },
     "metadata": {
      "needs_background": "light"
     },
     "output_type": "display_data"
    }
   ],
   "source": [
    "x = np.linspace(-2,10,1001)\n",
    "lmda = random.uniform(0.001,1)\n",
    "\n",
    "def pdf_function4c(x):\n",
    "    x0 = x[x<=0]\n",
    "    x1 = x[x>0]\n",
    "    y0 = lambda x: np.zeros(len(x))\n",
    "    y1 = lambda x: lmda*np.exp(-lmda*x)\n",
    "    return y0(x0).tolist()+\\\n",
    "            y1(x1).tolist()\n",
    "\n",
    "def cdf_function4c(x):\n",
    "    x0 = x[x<=0]\n",
    "    x1 = x[x>0]\n",
    "    y0 = lambda x: np.zeros(len(x))\n",
    "    y1 = lambda x: 1-np.exp(-lmda*x)\n",
    "    return y0(x0).tolist()+\\\n",
    "            y1(x1).tolist()\n",
    "\n",
    "fig,axs = plt.subplots(1,2,figsize=(14,4))\n",
    "\n",
    "axs[0].plot(x,pdf_function4c(x))\n",
    "axs[0].set_title('PDF f_Z(z)')\n",
    "axs[0].set_xlabel('z')\n",
    "axs[0].set_ylabel('value')\n",
    "\n",
    "axs[1].plot(x,cdf_function4c(x))\n",
    "axs[1].set_title('CDF F_Z(z)')\n",
    "axs[1].set_xlabel('z')\n",
    "axs[1].set_ylabel('value');"
   ]
  },
  {
   "cell_type": "markdown",
   "metadata": {},
   "source": [
    "## 5. Markov Process Properties\n",
    "\n",
    "Consider the following three Markov Processes.\n",
    "\n",
    "<img src=\"../../images/HW-MPs.jpeg\" width=80%>\n",
    "\n",
    "For each process,\n",
    "\n",
    "i) Find the period of each state.\n",
    "\n",
    "ii) Identify transient states.\n",
    "\n",
    "iii) Identify absorbing states and absorbing subsets of states.\n",
    "\n",
    "iv) Identify ergodic states."
   ]
  },
  {
   "cell_type": "markdown",
   "metadata": {},
   "source": [
    "Part A:\n",
    "\n",
    "| State  | Period  | Transient  | Absorbing  | Ergodic |\n",
    "|--------|---------|------------|------------|---------|\n",
    "| 0      |  1      | Yes        | No         | No      |\n",
    "| 1      |  1      | Yes        | No         | No      |\n",
    "| 2      |  1      | Yes        | No         | No      |"
   ]
  },
  {
   "cell_type": "markdown",
   "metadata": {},
   "source": [
    "Part B:\n",
    "\n",
    "| State  | Period  | Transient  | Absorbing  | Ergodic |\n",
    "|--------|---------|------------|------------|---------|\n",
    "| 0      |  1      | Yes        | No         | No      |\n",
    "| 1      |  1      | Yes        | No         | No      |\n",
    "| 2      |  1      | Yes        | No         | No      |\n",
    "| 3      |  1      | No         | No         | Yes     |"
   ]
  },
  {
   "cell_type": "markdown",
   "metadata": {},
   "source": [
    "Part C:\n",
    "        \n",
    "| State  | Period  | Transient  | Ergodic |\n",
    "|--------|---------|------------|---------|\n",
    "| 0      |  0      | Yes        | No      |\n",
    "| 1      |  2      | No         | No      |\n",
    "| 2      |  2      | No         | No      |\n",
    "| 3      |  2      | No         | No      |\n",
    "| 4      |  2      | No         | No      |\n",
    "| 5      |  2      | No         | No      |\n",
    "| 6      |  2      | No         | No      |\n",
    "\n",
    "Subset { 1, 2 } is absorbing.<br>\n",
    "Subset { 3, 4 } is absorbing.<br>\n",
    "Subset { 5, 6 } is absorbing.<br>"
   ]
  },
  {
   "cell_type": "markdown",
   "metadata": {},
   "source": [
    "## 6. Stationary Distributions\n",
    "\n",
    "For each Markov Process in Problem 5:\n",
    "\n",
    "i) Find the update matrix $Q$.\n",
    "\n",
    "ii) Simulate the dynamics $p_{k+1} = p_k Q$ starting at the distribution in which $p_0(0) = 1$. Make a nice plot of the dynamics for each system. To do this, plot a 2D grid where grid point $(k,i)$ is a gray-scale square corresponding to the probability that the process is in state $i$ at time $k$ (the Gambler's Ruin example in the notes does this). \n",
    "\n",
    "iii) Find the left eigenvector(s) corresponding to the stationary distribution(s) of the process. If there is more than one such eigenvector, describe the space of stationary distributions as a linear combination of them.\n",
    "\n",
    "iv) Find the reachable stationary distribution assuming $p_0(0) = 1$. "
   ]
  },
  {
   "cell_type": "markdown",
   "metadata": {},
   "source": [
    "<hr>\n",
    "\n",
    "**Property:** Let the probability vector $p_i$ correspond to the PDF $f_{X_i}$ for a Markov Process. Then,\n",
    "\n",
    "$$\n",
    "p_{k+1} = p_k Q. \n",
    "$$\n",
    "\n",
    "<hr>"
   ]
  },
  {
   "cell_type": "markdown",
   "metadata": {},
   "source": [
    "**Def:** A **stationary probability vector $p^*$** has the property that\n",
    "\n",
    "$$\n",
    "p^* Q = p^*.\n",
    "$$\n",
    "\n",
    "Thus, $p^*$ is a left eigenvector of $Q$ with left eigenvalue 1. \n",
    "\n",
    "<hr>"
   ]
  },
  {
   "cell_type": "code",
   "execution_count": 8,
   "metadata": {},
   "outputs": [],
   "source": [
    "# Update Matrices Q\n",
    "\n",
    "Qa = np.array([\n",
    "    [0,0.5,0.5],\n",
    "    [0.5,0,0.5],\n",
    "    [0.5,0.5,0]\n",
    "])\n",
    "Qb = np.array([\n",
    "    [0,1,0,0],\n",
    "    [0,0,1,0],\n",
    "    [0,0,0,1],\n",
    "    [0.5,0,0,0.5]\n",
    "])\n",
    "Qc = np.array([\n",
    "    [0,0.5,0,0.25,0,0.25,0],\n",
    "    [0,0,1,0,0,0,0],\n",
    "    [0,1,0,0,0,0,0],\n",
    "    [0,0,0,0,1,0,0],\n",
    "    [0,0,0,1,0,0,0],\n",
    "    [0,0,0,0,0,0,1],\n",
    "    [0,0,0,0,0,1,0]\n",
    "])"
   ]
  },
  {
   "cell_type": "code",
   "execution_count": 9,
   "metadata": {},
   "outputs": [],
   "source": [
    "def dynamics(n, Q, p0):\n",
    "    '''\n",
    "    Assumes n is the numer of steps\n",
    "            Q is the update matrix\n",
    "            p0 is the starting distribution.\n",
    "    Returns a matrix of trajectories.\n",
    "    '''\n",
    "    # Define trajectory\n",
    "    trajectory = [p0]\n",
    "    \n",
    "    # Probability vector p at every time step t\n",
    "    p = p0\n",
    "    for t in range(n):\n",
    "        p = p.dot(Q)\n",
    "        trajectory.append(p)\n",
    "    \n",
    "    # Numpy Matrix\n",
    "    trajectory = np.matrix(trajectory).T\n",
    "\n",
    "    return trajectory"
   ]
  },
  {
   "cell_type": "code",
   "execution_count": 10,
   "metadata": {},
   "outputs": [
    {
     "data": {
      "image/png": "[encoded data removed]",
      "text/plain": [
       "<Figure size 1152x720 with 3 Axes>"
      ]
     },
     "metadata": {
      "needs_background": "light"
     },
     "output_type": "display_data"
    }
   ],
   "source": [
    "# Trajectory A\n",
    "p0 = np.zeros(3); p0[1] = 1\n",
    "trajectoryA = dynamics(50,Qa,p0)\n",
    "\n",
    "# Trajectory B\n",
    "p0 = np.zeros(4); p0[1] = 1\n",
    "trajectoryB = dynamics(50,Qb,p0)\n",
    "\n",
    "# Trajectory C\n",
    "p0 = np.zeros(7); p0[1] = 1\n",
    "trajectoryC = dynamics(50,Qc,p0)\n",
    "\n",
    "# Plot\n",
    "fig,axs = plt.subplots(3,1,figsize=(16,10))\n",
    "\n",
    "axs[0].imshow(trajectoryA,cmap=\"gray_r\")\n",
    "axs[0].set_xlabel(\"t\")\n",
    "axs[0].set_ylabel(\"state\")\n",
    "axs[0].set_title('Part A')\n",
    "\n",
    "axs[1].imshow(trajectoryB,cmap=\"gray_r\")\n",
    "axs[1].set_xlabel(\"t\")\n",
    "axs[1].set_ylabel(\"state\")\n",
    "axs[1].set_title('Part B')\n",
    "\n",
    "axs[2].imshow(trajectoryC,cmap=\"gray_r\")\n",
    "axs[2].set_xlabel(\"t\")\n",
    "axs[2].set_ylabel(\"state\")\n",
    "axs[2].set_title('Part C');"
   ]
  },
  {
   "cell_type": "code",
   "execution_count": 11,
   "metadata": {},
   "outputs": [
    {
     "data": {
      "text/latex": [
       "$$\\left ( \\left[\\begin{matrix}-1.0 & -1.0 & 1.0\\\\1.0 & 0 & 1.0\\\\0 & 1.0 & 1.0\\end{matrix}\\right], \\quad \\left[\\begin{matrix}-0.5 & 0 & 0\\\\0 & -0.5 & 0\\\\0 & 0 & 1.0\\end{matrix}\\right]\\right )$$"
      ],
      "text/plain": [
       "⎛⎡-1.0  -1.0  1.0⎤  ⎡-0.5   0     0 ⎤⎞\n",
       "⎜⎢               ⎥  ⎢               ⎥⎟\n",
       "⎜⎢1.0    0    1.0⎥, ⎢ 0    -0.5   0 ⎥⎟\n",
       "⎜⎢               ⎥  ⎢               ⎥⎟\n",
       "⎝⎣ 0    1.0   1.0⎦  ⎣ 0     0    1.0⎦⎠"
      ]
     },
     "execution_count": 11,
     "metadata": {},
     "output_type": "execute_result"
    }
   ],
   "source": [
    "P,D = (sp.Matrix(Qa).T).diagonalize()\n",
    "P,D"
   ]
  },
  {
   "cell_type": "code",
   "execution_count": 12,
   "metadata": {},
   "outputs": [
    {
     "data": {
      "text/latex": [
       "$$\\left ( \\left[\\begin{matrix}1.0 & 0.0883024910498311 + 0.601410409642739 i & 0.0883024910498311 - 0.601410409642739 i & -0.676604982099662\\\\1.0 & -0.707794301802084 + 0.212424149259013 i & -0.707794301802084 - 0.212424149259013 i & 0.915588603604168\\\\1.0 & -0.380508189247747 - 0.813834558901752 i & -0.380508189247747 + 0.813834558901752 i & -1.23898362150451\\\\2.0 & 1.0 & 1.0 & 1.0\\end{matrix}\\right], \\quad \\left[\\begin{matrix}1.0 & 0 & 0 & 0\\\\0 & 0.119491810752253 - 0.813834558901752 i & 0 & 0\\\\0 & 0 & 0.119491810752253 + 0.813834558901752 i & 0\\\\0 & 0 & 0 & -0.738983621504506\\end{matrix}\\right]\\right )$$"
      ],
      "text/plain": [
       "⎛⎡1.0  0.0883024910498311 + 0.601410409642739⋅ⅈ  0.0883024910498311 - 0.601410\n",
       "⎜⎢                                                                            \n",
       "⎜⎢1.0  -0.707794301802084 + 0.212424149259013⋅ⅈ  -0.707794301802084 - 0.212424\n",
       "⎜⎢                                                                            \n",
       "⎜⎢1.0  -0.380508189247747 - 0.813834558901752⋅ⅈ  -0.380508189247747 + 0.813834\n",
       "⎜⎢                                                                            \n",
       "⎝⎣2.0                    1.0                                       1.0        \n",
       "\n",
       "409642739⋅ⅈ  -0.676604982099662⎤  ⎡1.0                     0                  \n",
       "                               ⎥  ⎢                                           \n",
       "149259013⋅ⅈ  0.915588603604168 ⎥  ⎢ 0   0.119491810752253 - 0.813834558901752⋅\n",
       "                               ⎥, ⎢                                           \n",
       "558901752⋅ⅈ  -1.23898362150451 ⎥  ⎢ 0                      0                  \n",
       "                               ⎥  ⎢                                           \n",
       "                    1.0        ⎦  ⎣ 0                      0                  \n",
       "\n",
       "                      0                             0         ⎤⎞\n",
       "                                                              ⎥⎟\n",
       "ⅈ                     0                             0         ⎥⎟\n",
       "                                                              ⎥⎟\n",
       "   0.119491810752253 + 0.813834558901752⋅ⅈ          0         ⎥⎟\n",
       "                                                              ⎥⎟\n",
       "                      0                     -0.738983621504506⎦⎠"
      ]
     },
     "execution_count": 12,
     "metadata": {},
     "output_type": "execute_result"
    }
   ],
   "source": [
    "P,D = (sp.Matrix(Qb).T).diagonalize()\n",
    "P,D"
   ]
  },
  {
   "cell_type": "code",
   "execution_count": 13,
   "metadata": {},
   "outputs": [
    {
     "data": {
      "text/latex": [
       "$$\\left ( \\left[\\begin{matrix}0 & 0 & 0 & -4.0 & 0 & 0 & 0\\\\-1.0 & 0 & 0 & 0 & 1.0 & 0 & 0\\\\1.0 & 0 & 0 & 2.0 & 1.0 & 0 & 0\\\\0 & -1.0 & 0 & 0 & 0 & 1.0 & 0\\\\0 & 1.0 & 0 & 1.0 & 0 & 1.0 & 0\\\\0 & 0 & -1.0 & 0 & 0 & 0 & 1.0\\\\0 & 0 & 1.0 & 1.0 & 0 & 0 & 1.0\\end{matrix}\\right], \\quad \\left[\\begin{matrix}-1.0 & 0 & 0 & 0 & 0 & 0 & 0\\\\0 & -1.0 & 0 & 0 & 0 & 0 & 0\\\\0 & 0 & -1.0 & 0 & 0 & 0 & 0\\\\0 & 0 & 0 & 0 & 0 & 0 & 0\\\\0 & 0 & 0 & 0 & 1.0 & 0 & 0\\\\0 & 0 & 0 & 0 & 0 & 1.0 & 0\\\\0 & 0 & 0 & 0 & 0 & 0 & 1.0\\end{matrix}\\right]\\right )$$"
      ],
      "text/plain": [
       "⎛⎡ 0     0     0    -4.0   0    0    0 ⎤  ⎡-1.0   0     0    0   0    0    0 ⎤\n",
       "⎜⎢                                     ⎥  ⎢                                  ⎥\n",
       "⎜⎢-1.0   0     0     0    1.0   0    0 ⎥  ⎢ 0    -1.0   0    0   0    0    0 ⎥\n",
       "⎜⎢                                     ⎥  ⎢                                  ⎥\n",
       "⎜⎢1.0    0     0    2.0   1.0   0    0 ⎥  ⎢ 0     0    -1.0  0   0    0    0 ⎥\n",
       "⎜⎢                                     ⎥  ⎢                                  ⎥\n",
       "⎜⎢ 0    -1.0   0     0     0   1.0   0 ⎥, ⎢ 0     0     0    0   0    0    0 ⎥\n",
       "⎜⎢                                     ⎥  ⎢                                  ⎥\n",
       "⎜⎢ 0    1.0    0    1.0    0   1.0   0 ⎥  ⎢ 0     0     0    0  1.0   0    0 ⎥\n",
       "⎜⎢                                     ⎥  ⎢                                  ⎥\n",
       "⎜⎢ 0     0    -1.0   0     0    0   1.0⎥  ⎢ 0     0     0    0   0   1.0   0 ⎥\n",
       "⎜⎢                                     ⎥  ⎢                                  ⎥\n",
       "⎝⎣ 0     0    1.0   1.0    0    0   1.0⎦  ⎣ 0     0     0    0   0    0   1.0⎦\n",
       "\n",
       "⎞\n",
       "⎟\n",
       "⎟\n",
       "⎟\n",
       "⎟\n",
       "⎟\n",
       "⎟\n",
       "⎟\n",
       "⎟\n",
       "⎟\n",
       "⎟\n",
       "⎟\n",
       "⎠"
      ]
     },
     "execution_count": 13,
     "metadata": {},
     "output_type": "execute_result"
    }
   ],
   "source": [
    "P,D = (sp.Matrix(Qc).T).diagonalize()\n",
    "P,D"
   ]
  },
  {
   "cell_type": "code",
   "execution_count": 14,
   "metadata": {},
   "outputs": [
    {
     "data": {
      "text/latex": [
       "$$\\left[\\begin{matrix}0.333333333333333 & 0.333333333333333 & 0.333333333333333\\end{matrix}\\right]$$"
      ],
      "text/plain": [
       "[0.333333333333333  0.333333333333333  0.333333333333333]"
      ]
     },
     "execution_count": 14,
     "metadata": {},
     "output_type": "execute_result"
    },
    {
     "data": {
      "text/latex": [
       "$$\\left[\\begin{matrix}0.200008115010251 & 0.199978801238448 & 0.199980674064768 & 0.400032409686533\\end{matrix}\\right]$$"
      ],
      "text/plain": [
       "[0.200008115010251  0.199978801238448  0.199980674064768  0.400032409686533]"
      ]
     },
     "execution_count": 14,
     "metadata": {},
     "output_type": "execute_result"
    },
    {
     "data": {
      "text/latex": [
       "$$\\left[\\begin{matrix}0 & 0 & 1.0 & 0 & 0 & 0 & 0\\end{matrix}\\right]$$"
      ],
      "text/plain": [
       "[0  0  1.0  0  0  0  0]"
      ]
     },
     "execution_count": 14,
     "metadata": {},
     "output_type": "execute_result"
    }
   ],
   "source": [
    "# reachable stationary distribution assuming 𝑝0(0)=1\n",
    "\n",
    "trajectoryA[:,-1].T*sp.Matrix(Qa) \n",
    "trajectoryB[:,-1].T*sp.Matrix(Qb) \n",
    "trajectoryC[:,-1].T*sp.Matrix(Qc) "
   ]
  },
  {
   "cell_type": "markdown",
   "metadata": {},
   "source": [
    "In part A, we observe that the reachable stationary distribution is equal likely between all the states. This is fairly intuitive because the transitional probability to each state is equal likely.\n",
    "\n",
    "In part b, we observe that states 0,1,2 all have similar probability of approximately 1/5. In this process, it is more likely to stay in state 3 because it is absorbing.  It is equal likely to remain in state 3 as it is to transition to state 0.\n",
    "\n",
    "In part c, we observe that the reachable stationary distribution is completely dependent on where the initial distribution is. Once the process enters states 1,3, or 5 it can never leave the absorbing subsets.  "
   ]
  },
  {
   "cell_type": "markdown",
   "metadata": {},
   "source": [
    "## 7. Means and standard deviations\n",
    "\n",
    "For each process in problem 6, find the mean and standard deviation of the value of the state in the reachable stationary distribution. For example, in process (a), the stationary distribution has all states equally likely, so the mean would be $\\frac{1}{3} (0+1+2) = 1$. "
   ]
  },
  {
   "cell_type": "code",
   "execution_count": null,
   "metadata": {},
   "outputs": [],
   "source": []
  },
  {
   "cell_type": "markdown",
   "metadata": {},
   "source": [
    "## 8. The Page Rank Algorithm\n",
    "\n",
    "For the following problem, use the `networkx` `pagerank` function or find the eigenvector of the graph as a Markov Process corresponding to the eigenvector 1. Use undirected graphs.\n",
    "\n",
    "a) Find a 10 node, connected graph in which all nodes are ranked equally or explain why such a graph does not exist.\n",
    "\n",
    "b) Find a 10 node, connected graph in which all nodes are ranked differently or explain why such a graph does not exist.\n",
    "\n",
    "c) Find a 10 node, connected graph in which there are two sets $A$ and $B$ of $5$ nodes for which all nodes in $A$ are ranked the same and all nodes in $B$ are ranked the same, but different from nodes in $A$. Or explain why such a graph does not exist."
   ]
  },
  {
   "cell_type": "code",
   "execution_count": 15,
   "metadata": {},
   "outputs": [
    {
     "data": {
      "text/plain": [
       "(0.17050722528531248, 6)"
      ]
     },
     "execution_count": 15,
     "metadata": {},
     "output_type": "execute_result"
    }
   ],
   "source": [
    "# Now we compute the page rank vector\n",
    "n = 10\n",
    "p = 0.02\n",
    "G = nx.fast_gnp_random_graph(n,p,directed=True)\n",
    "PR = nx.pagerank(G).values()\n",
    "\n",
    "\n",
    "# Find the ranking of all nodes, and the max ranged node\n",
    "vals = np.array(list(nx.pagerank(G).values()))\n",
    "m = np.argmax(vals)\n",
    "max(vals),m\n"
   ]
  },
  {
   "cell_type": "code",
   "execution_count": null,
   "metadata": {},
   "outputs": [],
   "source": []
  }
 ],
 "metadata": {
  "kernelspec": {
   "display_name": "Python 3",
   "language": "python",
   "name": "python3"
  },
  "language_info": {
   "codemirror_mode": {
    "name": "ipython",
    "version": 3
   },
   "file_extension": ".py",
   "mimetype": "text/x-python",
   "name": "python",
   "nbconvert_exporter": "python",
   "pygments_lexer": "ipython3",
   "version": "3.7.4"
  }
 },
 "nbformat": 4,
 "nbformat_minor": 2
}
