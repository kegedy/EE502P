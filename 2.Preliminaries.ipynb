{
 "cells": [
  {
   "cell_type": "markdown",
   "metadata": {},
   "source": [
    "EE 502 P: Analytical Methods\n",
    "# 2: Mathematical Preliminaries\n",
    "## Prof. Eric Klavins, Electrical and Computer Engineering\n",
    "### 25 September, 2019\n",
    "Copyright &copy; 2019, University of Washington"
   ]
  },
  {
   "cell_type": "markdown",
   "metadata": {},
   "source": [
    "In this lecture we describe the fundamental objects of mathematics: Sets, relations, functions, and cardinality. Understanding these concepts are the key to mathematical literacy. For this lecture, we will follow the **chapter one** of the following textbook fairly closely:\n",
    "\n",
    "> [An Introduction to Real Analysis](https://www.math.ucdavis.edu/~hunter/intro_analysis_pdf/intro.pdf) by John K. Hunter,\n",
    "\n",
    "which is available for free online.\n",
    "\n",
    "Rather than repeating that chapter in this notebook, I will present my own take on the subject at the whiteboard using the following outline. \n",
    "\n",
    "- Sets\n",
    "  - Defs: sets, elements \n",
    "  - Representation: finite, in words, set builder\n",
    "  - Examples\n",
    "    - Finite sets of numbers, strings, other sets, the empty set\n",
    "    - Naturals, integers, rationals, reals, complexes\n",
    "  - Subsets, Equality\n",
    "  - Power set\n",
    "  - Intersection, union, difference, complement (universe)\n",
    "  - Cartesian product, tuples\n",
    "  - Example: Dice, two dice, dice = 7\n",
    "  - $\\mathbb{R}^n$ and vector notation\n",
    "  - Set proofs\n",
    "    - $ (A \\cap B) \\subseteq A$\n",
    "    - $A \\cup ( B \\cap C ) = (A \\cup B) \\cap (A \\cup C)$\n",
    "- Functions\n",
    "  - Definition (and synonyms). domain, codomain\n",
    "  - As a list of tuples, the identity function, characteristic function\n",
    "  - Example functions on $\\mathbb{Z}$\n",
    "  - Graph of a function as a subset of domain cross co-domain\n",
    "  - Range, surjection (onto), injection(1-1), bijection\n",
    "  - Note positive proofs vs negative counterexamples\n",
    "  - Examples: Which of the above are surjections, injections, and/or bijections?\n",
    "  - Composition and inverse, definition, domains, and codomains\n",
    "  - Examples from real numbers\n",
    "- Relations\n",
    "  - Definitions\n",
    "  - Examples\n",
    "    - List of tuples, \"has read\", has a common factor \n",
    "    - Functions are relations, but not conversely (in general)\n",
    "  - Order relations\n",
    "    - Less than, subset, divides\n",
    "  - Equivalence relations\n",
    "    - reduces to (for fractions), equal mod\n",
    "- Cardinality, and types of infinity\n",
    "  - Countable\n",
    "    - Definition\n",
    "    - Examples: Even numbers, rationals\n",
    "  - Uncountable\n",
    "    - Reals\n",
    "    - [0,1]\n",
    "    - Binary sequences\n",
    "    - Functions from {0,...,9} to {0,...,9}\n",
    "  - Uncomputable functions\n",
    "\n",
    "I will then discuss how to represent sets, relations, functions and cardinality in Python using the remainder of this notebook. "
   ]
  },
  {
   "cell_type": "code",
   "execution_count": 210,
   "metadata": {
    "ExecuteTime": {
     "end_time": "2019-09-29T21:34:36.204779Z",
     "start_time": "2019-09-29T21:34:36.191372Z"
    }
   },
   "outputs": [],
   "source": [
    "import math\n",
    "import sympy as sm\n",
    "sm.init_printing(use_latex='mathjax')\n",
    "import matplotlib.pyplot as plt\n",
    "import matplotlib.patches as pch\n",
    "%matplotlib inline"
   ]
  },
  {
   "cell_type": "markdown",
   "metadata": {},
   "source": [
    "# Sets"
   ]
  },
  {
   "cell_type": "code",
   "execution_count": 61,
   "metadata": {
    "ExecuteTime": {
     "end_time": "2019-09-29T18:28:03.138747Z",
     "start_time": "2019-09-29T18:28:03.133616Z"
    }
   },
   "outputs": [
    {
     "data": {
      "text/plain": [
       "({1, 2, 3}, set, 3)"
      ]
     },
     "execution_count": 61,
     "metadata": {},
     "output_type": "execute_result"
    }
   ],
   "source": [
    "# https://docs.python.org/2/library/stdtypes.html#set\n",
    "\n",
    "A = { 1, 2, 3, 3 }\n",
    "B = { 3, 4, 5 }\n",
    "A, type(A), len(A)"
   ]
  },
  {
   "cell_type": "code",
   "execution_count": 59,
   "metadata": {
    "ExecuteTime": {
     "end_time": "2019-09-29T18:27:46.993015Z",
     "start_time": "2019-09-29T18:27:46.989145Z"
    }
   },
   "outputs": [
    {
     "data": {
      "text/plain": [
       "(True, True)"
      ]
     },
     "execution_count": 59,
     "metadata": {},
     "output_type": "execute_result"
    }
   ],
   "source": [
    "1 in A, 1 not in B"
   ]
  },
  {
   "cell_type": "code",
   "execution_count": 62,
   "metadata": {
    "ExecuteTime": {
     "end_time": "2019-09-29T18:28:18.818191Z",
     "start_time": "2019-09-29T18:28:18.812228Z"
    }
   },
   "outputs": [
    {
     "ename": "TypeError",
     "evalue": "unsupported operand type(s) for +: 'set' and 'set'",
     "output_type": "error",
     "traceback": [
      "\u001b[0;31m---------------------------------------------------------------------------\u001b[0m",
      "\u001b[0;31mTypeError\u001b[0m                                 Traceback (most recent call last)",
      "\u001b[0;32m<ipython-input-62-0e75ae3cf3e2>\u001b[0m in \u001b[0;36m<module>\u001b[0;34m()\u001b[0m\n\u001b[0;32m----> 1\u001b[0;31m \u001b[0mA\u001b[0m\u001b[0;34m+\u001b[0m\u001b[0mB\u001b[0m\u001b[0;34m\u001b[0m\u001b[0m\n\u001b[0m",
      "\u001b[0;31mTypeError\u001b[0m: unsupported operand type(s) for +: 'set' and 'set'"
     ]
    }
   ],
   "source": [
    "A+B"
   ]
  },
  {
   "cell_type": "code",
   "execution_count": 65,
   "metadata": {
    "ExecuteTime": {
     "end_time": "2019-09-29T18:30:20.699490Z",
     "start_time": "2019-09-29T18:30:20.693701Z"
    }
   },
   "outputs": [
    {
     "name": "stdout",
     "output_type": "stream",
     "text": [
      "{3}\n",
      "{1, 2, 3, 4, 5}\n",
      "{1, 2}\n",
      "False\n",
      "True\n",
      "True\n",
      "{1, 2, 4, 5}\n"
     ]
    }
   ],
   "source": [
    "print(A.intersection(B))\n",
    "print(A.union(B))\n",
    "print(A.difference(B))\n",
    "print(A.isdisjoint(B))\n",
    "print({3,4}.issubset(B))\n",
    "print({3,4} <= B) # equivalent\n",
    "print(A.symmetric_difference(B))"
   ]
  },
  {
   "cell_type": "code",
   "execution_count": 66,
   "metadata": {
    "ExecuteTime": {
     "end_time": "2019-09-29T18:30:49.599205Z",
     "start_time": "2019-09-29T18:30:49.595300Z"
    }
   },
   "outputs": [
    {
     "data": {
      "text/plain": [
       "{1, 2, 3}"
      ]
     },
     "execution_count": 66,
     "metadata": {},
     "output_type": "execute_result"
    }
   ],
   "source": [
    "A"
   ]
  },
  {
   "cell_type": "code",
   "execution_count": 69,
   "metadata": {
    "ExecuteTime": {
     "end_time": "2019-09-29T18:31:24.245784Z",
     "start_time": "2019-09-29T18:31:24.241905Z"
    }
   },
   "outputs": [
    {
     "data": {
      "text/plain": [
       "(2, {3})"
      ]
     },
     "execution_count": 69,
     "metadata": {},
     "output_type": "execute_result"
    }
   ],
   "source": [
    "A.pop(), A"
   ]
  },
  {
   "cell_type": "code",
   "execution_count": 43,
   "metadata": {
    "ExecuteTime": {
     "end_time": "2019-09-29T18:23:13.576531Z",
     "start_time": "2019-09-29T18:23:13.571999Z"
    }
   },
   "outputs": [
    {
     "data": {
      "text/plain": [
       "{1, 2, 12}"
      ]
     },
     "execution_count": 43,
     "metadata": {},
     "output_type": "execute_result"
    }
   ],
   "source": [
    "A.add(12)\n",
    "A.remove(3)\n",
    "A"
   ]
  },
  {
   "cell_type": "code",
   "execution_count": 44,
   "metadata": {
    "ExecuteTime": {
     "end_time": "2019-09-29T18:23:13.761874Z",
     "start_time": "2019-09-29T18:23:13.757192Z"
    }
   },
   "outputs": [
    {
     "data": {
      "text/plain": [
       "{2}"
      ]
     },
     "execution_count": 44,
     "metadata": {},
     "output_type": "execute_result"
    }
   ],
   "source": [
    "C = A.copy()\n",
    "A.remove(12)\n",
    "A.discard(1)\n",
    "A"
   ]
  },
  {
   "cell_type": "code",
   "execution_count": null,
   "metadata": {
    "collapsed": true
   },
   "outputs": [],
   "source": []
  },
  {
   "cell_type": "code",
   "execution_count": 45,
   "metadata": {
    "ExecuteTime": {
     "end_time": "2019-09-29T18:23:15.470658Z",
     "start_time": "2019-09-29T18:23:15.466765Z"
    }
   },
   "outputs": [
    {
     "data": {
      "text/plain": [
       "{1, 2, 12}"
      ]
     },
     "execution_count": 45,
     "metadata": {},
     "output_type": "execute_result"
    }
   ],
   "source": [
    "C"
   ]
  },
  {
   "cell_type": "code",
   "execution_count": 46,
   "metadata": {
    "ExecuteTime": {
     "end_time": "2019-09-29T18:23:16.364075Z",
     "start_time": "2019-09-29T18:23:16.360068Z"
    }
   },
   "outputs": [
    {
     "data": {
      "text/plain": [
       "set()"
      ]
     },
     "execution_count": 46,
     "metadata": {},
     "output_type": "execute_result"
    }
   ],
   "source": [
    "C.clear()\n",
    "C"
   ]
  },
  {
   "cell_type": "code",
   "execution_count": 112,
   "metadata": {
    "ExecuteTime": {
     "end_time": "2019-09-29T18:49:28.281618Z",
     "start_time": "2019-09-29T18:49:28.278700Z"
    },
    "collapsed": true
   },
   "outputs": [],
   "source": [
    "def cartesian_product(X,Y):\n",
    "    return [(x,y) for x in X for y in Y]"
   ]
  },
  {
   "cell_type": "code",
   "execution_count": 270,
   "metadata": {
    "ExecuteTime": {
     "end_time": "2019-09-29T23:39:52.072785Z",
     "start_time": "2019-09-29T23:39:52.064336Z"
    }
   },
   "outputs": [
    {
     "data": {
      "text/latex": [
       "$$\\left\\{\\left ( 1, \\quad 6\\right ), \\left ( 2, \\quad 5\\right ), \\left ( 3, \\quad 4\\right ), \\left ( 4, \\quad 3\\right ), \\left ( 5, \\quad 2\\right ), \\left ( 6, \\quad 1\\right )\\right\\}$$"
      ],
      "text/plain": [
       "set([(1, 6), (2, 5), (3, 4), (4, 3), (5, 2), (6, 1)])"
      ]
     },
     "execution_count": 270,
     "metadata": {},
     "output_type": "execute_result"
    }
   ],
   "source": [
    "# Dice example\n",
    "\n",
    "die = {1,2,3,4,5,6}\n",
    "twodie = cartesian_product(die,die)\n",
    "seven = { p for p in twodie if p[0] + p[1] == 7 }\n",
    "seven"
   ]
  },
  {
   "cell_type": "code",
   "execution_count": 134,
   "metadata": {
    "ExecuteTime": {
     "end_time": "2019-09-29T19:29:09.511797Z",
     "start_time": "2019-09-29T19:29:09.501330Z"
    }
   },
   "outputs": [
    {
     "name": "stdout",
     "output_type": "stream",
     "text": [
      "{1, 2, 3, 4}\n",
      "{1, 2}\n",
      "set()\n",
      "{1, 2, 4}\n",
      "{4}\n",
      "{1, 3, 4}\n",
      "{1, 3}\n",
      "{1, 2, 3}\n",
      "{2, 4}\n",
      "{3}\n",
      "{1, 4}\n",
      "{2, 3, 4}\n",
      "{3, 4}\n",
      "{2, 3}\n",
      "{1}\n",
      "{2}\n"
     ]
    }
   ],
   "source": [
    "def power_set(S):\n",
    "    P = set()\n",
    "    P.add(frozenset(S))\n",
    "    for x in S:\n",
    "        T = S.copy()\n",
    "        T.remove(x)\n",
    "        P = P.union(power_set(T))\n",
    "    return P\n",
    "\n",
    "S = {1,2,3,4}\n",
    "for s in power_set(S):\n",
    "    print(set(s))"
   ]
  },
  {
   "cell_type": "markdown",
   "metadata": {},
   "source": [
    "# Tuples"
   ]
  },
  {
   "cell_type": "code",
   "execution_count": 116,
   "metadata": {
    "ExecuteTime": {
     "end_time": "2019-09-29T19:21:44.697120Z",
     "start_time": "2019-09-29T19:21:44.692042Z"
    }
   },
   "outputs": [
    {
     "data": {
      "text/plain": [
       "(1, 2, 3)"
      ]
     },
     "execution_count": 116,
     "metadata": {},
     "output_type": "execute_result"
    }
   ],
   "source": [
    "x = (1,2,3)\n",
    "y = (4,5,6)\n",
    "S = { x, y }\n",
    "x"
   ]
  },
  {
   "cell_type": "code",
   "execution_count": 137,
   "metadata": {
    "ExecuteTime": {
     "end_time": "2019-09-29T19:30:24.941409Z",
     "start_time": "2019-09-29T19:30:24.937440Z"
    }
   },
   "outputs": [
    {
     "data": {
      "text/plain": [
       "2"
      ]
     },
     "execution_count": 137,
     "metadata": {},
     "output_type": "execute_result"
    }
   ],
   "source": [
    "a,b,c = x\n",
    "b"
   ]
  },
  {
   "cell_type": "markdown",
   "metadata": {},
   "source": [
    "# Relations"
   ]
  },
  {
   "cell_type": "code",
   "execution_count": 96,
   "metadata": {
    "ExecuteTime": {
     "end_time": "2019-09-29T18:39:41.777055Z",
     "start_time": "2019-09-29T18:39:41.772434Z"
    }
   },
   "outputs": [
    {
     "data": {
      "text/plain": [
       "False"
      ]
     },
     "execution_count": 96,
     "metadata": {},
     "output_type": "execute_result"
    }
   ],
   "source": [
    "R = {\n",
    "    (1,2),\n",
    "    (2,3),\n",
    "    (3,4)\n",
    "}\n",
    "\n",
    "(1,3) in R"
   ]
  },
  {
   "cell_type": "code",
   "execution_count": 100,
   "metadata": {
    "ExecuteTime": {
     "end_time": "2019-09-29T18:40:47.816684Z",
     "start_time": "2019-09-29T18:40:47.811919Z"
    }
   },
   "outputs": [
    {
     "data": {
      "text/plain": [
       "True"
      ]
     },
     "execution_count": 100,
     "metadata": {},
     "output_type": "execute_result"
    }
   ],
   "source": [
    "# Relations as boolean functions\n",
    "\n",
    "def divides(x,y):\n",
    "    return y % x == 0\n",
    "\n",
    "divides(3,12)"
   ]
  },
  {
   "cell_type": "markdown",
   "metadata": {},
   "source": [
    "# Functions"
   ]
  },
  {
   "cell_type": "markdown",
   "metadata": {},
   "source": [
    "Dictionaries as functions\n",
    "\n",
    "Lambdas as functions"
   ]
  },
  {
   "cell_type": "code",
   "execution_count": 89,
   "metadata": {
    "ExecuteTime": {
     "end_time": "2019-09-29T18:37:54.593548Z",
     "start_time": "2019-09-29T18:37:54.580620Z"
    }
   },
   "outputs": [
    {
     "data": {
      "text/plain": [
       "{1: 20, 2: 30}"
      ]
     },
     "execution_count": 89,
     "metadata": {},
     "output_type": "execute_result"
    }
   ],
   "source": [
    "def domain(F):\n",
    "    return set(F.keys())\n",
    "\n",
    "def compose(F, G):\n",
    "    H = {}\n",
    "    for x in domain(F):\n",
    "        H[x] = G[F[x]]\n",
    "    return H\n",
    "\n",
    "def map_to_function(F):\n",
    "    return lambda x : F[x] if x in domain(F) else None\n",
    "\n",
    "f = {1: 2, 2: 3}\n",
    "g = {2: 20, 3: 30}\n",
    "compose(f,g)                 "
   ]
  },
  {
   "cell_type": "code",
   "execution_count": 90,
   "metadata": {
    "ExecuteTime": {
     "end_time": "2019-09-29T18:38:24.234822Z",
     "start_time": "2019-09-29T18:38:24.232370Z"
    }
   },
   "outputs": [],
   "source": [
    "F = map_to_function(f) "
   ]
  },
  {
   "cell_type": "code",
   "execution_count": 93,
   "metadata": {
    "ExecuteTime": {
     "end_time": "2019-09-29T18:38:34.845330Z",
     "start_time": "2019-09-29T18:38:34.841434Z"
    }
   },
   "outputs": [
    {
     "data": {
      "text/plain": [
       "2"
      ]
     },
     "execution_count": 93,
     "metadata": {},
     "output_type": "execute_result"
    }
   ],
   "source": [
    "F(1)"
   ]
  },
  {
   "cell_type": "code",
   "execution_count": 94,
   "metadata": {
    "ExecuteTime": {
     "end_time": "2019-09-29T18:38:49.513334Z",
     "start_time": "2019-09-29T18:38:49.509655Z"
    }
   },
   "outputs": [
    {
     "data": {
      "text/plain": [
       "dict"
      ]
     },
     "execution_count": 94,
     "metadata": {},
     "output_type": "execute_result"
    }
   ],
   "source": [
    "type(f)"
   ]
  },
  {
   "cell_type": "markdown",
   "metadata": {},
   "source": [
    "# Numbers"
   ]
  },
  {
   "cell_type": "code",
   "execution_count": 175,
   "metadata": {
    "ExecuteTime": {
     "end_time": "2019-09-29T20:58:13.103669Z",
     "start_time": "2019-09-29T20:58:13.099444Z"
    }
   },
   "outputs": [
    {
     "data": {
      "text/latex": [
       "$$1$$"
      ],
      "text/plain": [
       "1"
      ]
     },
     "execution_count": 175,
     "metadata": {},
     "output_type": "execute_result"
    }
   ],
   "source": [
    "sm.Integer(1)"
   ]
  },
  {
   "cell_type": "code",
   "execution_count": 174,
   "metadata": {
    "ExecuteTime": {
     "end_time": "2019-09-29T20:58:06.713054Z",
     "start_time": "2019-09-29T20:58:06.708936Z"
    }
   },
   "outputs": [
    {
     "data": {
      "text/latex": [
       "$$\\frac{1}{2}$$"
      ],
      "text/plain": [
       "1/2"
      ]
     },
     "execution_count": 174,
     "metadata": {},
     "output_type": "execute_result"
    }
   ],
   "source": [
    "# Rational\n",
    "sm.Rational(1,2)"
   ]
  },
  {
   "cell_type": "code",
   "execution_count": 157,
   "metadata": {
    "ExecuteTime": {
     "end_time": "2019-09-29T20:55:11.114823Z",
     "start_time": "2019-09-29T20:55:11.110648Z"
    }
   },
   "outputs": [
    {
     "data": {
      "text/latex": [
       "$$\\sqrt{2}$$"
      ],
      "text/plain": [
       "√2"
      ]
     },
     "execution_count": 157,
     "metadata": {},
     "output_type": "execute_result"
    }
   ],
   "source": [
    "# Algebraic and not rational\n",
    "sm.sqrt(2)"
   ]
  },
  {
   "cell_type": "code",
   "execution_count": 161,
   "metadata": {
    "ExecuteTime": {
     "end_time": "2019-09-29T20:55:30.283767Z",
     "start_time": "2019-09-29T20:55:30.279557Z"
    }
   },
   "outputs": [
    {
     "data": {
      "text/latex": [
       "$$\\left ( \\pi, \\quad e\\right )$$"
      ],
      "text/plain": [
       "(π, ℯ)"
      ]
     },
     "execution_count": 161,
     "metadata": {},
     "output_type": "execute_result"
    }
   ],
   "source": [
    "# Transcendental\n",
    "sm.pi, sm.E"
   ]
  },
  {
   "cell_type": "code",
   "execution_count": 176,
   "metadata": {
    "ExecuteTime": {
     "end_time": "2019-09-29T20:58:28.871448Z",
     "start_time": "2019-09-29T20:58:28.867382Z"
    }
   },
   "outputs": [
    {
     "data": {
      "text/plain": [
       "True"
      ]
     },
     "execution_count": 176,
     "metadata": {},
     "output_type": "execute_result"
    }
   ],
   "source": [
    "# Working with transcendental numbers\n",
    "sm.E**(sm.pi * sm.I) == -1"
   ]
  },
  {
   "cell_type": "markdown",
   "metadata": {},
   "source": [
    "# Interesting Sets"
   ]
  },
  {
   "cell_type": "code",
   "execution_count": 265,
   "metadata": {
    "ExecuteTime": {
     "end_time": "2019-09-29T22:01:36.241430Z",
     "start_time": "2019-09-29T22:01:33.171000Z"
    },
    "scrolled": true
   },
   "outputs": [
    {
     "data": {
      "text/plain": [
       "True"
      ]
     },
     "execution_count": 265,
     "metadata": {},
     "output_type": "execute_result"
    }
   ],
   "source": [
    "# Python programs\n",
    "\n",
    "import ast\n",
    "\n",
    "def is_python(expr):\n",
    "    try:\n",
    "        ast.parse(expr)\n",
    "        return True\n",
    "    except:\n",
    "        return False\n",
    "    \n",
    "chars = '0123456789abcdefghijklmnopqrstuvwxyzABCDEFGHIJKLMNOPQRSTUVWXYZ!\"#$%&\\'()*+,-./:;<=>?@[\\\\]^_`{|}~ '\n",
    "strings = chars\n",
    "p = { expr for expr in s if is_python(expr) }\n",
    "\n",
    "strings = [s + c for s in strings for c in chars]\n",
    "p = p.union({ s for s in strings if is_python(s)})\n",
    "\n",
    "strings = [s + c for s in strings for c in chars]\n",
    "p = p.union({ s for s in strings if is_python(s)})\n",
    "\n",
    "\"f()\" in p"
   ]
  },
  {
   "cell_type": "code",
   "execution_count": null,
   "metadata": {
    "collapsed": true
   },
   "outputs": [],
   "source": []
  }
 ],
 "metadata": {
  "kernelspec": {
   "display_name": "Python 3",
   "language": "python",
   "name": "python3"
  },
  "language_info": {
   "codemirror_mode": {
    "name": "ipython",
    "version": 3
   },
   "file_extension": ".py",
   "mimetype": "text/x-python",
   "name": "python",
   "nbconvert_exporter": "python",
   "pygments_lexer": "ipython3",
   "version": "3.6.1"
  }
 },
 "nbformat": 4,
 "nbformat_minor": 2
}
