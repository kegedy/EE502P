{
 "cells": [
  {
   "cell_type": "markdown",
   "metadata": {},
   "source": [
    "EE 502 P: Analytical Methods\n",
    "# 3: Calculus\n",
    "## Prof. Eric Klavins, Electrical and Computer Engineering\n",
    "25 September, 2019\n",
    "Copyright &copy; 2019, University of Washington"
   ]
  },
  {
   "cell_type": "markdown",
   "metadata": {
    "collapsed": true
   },
   "source": [
    "### Topics\n",
    "\n",
    "Continuous Functions\n",
    "- Definitions\n",
    "- Examples\n",
    "- Intermediate value theorem\n",
    "\n",
    "Limits\n",
    "- Definitions\n",
    "- Examples\n",
    "- Rules for polynomials, etc.\n",
    "- Limit theorems\n",
    "- Mean value theorem\n",
    "- Consequences of MVT (e.g. 1st derivative test, increasing functions)\n",
    "- L'Hospital's rules and examples of various indeterminate forms\n",
    "\n",
    "Taylor's Theorem\n",
    "- Statement and short proof\n",
    "- Applications\n",
    "\n",
    "Integrals\n",
    "- Upper and lower sums and integrals\n",
    "- Riemann Integrals\n",
    "- Examples\n",
    "- Properties (sums, multiples, splits, ...)\n",
    "- Fundamental Theorem of Calculus (relating derivatives to integrals)\n",
    "- Evaluation of integrals"
   ]
  },
  {
   "cell_type": "code",
   "execution_count": null,
   "metadata": {
    "collapsed": true
   },
   "outputs": [],
   "source": []
  }
 ],
 "metadata": {
  "kernelspec": {
   "display_name": "Python 3",
   "language": "python",
   "name": "python3"
  },
  "language_info": {
   "codemirror_mode": {
    "name": "ipython",
    "version": 3
   },
   "file_extension": ".py",
   "mimetype": "text/x-python",
   "name": "python",
   "nbconvert_exporter": "python",
   "pygments_lexer": "ipython3",
   "version": "3.6.1"
  }
 },
 "nbformat": 4,
 "nbformat_minor": 2
}
