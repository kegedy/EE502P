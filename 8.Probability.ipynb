{
 "cells": [
  {
   "cell_type": "markdown",
   "metadata": {},
   "source": [
    "EE 502 P: Analytical Methods for Electrical Engineering\n",
    "# 8. Probability\n",
    "## Prof. Eric Klavins, Electrical and Computer Engineering\n",
    "### 25 September, 2019\n",
    "Copyright &copy; 2019, University of Washington"
   ]
  },
  {
   "cell_type": "code",
   "execution_count": 1,
   "metadata": {
    "ExecuteTime": {
     "end_time": "2019-11-18T20:37:19.382579Z",
     "start_time": "2019-11-18T20:37:17.698445Z"
    },
    "collapsed": true
   },
   "outputs": [],
   "source": [
    "import networkx as nx\n",
    "import math\n",
    "import scipy\n",
    "import scipy.integrate as spi\n",
    "import numpy as np\n",
    "import sympy as sm\n",
    "sm.init_printing(use_latex='mathjax')\n",
    "import matplotlib.pyplot as plt\n",
    "import itertools\n",
    "import random\n",
    "%matplotlib inline"
   ]
  },
  {
   "cell_type": "markdown",
   "metadata": {},
   "source": [
    "# Basics"
   ]
  },
  {
   "cell_type": "markdown",
   "metadata": {},
   "source": [
    "## Definitions\n",
    "\n",
    "**Def:** The **sample space**, $\\Omega$, of an experiment is the set of outcomes of the experiment. Subsets of $\\Omega$ are called **events**.\n",
    "\n",
    "**Example:** Consider the roll of two fair dice. The outcomes are the set of pairs in. \n",
    "\n",
    "$$\n",
    "\\Omega = \\{ 1,2,3,4,5,6 \\} \\times \\{ 1,2,3,4,5,6 \\}.\n",
    "$$\n",
    "\n",
    "An example event is the set of pairs in which the sum of the dice equals 7:\n",
    "\n",
    "$$\n",
    "B = \\{ (1,6), (2,5), (3,4), (4,3), (5,2), (6,1) \\} .\n",
    "$$\n",
    "\n",
    "**Def**: A **probability distribution** is a function $P : \\mathcal{P}(\\Omega) \\rightarrow [0,1]$ such that\n",
    "\n",
    "a) $P[A] \\geq 0$\n",
    "\n",
    "b) $P[\\Omega] = 1$\n",
    "\n",
    "c) $P[A \\cup B] = P[A] + P[B]$ whenever $A \\cap B = \\emptyset$. \n",
    "\n",
    "**Example:** The assignment $P[A] = \\frac{1}{36}|A|$ is a probability distribution for the dice example above. Property (a) is satisfied because the absolute value is positive. Property (b) is satisfied because there are 36 elements in $\\Omega$. Property (c) is satisfied because if $A$ and $B$ are disjoint sets then $|A+B| = |A| + |B|$. \n",
    "\n",
    "**Example:** The probability of the event $B$ above (the dice sum to seven) is $P[B] = \\frac{6}{36} = \\frac{1}{6}$. \n",
    "\n",
    "**Other Properties:**\n",
    "\n",
    "d) $P[\\emptyset] = 0$. This is because $P[\\Omega \\cup \\emptyset] = P[\\Omega] + P[\\emptyset] = 1$ by property (c). Since, by property (b), $P[\\Omega] = 1$, it must be the case that $P[\\emptyset] = 0$. \n",
    "\n",
    "e) $P[A \\cap \\overline B] = P[A] - P[A \\cap B]$. This is because $A \\cap B$ and $A \\cap \\overline{B}$ are disjoint. \n",
    "\n",
    "f) $P[A] = 1 - P[\\overline{A}]$. Take $A = \\Omega$ in (e). \n",
    "\n",
    "g) $P[A \\cup B] = P[A] + P[B] - P[A \\cap B]$ when $A \\cap B \\neq \\emptyset$. This can be shown using (e) along with the fact that $A \\cup B$ is equal to \n",
    "\n",
    "$$\n",
    "(A \\cap \\overline B) \\cup (A \\cap B) \\cup (\\overline{A} \\cap B).\n",
    "$$"
   ]
  },
  {
   "cell_type": "markdown",
   "metadata": {},
   "source": [
    "## Conditional Probability\n",
    "\n",
    "**Def:** The **probability of $B$ given $A$** is \n",
    "\n",
    "$$\n",
    "P[B\\;|\\;A] = \\frac{P[A\\cap B]}{P[A]}. \n",
    "$$\n",
    "\n",
    "It is the probability of the event $B$ given that $A$ has occurred.\n",
    "\n",
    "**Example:** With our running example of two dice being thrown, suppose that $A$ is the event that the face shown by the first die is even and $B$ is the event that the sum of the two dice is 7. Then\n",
    "\n",
    "$$\n",
    "P[A \\cap B] = P[ \\{ (2,5), (4,3), (6,1) \\} ] = \\frac{3}{36} = \\frac{1}{12}\n",
    "$$\n",
    "\n",
    "and\n",
    "\n",
    "$$\n",
    "P[A] = P[\\{ 2,4,6 \\} \\times \\{ 1,2,3,4,5,6 \\}]  = \\frac{18}{36} = \\frac{1}{2}.\n",
    "$$\n",
    "\n",
    "Thus, \n",
    "\n",
    "$$\n",
    "P[B\\;|\\;A] = \\frac{\\frac{1}{12}}{\\frac{1}{2}} = \\frac{1}{6}.\n",
    "$$\n",
    "\n",
    "That is, given that the first die comes up even, there is (still) a one in six chance that the sum of the two dice turns out to be seven.\n",
    "\n",
    "**Example:** The probability that the sum is equal to $a$ given that it is equal to $b$ is 1 if $a=b$ and 0 otherwise.\n",
    "\n",
    "**Property:** Suppose that $A_1$, .., $A_n$ are $n$ mutually exclusive events whose union is $\\Omega$. Then\n",
    "\n",
    "$$\n",
    "P[B] = P[B\\;|\\;A_1] + \\dots  + P[B\\;|\\;A_n] .\n",
    "$$\n",
    "\n",
    "**Example:** Suppose $A_i = \\{i\\} \\times \\{1,2,3,4,5,6\\}$ for $i = 1$ to $6$. Then if $B$ is the probability of getting a seven, we have\n",
    "\n",
    "\\begin{eqnarray}\n",
    "P[B] & = & P[B\\;|\\;A_n] + \\dots + P[B\\;|\\;A_n] \\\\\n",
    "     & = & \\frac{1}{36} + \\dots + \\frac{1}{36} \\\\\n",
    "     & = & \\frac{1}{6}.\n",
    "\\end{eqnarray}"
   ]
  },
  {
   "cell_type": "markdown",
   "metadata": {},
   "source": [
    "##  Independence\n",
    "\n",
    "**Def:** Two events $A$ and $B$ are **independent** if $P[A \\cap B] = P[A]P[B]$. \n",
    "\n",
    "**Property:** If $A$ and $B$ are independent, then $P[B \\;|\\; A] = P[B]$."
   ]
  },
  {
   "cell_type": "markdown",
   "metadata": {},
   "source": [
    "## Bayes Theorem\n",
    "\n",
    "**Theorem:** Let $A$ and $B$ be events. Then\n",
    "    \n",
    "$$\n",
    "P[A \\;|\\; B] = \\frac{P[B\\;|\\;A]P[A]}{P[B]}.\n",
    "$$\n",
    "\n",
    "**Example:** (Stark and Woods p. 21) Suppose there is a test for cancer with the following properties\n",
    "\n",
    "- $A$ = the event that the test says the person has cancer\n",
    "- $B$ = the event that the person actually has cancer\n",
    "\n",
    "Suppose that \n",
    "\n",
    "- $P[A \\;|\\; B] = 0.95$: Test returns true if patient has cancer.\n",
    "- $P[\\overline{A} \\;|\\; \\overline{B}] = 0.95$ Test returns false if patient does not have cancer.\n",
    "- $P[B] = 0.005$.\n",
    "\n",
    "Is this a good test?\n",
    "\n",
    "To answer this question, we look at the probability that the person has cancer given the test comes up positive. That is,\n",
    "\n",
    "\\begin{eqnarray}\n",
    "P[B \\;|\\; A] & = & \\frac{P[A\\;|\\;B]P[B]}{P[A]} \\\\\n",
    "             & = & \\frac{P[A\\;|\\;B]P[B]}{P[A\\;|\\;B]P[B] + P[A\\;|\\;\\overline{B}]P[\\overline{B}]}\n",
    "\\end{eqnarray}\n",
    "\n",
    "where we have expanded $P[A]$ using the conditional probability property above. To compute $P[A \\;|\\; \\overline{B}]$ note that\n",
    "\n",
    "$$\n",
    "P[\\overline{A} \\;|\\; \\overline{B}] = \n",
    "\\frac{P[\\overline{A} \\cap \\overline{B}]}{P[\\overline{B}]} = \\frac{P[\\overline{B}] - P[A \\cap \\overline{B}]}{P[\\overline{B}]} = 1 - P[A\\;|\\;\\overline{B}]\n",
    "$$\n",
    "\n",
    "using property (e). Thus, \n",
    "\n",
    "\\begin{eqnarray}\n",
    "P[B \\;|\\; A] & = & \\frac{0.95 \\cdot 0.005}{0.95 \\cdot 0.005 + 0.05 \\cdot 0.995 } \\\\\n",
    "             & = & 0.087.\n",
    "\\end{eqnarray}\n",
    "\n",
    "The probability the patient has cancer given that the test was positive is only 8.7%, so this is not a very good test."
   ]
  },
  {
   "cell_type": "markdown",
   "metadata": {
    "ExecuteTime": {
     "end_time": "2019-11-19T19:27:48.816074Z",
     "start_time": "2019-11-19T19:27:48.811554Z"
    }
   },
   "source": [
    "## Random Variables\n",
    "\n",
    "**Def:** A **random variable** $X$ is a function $X : \\Omega \\rightarrow \\mathbb{R}$ such that \n",
    "\n",
    "i) Given a measureable set $B \\subseteq \\mathbb{R}$, the set\n",
    "\n",
    "$$\\{ \\omega \\in \\Omega \\;|\\; X(\\omega) \\in B \\}$$\n",
    "\n",
    "is an event (this is trivially satisfied if $\\Omega$ is a discrete set).\n",
    "\n",
    "ii) $\\lim_{x \\rightarrow \\infty}P[X=x] = \\lim_{x \\rightarrow -\\infty}P[X=x] = 0$. \n",
    "\n",
    "This is a tricky definition and usually we don't worry about its details. Examples clarify.\n",
    "\n",
    "**Example:** Consider the two dice example and define $X$ to be the sum of the two dice. Then we find probabilities such as\n",
    "\n",
    "$$P[X = 7] = P[\\omega \\in \\Omega \\;|\\; X(\\omega) = 7] = 1/6.$$\n",
    "\n",
    "Similarly, \n",
    "\n",
    "$$\n",
    "P[X=2] = 1/36\n",
    "$$\n",
    "\n",
    "and\n",
    "\n",
    "$$\n",
    "P[X=13] = 0. \n",
    "$$"
   ]
  },
  {
   "cell_type": "markdown",
   "metadata": {},
   "source": [
    "## Cumulative Density Function\n",
    "\n",
    "**Def:** Given a random variable $X$, the **cumulative density function** (CDF) for $X$ is\n",
    "    \n",
    "$$\n",
    "F_X(x) = P[X \\leq x].\n",
    "$$\n",
    "\n",
    "**Example:** If $X$ is the sum of the two dice, the CDF determined by summing up the probabilities of getting a sum less than or equal to $x$, since all such events are disjoint. Thus, the CDF is as follows:\n",
    "\n",
    "\\begin{eqnarray}\n",
    "F_X(x) & = & 0 \\; \\mathrm{for} \\; x \\leq 1 \\\\\n",
    "F_X(2) & = & 1/36 \\\\\n",
    "F_X(3) & = & 3/36 \\\\\n",
    "F_X(4) & = & 6/36 \\\\\n",
    "F_X(5) & = & 10/36 \\\\\n",
    "F_X(6) & = & 15/36 \\\\\n",
    "F_X(7) & = & 21/36 \\\\\n",
    "F_X(8) & = & 26/36 \\\\\n",
    "F_X(9) & = & 30/36 \\\\\n",
    "F_X(10) & = & 33/36 \\\\\n",
    "F_X(11) & = & 35/36 \\\\\n",
    "F_X(12) & = & 36/36 \\\\\n",
    "F_X(x) & = & 36/36 \\; \\mathrm{for} \\; x \\leq 0 .\n",
    "\\end{eqnarray}\n",
    "\n",
    "## The Probability density function\n",
    "\n",
    "**Def:** If $\\Omega$ is discrete, then the **probability density function** (PDF) of a random variable $X$ is\n",
    "\n",
    "$$\n",
    "f_X(x) = P[\\{ \\omega \\;|\\; X(\\omega) = x\\}].\n",
    "$$\n",
    "\n",
    "**Example:** For the dice example where $X$ is the sum of the two dice,\n",
    "\n",
    "\\begin{eqnarray}\n",
    "f_X(x) & = & 0 \\; \\mathrm{for} \\; x \\leq 0 \\\\\n",
    "f_X(2) & = & 1/36 \\\\\n",
    "f_X(3) & = & 2/36 \\\\\n",
    "f_X(4) & = & 3/36 \\\\\n",
    "f_X(5) & = & 4/36 \\\\\n",
    "f_X(6) & = & 5/36 \\\\\n",
    "f_X(7) & = & 6/36 \\\\\n",
    "f_X(8) & = & 5/36 \\\\\n",
    "f_X(9) & = & 4/36 \\\\\n",
    "f_X(10) & = & 3/36 \\\\\n",
    "f_X(11) & = & 2/36 \\\\\n",
    "f_X(12) & = & 1/36 \\\\\n",
    "f_X(x) & = & 0/36 \\; \\mathrm{for} \\; x \\leq 0 .\n",
    "\\end{eqnarray}"
   ]
  },
  {
   "cell_type": "code",
   "execution_count": 170,
   "metadata": {
    "ExecuteTime": {
     "end_time": "2019-11-20T00:00:54.689549Z",
     "start_time": "2019-11-20T00:00:54.491179Z"
    }
   },
   "outputs": [
    {
     "data": {
      "image/png": "[encoded data removed]",
      "text/plain": [
       "<Figure size 432x288 with 1 Axes>"
      ]
     },
     "metadata": {},
     "output_type": "display_data"
    }
   ],
   "source": [
    "x = np.linspace(0,14,15);\n",
    "CDF = np.array([0,0,1,3,6,10,15,21,26,30,33,35,36,36,36]) / 36;\n",
    "PDF = np.array([0,0,1,2,3,4,5,6,5,4,3,2,1,0,0]) / 36;\n",
    "plt.plot(x,CDF, \"o\", label=\"F(x)\")\n",
    "plt.plot(x,PDF, \"o\", label=\"f(x)\")\n",
    "plt.legend();\n",
    "plt.title(\"Sum of two dice\");"
   ]
  },
  {
   "cell_type": "markdown",
   "metadata": {},
   "source": [
    "**Properties of the CDF:**\n",
    "\n",
    "a) $F(\\infty) = 1$ and $F(-\\infty) = 0$. \n",
    "\n",
    "b) $x \\leq y$ implies that $F(x) \\leq F(x)$. Thus, $F$ is a non-decreasing function.\n",
    "\n",
    "**Properties of the PDF:**\n",
    "\n",
    "a) $\\int_{-\\infty}^\\infty f_X(x) dx = 1$\n",
    "\n",
    "b) $F_X(x) = \\sum f_X(x)$, assuming $x$ takes on discrete values. \n",
    "\n",
    "**Def:** If $F_X$ is continuous and differentiable, then \n",
    "\n",
    "$$\n",
    "f_X(x) = \\frac{d}{dx}F_X(x) \n",
    "$$\n",
    "\n",
    "and the above sum in (b) should be an integral. \n",
    "\n",
    "**Example:** Suppose that $T$ represents the waiting time for the radioactive decay of an atom. This can be modeled by an exponential distribution with parameter $\\lambda$ with\n",
    "\n",
    "$$\n",
    "f_T(t) = \\lambda e^{-\\lambda t}\n",
    "$$\n",
    "\n",
    "when $t \\geq 0$ and $0$ otherwise.\n",
    "\n",
    "It can be checked that $f$ integrates to 1 over $[0,\\infty)$ and the CDF is defined by\n",
    "\n",
    "$$\n",
    "F_X(t) = \\int_0^\\infty \\lambda e^{-\\lambda t} dt = 1 - e^{-\\lambda t}. \n",
    "$$"
   ]
  },
  {
   "cell_type": "markdown",
   "metadata": {},
   "source": [
    "**Note:** If $X$ is more than one dimensional, then the above definitions must be extended to $F(x_1, x_2, ... x_n)$. We will not cover that in these notes. The extension is straightforward, but requires a fair amount of book keeping."
   ]
  },
  {
   "cell_type": "markdown",
   "metadata": {},
   "source": [
    "## Functions of random variables\n",
    "\n",
    "If $X$ is a random variable, we can make other random variables from $X$ such as $Y = X^2$ or $Z = 1/(1+X)$. Each of these new random variables also has a CDF and PDF. \n",
    "\n",
    "**Example:** Let $Y = X^2$ in the dice example. Then $Y$ is the square of the sum of the two dice. It has values $4$, $9$, $16$, $25$, $36$, and so on. For example, the probability that $Z$ is $36$ is the same as the probability that $X$ is $6$ which is $10/36$. \n",
    "\n",
    "**Example:** If $Y = T^2$ and the PDF of $T$ is exponentially distributed, then\n",
    "\n",
    "\\begin{eqnarray}\n",
    "F_U(u) & = & P[U \\leq u] = P[T^2 < u] \\\\\n",
    "       & = & P[-\\sqrt{u} \\leq T \\leq \\sqrt{u}] \\\\\n",
    "       & = & P[T \\leq \\sqrt{u}] \\\\\n",
    "       & = & F_T(\\sqrt{u}) \\\\\n",
    "       & = & 1 - e^{-\\lambda \\sqrt{u}}. \n",
    "\\end{eqnarray}\n",
    "\n",
    "The third equality above is due to the fact that the probability $T$ is negative is $0$ for this particular distribution. \n",
    "\n",
    "To compute the PDF, we have\n",
    "\n",
    "\\begin{eqnarray}\n",
    "f_U(u) & = & \\frac{d}{dt} \\left (1 - e^{-\\lambda \\sqrt{u}} \\right ) \\\\\n",
    "       & = & \\frac{1}{2 \\sqrt{u}} \\lambda e^{-\\lambda \\sqrt{u}} .\n",
    "\\end{eqnarray}"
   ]
  },
  {
   "cell_type": "code",
   "execution_count": 173,
   "metadata": {
    "ExecuteTime": {
     "end_time": "2019-11-20T00:03:18.908244Z",
     "start_time": "2019-11-20T00:03:18.667896Z"
    }
   },
   "outputs": [
    {
     "data": {
      "image/png": "[encoded data removed]",
      "text/plain": [
       "<Figure size 432x288 with 1 Axes>"
      ]
     },
     "metadata": {},
     "output_type": "display_data"
    }
   ],
   "source": [
    "t = np.linspace(0,2,1000)\n",
    "u = np.linspace(0,2,1000)\n",
    "l = 1\n",
    "plt.plot(t,1-np.exp(-l*t), label=\"$F_T$\")\n",
    "plt.plot(t,1-np.exp(-l*np.sqrt(u)), label=\"$F_U$\")\n",
    "plt.title(\"CDFs for $T$ and $U = T^2$\")\n",
    "plt.legend();"
   ]
  },
  {
   "cell_type": "markdown",
   "metadata": {},
   "source": [
    "## Moments, means, and variances\n",
    "\n",
    "**Def:** For a discrete system, the **expected value** of a random variable $X$ is \n",
    "\n",
    "$$\n",
    "E[X] = \\sum_x x \\;f_X(x).\n",
    "$$\n",
    "\n",
    "For a real valued system, the **expected value** of a random variable $X$, also called the **mean** $\\mu$ of $X$, is \n",
    "\n",
    "$$\n",
    "\\mu = E[X] = \\int_{\\infty}^\\infty x \\;f_X(x) dx.\n",
    "$$\n",
    "\n",
    "If $Y = g(X)$ is a function of the random variable $X$, then we can compute its expected value as well.\n",
    "\n",
    "$$\n",
    "E[Y] = E[g(X)] \\int_{-\\infty}^\\infty y \\;f_Y(x) dy. \n",
    "$$\n",
    "\n",
    "It turns out that to compute $E[Y]$ you don't need $f_Y$. You can use:\n",
    "\n",
    "$$\n",
    "E[Y] = \\int_{-\\infty}^\\infty g(x) \\;f_X(x) dx . \n",
    "$$\n",
    "\n",
    "**Example:** With the dice example and $X$ representing the sum of the two dice, we have\n",
    "\n",
    "$$\n",
    "E[X] = 2\\cdot\\frac{1}{36}\n",
    "     + 3\\cdot\\frac{2}{36}\n",
    "     + 4\\cdot\\frac{3}{36}\n",
    "     + 5\\cdot\\frac{4}{36}\n",
    "     + 6\\cdot\\frac{5}{36}\n",
    "     + 7\\cdot\\frac{6}{36}\n",
    "     + 8\\cdot\\frac{5}{36}\n",
    "     + 9\\cdot\\frac{4}{36}\n",
    "     + 10\\cdot\\frac{3}{36}\n",
    "     + 11\\cdot\\frac{2}{36}     \n",
    "     + 12\\cdot\\frac{1}{36} = 7.\n",
    "$$\n",
    "\n",
    "The expected value of the sum of the square is \n",
    "\n",
    "$$\n",
    "E[X^2] = 2^2\\cdot\\frac{1}{36}\n",
    "     + 3^2\\cdot\\frac{2}{36}\n",
    "     + 4^2\\cdot\\frac{3}{36}\n",
    "     + 5^2\\cdot\\frac{4}{36}\n",
    "     + 6^2\\cdot\\frac{5}{36}\n",
    "     + 7^2\\cdot\\frac{6}{36}\n",
    "     + 8^2\\cdot\\frac{5}{36}\n",
    "     + 9^2\\cdot\\frac{4}{36}\n",
    "     + 10^2\\cdot\\frac{3}{36}\n",
    "     + 11^2\\cdot\\frac{2}{36}     \n",
    "     + 12^2\\cdot\\frac{1}{36} = 54.83.\n",
    "$$\n",
    "\n",
    "**Example:** The expected value of the exponential distribution is\n",
    "\n",
    "$$\n",
    "E[T] = \\int_0^\\infty t \\lambda e^{-\\lambda t} dt = \\frac{1}{\\lambda}. \n",
    "$$\n",
    "\n",
    "Furthermore,\n",
    "\n",
    "$$\n",
    "E[T^2] = \\int_0^\\infty t \\lambda e^{-\\lambda t} dt = \\frac{1}{\\lambda} = \\frac{2}{\\lambda^2}. \n",
    "$$\n",
    "\n",
    "**Def:** The **nth moment** of $X$ is $E[X^n]$. The **nth** central moment of $X$ is $E[(X-\\mu)^n]$. The second central moment is also called the **variance** of $X$ and is denoted $\\sigma^2$. The **standard deviation** of $X$ is $\\sigma$. \n",
    "\n",
    "**Property:** \n",
    "\n",
    "$$\n",
    "\\sigma^2 = E[(X-\\mu)^2] = E[X^2] - E[2\\mu X] + E[\\mu^2].\n",
    "$$\n",
    "\n",
    "Since $E[2\\mu X] = 2\\mu E[X] = 2 \\mu^2$ we get\n",
    "\n",
    "$$\n",
    "\\sigma^2 = E[(X-\\mu)^2] = E[X^2] - \\mu^2.\n",
    "$$\n",
    "\n",
    "**Example:** The variance of $X$ in the dice problem is $\\sigma^2 = 54.83 - 49 = 5.83$. \n",
    "\n",
    "**Example:** The variance of the exponentially distributed $T$ is $\\frac{2}{\\lambda^2} - \\frac{1}{\\lambda^2} = \\frac{1}{\\lambda^2}$. The standard deviation is then $1 / \\lambda$. "
   ]
  },
  {
   "cell_type": "code",
   "execution_count": 168,
   "metadata": {
    "ExecuteTime": {
     "end_time": "2019-11-19T23:26:42.916919Z",
     "start_time": "2019-11-19T23:26:42.880747Z"
    }
   },
   "outputs": [
    {
     "data": {
      "text/latex": [
       "$$\\left ( \\begin{cases} \\frac{1}{\\lambda} & \\text{for}\\: \\left|{\\operatorname{periodic_{argument}}{\\left (\\lambda,\\infty \\right )}}\\right| < \\frac{\\pi}{2} \\\\\\int_{0}^{\\infty} \\lambda t e^{- \\lambda t}\\, dt & \\text{otherwise} \\end{cases}, \\quad \\begin{cases} \\frac{2}{\\lambda^{2}} & \\text{for}\\: \\left|{\\operatorname{periodic_{argument}}{\\left (\\lambda,\\infty \\right )}}\\right| < \\frac{\\pi}{2} \\\\\\int_{0}^{\\infty} \\lambda t^{2} e^{- \\lambda t}\\, dt & \\text{otherwise} \\end{cases}\\right )$$"
      ],
      "text/plain": [
       "⎛⎧      1                                         π  ⎧      2                 \n",
       "⎜⎪      ─         for │periodic_argument(λ, ∞)│ < ─  ⎪      ──         for │pe\n",
       "⎜⎪      λ                                         2  ⎪       2                \n",
       "⎜⎪                                                   ⎪      λ                 \n",
       "⎜⎪∞                                                  ⎪                        \n",
       "⎜⎨⌠                                                , ⎨∞                       \n",
       "⎜⎪⎮      -λ⋅t                                        ⎪⌠                       \n",
       "⎜⎪⎮ λ⋅t⋅ℯ     dt              otherwise              ⎪⎮    2  -λ⋅t            \n",
       "⎜⎪⌡                                                  ⎪⎮ λ⋅t ⋅ℯ     dt         \n",
       "⎜⎪0                                                  ⎪⌡                       \n",
       "⎝⎩                                                   ⎩0                       \n",
       "\n",
       "                         π⎞\n",
       "riodic_argument(λ, ∞)│ < ─⎟\n",
       "                         2⎟\n",
       "                          ⎟\n",
       "                          ⎟\n",
       "                          ⎟\n",
       "                          ⎟\n",
       "                          ⎟\n",
       "     otherwise            ⎟\n",
       "                          ⎟\n",
       "                          ⎠"
      ]
     },
     "execution_count": 168,
     "metadata": {},
     "output_type": "execute_result"
    }
   ],
   "source": [
    "l, t = sm.symbols(\"lambda,t\")\n",
    "sm.integrate(t * l * sm.exp(-l*t), (t,0,sm.oo)), sm.integrate(t**2 * l * sm.exp(-l*t), (t,0,sm.oo))"
   ]
  },
  {
   "cell_type": "markdown",
   "metadata": {
    "ExecuteTime": {
     "end_time": "2019-11-18T17:09:54.399394Z",
     "start_time": "2019-11-18T17:09:54.360703Z"
    }
   },
   "source": [
    "# Discrete Time, Discrete State Markov Processes"
   ]
  },
  {
   "cell_type": "markdown",
   "metadata": {},
   "source": [
    "## Discrete processes\n",
    "\n",
    "**Def:** A **discrete random process** is a sequence of random variables $X_0$, $X_1$, ... $X_n$, ... that may be infinitely or finitely long.\n",
    "\n",
    "**Def:** A **sample trajectory ** of a discrete random process is a sequence of samples for each of the random variables. \n",
    "\n",
    "**Example 1:** Roll a die over and over again and define $X_i$ to be the value of the roll number $i$. One possible trajectory is the sequence $1,1,1,1,1,\\dots$ where all the dice turn up $1$ (which would be quite suspicious). \n",
    "\n",
    "**Example 2:** Roll a die over and over and let $Y_i$ be the sum of the rolls so far. An example trajectory is $1,2,3,4,...$, indicated a 1 each roll.\n",
    "\n",
    "**Example 3:** Put three quarters, three dimes, three nickels, and three pennies in a jar. At each step, randomly remove a coin from the jar. Let $Z_i$ be the sum of the coins removed from the jar after $i$ steps. An example trajectory is:\n",
    "\n",
    "$$\n",
    "25, 50, 75, 80, 85, 90, 100, 110, 120, 121, 122, 123\n",
    "$$\n",
    "\n",
    "**Def:** The probability of a trajectory $(x_i)$ is \n",
    "\n",
    "$$\n",
    "P[X_1 = x_1, X_2 = x_2, ...].\n",
    "$$\n",
    "\n",
    "**Example:** when rolling a die over and over again, the rolls are independent. Thus, \n",
    "\n",
    "$$\n",
    "P[X_1 = x_1, X_2 = x_2, ...] = P[X_1-x_1]P[X_2=x_2] ... = \\prod_{i=0}^\\infty P[X_i=x_i].\n",
    "$$\n",
    "\n",
    "Note that since all these probabilities are less than one, the product above is zero for any particular infinite sequence of numbers. So the probability of getting a 1 forever is zero. In fact the probability of getting any particular sequence is zero.\n",
    "\n",
    "We can obtain the probability of getting 100 ones in a row and then getting anything after that as\n",
    "\n",
    "$$\n",
    "\\prod_{i=0}^{100} P[X_i=x_i] = 2.34 \\times ⋅10^{−156} .\n",
    "$$\n",
    "\n",
    "**Note:** The set of trajectories starting with a particular finite sequence $w$ is denoted $\\uparrow w$ and is called the **upset** of the sequence $w$. It can be shown that all measurable sets of sequences can be obtained from finite intersections and infinite unions of upsets. \n"
   ]
  },
  {
   "cell_type": "markdown",
   "metadata": {},
   "source": [
    "## The Markov property\n",
    "\n",
    "**Def:** A process is **Markov** if \n",
    "\n",
    "$$\n",
    "P[X_{k+1} = x_{k+1} \\;|\\; X_k = x_k, ..., X_0 = x_0 ] = P[X_{k+1} = x_{k+1} \\;|\\; X_k = x_k ].\n",
    "$$\n",
    "\n",
    "That is, the probability that the next state is equal to some value is dependent only on the current state.\n",
    "\n",
    "**Example:** Example 1 above is Markov because all the rolls are independent. In fact, the probability that $X_{k+1}$ is equal to any particular value does not depend even on $X_k$. \n",
    "\n",
    "**Example:** Example 2 above is Markov. The sum of the rolls up to step $k+1$ depends on the sum at step $k$ and the roll at step $k+1$ only. \n",
    "\n",
    "**Example:** Example 3 above is not Markov. For example, suppose that the sum at step 2 is 30. This could have been obtained by drawing a quarter and a nickel, drawing three dimes, or two dimes and two nickels. In each of those cases, the probability that a given coin is going to be drawn in step three is different.\n",
    "    \n",
    "\n",
    "\n",
    "\n",
    "\n"
   ]
  },
  {
   "cell_type": "markdown",
   "metadata": {},
   "source": [
    "## Markov Processes as Graphs\n",
    "\n",
    "**Def:** A Discrete time, discrete state Markov Process (also commonly called a Markov Chain) can be specified using a directed graph whose edges are labeled by a transition probability. In particular, let $G=(V,E)$ be a *directed* graph and let $Q:E \\rightarrow [0,1]$ be such that for all $u \\in V$\n",
    "\n",
    "$$\n",
    "\\sum_{v \\in \\Gamma(v)} Q(u,v) = 1.\n",
    "$$\n",
    "\n",
    "With this specification, the state $X_i$ is a random variable whose values range over $V$ and\n",
    "\n",
    "$$\n",
    "P[X_{k+1} = v \\;|\\; X_k = u] = Q(u,v). \n",
    "$$\n",
    "\n",
    "**Example:** Consider the following somewhat unrealistic model of the weather. It represents the following:\n",
    "\n",
    "- $V = \\{ 0, 1 \\}$ representing sunny and rainy weather.\n",
    "- $E = V \\times V$ where $(u,v)$ represents the weather $v$ on day $2$ given the weather $u$ on day one.\n",
    "- $Q(0,0) = 0.9$, $Q(0,1) = 0.1$, $Q(1,0) = 0.5$, and $Q(1,1) = 0.5$. \n",
    "\n",
    "<img src=\"https://raw.githubusercontent.com/klavins/EE502P/master/images/mp1.jpeg\" width=60%>\n",
    "\n",
    "An example trajectory is\n",
    "\n",
    "$$\n",
    "0,0,0,0,1,1,1,1, ...\n",
    "$$\n",
    "\n",
    "Assuming all trajectories start with sun, the probability of trajectories with the same first eight states as the above is\n",
    "\n",
    "$$\n",
    "0.9^3 \\cdot 0.1 \\cdot 0.5^3 = 0.0015625. \n",
    "$$"
   ]
  },
  {
   "cell_type": "markdown",
   "metadata": {},
   "source": [
    "## Properties of Markov Processes\n",
    "\n",
    "**Def:** A Markov Process is called **irreducible** if it is there is a path from any state to any other state. Otherwise it is called **reducible**. \n",
    "\n",
    "**Def:** A state $x$ has **period** $k$ if starting in state $x$, if $x$ is returned to, it is returned to in $mk$ steps for some $m$. If $k=1$ for a given state, then it is called **aperiodic**. \n",
    "\n",
    "**Def:** A state is **transient** if there is a nonzero probability that it will not be returned to once left. Otherwise the state is called **recurrent**. \n",
    "\n",
    "**Def:** A state is called **absorbing** if it cannot be left once reached. A subset of states is also called **absorbing** if it cannot be left once reached. \n",
    "\n",
    "**Def:** A state is **ergodic** if it is aperiodic and there is a nonzero probability that it will be visited an infinite number of times in any trajectory.\n",
    "\n",
    "**Example:** Consider the following Markov Processes:\n",
    "\n",
    "<img src=\"https://raw.githubusercontent.com/klavins/EE502P/master/images/Four-MPs.jpeg\">\n",
    "\n",
    "- In process (a): States 0 and 1 have period 2. State 2 is absorbing. The process is not irreducible. State 2 is ergodic. States 0 and 1 are transient.\n",
    "\n",
    "- In process (b), all states have period 2. The set $\\{2,3\\}$ is absorbing. No states are ergodic. The system is not irreducible. States 0 and 1 are transient.\n",
    "\n",
    "- In process (c), all states have period 3. The process is irreducible. No states are ergodic. All states are recurrent.\n",
    "\n",
    "- In process (d), all states are aperiodic and ergodic.All states are recurrent."
   ]
  },
  {
   "cell_type": "markdown",
   "metadata": {},
   "source": [
    "## Update Matrix\n",
    "\n",
    "**Def:** A **Stochastic Matrix** $Q$ is a real valued $n \\times n$ matrix such that\n",
    "\n",
    "- $Q_{i,j} \\in [0,1]$\n",
    "- The sum of each row is one. \n",
    "\n",
    "**Note:** The assignment $Q$ in a graph specification of a discrete time, discrete state Markov Process is a stochastic matrix. \n",
    "\n",
    "**Example:** The weather example above has \n",
    "\n",
    "$$\n",
    "Q = \\begin{pmatrix}\n",
    "0.9 & 0.1 \\\\\n",
    "0.5 & 0.5\n",
    "\\end{pmatrix} .\n",
    "$$\n",
    "\n",
    "**Def:** A **probability vector** $p \\in [0,1]^n$ is a <u>row vector</u> such that \n",
    "\n",
    "$$\n",
    "p\\mathbb{1} = \\mathbb{1}^T p^T = 1. \n",
    "$$\n",
    "\n",
    "where $\\mathbb{1}$ is the column vector of all ones.\n",
    "\n",
    "**Property:** Let the probability vector $p_i$ correspond to the PDF $f_{X_i}$ for a Markov Process. Then,\n",
    "\n",
    "$$\n",
    "p_{k+1} = p_k Q. \n",
    "$$\n",
    "\n",
    "**Example:** For the weather system, suppose that \n",
    "\n",
    "$$\n",
    "p_0 = (1 \\; 0)\n",
    "$$\n",
    "\n",
    "Then, \n",
    "\n",
    "$$\n",
    "p_1 = (1\\;0) \\begin{pmatrix}\n",
    "0.9 & 0.1 \\\\\n",
    "0.5 & 0.5\n",
    "\\end{pmatrix} = (0.9 \\;\\; 0.1)\n",
    "$$\n",
    "\n",
    "and\n",
    "\n",
    "$$\n",
    "p_2 = (0.9 \\;\\; 0.1)\n",
    "\\begin{pmatrix}\n",
    "0.9 & 0.1 \\\\\n",
    "0.5 & 0.5\n",
    "\\end{pmatrix} = (0.86 \\;\\; 0.14).\n",
    "$$\n",
    "\n",
    "**Example:** Example (b) above has \n",
    "\n",
    "$$\n",
    "Q = \\begin{pmatrix}\n",
    "0 & 1 & 0 & 0 \\\\\n",
    "0.9 & 0   & 0.1 & 0 \\\\\n",
    "0 & 0 & 0 & 1 \\\\\n",
    "0 & 0   & 1 & 0 \n",
    "\\end{pmatrix} .\n",
    "$$\n",
    "\n",
    "Below is a simulation of the probability of being in each state versus time."
   ]
  },
  {
   "cell_type": "code",
   "execution_count": 355,
   "metadata": {
    "ExecuteTime": {
     "end_time": "2019-11-21T04:17:02.472632Z",
     "start_time": "2019-11-21T04:17:01.473931Z"
    }
   },
   "outputs": [
    {
     "data": {
      "image/png": "[encoded data removed]",
      "text/plain": [
       "<Figure size 864x360 with 4 Axes>"
      ]
     },
     "metadata": {},
     "output_type": "display_data"
    }
   ],
   "source": [
    "p = np.array([1,0,0,0]); # Initial probability vector\n",
    " \n",
    "Q = np.array([           # Transition probability matrix\n",
    "    [0,1,0,0],\n",
    "    [0.9,0,0.1,0],\n",
    "    [0,0,0.5,0.5],\n",
    "    [0,0,0.5,0.5]\n",
    "]);\n",
    "\n",
    "n = 50;\n",
    "x = [p]\n",
    "\n",
    "for _ in range(n):\n",
    "    p = p.dot(Q)   # Here's the update!\n",
    "    x.append(p)\n",
    "\n",
    "t = range(n+1)\n",
    "x = np.array(x)\n",
    "\n",
    "fig,ax = plt.subplots(2,2,figsize=(12,5))\n",
    "plt.subplots_adjust(hspace=0.35)\n",
    "for i in range(4):\n",
    "    a = ax[int(i/2)][i%2]\n",
    "    a.bar(t,x[:,i])\n",
    "    a.set_ylabel(\"$P[X_k=%d]$\" % i)\n",
    "    a.set_xlabel(\"k\");"
   ]
  },
  {
   "cell_type": "markdown",
   "metadata": {},
   "source": [
    "## Properties of Stochastic Matrices\n",
    "\n",
    "**Property:** $1$ is a eigenvalue with eigenvector $\\mathbb{1}^T$. This is because every row sums to one. That is if $r$ is a row of $Q$, then $\\mathbb{1}r = 1$. Said differently,\n",
    "$$\n",
    "Q \\mathbb{1} = \\mathbb{1}. \n",
    "$$\n",
    "\n",
    "Note that the left and right eigenvectors of a matrix are the same, even though the eigenvalues may be different. Thus, $Q$ also has at least one left eigenvector of 1. \n",
    "\n",
    "**Def:** A **stationary probability vector $p^*$** has the property that\n",
    "\n",
    "$$\n",
    "p^* Q = p^*.\n",
    "$$\n",
    "\n",
    "Thus, $p^*$ is a left eigenvector of $Q$ with left eigenvalue 1. \n",
    "\n",
    "**Example:** Consider the weather example. The left eigenvalues and eigenvectors of \n",
    "\n",
    "$$\n",
    "Q = \\begin{pmatrix}\n",
    "0.9 & 0.1 \\\\\n",
    "0.5 & 0.5\n",
    "\\end{pmatrix} \n",
    "$$\n",
    "\n",
    "are \n",
    "\n",
    "$$\n",
    "\\frac{2}{5} \\; \\mathrm{with} \\; (-1\\;\\;1)\n",
    "$$\n",
    "\n",
    "and\n",
    "\n",
    "$$\n",
    "1 \\; \\mathrm{with} \\; (5\\;\\;1).\n",
    "$$\n",
    "\n",
    "This second eigenvector corresponds to the stationary distribution, although it does not sum to one. However, since every non-zero multiple of an eigenvector is also an eigenvector, we get:\n",
    "\n",
    "$$\n",
    "p^* = (\\frac{5}{6}\\;\\;\\frac{1}{6}).\n",
    "$$\n",
    "\n",
    "So over the years, with this model, it is five times more likely to be sunny than rainy. Must not be Seattle!\n",
    "\n",
    "**Example:** Consider the system (b) above with \n",
    "\n",
    "$$\n",
    "Q = \\begin{pmatrix}\n",
    "0 & 1 & 0 & 0 \\\\\n",
    "0.9 & 0   & 0.1 & 0 \\\\\n",
    "0 & 0 & 0 & 1 \\\\\n",
    "0 & 0   & 1 & 0 \n",
    "\\end{pmatrix} .\n",
    "$$\n",
    "\n",
    "It can be shown that a left eigenvector corresponding to $1$ is \n",
    "\n",
    "$$\n",
    "p^* = (0 \\; 0 \\; \\frac{1}{2} \\; \\frac{1}{2}).\n",
    "$$\n",
    "\n",
    "This makes sense, but it tricky to interpret. It is true the system is in state $2$ half the time at steady state, but only during even numbered time steps, which doesn't even really make sense at time equals infinity. \n",
    "\n",
    "**Example:** Suppose we have the system\n",
    "\n",
    "<img src=\"https://raw.githubusercontent.com/klavins/EE502P/master/images/2D-stationary.jpeg\" width=60%>\n",
    "\n",
    "which has \n",
    "\n",
    "$$\n",
    "Q = \\begin{pmatrix}\n",
    "0 & 0.4 & 0.6 \\\\\n",
    "0 & 1   & 0 \\\\\n",
    "0 & 0 & 1 \n",
    "\\end{pmatrix} .\n",
    "$$\n",
    "\n",
    "The left eigenvalues of this system are $0$, $1$, and $1$. The $1$ eigenvalues of left eigenvectors $(0,1,0)$ and $(0,0,1)$. But can a process have two separate distributions?\n",
    "\n",
    "No. Recall that if $x$ and $y$ are eigenvectors associated with the same eigenvalue, then so are $x+y$. Thus, the system has a two dimensional stationary state where all states have the form\n",
    "\n",
    "$$\n",
    "p^* = (0\\;\\; a \\;\\;\\; 1-a)\n",
    "$$\n",
    "\n",
    "with $a \\in [0,1]$. On the other hand it seems quite clear that the stationary state ought to be $(0\\;\\;0.4\\;\\;0.6)$. What is happening? In fact, the stationary analysis we did is valid, If you start with any probability vector of the form $(0\\;\\; a \\;\\;\\; 1-a)$, then you will stay with that distribution as the system progresses, so they are all stationary. \n",
    "\n",
    "However, only one of the stationary vectors is *reachable* from the initial distribution $p = (1\\;0\\;0)$. To determine this vector, we need to use the update rule:\n",
    "\n",
    "$$\n",
    "p_{k+1} = p_k Q .\n",
    "$$\n",
    "\n",
    "Note that by substituting in $p_{k-1}Q$ and iterating, we can show that\n",
    "\n",
    "$$\n",
    "p_{k} = p_0 Q^k\n",
    "$$\n",
    "\n",
    "If we find $Q_k$ and take the limit as $k \\rightarrow \\infty$ we should find the steady state distribution. In this case, $Q^k = Q$, so $Q^\\infty = Q$ (pretty unusual, so don't get used to this). Thus, \n",
    "\n",
    "$$\n",
    "p^* = (1 \\; 0 \\; 0 ) Q = (0\\;\\;0.4\\;\\;0.6).\n",
    "$$\n"
   ]
  },
  {
   "cell_type": "code",
   "execution_count": 343,
   "metadata": {
    "ExecuteTime": {
     "end_time": "2019-11-21T01:41:00.779154Z",
     "start_time": "2019-11-21T01:41:00.767759Z"
    }
   },
   "outputs": [
    {
     "data": {
      "text/latex": [
       "$$\\left ( \\left[\\begin{matrix}-1 & 5\\\\1 & 1\\end{matrix}\\right], \\quad \\left[\\begin{matrix}\\frac{2}{5} & 0\\\\0 & 1\\end{matrix}\\right]\\right )$$"
      ],
      "text/plain": [
       "⎛⎡-1  5⎤, ⎡2/5  0⎤⎞\n",
       "⎜⎢     ⎥  ⎢      ⎥⎟\n",
       "⎝⎣1   1⎦  ⎣ 0   1⎦⎠"
      ]
     },
     "execution_count": 343,
     "metadata": {},
     "output_type": "execute_result"
    }
   ],
   "source": [
    "# Eigensystem of the sun/rain system\n",
    "\n",
    "Q = sm.Matrix([\n",
    "    [sm.Rational(9,10), sm.Rational(1,10)],\n",
    "    [sm.Rational(5,10), sm.Rational(5,10)]\n",
    "])\n",
    "\n",
    "(Q.T).diagonalize()"
   ]
  },
  {
   "cell_type": "code",
   "execution_count": 344,
   "metadata": {
    "ExecuteTime": {
     "end_time": "2019-11-21T01:41:01.799130Z",
     "start_time": "2019-11-21T01:41:01.761075Z"
    }
   },
   "outputs": [
    {
     "data": {
      "text/latex": [
       "$$\\left ( \\left[\\begin{matrix}0 & 0 & 3 \\sqrt{10} & - 3 \\sqrt{10}\\\\0 & 0 & -10 & -10\\\\-1 & 1 & - 3 \\sqrt{10} & 3 \\sqrt{10}\\\\1 & 1 & 10 & 10\\end{matrix}\\right], \\quad \\left[\\begin{matrix}-1 & 0 & 0 & 0\\\\0 & 1 & 0 & 0\\\\0 & 0 & - \\frac{3 \\sqrt{10}}{10} & 0\\\\0 & 0 & 0 & \\frac{3 \\sqrt{10}}{10}\\end{matrix}\\right]\\right )$$"
      ],
      "text/plain": [
       "⎛⎡0   0  3⋅√10   -3⋅√10⎤, ⎡-1  0     0       0  ⎤⎞\n",
       "⎜⎢                     ⎥  ⎢                     ⎥⎟\n",
       "⎜⎢0   0   -10     -10  ⎥  ⎢0   1     0       0  ⎥⎟\n",
       "⎜⎢                     ⎥  ⎢                     ⎥⎟\n",
       "⎜⎢-1  1  -3⋅√10  3⋅√10 ⎥  ⎢       -3⋅√10        ⎥⎟\n",
       "⎜⎢                     ⎥  ⎢0   0  ───────    0  ⎥⎟\n",
       "⎜⎣1   1    10      10  ⎦  ⎢          10         ⎥⎟\n",
       "⎜                         ⎢                     ⎥⎟\n",
       "⎜                         ⎢                3⋅√10⎥⎟\n",
       "⎜                         ⎢0   0     0     ─────⎥⎟\n",
       "⎝                         ⎣                  10 ⎦⎠"
      ]
     },
     "execution_count": 344,
     "metadata": {},
     "output_type": "execute_result"
    }
   ],
   "source": [
    "# Eigensystem of process (b) above\n",
    "\n",
    "Q = sm.Matrix([\n",
    "    [0,1,0,0],\n",
    "    [sm.Rational(9,10), 0, sm.Rational(1,10), 0],\n",
    "    [0,0,0,1],\n",
    "    [0,0,1,0]\n",
    "])\n",
    "\n",
    "(Q.T).diagonalize()"
   ]
  },
  {
   "cell_type": "code",
   "execution_count": 345,
   "metadata": {
    "ExecuteTime": {
     "end_time": "2019-11-21T01:41:05.146789Z",
     "start_time": "2019-11-21T01:41:05.131922Z"
    }
   },
   "outputs": [
    {
     "data": {
      "text/latex": [
       "$$\\left ( \\left[\\begin{matrix}-5 & 0 & 0\\\\2 & 1 & 0\\\\3 & 0 & 1\\end{matrix}\\right], \\quad \\left[\\begin{matrix}0 & 0 & 0\\\\0 & 1 & 0\\\\0 & 0 & 1\\end{matrix}\\right]\\right )$$"
      ],
      "text/plain": [
       "⎛⎡-5  0  0⎤, ⎡0  0  0⎤⎞\n",
       "⎜⎢        ⎥  ⎢       ⎥⎟\n",
       "⎜⎢2   1  0⎥  ⎢0  1  0⎥⎟\n",
       "⎜⎢        ⎥  ⎢       ⎥⎟\n",
       "⎝⎣3   0  1⎦  ⎣0  0  1⎦⎠"
      ]
     },
     "execution_count": 345,
     "metadata": {},
     "output_type": "execute_result"
    }
   ],
   "source": [
    "# Eignensystem with a 2D stationary set\n",
    "\n",
    "Q = sm.Matrix([\n",
    "    [0,sm.Rational(4,10),sm.Rational(6,10)],\n",
    "    [0,1,0],\n",
    "    [0,0,1]\n",
    "])\n",
    "\n",
    "(Q.T).diagonalize()"
   ]
  },
  {
   "cell_type": "markdown",
   "metadata": {},
   "source": [
    "## Example: A Birth Death Process\n",
    "\n",
    "Consider the infinite Markov process\n",
    "\n",
    "<img src=\"https://raw.githubusercontent.com/klavins/EE502P/master/images/birth-death-process\n",
    ".jpeg\" width=80%>\n",
    "\n",
    "This process could describe a queuing model where at each step: with probability $p$ a new customer arrives, with probability $q$ a customer is serviced, and with the remaining probability seemingly nothing happens.\n",
    "\n",
    "We wish to determine the mean number of customers at steady state, as well as the standard deviation of the number of customers. \n",
    "\n",
    "Abusing notation, let $p_i = p^*(i)$. Then at steady state\n",
    "\n",
    "\\begin{eqnarray}\n",
    "p_0 & = & (1-\\alpha) p_0 + \\beta p_1 \\\\\n",
    "p_1 & = & \\alpha p_0 + \\gamma p_1 + \\beta p_2 \\\\\n",
    "p_2 & = & \\alpha p_1 + \\gamma p_2 + \\beta p_3 \\\\\n",
    "    & \\vdots &\n",
    "\\end{eqnarray}\n",
    "\n",
    "where $\\gamma = 1 - \\alpha - \\beta$. Solving the first equation for $p_1$ gives\n",
    "\n",
    "$$\n",
    "p_1 = \\frac{\\alpha}{\\beta} p_0.\n",
    "$$\n",
    "\n",
    "Solving the second equation for $p_2$ and substituting in the above value for $p_1$ gives\n",
    "\n",
    "$$\n",
    "p_2 = \\frac{\\alpha^2}{\\beta^2} p_0.\n",
    "$$\n",
    "\n",
    "In general, $p_k = \\frac{\\alpha^k}{\\beta^k} p_0$. \n",
    "\n",
    "Now we use the fact that $\\sum_{k=0}^\\infty p_k = 1$ to get\n",
    "\n",
    "$$\n",
    "p_0 + \\frac{\\alpha}{\\beta} p_0 + \\frac{\\alpha^2}{\\beta^2} p_0 + \\cdots = p_0 \\sum_{k=0}^\\infty \\left ( \\frac{\\alpha}{\\beta} \\right ) ^ k = p_0 \\frac{1}{1 - \\frac{\\alpha}{\\beta}} = 1 .\n",
    "$$\n",
    "\n",
    "Thus, $p_0 = 1 - \\frac{\\alpha}{\\beta}$. In order for this to be a valid probability, we clearly need that $\\alpha \\leq \\beta$. Otherwise, the queue grows forever and there is no stationary distribution.\n",
    "\n",
    "Now, the mean at steady state is\n",
    "\n",
    "$$\n",
    "\\mu^* = \\left (1 - \\frac{\\alpha}{\\beta} \\right ) \\sum_{k=0}^\\infty k \\left ( \\frac{\\alpha}{\\beta} \\right )^k  = \\left (1 - \\frac{\\alpha}{\\beta} \\right ) \\frac{\\alpha}{\\beta(1-\\frac{\\alpha}{\\beta})^2} = \\frac{\\alpha}{\\beta - \\alpha}. \n",
    "$$\n",
    "\n",
    "We can also find the second moment, which is\n",
    "\n",
    "$$\n",
    "\\mu_2^* = \\left (1 - \\frac{\\alpha}{\\beta} \\right ) \\sum_{k=0}^\\infty k^2 \\left ( \\frac{\\alpha}{\\beta} \\right )^k = \\frac{\\alpha(\\alpha+\\beta)}{(\\alpha-\\beta)^2} .\n",
    "$$\n",
    "\n",
    "The standard deviation is then\n",
    "\n",
    "\\begin{eqnarray}\n",
    "\\sigma & = & \\sqrt{\\mu_2^* - (\\mu^*)^2 } \\\\\n",
    " & = & \\sqrt{\n",
    " \\frac{\\alpha(\\alpha+\\beta)}{(\\alpha-\\beta)^2} - \n",
    "\\left ( \\frac{\\alpha}{\\beta - \\alpha} \\right )^2\n",
    "} \\\\\n",
    "& = & \\frac{1}{\\beta-\\alpha}\\sqrt{\\alpha\\beta} .\n",
    "\\end{eqnarray}\n",
    "\n"
   ]
  },
  {
   "cell_type": "code",
   "execution_count": 561,
   "metadata": {
    "ExecuteTime": {
     "end_time": "2019-11-22T00:12:42.229515Z",
     "start_time": "2019-11-22T00:12:42.067027Z"
    }
   },
   "outputs": [
    {
     "data": {
      "text/latex": [
       "$$\\left \\{ p_{1} : \\frac{a p_{0}}{b}, \\quad p_{2} : \\frac{a^{2} p_{0}}{b^{2}}, \\quad p_{3} : \\frac{a^{3} p_{0}}{b^{3}}, \\quad p_{4} : \\frac{a^{4} p_{0}}{b^{4}}\\right \\}$$"
      ],
      "text/plain": [
       "⎧               2          3          4   ⎫\n",
       "⎪    a⋅p₀      a ⋅p₀      a ⋅p₀      a ⋅p₀⎪\n",
       "⎨p₁: ────, p₂: ─────, p₃: ─────, p₄: ─────⎬\n",
       "⎪     b           2          3          4 ⎪\n",
       "⎩                b          b          b  ⎭"
      ]
     },
     "execution_count": 561,
     "metadata": {},
     "output_type": "execute_result"
    }
   ],
   "source": [
    "# Solving the first four equations in terms of p0\n",
    "\n",
    "a,b,g,p0,p1,p2,p3,p4 = sm.symbols(\"a b g p0 p1 p2 p3 p4\")\n",
    "sol = sm.solve([\n",
    "    -p0 + (1-a)*p0 + b*p1,\n",
    "    -p1 + a*p0 + (1-a-b)*p1 + b*p2,\n",
    "    -p2 + a*p1 + (1-a-b)*p2 + b*p3,\n",
    "    -p3 + a*p2 + (1-a-b)*p3 + b*p4\n",
    "], [p1, p2, p3, p4] )\n",
    "sol"
   ]
  },
  {
   "cell_type": "code",
   "execution_count": 411,
   "metadata": {
    "ExecuteTime": {
     "end_time": "2019-11-21T20:22:27.092664Z",
     "start_time": "2019-11-21T20:22:26.987376Z"
    }
   },
   "outputs": [
    {
     "data": {
      "text/latex": [
       "$$- \\frac{a}{a - b}$$"
      ],
      "text/plain": [
       " -a  \n",
       "─────\n",
       "a - b"
      ]
     },
     "execution_count": 411,
     "metadata": {},
     "output_type": "execute_result"
    }
   ],
   "source": [
    "# Solving for the mean\n",
    "\n",
    "a, b, k = sm.symbols(\"a b k\")\n",
    "mu = sm.Sum(k*(a/b)**k, (k,0,sm.oo)).doit().args[0][0]*(1-a/b)\n",
    "mu = sm.simplify(mu)\n",
    "mu"
   ]
  },
  {
   "cell_type": "code",
   "execution_count": 412,
   "metadata": {
    "ExecuteTime": {
     "end_time": "2019-11-21T20:22:31.950420Z",
     "start_time": "2019-11-21T20:22:31.812849Z"
    }
   },
   "outputs": [
    {
     "data": {
      "text/latex": [
       "$$\\frac{a \\left(a + b\\right)}{\\left(a - b\\right)^{2}}$$"
      ],
      "text/plain": [
       "a⋅(a + b)\n",
       "─────────\n",
       "        2\n",
       " (a - b) "
      ]
     },
     "execution_count": 412,
     "metadata": {},
     "output_type": "execute_result"
    }
   ],
   "source": [
    "# Solving for the second moment\n",
    "\n",
    "mu2 = sm.Sum(k**2 * (a/b)**k, (k,0,sm.oo)).doit()\n",
    "mu2 = mu2.args[0][0]\n",
    "mu2 = sm.simplify((1-a/b)*mu2)\n",
    "mu2"
   ]
  },
  {
   "cell_type": "code",
   "execution_count": 416,
   "metadata": {
    "ExecuteTime": {
     "end_time": "2019-11-21T20:22:58.566353Z",
     "start_time": "2019-11-21T20:22:58.516993Z"
    }
   },
   "outputs": [
    {
     "data": {
      "text/latex": [
       "$$\\sqrt{\\frac{a b}{\\left(a - b\\right)^{2}}}$$"
      ],
      "text/plain": [
       "     __________\n",
       "    ╱   a⋅b    \n",
       "   ╱  ──────── \n",
       "  ╱          2 \n",
       "╲╱    (a - b)  "
      ]
     },
     "execution_count": 416,
     "metadata": {},
     "output_type": "execute_result"
    }
   ],
   "source": [
    "sm.simplify(sm.sqrt(mu2 - mu**2))"
   ]
  },
  {
   "cell_type": "code",
   "execution_count": 354,
   "metadata": {
    "ExecuteTime": {
     "end_time": "2019-11-21T01:44:12.433245Z",
     "start_time": "2019-11-21T01:44:11.047829Z"
    }
   },
   "outputs": [
    {
     "data": {
      "image/png": "[encoded data removed]",
      "text/plain": [
       "<Figure size 432x288 with 1 Axes>"
      ]
     },
     "metadata": {},
     "output_type": "display_data"
    }
   ],
   "source": [
    "## Simulation of thebirth death process\n",
    "\n",
    "a = 0.3\n",
    "b = 0.35\n",
    "g = 1-a-b\n",
    "data = []\n",
    "\n",
    "steps = 400\n",
    "\n",
    "for i in range(200):\n",
    "    x = 0\n",
    "    traj = [x]\n",
    "    for j in range(steps):\n",
    "        r = random.random()\n",
    "        if x == 0:\n",
    "            if r < a:\n",
    "                x = x + 1\n",
    "        else:\n",
    "            if r < a:\n",
    "                x = x + 1\n",
    "            elif r < a + b:\n",
    "                x = x - 1\n",
    "        traj.append(x)\n",
    "    data.append(traj)\n",
    "    plt.step(range(steps+1),traj,'lightgray')\n",
    "    \n",
    "data = np.array(data)\n",
    "means = np.array(range(steps),dtype=np.float)\n",
    "for i in range(steps):\n",
    "    means[i] = np.mean(data[:,i])\n",
    "    \n",
    "plt.plot(means,'blue', label=\"Emperical Average\")\n",
    "mu = a / ( b - a )\n",
    "mu2 = a*(a+b) / (a-b)**2\n",
    "std = np.sqrt(mu2 - mu**2)\n",
    "plt.plot([0,steps],[mu,mu],'red', label=\"True stantionary average\");\n",
    "plt.plot([0,steps],[mu-std,mu-std],'pink');\n",
    "plt.plot([0,steps],[mu+std,mu+std],'pink');\n",
    "plt.xlabel(\"t\")\n",
    "plt.ylabel(\"queue size\")\n",
    "plt.legend();"
   ]
  },
  {
   "cell_type": "markdown",
   "metadata": {
    "heading_collapsed": true
   },
   "source": [
    "## Example: Gambler's Ruin"
   ]
  },
  {
   "cell_type": "markdown",
   "metadata": {
    "hidden": true
   },
   "source": [
    "Suppose a gambler initially has one dollar. She places a bet against the house that she wins with probability $p$ and loses with probability $1-p$. If she wins, she gets another dollar, otherwise she looses the dollar. She continues this process until she either runs out of money or gets to the house limit of $N$ dollars. For example, if $N=5$, we get the following system:\n",
    "\n",
    "$$\n",
    "  1 \n",
    "  \\hookrightarrow 0\n",
    "  \\mathrel{\\substack{p\\\\\\rightleftarrows\\\\ 1-p}} 1 \n",
    "  \\mathrel{\\substack{p\\\\\\rightleftarrows\\\\ 1-p}} 2\n",
    "  \\mathrel{\\substack{p\\\\\\rightleftarrows\\\\ 1-p}} 3 \n",
    "  \\mathrel{\\substack{p\\\\\\rightleftarrows\\\\ 1-p}} 4\n",
    "  \\mathrel{\\substack{p\\\\\\rightleftarrows\\\\ 1-p}} 5\n",
    "  \\hookleftarrow\n",
    "  1\n",
    "$$\n",
    "\n",
    "**States:**\n",
    "\n",
    "- Absorbing: $0$ and $N$\n",
    "- Transient States: $1$ through $N-1$\n",
    "- Reducibile: No. \n",
    "- Communication Classes: $\\{0\\}$, $\\{1,...,N-1\\}$, $\\{N\\}$\n",
    "- Periodicity: $1$ and $N$ have period $1$. All other states have period $2$. \n",
    "- Ergodic States: $0$ and $N$ are ergodic. \n",
    "\n",
    "**Trajectories:**\n",
    "\n",
    "Once the state becomes $0$ or $5$, the system stays there.\n",
    "\n",
    "**Probability Matrix:**\n",
    "\n",
    "The probability matrix $P \\in \\mathbb{R}^{(N-1) \\times (N-1)}$ with, for example, if $N = 5$, is given by \n",
    "\n",
    "$$\n",
    "P = \n",
    "\\begin{pmatrix}\n",
    "1   & 1-p   & 0   & 0   & 0   & 0     \\\\\n",
    "0   & 0   & 1-p   & 0   & 0   & 0     \\\\\n",
    "0   & p   & 0     & 1-p & 0   & 0     \\\\\n",
    "0   & 0   & p     & 0   & 1-p & 0     \\\\\n",
    "0   & 0   & 0     & p   & 0   & 0     \\\\\n",
    "0   &  0  & 0     & 0   & p   & 1   \n",
    "\\end{pmatrix}\n",
    "$$\n",
    "\n",
    "**Steady State Behavior:**\n",
    "\n",
    "With this system, the equation\n",
    "\n",
    "$$\n",
    "P x = x\n",
    "$$\n",
    "\n",
    "has two solutions, meaning that $1$ is an eigenvalue with multiplicity 2. The eigenvectors associated with these two solutions are \n",
    "\n",
    "$$\n",
    "u = \\begin{pmatrix}\n",
    "1 \\\\\n",
    "\\vdots \\\\\n",
    "0\n",
    "\\end{pmatrix} \\; \\mathrm{and} \\;\n",
    "v = \\begin{pmatrix}\n",
    "0 \\\\\n",
    "\\vdots \\\\\n",
    "1\n",
    "\\end{pmatrix} .\n",
    "$$\n",
    "\n",
    "Any combination of these two vectors is a steady state solution. If we would like to know what the probability of winning $N$ dollars, however, this analysis will not tell us. This is because the steady state depends on how much money the gambler starts with. If she starts with $N$ dollars, then the probability is $1$. If she starts with $N-1$ dollars, it is more complicated. \n",
    "\n",
    "To determine the steady state starting with $1$ dollar, we can argue as follows."
   ]
  },
  {
   "cell_type": "code",
   "execution_count": 118,
   "metadata": {
    "ExecuteTime": {
     "end_time": "2019-11-18T22:43:48.866003Z",
     "start_time": "2019-11-18T22:43:47.871055Z"
    },
    "hidden": true
   },
   "outputs": [
    {
     "data": {
      "image/png": "[encoded data removed]",
      "text/plain": [
       "<Figure size 1152x576 with 8 Axes>"
      ]
     },
     "metadata": {},
     "output_type": "display_data"
    }
   ],
   "source": [
    "#\n",
    "# Gambler's Ruin Simulation\n",
    "#\n",
    "\n",
    "def gamble(p,n):\n",
    "    x = 1\n",
    "    trajectory = [x]\n",
    "    while x != 0 and x != n:\n",
    "        if random.random() < p:\n",
    "            x += 1\n",
    "        else:\n",
    "            x -= 1\n",
    "        trajectory.append(x)\n",
    "    return trajectory\n",
    "\n",
    "p = 0.75\n",
    "n = 10\n",
    "gamble_trajectories,ax = plt.subplots(2,4,figsize=(16,8))\n",
    "\n",
    "for i in range(8):\n",
    "    x = gamble(p,n)\n",
    "    t =range(len(x))\n",
    "    a = ax[int(i/4)][i%4]\n",
    "    a.step(t,x)\n",
    "    if x[-1] == n:\n",
    "        a.set_title(\"Win :-)\")\n",
    "    else:\n",
    "        a.set_title(\"Ruin :-(\")"
   ]
  },
  {
   "cell_type": "code",
   "execution_count": 113,
   "metadata": {
    "ExecuteTime": {
     "end_time": "2019-11-18T22:40:07.250354Z",
     "start_time": "2019-11-18T22:40:06.970116Z"
    },
    "hidden": true
   },
   "outputs": [
    {
     "data": {
      "text/plain": [
       "(matrix([[0.65738116],\n",
       "         [0.001121  ],\n",
       "         [0.        ],\n",
       "         [0.00440034],\n",
       "         [0.        ],\n",
       "         [0.00815309],\n",
       "         [0.        ],\n",
       "         [0.00988718],\n",
       "         [0.        ],\n",
       "         [0.00566244],\n",
       "         [0.31339479]]), 0.3392158552348125)"
      ]
     },
     "execution_count": 113,
     "metadata": {},
     "output_type": "execute_result"
    },
    {
     "data": {
      "image/png": "[encoded data removed]",
      "text/plain": [
       "<Figure size 1152x360 with 1 Axes>"
      ]
     },
     "metadata": {},
     "output_type": "display_data"
    }
   ],
   "source": [
    "n = 10\n",
    "prob = 0.6\n",
    "\n",
    "P = np.zeros((n+1,n+1))\n",
    "P[0,0] = 1\n",
    "P[n,n] = 1\n",
    "for i in range(n-1):\n",
    "    P[i+2,i+1] = prob\n",
    "    P[i,i+1] = 1-prob\n",
    "\n",
    "p = np.zeros(n+1)\n",
    "p[1] = 1\n",
    "\n",
    "trajectory = [p]\n",
    "for t in range(50):\n",
    "    p = P.dot(p)\n",
    "    trajectory.append(p)\n",
    "\n",
    "trajectory = np.matrix(trajectory).transpose()\n",
    "    \n",
    "fig,ax = plt.subplots(1,1,figsize=(16,5))\n",
    "ax.imshow(trajectory,cmap=\"gray_r\")\n",
    "ax.set_xlabel(\"t\")\n",
    "ax.set_ylabel(\"amount\");\n",
    "\n",
    "q = (1-prob)/prob\n",
    "trajectory[:,-1], (1-q) / (1-q**n)"
   ]
  },
  {
   "cell_type": "code",
   "execution_count": 114,
   "metadata": {
    "ExecuteTime": {
     "end_time": "2019-11-18T22:42:39.134024Z",
     "start_time": "2019-11-18T22:42:39.112864Z"
    },
    "hidden": true
   },
   "outputs": [
    {
     "data": {
      "text/latex": [
       "$$\\left[\\begin{matrix}1 & p \\left(- p + 1\\right)^{2} - p + 1 & \\left(- p + 1\\right)^{2} & \\left(- p + 1\\right)^{3} & 0\\\\0 & 0 & 2 p \\left(- p + 1\\right)^{2} & 0 & 0\\\\0 & 2 p^{2} \\left(- p + 1\\right) & 0 & 2 p \\left(- p + 1\\right)^{2} & 0\\\\0 & 0 & 2 p^{2} \\left(- p + 1\\right) & 0 & 0\\\\0 & p^{3} & p^{2} & p^{2} \\left(- p + 1\\right) + p & 1\\end{matrix}\\right]$$"
      ],
      "text/plain": [
       "⎡             2                    2               3      ⎤\n",
       "⎢1  p⋅(-p + 1)  - p + 1    (-p + 1)        (-p + 1)      0⎥\n",
       "⎢                                                         ⎥\n",
       "⎢                                    2                    ⎥\n",
       "⎢0           0           2⋅p⋅(-p + 1)          0         0⎥\n",
       "⎢                                                         ⎥\n",
       "⎢         2                                          2    ⎥\n",
       "⎢0     2⋅p ⋅(-p + 1)           0         2⋅p⋅(-p + 1)    0⎥\n",
       "⎢                                                         ⎥\n",
       "⎢                           2                             ⎥\n",
       "⎢0           0           2⋅p ⋅(-p + 1)         0         0⎥\n",
       "⎢                                                         ⎥\n",
       "⎢            3                 2         2                ⎥\n",
       "⎣0          p                 p         p ⋅(-p + 1) + p  1⎦"
      ]
     },
     "execution_count": 114,
     "metadata": {},
     "output_type": "execute_result"
    }
   ],
   "source": [
    "p = sm.symbols(\"p\")\n",
    "P = sm.Matrix([\n",
    "    [1, 1-p, 0,   0,   0],\n",
    "    [0, 0,   1-p, 0,   0],\n",
    "    [0, p,   0,   1-p, 0],\n",
    "    [0, 0,   p,   0,   0],\n",
    "    [0, 0,   0,   p,   1]\n",
    "])\n",
    "P*P*P"
   ]
  },
  {
   "cell_type": "code",
   "execution_count": 117,
   "metadata": {
    "ExecuteTime": {
     "end_time": "2019-11-18T22:43:30.993783Z",
     "start_time": "2019-11-18T22:43:30.877124Z"
    },
    "hidden": true
   },
   "outputs": [
    {
     "data": {
      "text/latex": [
       "$$\\left ( \\left[\\begin{matrix}-1 & 1 & 0 & \\frac{\\sqrt{2} + 2}{\\sqrt{2} + 2} & \\frac{- \\sqrt{2} + 2}{- \\sqrt{2} + 2}\\\\2 & 0 & 0 & -2 - \\sqrt{2} & -2 + \\sqrt{2}\\\\0 & 0 & 0 & \\sqrt{2} \\left(\\sqrt{2} + 2\\right) & - \\sqrt{2} \\left(- \\sqrt{2} + 2\\right)\\\\-2 & 0 & 0 & -2 - \\sqrt{2} & -2 + \\sqrt{2}\\\\1 & 0 & 1 & 1 & 1\\end{matrix}\\right], \\quad \\left[\\begin{matrix}0 & 0 & 0 & 0 & 0\\\\0 & 1 & 0 & 0 & 0\\\\0 & 0 & 1 & 0 & 0\\\\0 & 0 & 0 & - \\frac{\\sqrt{2}}{2} & 0\\\\0 & 0 & 0 & 0 & \\frac{\\sqrt{2}}{2}\\end{matrix}\\right]\\right )$$"
      ],
      "text/plain": [
       "⎛⎡            √2 + 2       -√2 + 2    ⎤                     ⎞\n",
       "⎜⎢-1  1  0  ──────────   ──────────── ⎥, ⎡0  0  0   0    0 ⎤⎟\n",
       "⎜⎢            ⎛√2    ⎞     ⎛  √2    ⎞ ⎥  ⎢                 ⎥⎟\n",
       "⎜⎢          2⋅⎜── + 1⎟   2⋅⎜- ── + 1⎟ ⎥  ⎢0  1  0   0    0 ⎥⎟\n",
       "⎜⎢            ⎝2     ⎠     ⎝  2     ⎠ ⎥  ⎢                 ⎥⎟\n",
       "⎜⎢                                    ⎥  ⎢0  0  1   0    0 ⎥⎟\n",
       "⎜⎢2   0  0    -2 - √2       -2 + √2   ⎥  ⎢                 ⎥⎟\n",
       "⎜⎢                                    ⎥  ⎢         -√2     ⎥⎟\n",
       "⎜⎢0   0  0  √2⋅(√2 + 2)  -√2⋅(-√2 + 2)⎥  ⎢0  0  0  ────  0 ⎥⎟\n",
       "⎜⎢                                    ⎥  ⎢          2      ⎥⎟\n",
       "⎜⎢-2  0  0    -2 - √2       -2 + √2   ⎥  ⎢                 ⎥⎟\n",
       "⎜⎢                                    ⎥  ⎢               √2⎥⎟\n",
       "⎜⎣1   0  1       1             1      ⎦  ⎢0  0  0   0    ──⎥⎟\n",
       "⎝                                        ⎣               2 ⎦⎠"
      ]
     },
     "execution_count": 117,
     "metadata": {},
     "output_type": "execute_result"
    }
   ],
   "source": [
    "P.subs(p,sm.Rational(1,2)).diagonalize()"
   ]
  },
  {
   "cell_type": "markdown",
   "metadata": {},
   "source": [
    "# The Page Rank Algorithm"
   ]
  },
  {
   "cell_type": "markdown",
   "metadata": {},
   "source": [
    "Consider a set $V$ of web pages that all match a given search term. If there are millions of such pages, the question is: in which order should you present them to the user?\n",
    "\n",
    "One possibility is to choose the page with the most incoming links. However, it would seem that links from pages with more links should be weighted more.\n",
    "\n",
    "The solution of Page and Brin treats this problem as a stochastic process. The idea is that a web server starts at some page and randomly follows links (forever). The stationary probability distribution of this process would define the probability that the surfer was at any given page.\n",
    "\n",
    "To make this concrete, we define \n",
    "\n",
    "$$\n",
    "Q(u,v) = \\frac{1}{d^{+}(u)}\n",
    "$$\n",
    "\n",
    "where $u,v \\in V$ and $d^+(u)$ is the *out-degree* of $u$ (that is, the number of pages linking from page $u$ to some other page). 1) If a dead end page $v$ does not link to any other pages, we set its entire column to $1/n$, where $n = |V|$. \n",
    "\n",
    "This version of the Page Rank Algorithm works well, but has one problem. If the surfer encounters a dead end, then she stays there forever. To fix this, Page and Brin added the idea that the surfer would randomly move to an arbitrary new page with some probability $q$, called the \"exploration rate\". The default is $q = 0.15$. \n",
    "\n",
    "The matrix that models the surfer moving completely randomly has all entries equal to $\\frac{1}{n}$, and can be written $\\frac{1}{n} \\mathbb{1}_{n \\times n}$. Here, $n = |V|$, the number of pages. The modified matrix for the Page Rank Algorithm is thus\n",
    "\n",
    "$$\n",
    "\\tilde Q = (1-q) Q + \\frac{q}{n} \\mathbb{1}_{n \\times n}.\n",
    "$$\n",
    "\n",
    "This modification of the transition matrix has the effect of randomly mixing the states and also makes all states ergodic. Thus, $\\tilde Q$ will have a single eigenvalue equal to 1 and a single stationary distribution, in which the probability of a node corresponds to the \"importance\" of the page, and therefore its rank.\n",
    "\n",
    "**Example:** Consider the network of pages in (a) below. The Markov process $Q$ associated with this network of pages in shown in (b). The modified network with an exploration rate of $q$ is shown in (c). \n",
    "\n",
    "<img src=\"https://raw.githubusercontent.com/klavins/EE502P/master/images/page-rank\n",
    ".jpeg\" width=80%>\n",
    "\n",
    "As a matrix, we have\n",
    "\n",
    "\\begin{eqnarray}\n",
    "\\tilde Q & = & (1-q) \\begin{pmatrix}\n",
    "0 & \\frac{1}{2} & \\frac{1}{2} & 0 \\\\\n",
    "0 & 0 & 1 & 0 \\\\\n",
    "0 & 0 & 0 & 1 \\\\\n",
    "\\frac{1}{4} & \\frac{1}{4} & \\frac{1}{4} & \\frac{1}{4}\n",
    "\\end{pmatrix} + \\frac{q}{4} \\begin{pmatrix}\n",
    "1 & 1 & 1 & 1 \\\\\n",
    "1 & 1 & 1 & 1 \\\\\n",
    "1 & 1 & 1 & 1 \\\\\n",
    "1 & 1 & 1 & 1 \n",
    "\\end{pmatrix} \\\\\n",
    "& = & \\begin{pmatrix}\n",
    "\\frac{q}{4} & \\frac{1}{2} - \\frac{q}{4} & \\frac{1}{2} -\\frac{q}{4} & \\frac{q}{4} \\\\\n",
    "\\frac{q}{4} & \\frac{q}{4} & 1 - \\frac{3q}{4} & \\frac{q}{4} \\\\\n",
    "\\frac{q}{4} & \\frac{q}{4} & \\frac{q}{4} & 1 - \\frac{3q}{4} \\\\\n",
    "\\frac{1}{4} & \\frac{1}{4} & \\frac{1}{4} & \\frac{1}{4}\n",
    "\\end{pmatrix}\n",
    "\\end{eqnarray}\n",
    "\n",
    "Substituting in $q = 0.15$, the left eigenvector associated with the eigenvalue 1 is of $\\tilde Q$ are found to be\n",
    "\n",
    "$$\n",
    "(\n",
    "0.120452 \\;\\; \n",
    "0.17164409  \\;\\; \n",
    "0.31754157 \\;\\; \n",
    "0.39036233\n",
    ") .\n",
    "$$\n",
    "\n",
    "Thus, the ranking of the pages is: 4,3,2,1. \n",
    "\n",
    "Below, we show two different ways to find this ranking with Python."
   ]
  },
  {
   "cell_type": "code",
   "execution_count": 529,
   "metadata": {
    "ExecuteTime": {
     "end_time": "2019-11-21T23:59:29.359636Z",
     "start_time": "2019-11-21T23:59:29.343323Z"
    }
   },
   "outputs": [
    {
     "data": {
      "text/latex": [
       "$$\\left[\\begin{matrix}\\frac{q}{4} & - \\frac{q}{4} + \\frac{1}{2} & - \\frac{q}{4} + \\frac{1}{2} & \\frac{q}{4}\\\\\\frac{q}{4} & \\frac{q}{4} & - \\frac{3 q}{4} + 1 & \\frac{q}{4}\\\\\\frac{q}{4} & \\frac{q}{4} & \\frac{q}{4} & - \\frac{3 q}{4} + 1\\\\\\frac{1}{4} & \\frac{1}{4} & \\frac{1}{4} & \\frac{1}{4}\\end{matrix}\\right]$$"
      ],
      "text/plain": [
       "⎡ q     q   1     q   1       q    ⎤\n",
       "⎢ ─   - ─ + ─   - ─ + ─       ─    ⎥\n",
       "⎢ 4     4   2     4   2       4    ⎥\n",
       "⎢                                  ⎥\n",
       "⎢ q      q       3⋅q          q    ⎥\n",
       "⎢ ─      ─     - ─── + 1      ─    ⎥\n",
       "⎢ 4      4        4           4    ⎥\n",
       "⎢                                  ⎥\n",
       "⎢ q      q         q        3⋅q    ⎥\n",
       "⎢ ─      ─         ─      - ─── + 1⎥\n",
       "⎢ 4      4         4         4     ⎥\n",
       "⎢                                  ⎥\n",
       "⎣1/4    1/4       1/4        1/4   ⎦"
      ]
     },
     "execution_count": 529,
     "metadata": {},
     "output_type": "execute_result"
    }
   ],
   "source": [
    "# Symbolically build the transition matrix\n",
    "\n",
    "onefourth = sm.Rational(1,4)\n",
    "onehalf = sm.Rational(1,2)\n",
    "\n",
    "q = sm.symbols(\"q\",positive=True)\n",
    "Q = sm.Matrix([\n",
    "  [0,onehalf,onehalf,0],\n",
    "  [0,0,1,0],\n",
    "  [0,0,0,1],\n",
    "  [onefourth,onefourth,onefourth,onefourth]\n",
    "])\n",
    "D = sm.Matrix([\n",
    "    [1,1,1,1],\n",
    "    [1,1,1,1],\n",
    "    [1,1,1,1],\n",
    "    [1,1,1,1]\n",
    "])\n",
    "Qt = (1-q)*Q + (q/4)*D\n",
    "Qt"
   ]
  },
  {
   "cell_type": "code",
   "execution_count": 530,
   "metadata": {
    "ExecuteTime": {
     "end_time": "2019-11-21T23:59:30.164888Z",
     "start_time": "2019-11-21T23:59:30.155602Z"
    }
   },
   "outputs": [
    {
     "name": "stdout",
     "output_type": "stream",
     "text": [
      "[[0.0375 0.4625 0.4625 0.0375]\n",
      " [0.0375 0.0375 0.8875 0.0375]\n",
      " [0.0375 0.0375 0.0375 0.8875]\n",
      " [0.25   0.25   0.25   0.25  ]]\n"
     ]
    },
    {
     "data": {
      "text/plain": [
       "array([0.120452  -0.j, 0.17164409-0.j, 0.31754157-0.j, 0.39036233-0.j])"
      ]
     },
     "execution_count": 530,
     "metadata": {},
     "output_type": "execute_result"
    }
   ],
   "source": [
    "# Convert it to numpy and find the eigenvalues\n",
    "\n",
    "Qtn = np.array(Qt.subs(q,0.15)).astype(np.float64)\n",
    "print(Qtn)\n",
    "v = np.linalg.eig(np.transpose(Qtn))[1][:,0]\n",
    "v = v / sum(v)\n",
    "v"
   ]
  },
  {
   "cell_type": "code",
   "execution_count": 531,
   "metadata": {
    "ExecuteTime": {
     "end_time": "2019-11-21T23:59:31.146390Z",
     "start_time": "2019-11-21T23:59:30.985101Z"
    }
   },
   "outputs": [
    {
     "data": {
      "image/png": "[encoded data removed]",
      "text/plain": [
       "<Figure size 432x288 with 1 Axes>"
      ]
     },
     "metadata": {},
     "output_type": "display_data"
    }
   ],
   "source": [
    "# Alternatively, we build a graph and have networkx do the work\n",
    "G = nx.DiGraph()\n",
    "G.add_nodes_from([0,1,2,3])\n",
    "G.add_edges_from([(0,1),(0,2),(1,2),(2,3)])\n",
    "nx.draw(G)"
   ]
  },
  {
   "cell_type": "code",
   "execution_count": 533,
   "metadata": {
    "ExecuteTime": {
     "end_time": "2019-11-21T23:59:54.144656Z",
     "start_time": "2019-11-21T23:59:54.139916Z"
    }
   },
   "outputs": [
    {
     "data": {
      "text/plain": [
       "matrix([[0.0375, 0.4625, 0.4625, 0.0375],\n",
       "        [0.0375, 0.0375, 0.8875, 0.0375],\n",
       "        [0.0375, 0.0375, 0.0375, 0.8875],\n",
       "        [0.25  , 0.25  , 0.25  , 0.25  ]])"
      ]
     },
     "execution_count": 533,
     "metadata": {},
     "output_type": "execute_result"
    }
   ],
   "source": [
    "# Here we check to make sure networkx is giving us the same matrix\n",
    "nx.google_matrix(G) "
   ]
  },
  {
   "cell_type": "code",
   "execution_count": 534,
   "metadata": {
    "ExecuteTime": {
     "end_time": "2019-11-22T00:00:02.684570Z",
     "start_time": "2019-11-22T00:00:02.679903Z"
    }
   },
   "outputs": [
    {
     "data": {
      "text/plain": [
       "dict_values([0.12045209234069676, 0.17164393520344706, 0.31754105675824906, 0.39036291569760717])"
      ]
     },
     "execution_count": 534,
     "metadata": {},
     "output_type": "execute_result"
    }
   ],
   "source": [
    "# Now we compute the page rank vector\n",
    "nx.pagerank(G).values()"
   ]
  },
  {
   "cell_type": "code",
   "execution_count": 565,
   "metadata": {
    "ExecuteTime": {
     "end_time": "2019-11-22T00:57:31.384210Z",
     "start_time": "2019-11-22T00:57:31.380170Z"
    },
    "collapsed": true
   },
   "outputs": [],
   "source": [
    "# Here's another example with a random graph\n",
    "\n",
    "n = 100\n",
    "G = nx.fast_gnp_random_graph(n,0.02,directed=True)"
   ]
  },
  {
   "cell_type": "code",
   "execution_count": 566,
   "metadata": {
    "ExecuteTime": {
     "end_time": "2019-11-22T00:57:32.297801Z",
     "start_time": "2019-11-22T00:57:32.277413Z"
    }
   },
   "outputs": [
    {
     "data": {
      "text/plain": [
       "(0.066801401830898, 8)"
      ]
     },
     "execution_count": 566,
     "metadata": {},
     "output_type": "execute_result"
    }
   ],
   "source": [
    "# Find the ranking of all nodes, and the max ranged node\n",
    "\n",
    "vals = np.array(list(nx.pagerank(G).values()))\n",
    "m = np.argmax(vals)\n",
    "max(vals),m"
   ]
  },
  {
   "cell_type": "code",
   "execution_count": 567,
   "metadata": {
    "ExecuteTime": {
     "end_time": "2019-11-22T00:57:34.440686Z",
     "start_time": "2019-11-22T00:57:33.212211Z"
    }
   },
   "outputs": [
    {
     "data": {
      "image/png": "[encoded data removed]",
      "text/plain": [
       "<Figure size 432x288 with 1 Axes>"
      ]
     },
     "metadata": {},
     "output_type": "display_data"
    }
   ],
   "source": [
    "# Draw the network\n",
    "\n",
    "nx.draw(G, \n",
    "        with_labels=False, \n",
    "        node_color=['black' if k != m else 'orange' for k in range(n)],\n",
    "        edge_color='gray',\n",
    "        node_size=(500*vals)**2,\n",
    "        node_shape='o',\n",
    "        pos=nx.kamada_kawai_layout(G))"
   ]
  },
  {
   "cell_type": "code",
   "execution_count": 568,
   "metadata": {
    "ExecuteTime": {
     "end_time": "2019-11-22T00:57:37.824447Z",
     "start_time": "2019-11-22T00:57:37.649187Z"
    }
   },
   "outputs": [
    {
     "data": {
      "image/png": "[encoded data removed]",
      "text/plain": [
       "<Figure size 432x288 with 1 Axes>"
      ]
     },
     "metadata": {},
     "output_type": "display_data"
    }
   ],
   "source": [
    "# Show the stochastic matrix\n",
    "\n",
    "plt.imshow(nx.google_matrix(G));"
   ]
  },
  {
   "cell_type": "code",
   "execution_count": null,
   "metadata": {
    "collapsed": true
   },
   "outputs": [],
   "source": []
  }
 ],
 "metadata": {
  "kernelspec": {
   "display_name": "Python 3",
   "language": "python",
   "name": "python3"
  },
  "language_info": {
   "codemirror_mode": {
    "name": "ipython",
    "version": 3
   },
   "file_extension": ".py",
   "mimetype": "text/x-python",
   "name": "python",
   "nbconvert_exporter": "python",
   "pygments_lexer": "ipython3",
   "version": "3.6.1"
  }
 },
 "nbformat": 4,
 "nbformat_minor": 2
}
